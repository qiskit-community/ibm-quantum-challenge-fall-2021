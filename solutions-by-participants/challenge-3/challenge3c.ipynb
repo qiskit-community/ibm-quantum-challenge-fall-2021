{
 "cells": [
  {
   "cell_type": "code",
   "execution_count": 1,
   "id": "085918af-9d31-4adc-866a-79a63664c035",
   "metadata": {},
   "outputs": [],
   "source": [
    "import numpy as np\n",
    "\n",
    "# Importing standard Qiskit libraries\n",
    "from qiskit import QuantumCircuit, transpile, Aer, IBMQ\n",
    "from qiskit.tools.jupyter import *\n",
    "from qiskit.visualization import *\n",
    "from ibm_quantum_widgets import *\n",
    "from qiskit.providers.aer import QasmSimulator\n",
    "\n",
    "# Loading your IBM Quantum account(s)\n",
    "provider = IBMQ.load_account()"
   ]
  },
  {
   "cell_type": "code",
   "execution_count": 2,
   "id": "9a731ef9-f150-4ba4-a8c1-49330d93ef8f",
   "metadata": {},
   "outputs": [],
   "source": [
    "# General imports\n",
    "import os\n",
    "import gzip\n",
    "import numpy as np\n",
    "import matplotlib.pyplot as plt\n",
    "from pylab import cm\n",
    "import warnings\n",
    "\n",
    "warnings.filterwarnings(\"ignore\")\n",
    "\n",
    "# scikit-learn imports\n",
    "from sklearn import datasets\n",
    "from sklearn.model_selection import train_test_split\n",
    "from sklearn.preprocessing import StandardScaler, MinMaxScaler\n",
    "from sklearn.decomposition import PCA\n",
    "from sklearn.svm import SVC\n",
    "from sklearn.metrics import accuracy_score\n",
    "\n",
    "# Qiskit imports\n",
    "from qiskit import Aer, execute\n",
    "from qiskit.circuit import QuantumCircuit, Parameter, ParameterVector\n",
    "from qiskit.circuit.library import PauliFeatureMap, ZFeatureMap, ZZFeatureMap\n",
    "from qiskit.circuit.library import TwoLocal, NLocal, RealAmplitudes, EfficientSU2\n",
    "from qiskit.circuit.library import HGate, RXGate, RYGate, RZGate, CXGate, CRXGate, CRZGate\n",
    "from qiskit_machine_learning.kernels import QuantumKernel"
   ]
  },
  {
   "cell_type": "code",
   "execution_count": 3,
   "id": "5fea588f-6fc7-4f25-9b40-318eefd51495",
   "metadata": {},
   "outputs": [
    {
     "data": {
      "image/png": "[encoded data removed]",
      "text/plain": [
       "<Figure size 432x288 with 3 Axes>"
      ]
     },
     "metadata": {
      "needs_background": "light"
     },
     "output_type": "display_data"
    }
   ],
   "source": [
    "# Load MNIST dataset\n",
    "DATA_PATH = './resources/ch3_part2.npz'\n",
    "data = np.load(DATA_PATH)\n",
    "\n",
    "sample_train = data['sample_train']\n",
    "labels_train = data['labels_train']\n",
    "sample_test = data['sample_test']\n",
    "\n",
    "# Split train data\n",
    "sample_train, sample_val, labels_train, labels_val = train_test_split(\n",
    "    sample_train, labels_train, test_size=0.2, random_state=42)\n",
    "\n",
    "# Visualize samples\n",
    "fig = plt.figure()\n",
    "\n",
    "LABELS = [0, 2, 3]\n",
    "num_labels = len(LABELS)\n",
    "for i in range(num_labels):\n",
    "    ax = fig.add_subplot(1, num_labels, i+1)\n",
    "    img = sample_train[labels_train==LABELS[i]][0].reshape((28, 28))\n",
    "    ax.imshow(img, cmap=\"Greys\")"
   ]
  },
  {
   "cell_type": "code",
   "execution_count": 4,
   "id": "5bf5c0cc-6493-4cca-9d14-518b5fc91fa0",
   "metadata": {},
   "outputs": [],
   "source": [
    "# Standardize\n",
    "standard_scaler = StandardScaler()\n",
    "sample_train = standard_scaler.fit_transform(sample_train)\n",
    "sample_val = standard_scaler.transform(sample_val)\n",
    "sample_test = standard_scaler.transform(sample_test)\n",
    "\n",
    "# Reduce dimensions\n",
    "N_DIM = 5\n",
    "pca = PCA(n_components=N_DIM)\n",
    "sample_train = pca.fit_transform(sample_train)\n",
    "sample_val = pca.transform(sample_val)\n",
    "sample_test = pca.transform(sample_test)\n",
    "\n",
    "# Normalize\n",
    "min_max_scaler = MinMaxScaler((-1, 1))\n",
    "sample_train = min_max_scaler.fit_transform(sample_train)\n",
    "sample_val = min_max_scaler.transform(sample_val)\n",
    "sample_test = min_max_scaler.transform(sample_test)"
   ]
  },
  {
   "cell_type": "code",
   "execution_count": 5,
   "id": "b14e58c8-02f0-45bd-905a-d526cc61ad76",
   "metadata": {},
   "outputs": [
    {
     "name": "stdout",
     "output_type": "stream",
     "text": [
      "Original validation labels:      [3 3 2 0 3 0 3 2 3 2 2 3 2 2 2 3 0 2 3 3]\n",
      "Validation labels for 0 vs Rest: [0 0 0 1 0 1 0 0 0 0 0 0 0 0 0 0 1 0 0 0]\n"
     ]
    }
   ],
   "source": [
    "labels_train_0 = np.where(labels_train==0, 1, 0)\n",
    "labels_val_0 = np.where(labels_val==0, 1, 0)\n",
    "\n",
    "print(f'Original validation labels:      {labels_val}')\n",
    "print(f'Validation labels for 0 vs Rest: {labels_val_0}')"
   ]
  },
  {
   "cell_type": "code",
   "execution_count": 6,
   "id": "3d578e10-9e34-42fe-b611-d8c54da92efb",
   "metadata": {},
   "outputs": [
    {
     "name": "stdout",
     "output_type": "stream",
     "text": [
      "Accuracy of discriminating between label 0 and others: 90.0%\n"
     ]
    }
   ],
   "source": [
    "pauli_map_0 = ZZFeatureMap(feature_dimension=N_DIM, reps=3, entanglement='circular' )\n",
    "kernel_0 = QuantumKernel(feature_map=pauli_map_0, quantum_instance=Aer.get_backend('statevector_simulator'))\n",
    "\n",
    "svc_0 = SVC(kernel='precomputed', probability=True)\n",
    "\n",
    "matrix_train_0 = kernel_0.evaluate(x_vec=sample_train)\n",
    "svc_0.fit(matrix_train_0, labels_train_0)\n",
    "\n",
    "matrix_val_0 = kernel_0.evaluate(x_vec=sample_val, y_vec=sample_train)\n",
    "pauli_score_0 = svc_0.score(matrix_val_0, labels_val_0)\n",
    "print(f'Accuracy of discriminating between label 0 and others: {pauli_score_0*100}%')"
   ]
  },
  {
   "cell_type": "code",
   "execution_count": 7,
   "id": "c440cb31-5a94-4a44-bde7-f3d8e0cf64d8",
   "metadata": {},
   "outputs": [
    {
     "name": "stdout",
     "output_type": "stream",
     "text": [
      "Probability of label 0: [0.47 0.77 0.35 0.21 0.23 0.2  0.51 0.4  0.59 0.45 0.17 0.21 0.21 0.29\n",
      " 0.27 0.16 0.19 0.55 0.27 0.22]\n"
     ]
    }
   ],
   "source": [
    "matrix_test_0 = kernel_0.evaluate(x_vec=sample_test, y_vec=sample_train)\n",
    "pred_0 = svc_0.predict_proba(matrix_test_0)[:, 1]\n",
    "print(f'Probability of label 0: {np.round(pred_0, 2)}')"
   ]
  },
  {
   "cell_type": "code",
   "execution_count": 8,
   "id": "18de3f40-f0d6-40d7-b76b-a057e1d63c83",
   "metadata": {},
   "outputs": [
    {
     "name": "stdout",
     "output_type": "stream",
     "text": [
      "Original validation labels:      [3 3 2 0 3 0 3 2 3 2 2 3 2 2 2 3 0 2 3 3]\n",
      "Validation labels for 2 vs Rest: [0 0 1 0 0 0 0 1 0 1 1 0 1 1 1 0 0 1 0 0]\n",
      "Accuracy of discriminating between label 2 and others: 90.0%\n",
      "Probability of label 2: [0.21 0.33 0.3  0.25 0.29 0.37 0.29 0.38 0.31 0.44 0.43 0.38 0.46 0.34\n",
      " 0.36 0.47 0.3  0.27 0.24 0.61]\n"
     ]
    }
   ],
   "source": [
    "labels_train_2 = np.where(labels_train==2, 1, 0)\n",
    "labels_val_2 = np.where(labels_val==2, 1, 0)\n",
    "print(f'Original validation labels:      {labels_val}')\n",
    "print(f'Validation labels for 2 vs Rest: {labels_val_2}')\n",
    "pauli_map_2 = PauliFeatureMap(feature_dimension=N_DIM, reps=3, paulis = ['X', 'Y', 'ZZ'])\n",
    "kernel_2 = QuantumKernel(feature_map=pauli_map_2, quantum_instance=Aer.get_backend('statevector_simulator'))\n",
    "\n",
    "svc_2 = SVC(kernel='precomputed', probability=True)\n",
    "\n",
    "matrix_train_2 = kernel_2.evaluate(x_vec=sample_train)\n",
    "svc_2.fit(matrix_train_2, labels_train_2)\n",
    "\n",
    "matrix_val_2 = kernel_2.evaluate(x_vec=sample_val, y_vec=sample_train)\n",
    "pauli_score_2 = svc_2.score(matrix_val_2, labels_val_2)\n",
    "print(f'Accuracy of discriminating between label 2 and others: {pauli_score_2*100}%')\n",
    "\n",
    "matrix_test_2 = kernel_2.evaluate(x_vec=sample_test, y_vec=sample_train)\n",
    "pred_2 = svc_2.predict_proba(matrix_test_2)[:, 1]\n",
    "print(f'Probability of label 2: {np.round(pred_2, 2)}')"
   ]
  },
  {
   "cell_type": "code",
   "execution_count": 9,
   "id": "3d3cc801-b1b4-467e-97d9-e71de1e87c10",
   "metadata": {},
   "outputs": [
    {
     "name": "stdout",
     "output_type": "stream",
     "text": [
      "Original validation labels:      [3 3 2 0 3 0 3 2 3 2 2 3 2 2 2 3 0 2 3 3]\n",
      "Validation labels for 3 vs Rest: [1 1 0 0 1 0 1 0 1 0 0 1 0 0 0 1 0 0 1 1]\n",
      "Accuracy of discriminating between label 3 and others: 85.0%\n",
      "Probability of label 3: [0.09 0.09 0.8  0.69 0.45 0.35 0.06 0.27 0.05 0.04 0.93 0.1  0.04 0.31\n",
      " 0.89 0.06 0.92 0.15 0.68 0.13]\n"
     ]
    }
   ],
   "source": [
    "labels_train_3 = np.where(labels_train==3, 1, 0)\n",
    "labels_val_3 = np.where(labels_val==3, 1, 0)\n",
    "print(f'Original validation labels:      {labels_val}')\n",
    "print(f'Validation labels for 3 vs Rest: {labels_val_3}')\n",
    "pauli_map_3 = ZZFeatureMap(feature_dimension=N_DIM, reps=3, entanglement='linear')\n",
    "kernel_3 = QuantumKernel(feature_map=pauli_map_3, quantum_instance=Aer.get_backend('statevector_simulator'))\n",
    "\n",
    "svc_3 = SVC(kernel='precomputed', probability=True)\n",
    "\n",
    "matrix_train_3 = kernel_3.evaluate(x_vec=sample_train)\n",
    "svc_3.fit(matrix_train_3, labels_train_3)\n",
    "\n",
    "matrix_val_3 = kernel_3.evaluate(x_vec=sample_val, y_vec=sample_train)\n",
    "pauli_score_3 = svc_3.score(matrix_val_3, labels_val_3)\n",
    "print(f'Accuracy of discriminating between label 3 and others: {pauli_score_3*100}%')\n",
    "\n",
    "matrix_test_3 = kernel_3.evaluate(x_vec=sample_test, y_vec=sample_train)\n",
    "pred_3 = svc_3.predict_proba(matrix_test_3)[:, 1]\n",
    "print(f'Probability of label 3: {np.round(pred_3, 2)}')\n"
   ]
  },
  {
   "cell_type": "code",
   "execution_count": 9,
   "id": "f28d26b3-9e5a-4b37-b1af-621ea69bcbc1",
   "metadata": {},
   "outputs": [
    {
     "name": "stdout",
     "output_type": "stream",
     "text": [
      "Sample prediction: [0 0 0 0 0 0 2 2 2 2 2 2 3 3 3 3 3 3 3 3]\n"
     ]
    }
   ],
   "source": [
    "sample_pred = np.load('./resources/ch3_part2_sub.npy')\n",
    "print(f'Sample prediction: {sample_pred}')"
   ]
  },
  {
   "cell_type": "code",
   "execution_count": 11,
   "id": "cbb8407b-7120-48d0-913b-4ce0675a8696",
   "metadata": {},
   "outputs": [
    {
     "name": "stdout",
     "output_type": "stream",
     "text": [
      "[0 0 3 3 3 3 0 0 0 0 3 2 2 3 3 2 3 0 3 2]\n"
     ]
    }
   ],
   "source": [
    "\n",
    "pred_test_1=np.where((pred_0>pred_2) & (pred_0>pred_3),0,2)\n",
    "pred_test=np.where((pred_2>pred_3) & (pred_3<pred_0),pred_test_1,3)\n",
    "print(pred_test)"
   ]
  },
  {
   "cell_type": "code",
   "execution_count": 12,
   "id": "8defedc2-4f5a-4a8b-bb1a-be3b134b5ebd",
   "metadata": {},
   "outputs": [
    {
     "name": "stdout",
     "output_type": "stream",
     "text": [
      "Submitting your answer for 3c. Please wait...\n",
      "Congratulations 🎉! Your answer is correct and has been submitted.\n",
      "Your score is 1362.\n"
     ]
    }
   ],
   "source": [
    "# Check your answer and submit using the following code\n",
    "from qc_grader import grade_ex3c\n",
    "grade_ex3c(pred_test, sample_train, \n",
    "           standard_scaler, pca, min_max_scaler,\n",
    "           kernel_0, kernel_2, kernel_3,\n",
    "           svc_0, svc_2, svc_3)"
   ]
  },
  {
   "cell_type": "code",
   "execution_count": null,
   "id": "439319ef-487a-4f99-9900-45a1f275f48a",
   "metadata": {},
   "outputs": [],
   "source": []
  },
  {
   "cell_type": "code",
   "execution_count": null,
   "id": "2da8be75-bddf-468a-9ec6-2e6723088b3d",
   "metadata": {},
   "outputs": [],
   "source": []
  }
 ],
 "metadata": {
  "kernelspec": {
   "display_name": "Qiskit v0.31.0 (ipykernel)",
   "language": "python",
   "name": "python3"
  },
  "language_info": {
   "codemirror_mode": {
    "name": "ipython",
    "version": 3
   },
   "file_extension": ".py",
   "mimetype": "text/x-python",
   "name": "python",
   "nbconvert_exporter": "python",
   "pygments_lexer": "ipython3",
   "version": "3.8.10"
  },
  "widgets": {
   "application/vnd.jupyter.widget-state+json": {
    "state": {},
    "version_major": 2,
    "version_minor": 0
   }
  }
 },
 "nbformat": 4,
 "nbformat_minor": 5
}
