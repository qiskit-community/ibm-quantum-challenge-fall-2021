{
 "cells": [
  {
   "cell_type": "code",
   "execution_count": 2,
   "metadata": {},
   "outputs": [],
   "source": [
    "from qiskit_optimization.algorithms import MinimumEigenOptimizer\n",
    "from qiskit import Aer\n",
    "from qiskit.utils import algorithm_globals, QuantumInstance\n",
    "from qiskit.algorithms import QAOA, NumPyMinimumEigensolver\n",
    "import numpy as np\n",
    "from typing import List, Union\n",
    "import math\n",
    "from qiskit import QuantumCircuit, QuantumRegister, ClassicalRegister, assemble\n",
    "from qiskit.compiler import transpile\n",
    "from qiskit.circuit import Gate\n",
    "from qiskit.circuit.library.standard_gates import *\n",
    "from qiskit.circuit.library import QFT"
   ]
  },
  {
   "cell_type": "code",
   "execution_count": 3,
   "id": "bdc7e206",
   "metadata": {},
   "outputs": [],
   "source": [
    "%load_ext autoreload\n",
    "%autoreload 2"
   ]
  },
  {
   "cell_type": "code",
   "execution_count": 4,
   "id": "3354eeb9",
   "metadata": {},
   "outputs": [],
   "source": [
    "from validation_challenge4_4c import prepare_ex4c, grade\n",
    "from visualize_histogram import plot_hist, flag_correct, add_correct, both_correct, reinit_correct\n",
    "from problem_set import validation_set_4c_fixed, validation_set_4c_random\n",
    "\n",
    "myps = validation_set_4c_fixed + validation_set_4c_random"
   ]
  },
  {
   "cell_type": "code",
   "execution_count": 30,
   "metadata": {},
   "outputs": [],
   "source": [
    "def solver_function(L1: list, L2: list, C1: list, C2: list,\n",
    "                    C_max: int) -> QuantumCircuit:\n",
    "    dotranspile = True\n",
    "\n",
    "    op_lvl = 2\n",
    "    bgate = ['cx', 'rz', 'sx']\n",
    "    # the number of qubits representing answers\n",
    "    index_qubits = len(L1)\n",
    "\n",
    "    # the maximum possible total cost\n",
    "    max_c = sum([max(l0, l1) for l0, l1 in zip(C1, C2)])\n",
    "    min_c = sum([min(l0, l1) for l0, l1 in zip(C1, C2)])\n",
    "\n",
    "    adjust = 1  # Let == C_max through, don't seem to need\n",
    "    target_min_c = 1  #make min_c 1\n",
    "\n",
    "    # adjust to make C_max 2**w\n",
    "    w_bits = math.ceil(math.log(C_max - min_c + target_min_c, 2))\n",
    "    if 2**w_bits == C_max - min_c + target_min_c:\n",
    "        target_min_c -= 1 # make sure I can downshift the shift on actual costs by 1\n",
    "        # this will let == C_max values through\n",
    "    diff = 2**(w_bits) - (C_max + adjust - min_c + target_min_c)\n",
    "\n",
    "    #assuming C_max <= max_c otherwise problem is meaningless\n",
    "    max_c = max_c - min_c + target_min_c + diff  #reduce number of qubits used\n",
    "    # print(\n",
    "    #     'after adjust C_max = 2**w_bits, min_c, max_c, shift for C_max, shift for minmax 1 less'\n",
    "    # )\n",
    "    # print(2**w_bits, target_min_c, max_c, 2**w_bits - C_max,\n",
    "    #       min_c - target_min_c - diff)\n",
    "    data_qubits = w_bits + 1\n",
    "    ultra = True\n",
    "    if max_c > 2**(data_qubits) - 1:\n",
    "        ultra = False\n",
    "        data_qubits = math.ceil(math.log(max_c, 2))\n",
    "        if max_c > 2**(data_qubits) - 1:\n",
    "            data_qubits += 1\n",
    "    ### Phase Operator ###\n",
    "    # return part\n",
    "    def phase_return(index_qubits: int,\n",
    "                     gamma: float,\n",
    "                     L1: list,\n",
    "                     L2: list,\n",
    "                     to_gate=True) -> Union[Gate, QuantumCircuit]:\n",
    "        qr_index = QuantumRegister(index_qubits, \"index\")\n",
    "        qc = QuantumCircuit(qr_index)\n",
    "\n",
    "        ##############################\n",
    "        ### U_1(gamma * (lambda2 - lambda1)) for each qubit ###\n",
    "        # Provide your code here\n",
    "\n",
    "        for ii in range(index_qubits):\n",
    "            # if problem statement is correct,\n",
    "            # L2 > L1 cannot give zero here\n",
    "            qc.p((-gamma * (L2[ii] - L1[ii])/2) % (2 * np.pi), qr_index[ii])\n",
    "\n",
    "        if dotranspile:\n",
    "            qc = transpile(qc,\n",
    "                           optimization_level=op_lvl,\n",
    "                           basis_gates=bgate,\n",
    "                           seed_transpiler=42)\n",
    "        ##############################\n",
    "        return qc.to_gate(label=\" phase return \") if to_gate else qc\n",
    "\n",
    "    # penalty part\n",
    "    def subroutine_add_const(data_qubits: int,\n",
    "                             const: int,\n",
    "                             to_gate=True) -> Union[Gate, QuantumCircuit]:\n",
    "        qr_index = QuantumRegister(1)\n",
    "        qr_data = QuantumRegister(data_qubits)\n",
    "        qc = QuantumCircuit(qr_index, qr_data)\n",
    "        ##############################\n",
    "        ### Phase Rotation ###\n",
    "        # Provide your code here\n",
    "        for qb in range(data_qubits):\n",
    "            twoP = 2**(qb + 1)  #twoP*2\n",
    "            c = const % twoP\n",
    "            if c != 0:\n",
    "                phase = 2 * np.pi * c / twoP\n",
    "                qc.cp(phase, qr_index, qr_data[qb])\n",
    "\n",
    "        if dotranspile:\n",
    "            qc = transpile(qc,\n",
    "                           optimization_level=op_lvl,\n",
    "                           basis_gates=bgate,\n",
    "                           seed_transpiler=42)\n",
    "\n",
    "        ##############################\n",
    "        return qc.to_gate(label=\" [+\" + str(const) + \"] \") if to_gate else qc\n",
    "\n",
    "    # penalty part\n",
    "    def const_adder(data_qubits: int,\n",
    "                    const: int,\n",
    "                    to_gate=True) -> Union[Gate, QuantumCircuit]:\n",
    "        qr_index = QuantumRegister(1)\n",
    "        qr_data = QuantumRegister(data_qubits, \"data\")\n",
    "        qc = QuantumCircuit(qr_index, qr_data)\n",
    "\n",
    "        ##############################\n",
    "        ### Phase Rotation ###\n",
    "        # Use `subroutine_add_const`\n",
    "        qc.append(subroutine_add_const(data_qubits, const, to_gate),\n",
    "                  [qr_index[:]] + qr_data[:])\n",
    "\n",
    "        ##############################\n",
    "\n",
    "        return qc.to_gate(label=\" [ +\" + str(const) + \"] \") if to_gate else qc\n",
    "\n",
    "    # penalty part\n",
    "    def cost_calculation(index_qubits: int,\n",
    "                         data_qubits: int,\n",
    "                         list1: list,\n",
    "                         list2: list,\n",
    "                         to_gate=True) -> Union[Gate, QuantumCircuit]:\n",
    "\n",
    "        qr_index = QuantumRegister(index_qubits, \"index\")\n",
    "        qr_data = QuantumRegister(data_qubits, \"data\")\n",
    "        qc = QuantumCircuit(qr_index, qr_data)\n",
    "\n",
    "        # use diff calculated before\n",
    "\n",
    "        diff_str_inv = bin(target_min_c + diff)[2:].zfill(data_qubits)[::-1]\n",
    "\n",
    "        for ii in range(data_qubits):\n",
    "            if diff_str_inv[ii] == '1':\n",
    "                qc.x(qr_data[ii])\n",
    "\n",
    "        if C2[0] > C1[0]:  #just to make sure\n",
    "            first_val_diff = C2[0] - C1[0] + target_min_c + diff\n",
    "        else:\n",
    "            first_val_diff = C1[0] - C2[0] + target_min_c + diff\n",
    "\n",
    "        first_val_diff_str = bin(first_val_diff)[2:].zfill(data_qubits)[::-1]\n",
    "\n",
    "        for ii in range(data_qubits):\n",
    "            if diff_str_inv[ii] != first_val_diff_str[ii]:\n",
    "                qc.cx(qr_index[0], qr_data[ii])\n",
    "        if dotranspile:\n",
    "            qc = transpile(qc,\n",
    "                        basis_gates=bgate,\n",
    "                        optimization_level=op_lvl,\n",
    "                        seed_transpiler=42)\n",
    "\n",
    "\n",
    "        # no transpile a_d = 1\n",
    "        qft = QFT(data_qubits,\n",
    "                  approximation_degree=0,\n",
    "                  do_swaps=False,\n",
    "                  inverse=False,\n",
    "                  insert_barriers=False,\n",
    "                  name=None).decompose()\n",
    "\n",
    "        if dotranspile:\n",
    "            qft = transpile(qft,\n",
    "                            basis_gates=bgate,\n",
    "                            optimization_level=op_lvl,\n",
    "                            seed_transpiler=42)\n",
    "        qc.append(qft, qr_data)\n",
    "\n",
    "        for i, (val1, val2) in enumerate(zip(list1[1:], list2[1:])):\n",
    "\n",
    "            ##############################\n",
    "            ### Add val2 using const_adder controlled by i-th index register (set to 1) ###\n",
    "            # Provide your code here\n",
    "            if val2 > val1:\n",
    "                ctrl_adder_gate2 = const_adder(data_qubits, val2 - val1, True)\n",
    "                qc.append(ctrl_adder_gate2, [qr_index[i + 1]] + qr_data[:])\n",
    "            ##############################\n",
    "        if dotranspile:\n",
    "            qc = transpile(qc,\n",
    "                           basis_gates=bgate,\n",
    "                           optimization_level=op_lvl,\n",
    "                           seed_transpiler=42)\n",
    "        qfti = QFT(data_qubits,\n",
    "                   approximation_degree=0,\n",
    "                   do_swaps=False,\n",
    "                   inverse=True).decompose()\n",
    "\n",
    "        if dotranspile:\n",
    "            qfti = transpile(qfti,\n",
    "                             basis_gates=bgate,\n",
    "                             optimization_level=2,\n",
    "                             seed_transpiler=42)\n",
    "        qc.append(qfti, qr_data)\n",
    "        qc = qc.decompose()\n",
    "        if dotranspile:\n",
    "            qc = transpile(qc,\n",
    "                           basis_gates=bgate,\n",
    "                           optimization_level=op_lvl,\n",
    "                           seed_transpiler=42)\n",
    "\n",
    "        return qc.to_gate(label=\" Cost Calculation \") if to_gate else qc\n",
    "\n",
    "    # penalty part\n",
    "    def constraint_testing(data_qubits: int,\n",
    "                           C_max: int,\n",
    "                           to_gate=True) -> Union[Gate, QuantumCircuit]:\n",
    "\n",
    "        qr_data = QuantumRegister(data_qubits, \"data\")\n",
    "        qr_f = QuantumRegister(1, \"flag\")\n",
    "        qc = QuantumCircuit(qr_data, qr_f)\n",
    "\n",
    "        ##############################\n",
    "        ### Set the flag register for indices with costs larger than C_max ###\n",
    "        # Provide your code here\n",
    "        # do what the paper suggested\n",
    "        if ultra:\n",
    "            qc.cx(qr_data[-1], qr_f)\n",
    "        else:\n",
    "            qc.x(qr_f)\n",
    "            qc.x(qr_data[w_bits:])\n",
    "            qc.mct(qr_data[w_bits:], qr_f)\n",
    "            qc.x(qr_data[w_bits:])\n",
    "        if dotranspile:\n",
    "            qc = transpile(qc,\n",
    "                           optimization_level=op_lvl,\n",
    "                           basis_gates=bgate,\n",
    "                           seed_transpiler=42)\n",
    "        ##############################\n",
    "\n",
    "        return qc.to_gate(label=\" Constraint Testing \") if to_gate else qc\n",
    "\n",
    "    # penalty part\n",
    "    def penalty_dephasing(data_qubits: int,\n",
    "                          alpha: float,\n",
    "                          gamma: float,\n",
    "                          to_gate=True) -> Union[Gate, QuantumCircuit]:\n",
    "\n",
    "        qr_data = QuantumRegister(data_qubits, \"data\")\n",
    "        qr_f = QuantumRegister(1, \"flag\")\n",
    "        qc = QuantumCircuit(qr_data, qr_f)\n",
    "\n",
    "        ##############################\n",
    "        ### Phase Rotation ###\n",
    "        # Provide your code here\n",
    "        for ii in range(data_qubits):\n",
    "            qc.cp(alpha * gamma * 2**(ii), qr_f, qr_data[ii])\n",
    "\n",
    "        qc.p(-alpha * gamma * (2**w_bits - adjust), qr_f)\n",
    "        if dotranspile:\n",
    "            qc = transpile(qc,\n",
    "                           optimization_level=op_lvl,\n",
    "                           basis_gates=bgate,\n",
    "                           seed_transpiler=42)\n",
    "        ##############################\n",
    "        return qc.to_gate(label=\" Penalty Dephasing \") if to_gate else qc\n",
    "\n",
    "    # penalty part\n",
    "    def reinitialization(index_qubits: int,\n",
    "                         data_qubits: int,\n",
    "                         C1: list,\n",
    "                         C2: list,\n",
    "                         C_max: int,\n",
    "                         to_gate=True) -> Union[Gate, QuantumCircuit]:\n",
    "\n",
    "        qr_index = QuantumRegister(index_qubits, \"index\")\n",
    "        qr_data = QuantumRegister(data_qubits, \"data\")\n",
    "        qr_f = QuantumRegister(1, \"flag\")\n",
    "        qc = QuantumCircuit(qr_index, qr_data, qr_f)\n",
    "\n",
    "        ##############################\n",
    "        ### Reinitialization Circuit ###\n",
    "        # Provide your code here\n",
    "\n",
    "        ctt_inv = constraint_testing(data_qubits, C_max,\n",
    "                                     to_gate=True).inverse()\n",
    "\n",
    "        qc.append(ctt_inv, qr_data[:] + qr_f[:])\n",
    "\n",
    "        cost_inv = cost_calculation(index_qubits,\n",
    "                                    data_qubits,\n",
    "                                    C1,\n",
    "                                    C2,\n",
    "                                    to_gate=True).inverse()\n",
    "\n",
    "        qc.append(cost_inv, qr_index[:] + qr_data[:])\n",
    "\n",
    "        if dotranspile:\n",
    "            qc = transpile(qc,\n",
    "                           optimization_level=op_lvl,\n",
    "                           basis_gates=bgate,\n",
    "                           seed_transpiler=42)\n",
    "\n",
    "        #print_score(qc)\n",
    "        ##############################\n",
    "\n",
    "        return qc.to_gate(label=\" Reinitialization \") if to_gate else qc\n",
    "\n",
    "    ### Mixing Operator ###\n",
    "    def mixing_operator(index_qubits: int,\n",
    "                        beta: float,\n",
    "                        to_gate=True) -> Union[Gate, QuantumCircuit]:\n",
    "\n",
    "        qr_index = QuantumRegister(index_qubits, \"index\")\n",
    "        qc = QuantumCircuit(qr_index)\n",
    "\n",
    "        ##############################\n",
    "        ### Mixing Operator ###\n",
    "        # Provide your code here\n",
    "\n",
    "        qc.rx(2 * beta, qr_index)\n",
    "        if dotranspile:\n",
    "            qc = transpile(qc,\n",
    "                           optimization_level=op_lvl,\n",
    "                           basis_gates=bgate,\n",
    "                           seed_transpiler=42)\n",
    "        ##############################\n",
    "        return qc.to_gate(label=\" Mixing Operator \") if to_gate else qc\n",
    "\n",
    "    qr_index = QuantumRegister(index_qubits, \"index\")  # index register\n",
    "    qr_data = QuantumRegister(data_qubits, \"data\")  # data register\n",
    "    qr_f = QuantumRegister(1, \"flag\")  # flag register\n",
    "    if dotest < 5:\n",
    "        cr_index = ClassicalRegister(\n",
    "            index_qubits + 1 + data_qubits, \"c_index\"\n",
    "        )  # classical register storing the measurement result of index register\n",
    "        qc = QuantumCircuit(qr_index, qr_data, qr_f, cr_index)\n",
    "\n",
    "    else:\n",
    "        cr_index = ClassicalRegister(\n",
    "            index_qubits, \"c_index\"\n",
    "        )  # classical register storing the measurement result of index register\n",
    "        qc = QuantumCircuit(qr_index, qr_data, qr_f, cr_index)\n",
    "\n",
    "    ### initialize the index register with uniform superposition state ###\n",
    "    qc.h(qr_index)\n",
    "\n",
    "    ### DO NOT CHANGE THE CODE BELOW\n",
    "    # Notice, I just formatted the rest\n",
    "    p = 5\n",
    "    alpha = 1\n",
    "    for i in range(p):\n",
    "\n",
    "        ### set fixed parameters for each round ###\n",
    "        beta = 1 - (i + 1) / p\n",
    "        gamma = (i + 1) / p\n",
    "\n",
    "        ### return part ###\n",
    "        qc.append(phase_return(index_qubits, gamma, L1, L2), qr_index)\n",
    "\n",
    "        ### step 1: cost calculation ###\n",
    "        qc.append(cost_calculation(index_qubits, data_qubits, C1, C2),\n",
    "                  qr_index[:] + qr_data[:])\n",
    "\n",
    "        ### step 2: Constraint testing ###\n",
    "        qc.append(constraint_testing(data_qubits, C_max), qr_data[:] + qr_f[:])\n",
    "\n",
    "        ### step 3: penalty dephasing ###\n",
    "        qc.append(penalty_dephasing(data_qubits, alpha, gamma),\n",
    "                  qr_data[:] + qr_f[:])\n",
    "\n",
    "        ### step 4: reinitialization ###\n",
    "        qc.append(reinitialization(index_qubits, data_qubits, C1, C2, C_max),\n",
    "                  qr_index[:] + qr_data[:] + qr_f[:])\n",
    "                  \n",
    "        if dotest == i:\n",
    "            qc.measure(qr_index,\n",
    "                       cr_index[index_qubits + data_qubits:data_qubits:-1])\n",
    "            qc.measure(qr_data, cr_index[data_qubits:0:-1])\n",
    "            qc.measure(qr_f, cr_index[0])\n",
    "            return qc\n",
    "        ### mixing operator ###\n",
    "        qc.append(mixing_operator(index_qubits, beta), qr_index)\n",
    "\n",
    "    ### measure the index ###\n",
    "    ### since the default measurement outcome is shown in big endian, it is necessary to reverse the classical bits in order to unify the endian ###\n",
    "    qc.measure(qr_index, cr_index[::-1])\n",
    "\n",
    "    return qc"
   ]
  },
  {
   "cell_type": "code",
   "execution_count": 9,
   "metadata": {},
   "outputs": [],
   "source": [
    "simulator = Aer.get_backend(\"qasm_simulator\")"
   ]
  },
  {
   "cell_type": "code",
   "execution_count": 31,
   "id": "39933a68",
   "metadata": {},
   "outputs": [
    {
     "name": "stdout",
     "output_type": "stream",
     "text": [
      "run job\n",
      "created jobs ( 3.9580557346343994 s)\n",
      "Precision for instance 1 : 1.0\n",
      "depth: 1085\n",
      "num_ops: OrderedDict([('rz', 1820), ('cx', 1410), ('sx', 250), ('measure', 11)])\n",
      "Score: 70420\n",
      "\n",
      "Precision for instance 2 : 1.0\n",
      "depth: 1087\n",
      "num_ops: OrderedDict([('rz', 1835), ('cx', 1460), ('sx', 270), ('measure', 11)])\n",
      "Score: 71055\n",
      "\n",
      "Precision for instance 3 : 1.0\n",
      "depth: 1117\n",
      "num_ops: OrderedDict([('rz', 1760), ('cx', 1370), ('sx', 250), ('measure', 11)])\n",
      "Score: 71560\n",
      "\n",
      "Precision for instance 4 : 1.0\n",
      "depth: 1085\n",
      "num_ops: OrderedDict([('rz', 1800), ('cx', 1390), ('sx', 230), ('measure', 11)])\n",
      "Score: 70180\n",
      "\n",
      "Precision for instance 5 : 1.0\n",
      "depth: 1127\n",
      "num_ops: OrderedDict([('rz', 1880), ('cx', 1500), ('sx', 270), ('measure', 11)])\n",
      "Score: 73500\n",
      "\n",
      "Precision for instance 6 : 1.0\n",
      "depth: 1087\n",
      "num_ops: OrderedDict([('rz', 1780), ('cx', 1400), ('sx', 270), ('measure', 11)])\n",
      "Score: 70400\n",
      "\n",
      "Precision for instance 7 : 1.0\n",
      "depth: 1117\n",
      "num_ops: OrderedDict([('rz', 1820), ('cx', 1430), ('sx', 270), ('measure', 11)])\n",
      "Score: 72240\n",
      "\n",
      "Precision for instance 8 : 1.0\n",
      "depth: 1117\n",
      "num_ops: OrderedDict([('rz', 1800), ('cx', 1410), ('sx', 270), ('measure', 11)])\n",
      "Score: 72020\n",
      "\n",
      "Precision for instance 9 : 1.0\n",
      "depth: 1117\n",
      "num_ops: OrderedDict([('rz', 1820), ('cx', 1430), ('sx', 270), ('measure', 11)])\n",
      "Score: 72240\n",
      "\n",
      "Precision for instance 10 : 1.0\n",
      "depth: 1127\n",
      "num_ops: OrderedDict([('rz', 1820), ('cx', 1440), ('sx', 270), ('measure', 11)])\n",
      "Score: 72840\n",
      "\n",
      "Precision for instance 11 : 1.0\n",
      "depth: 1117\n",
      "num_ops: OrderedDict([('rz', 1820), ('cx', 1430), ('sx', 270), ('measure', 11)])\n",
      "Score: 72240\n",
      "\n",
      "Precision for instance 12 : 1.0\n",
      "depth: 1126\n",
      "num_ops: OrderedDict([('rz', 1780), ('cx', 1400), ('sx', 250), ('measure', 11)])\n",
      "Score: 72330\n",
      "\n",
      "Precision for instance 13 : 1.0\n",
      "depth: 1057\n",
      "num_ops: OrderedDict([('rz', 1815), ('cx', 1430), ('sx', 250), ('measure', 11)])\n",
      "Score: 69215\n",
      "\n",
      "Precision for instance 14 : 1.0\n",
      "depth: 1127\n",
      "num_ops: OrderedDict([('rz', 1835), ('cx', 1460), ('sx', 270), ('measure', 11)])\n",
      "Score: 73055\n",
      "\n",
      "Precision for instance 15 : 1.0\n",
      "depth: 1045\n",
      "num_ops: OrderedDict([('rz', 1800), ('cx', 1390), ('sx', 250), ('measure', 11)])\n",
      "Score: 68200\n",
      "\n",
      "Precision for instance 16 : 1.0\n",
      "depth: 1077\n",
      "num_ops: OrderedDict([('rz', 1780), ('cx', 1390), ('sx', 250), ('measure', 11)])\n",
      "Score: 69780\n",
      "\n",
      "Precision for instance 17 : 1.0\n",
      "depth: 1085\n",
      "num_ops: OrderedDict([('rz', 1800), ('cx', 1390), ('sx', 250), ('measure', 11)])\n",
      "Score: 70200\n",
      "\n",
      "Precision for instance 18 : 1.0\n",
      "depth: 1025\n",
      "num_ops: OrderedDict([('rz', 1795), ('cx', 1390), ('sx', 250), ('measure', 11)])\n",
      "Score: 67195\n",
      "\n",
      "Precision for instance 19 : 1.0\n",
      "depth: 1025\n",
      "num_ops: OrderedDict([('rz', 1740), ('cx', 1340), ('sx', 230), ('measure', 11)])\n",
      "Score: 66620\n",
      "\n",
      "Precision for instance 20 : 1.0\n",
      "depth: 1025\n",
      "num_ops: OrderedDict([('rz', 1780), ('cx', 1370), ('sx', 250), ('measure', 11)])\n",
      "Score: 66980\n",
      "\n",
      "Precision for instance 21 : 1.0\n",
      "depth: 1045\n",
      "num_ops: OrderedDict([('rz', 1800), ('cx', 1390), ('sx', 250), ('measure', 11)])\n",
      "Score: 68200\n",
      "\n",
      "Precision for instance 22 : 1.0\n",
      "depth: 1085\n",
      "num_ops: OrderedDict([('rz', 1815), ('cx', 1410), ('sx', 230), ('measure', 11)])\n",
      "Score: 70395\n",
      "\n",
      "Precision for instance 23 : 1.0\n",
      "depth: 1025\n",
      "num_ops: OrderedDict([('rz', 1760), ('cx', 1350), ('sx', 250), ('measure', 11)])\n",
      "Score: 66760\n",
      "\n",
      "Precision for instance 24 : 1.0\n",
      "depth: 1117\n",
      "num_ops: OrderedDict([('rz', 1740), ('cx', 1350), ('sx', 250), ('measure', 11)])\n",
      "Score: 71340\n",
      "\n",
      "\n",
      "Average Precision: 1.0\n",
      "Total Score: 1688965\n",
      "True\n",
      "1688965\n"
     ]
    }
   ],
   "source": [
    "dotest = 455\n",
    "qcs, job = prepare_ex4c(solver_function)\n",
    "pass_or_not, score = grade(qcs, job.result())\n",
    "print(pass_or_not)\n",
    "print(score)\n",
    "# for ii in range(24):\n",
    "#      print(ii)\n",
    "#      reinit_correct(job.result().get_counts(ii),**myps[ii])\n",
    "#      #add_correct(job.result().get_counts(ii),**myps[ii])\n",
    "#      #both_correct(job.result().get_counts(ii),**myps[ii])"
   ]
  },
  {
   "cell_type": "code",
   "execution_count": 32,
   "id": "dcc46864",
   "metadata": {},
   "outputs": [
    {
     "data": {
      "application/vnd.plotly.v1+json": {
       "config": {
        "plotlyServerURL": "https://plot.ly"
       },
       "data": [
        {
         "marker": {
          "cmax": 1,
          "cmin": 0,
          "color": [
           0,
           0.9577464788732394,
           0,
           0.9295774647887324,
           0.8873239436619719,
           0.9577464788732394,
           0,
           0,
           0,
           0,
           0,
           0,
           0,
           0,
           0,
           0,
           0.9436619718309859,
           0,
           0,
           0,
           0,
           0,
           0.9577464788732394,
           0,
           0,
           0.8450704225352113,
           0.971830985915493,
           0.9577464788732394,
           0.971830985915493,
           0.9154929577464789,
           0.9577464788732394,
           0.9295774647887324,
           0,
           0,
           0,
           0,
           0,
           0.9577464788732394,
           0.9295774647887324,
           0.9154929577464789,
           0.9154929577464789,
           0,
           0.9295774647887324,
           0.9436619718309859,
           0,
           0,
           0.9436619718309859,
           0.9295774647887324,
           0,
           0.9436619718309859,
           0,
           0,
           0,
           0,
           0,
           0.9577464788732394,
           0.9436619718309859,
           0,
           0.9436619718309859,
           0.8450704225352113,
           0,
           0.9436619718309859,
           0.9436619718309859,
           0,
           0.9577464788732394,
           0.9295774647887324,
           0.9436619718309859,
           0,
           0,
           0,
           0,
           0,
           0.9154929577464789,
           0,
           0.971830985915493,
           0,
           0,
           0.9436619718309859,
           0,
           0.9436619718309859,
           0.8309859154929577,
           0,
           0,
           0,
           0,
           0.9436619718309859,
           0,
           0.9436619718309859,
           0,
           0.9295774647887324,
           0,
           0,
           0,
           0,
           0,
           0,
           0,
           0.9295774647887324,
           0,
           0,
           0,
           0.9154929577464789,
           0,
           0.9577464788732394,
           0.9436619718309859,
           0,
           0.971830985915493,
           0,
           0,
           0.9577464788732394,
           0,
           0.9295774647887324,
           0.9295774647887324,
           0,
           0.971830985915493,
           0.9295774647887324,
           0.971830985915493,
           0,
           0.9577464788732394,
           0,
           0.971830985915493,
           0,
           0.9436619718309859,
           0,
           0,
           0,
           0.9859154929577465,
           0.9577464788732394,
           0,
           0.9577464788732394,
           0.8028169014084507,
           0.9577464788732394,
           0,
           0,
           0,
           0,
           0.9295774647887324,
           0,
           0.9436619718309859,
           0.9577464788732394,
           0.9154929577464789,
           0.9577464788732394,
           0,
           0,
           0.9577464788732394,
           0,
           0.971830985915493,
           0,
           0.9859154929577465,
           0.9577464788732394,
           0,
           0,
           0,
           0,
           0.971830985915493,
           0,
           0,
           0.9577464788732394,
           0,
           0,
           0,
           0,
           0.9859154929577465,
           0.971830985915493,
           0.971830985915493,
           0,
           0,
           0.971830985915493,
           0,
           0.971830985915493,
           0.9859154929577465,
           0,
           0.9859154929577465,
           0.9859154929577465,
           0.971830985915493,
           0.9859154929577465,
           0.9859154929577465,
           0,
           0,
           0,
           0,
           0,
           0,
           0,
           0,
           0,
           0,
           0.9859154929577465,
           0,
           0,
           0,
           0,
           0.9859154929577465,
           0,
           0,
           0,
           0,
           0,
           0,
           0,
           0,
           0,
           0,
           1,
           0
          ],
          "colorbar": {
           "title": {
            "text": "revenue"
           }
          },
          "colorscale": [
           [
            0,
            "#440154"
           ],
           [
            0.1111111111111111,
            "#482878"
           ],
           [
            0.2222222222222222,
            "#3e4989"
           ],
           [
            0.3333333333333333,
            "#31688e"
           ],
           [
            0.4444444444444444,
            "#26828e"
           ],
           [
            0.5555555555555556,
            "#1f9e89"
           ],
           [
            0.6666666666666666,
            "#35b779"
           ],
           [
            0.7777777777777778,
            "#6ece58"
           ],
           [
            0.8888888888888888,
            "#b5de2b"
           ],
           [
            1,
            "#fde725"
           ]
          ]
         },
         "type": "bar",
         "x": [
          "10111100010",
          "11010100011",
          "10010100110",
          "10000100110",
          "11001100001",
          "10101100011",
          "00000111110",
          "11001110111",
          "10110111111",
          "11110100010",
          "01001111011",
          "10011111111",
          "00101100111",
          "01101101110",
          "00010111011",
          "11010110010",
          "11001111001",
          "01111111101",
          "10000111110",
          "00011101111",
          "10010101111",
          "00001110111",
          "00101101011",
          "01111101011",
          "10111100101",
          "00000100101",
          "10011100101",
          "00011100011",
          "01001111010",
          "00110101010",
          "11011111000",
          "11011001100",
          "01011111011",
          "01101111010",
          "11010101011",
          "11011111011",
          "11101101100",
          "11010101010",
          "00011100010",
          "10001100010",
          "00001010110",
          "11011111110",
          "01001101100",
          "11001100010",
          "10011110011",
          "00011110101",
          "01001100011",
          "00001101101",
          "11111101111",
          "11111100001",
          "00001111110",
          "10101100110",
          "00101101111",
          "01001111111",
          "01001111110",
          "01001110101",
          "01010101101",
          "10101111101",
          "01111101001",
          "01001011001",
          "01010100111",
          "10001100011",
          "11101100100",
          "00011110111",
          "01011100010",
          "10011110001",
          "10011100100",
          "00101111111",
          "11000101110",
          "11111010001",
          "10011111110",
          "10010100111",
          "00001100011",
          "10011101101",
          "11001110010",
          "00011101110",
          "11111111011",
          "10000111011",
          "10011110010",
          "10001110010",
          "01001100000",
          "01011110011",
          "11101101011",
          "11011011010",
          "01011110101",
          "01001101010",
          "11000111101",
          "00011100101",
          "11011110100",
          "10001101100",
          "11110110001",
          "00011110110",
          "10111100011",
          "11111101010",
          "01101101011",
          "11000001111",
          "11101100011",
          "01001100101",
          "11101101111",
          "11100101011",
          "00010101110",
          "11000100011",
          "10011111010",
          "10001110101",
          "01000111011",
          "10101101011",
          "10011101100",
          "11110111100",
          "11101101010",
          "11101100010",
          "11010101111",
          "11011100001",
          "01000100110",
          "01011110010",
          "10001111010",
          "11001100100",
          "00001111011",
          "01011111111",
          "11000100110",
          "01101110110",
          "10001110011",
          "11001110101",
          "00001101011",
          "10000101111",
          "10011111011",
          "00011111110",
          "00011101011",
          "10011111001",
          "01011111110",
          "00011101010",
          "00001100000",
          "10001111100",
          "10001111111",
          "10001111101",
          "11001111010",
          "10001111110",
          "11101101001",
          "01011110111",
          "10010101101",
          "10000101110",
          "00001101010",
          "01001101101",
          "11111111101",
          "11111111001",
          "00001100110",
          "01011101111",
          "01011100101",
          "11001111011",
          "10011100011",
          "11001101100",
          "10011100110",
          "10011101110",
          "10001111011",
          "01011100110",
          "01001110011",
          "00011100111",
          "01000101111",
          "00001111101",
          "11011111010",
          "11001110110",
          "00011100110",
          "11001111111",
          "00001100111",
          "10001101011",
          "11001100011",
          "11001101110",
          "11001110011",
          "01001101011",
          "11011100110",
          "00011101101",
          "11011100010",
          "11011100011",
          "01001100110",
          "10011101010",
          "11001101010",
          "01011100011",
          "01011101010",
          "11000101111",
          "01011100111",
          "11011100101",
          "10011100111",
          "01011101110",
          "11011101010",
          "01011101101",
          "10001101110",
          "11011101110",
          "10011101011",
          "10001100110",
          "10011101111",
          "11011101101",
          "01001100111",
          "11011101011",
          "00001101110",
          "01001101110",
          "10001100111",
          "10001101111",
          "00001101111",
          "01011101011",
          "11001101111",
          "11001100110",
          "11011100111",
          "01001101111",
          "11001100111",
          "11001101011",
          "11011101111"
         ],
         "y": [
          1,
          1,
          1,
          1,
          1,
          1,
          1,
          1,
          1,
          1,
          1,
          1,
          1,
          1,
          1,
          1,
          1,
          1,
          1,
          1,
          1,
          1,
          1,
          1,
          1,
          1,
          1,
          1,
          1,
          1,
          1,
          1,
          1,
          1,
          1,
          1,
          1,
          1,
          1,
          1,
          1,
          1,
          1,
          1,
          1,
          1,
          1,
          1,
          1,
          1,
          1,
          1,
          1,
          1,
          1,
          1,
          1,
          1,
          1,
          1,
          1,
          1,
          1,
          1,
          1,
          1,
          1,
          1,
          1,
          1,
          1,
          1,
          1,
          1,
          1,
          1,
          1,
          1,
          1,
          1,
          1,
          1,
          1,
          1,
          1,
          1,
          1,
          1,
          1,
          1,
          1,
          1,
          1,
          1,
          1,
          1,
          1,
          1,
          1,
          1,
          1,
          1,
          1,
          1,
          1,
          1,
          1,
          1,
          1,
          1,
          1,
          1,
          2,
          2,
          2,
          2,
          2,
          2,
          2,
          2,
          2,
          2,
          2,
          2,
          2,
          2,
          2,
          2,
          2,
          2,
          2,
          2,
          2,
          2,
          2,
          2,
          2,
          2,
          2,
          2,
          2,
          2,
          2,
          2,
          2,
          2,
          3,
          3,
          3,
          3,
          3,
          3,
          3,
          3,
          3,
          3,
          3,
          3,
          3,
          3,
          4,
          4,
          4,
          4,
          4,
          4,
          4,
          4,
          4,
          4,
          4,
          4,
          5,
          5,
          5,
          5,
          5,
          5,
          5,
          5,
          5,
          5,
          6,
          6,
          6,
          6,
          6,
          7,
          7,
          7,
          7,
          8,
          8,
          8,
          8,
          9,
          9,
          9,
          9,
          10,
          10,
          11,
          11,
          12,
          12
         ]
        }
       ],
       "layout": {
        "template": {
         "data": {
          "bar": [
           {
            "error_x": {
             "color": "#2a3f5f"
            },
            "error_y": {
             "color": "#2a3f5f"
            },
            "marker": {
             "line": {
              "color": "#E5ECF6",
              "width": 0.5
             },
             "pattern": {
              "fillmode": "overlay",
              "size": 10,
              "solidity": 0.2
             }
            },
            "type": "bar"
           }
          ],
          "barpolar": [
           {
            "marker": {
             "line": {
              "color": "#E5ECF6",
              "width": 0.5
             },
             "pattern": {
              "fillmode": "overlay",
              "size": 10,
              "solidity": 0.2
             }
            },
            "type": "barpolar"
           }
          ],
          "carpet": [
           {
            "aaxis": {
             "endlinecolor": "#2a3f5f",
             "gridcolor": "white",
             "linecolor": "white",
             "minorgridcolor": "white",
             "startlinecolor": "#2a3f5f"
            },
            "baxis": {
             "endlinecolor": "#2a3f5f",
             "gridcolor": "white",
             "linecolor": "white",
             "minorgridcolor": "white",
             "startlinecolor": "#2a3f5f"
            },
            "type": "carpet"
           }
          ],
          "choropleth": [
           {
            "colorbar": {
             "outlinewidth": 0,
             "ticks": ""
            },
            "type": "choropleth"
           }
          ],
          "contour": [
           {
            "colorbar": {
             "outlinewidth": 0,
             "ticks": ""
            },
            "colorscale": [
             [
              0,
              "#0d0887"
             ],
             [
              0.1111111111111111,
              "#46039f"
             ],
             [
              0.2222222222222222,
              "#7201a8"
             ],
             [
              0.3333333333333333,
              "#9c179e"
             ],
             [
              0.4444444444444444,
              "#bd3786"
             ],
             [
              0.5555555555555556,
              "#d8576b"
             ],
             [
              0.6666666666666666,
              "#ed7953"
             ],
             [
              0.7777777777777778,
              "#fb9f3a"
             ],
             [
              0.8888888888888888,
              "#fdca26"
             ],
             [
              1,
              "#f0f921"
             ]
            ],
            "type": "contour"
           }
          ],
          "contourcarpet": [
           {
            "colorbar": {
             "outlinewidth": 0,
             "ticks": ""
            },
            "type": "contourcarpet"
           }
          ],
          "heatmap": [
           {
            "colorbar": {
             "outlinewidth": 0,
             "ticks": ""
            },
            "colorscale": [
             [
              0,
              "#0d0887"
             ],
             [
              0.1111111111111111,
              "#46039f"
             ],
             [
              0.2222222222222222,
              "#7201a8"
             ],
             [
              0.3333333333333333,
              "#9c179e"
             ],
             [
              0.4444444444444444,
              "#bd3786"
             ],
             [
              0.5555555555555556,
              "#d8576b"
             ],
             [
              0.6666666666666666,
              "#ed7953"
             ],
             [
              0.7777777777777778,
              "#fb9f3a"
             ],
             [
              0.8888888888888888,
              "#fdca26"
             ],
             [
              1,
              "#f0f921"
             ]
            ],
            "type": "heatmap"
           }
          ],
          "heatmapgl": [
           {
            "colorbar": {
             "outlinewidth": 0,
             "ticks": ""
            },
            "colorscale": [
             [
              0,
              "#0d0887"
             ],
             [
              0.1111111111111111,
              "#46039f"
             ],
             [
              0.2222222222222222,
              "#7201a8"
             ],
             [
              0.3333333333333333,
              "#9c179e"
             ],
             [
              0.4444444444444444,
              "#bd3786"
             ],
             [
              0.5555555555555556,
              "#d8576b"
             ],
             [
              0.6666666666666666,
              "#ed7953"
             ],
             [
              0.7777777777777778,
              "#fb9f3a"
             ],
             [
              0.8888888888888888,
              "#fdca26"
             ],
             [
              1,
              "#f0f921"
             ]
            ],
            "type": "heatmapgl"
           }
          ],
          "histogram": [
           {
            "marker": {
             "pattern": {
              "fillmode": "overlay",
              "size": 10,
              "solidity": 0.2
             }
            },
            "type": "histogram"
           }
          ],
          "histogram2d": [
           {
            "colorbar": {
             "outlinewidth": 0,
             "ticks": ""
            },
            "colorscale": [
             [
              0,
              "#0d0887"
             ],
             [
              0.1111111111111111,
              "#46039f"
             ],
             [
              0.2222222222222222,
              "#7201a8"
             ],
             [
              0.3333333333333333,
              "#9c179e"
             ],
             [
              0.4444444444444444,
              "#bd3786"
             ],
             [
              0.5555555555555556,
              "#d8576b"
             ],
             [
              0.6666666666666666,
              "#ed7953"
             ],
             [
              0.7777777777777778,
              "#fb9f3a"
             ],
             [
              0.8888888888888888,
              "#fdca26"
             ],
             [
              1,
              "#f0f921"
             ]
            ],
            "type": "histogram2d"
           }
          ],
          "histogram2dcontour": [
           {
            "colorbar": {
             "outlinewidth": 0,
             "ticks": ""
            },
            "colorscale": [
             [
              0,
              "#0d0887"
             ],
             [
              0.1111111111111111,
              "#46039f"
             ],
             [
              0.2222222222222222,
              "#7201a8"
             ],
             [
              0.3333333333333333,
              "#9c179e"
             ],
             [
              0.4444444444444444,
              "#bd3786"
             ],
             [
              0.5555555555555556,
              "#d8576b"
             ],
             [
              0.6666666666666666,
              "#ed7953"
             ],
             [
              0.7777777777777778,
              "#fb9f3a"
             ],
             [
              0.8888888888888888,
              "#fdca26"
             ],
             [
              1,
              "#f0f921"
             ]
            ],
            "type": "histogram2dcontour"
           }
          ],
          "mesh3d": [
           {
            "colorbar": {
             "outlinewidth": 0,
             "ticks": ""
            },
            "type": "mesh3d"
           }
          ],
          "parcoords": [
           {
            "line": {
             "colorbar": {
              "outlinewidth": 0,
              "ticks": ""
             }
            },
            "type": "parcoords"
           }
          ],
          "pie": [
           {
            "automargin": true,
            "type": "pie"
           }
          ],
          "scatter": [
           {
            "marker": {
             "colorbar": {
              "outlinewidth": 0,
              "ticks": ""
             }
            },
            "type": "scatter"
           }
          ],
          "scatter3d": [
           {
            "line": {
             "colorbar": {
              "outlinewidth": 0,
              "ticks": ""
             }
            },
            "marker": {
             "colorbar": {
              "outlinewidth": 0,
              "ticks": ""
             }
            },
            "type": "scatter3d"
           }
          ],
          "scattercarpet": [
           {
            "marker": {
             "colorbar": {
              "outlinewidth": 0,
              "ticks": ""
             }
            },
            "type": "scattercarpet"
           }
          ],
          "scattergeo": [
           {
            "marker": {
             "colorbar": {
              "outlinewidth": 0,
              "ticks": ""
             }
            },
            "type": "scattergeo"
           }
          ],
          "scattergl": [
           {
            "marker": {
             "colorbar": {
              "outlinewidth": 0,
              "ticks": ""
             }
            },
            "type": "scattergl"
           }
          ],
          "scattermapbox": [
           {
            "marker": {
             "colorbar": {
              "outlinewidth": 0,
              "ticks": ""
             }
            },
            "type": "scattermapbox"
           }
          ],
          "scatterpolar": [
           {
            "marker": {
             "colorbar": {
              "outlinewidth": 0,
              "ticks": ""
             }
            },
            "type": "scatterpolar"
           }
          ],
          "scatterpolargl": [
           {
            "marker": {
             "colorbar": {
              "outlinewidth": 0,
              "ticks": ""
             }
            },
            "type": "scatterpolargl"
           }
          ],
          "scatterternary": [
           {
            "marker": {
             "colorbar": {
              "outlinewidth": 0,
              "ticks": ""
             }
            },
            "type": "scatterternary"
           }
          ],
          "surface": [
           {
            "colorbar": {
             "outlinewidth": 0,
             "ticks": ""
            },
            "colorscale": [
             [
              0,
              "#0d0887"
             ],
             [
              0.1111111111111111,
              "#46039f"
             ],
             [
              0.2222222222222222,
              "#7201a8"
             ],
             [
              0.3333333333333333,
              "#9c179e"
             ],
             [
              0.4444444444444444,
              "#bd3786"
             ],
             [
              0.5555555555555556,
              "#d8576b"
             ],
             [
              0.6666666666666666,
              "#ed7953"
             ],
             [
              0.7777777777777778,
              "#fb9f3a"
             ],
             [
              0.8888888888888888,
              "#fdca26"
             ],
             [
              1,
              "#f0f921"
             ]
            ],
            "type": "surface"
           }
          ],
          "table": [
           {
            "cells": {
             "fill": {
              "color": "#EBF0F8"
             },
             "line": {
              "color": "white"
             }
            },
            "header": {
             "fill": {
              "color": "#C8D4E3"
             },
             "line": {
              "color": "white"
             }
            },
            "type": "table"
           }
          ]
         },
         "layout": {
          "annotationdefaults": {
           "arrowcolor": "#2a3f5f",
           "arrowhead": 0,
           "arrowwidth": 1
          },
          "autotypenumbers": "strict",
          "coloraxis": {
           "colorbar": {
            "outlinewidth": 0,
            "ticks": ""
           }
          },
          "colorscale": {
           "diverging": [
            [
             0,
             "#8e0152"
            ],
            [
             0.1,
             "#c51b7d"
            ],
            [
             0.2,
             "#de77ae"
            ],
            [
             0.3,
             "#f1b6da"
            ],
            [
             0.4,
             "#fde0ef"
            ],
            [
             0.5,
             "#f7f7f7"
            ],
            [
             0.6,
             "#e6f5d0"
            ],
            [
             0.7,
             "#b8e186"
            ],
            [
             0.8,
             "#7fbc41"
            ],
            [
             0.9,
             "#4d9221"
            ],
            [
             1,
             "#276419"
            ]
           ],
           "sequential": [
            [
             0,
             "#0d0887"
            ],
            [
             0.1111111111111111,
             "#46039f"
            ],
            [
             0.2222222222222222,
             "#7201a8"
            ],
            [
             0.3333333333333333,
             "#9c179e"
            ],
            [
             0.4444444444444444,
             "#bd3786"
            ],
            [
             0.5555555555555556,
             "#d8576b"
            ],
            [
             0.6666666666666666,
             "#ed7953"
            ],
            [
             0.7777777777777778,
             "#fb9f3a"
            ],
            [
             0.8888888888888888,
             "#fdca26"
            ],
            [
             1,
             "#f0f921"
            ]
           ],
           "sequentialminus": [
            [
             0,
             "#0d0887"
            ],
            [
             0.1111111111111111,
             "#46039f"
            ],
            [
             0.2222222222222222,
             "#7201a8"
            ],
            [
             0.3333333333333333,
             "#9c179e"
            ],
            [
             0.4444444444444444,
             "#bd3786"
            ],
            [
             0.5555555555555556,
             "#d8576b"
            ],
            [
             0.6666666666666666,
             "#ed7953"
            ],
            [
             0.7777777777777778,
             "#fb9f3a"
            ],
            [
             0.8888888888888888,
             "#fdca26"
            ],
            [
             1,
             "#f0f921"
            ]
           ]
          },
          "colorway": [
           "#636efa",
           "#EF553B",
           "#00cc96",
           "#ab63fa",
           "#FFA15A",
           "#19d3f3",
           "#FF6692",
           "#B6E880",
           "#FF97FF",
           "#FECB52"
          ],
          "font": {
           "color": "#2a3f5f"
          },
          "geo": {
           "bgcolor": "white",
           "lakecolor": "white",
           "landcolor": "#E5ECF6",
           "showlakes": true,
           "showland": true,
           "subunitcolor": "white"
          },
          "hoverlabel": {
           "align": "left"
          },
          "hovermode": "closest",
          "mapbox": {
           "style": "light"
          },
          "paper_bgcolor": "white",
          "plot_bgcolor": "#E5ECF6",
          "polar": {
           "angularaxis": {
            "gridcolor": "white",
            "linecolor": "white",
            "ticks": ""
           },
           "bgcolor": "#E5ECF6",
           "radialaxis": {
            "gridcolor": "white",
            "linecolor": "white",
            "ticks": ""
           }
          },
          "scene": {
           "xaxis": {
            "backgroundcolor": "#E5ECF6",
            "gridcolor": "white",
            "gridwidth": 2,
            "linecolor": "white",
            "showbackground": true,
            "ticks": "",
            "zerolinecolor": "white"
           },
           "yaxis": {
            "backgroundcolor": "#E5ECF6",
            "gridcolor": "white",
            "gridwidth": 2,
            "linecolor": "white",
            "showbackground": true,
            "ticks": "",
            "zerolinecolor": "white"
           },
           "zaxis": {
            "backgroundcolor": "#E5ECF6",
            "gridcolor": "white",
            "gridwidth": 2,
            "linecolor": "white",
            "showbackground": true,
            "ticks": "",
            "zerolinecolor": "white"
           }
          },
          "shapedefaults": {
           "line": {
            "color": "#2a3f5f"
           }
          },
          "ternary": {
           "aaxis": {
            "gridcolor": "white",
            "linecolor": "white",
            "ticks": ""
           },
           "baxis": {
            "gridcolor": "white",
            "linecolor": "white",
            "ticks": ""
           },
           "bgcolor": "#E5ECF6",
           "caxis": {
            "gridcolor": "white",
            "linecolor": "white",
            "ticks": ""
           }
          },
          "title": {
           "x": 0.05
          },
          "xaxis": {
           "automargin": true,
           "gridcolor": "white",
           "linecolor": "white",
           "ticks": "",
           "title": {
            "standoff": 15
           },
           "zerolinecolor": "white",
           "zerolinewidth": 2
          },
          "yaxis": {
           "automargin": true,
           "gridcolor": "white",
           "linecolor": "white",
           "ticks": "",
           "title": {
            "standoff": 15
           },
           "zerolinecolor": "white",
           "zerolinewidth": 2
          }
         }
        },
        "xaxis": {
         "type": "category"
        }
       }
      }
     },
     "metadata": {},
     "output_type": "display_data"
    },
    {
     "data": {
      "application/vnd.plotly.v1+json": {
       "config": {
        "plotlyServerURL": "https://plot.ly"
       },
       "data": [
        {
         "marker": {
          "cmax": 1,
          "cmin": 0,
          "color": [
           0.8656716417910447,
           0.8805970149253731,
           0.9402985074626866,
           0.9552238805970149,
           0.8656716417910447,
           0,
           0,
           0,
           0,
           0,
           0.9253731343283582,
           0,
           0,
           0,
           0.9552238805970149,
           0.8507462686567164,
           0.8507462686567164,
           0.9104477611940298,
           0,
           0.9552238805970149,
           0.9402985074626866,
           0.9402985074626866,
           0,
           0.9104477611940298,
           0,
           0,
           0.9552238805970149,
           0,
           0.9552238805970149,
           0,
           0.9104477611940298,
           0.9701492537313433,
           0.9552238805970149,
           0,
           0.9552238805970149,
           0.9402985074626866,
           0,
           0.9402985074626866,
           0.9552238805970149,
           0.9552238805970149,
           0,
           0,
           0.9253731343283582,
           0,
           0,
           0.9552238805970149,
           0,
           0.9402985074626866,
           0.9552238805970149,
           0.9402985074626866,
           0.9552238805970149,
           0.8955223880597015,
           0,
           0.9552238805970149,
           0.8955223880597015,
           0,
           0.9253731343283582,
           0,
           0.9552238805970149,
           0.9253731343283582,
           0.7910447761194029,
           0,
           0.9253731343283582,
           0.8805970149253731,
           0.9402985074626866,
           0.8805970149253731,
           0,
           0.9104477611940298,
           0,
           0.9701492537313433,
           0.9402985074626866,
           0,
           0.9552238805970149,
           0,
           0,
           0.9552238805970149,
           0.9402985074626866,
           0.9104477611940298,
           0,
           0.9701492537313433,
           0,
           0.9552238805970149,
           0,
           0.8955223880597015,
           0.9253731343283582,
           0,
           0,
           0.8805970149253731,
           0,
           0.9552238805970149,
           0.9552238805970149,
           0,
           0,
           0.9402985074626866,
           0,
           0.8805970149253731,
           0,
           0.9552238805970149,
           0,
           0.8507462686567164,
           0,
           0,
           0.9402985074626866,
           0,
           0.9104477611940298,
           0,
           0,
           0.8656716417910447,
           0.9701492537313433,
           0,
           0,
           0,
           0,
           0.9850746268656716,
           0,
           0,
           0.9701492537313433,
           0,
           0,
           0.9402985074626866,
           0,
           0,
           0,
           0,
           0,
           0,
           0,
           0,
           0,
           0,
           0.8955223880597015,
           0.9552238805970149,
           0.9402985074626866,
           0.9701492537313433,
           0,
           0,
           0,
           0,
           0.9701492537313433,
           0.9701492537313433,
           0,
           0,
           0,
           0,
           0,
           0.9701492537313433,
           0.835820895522388,
           0,
           0,
           0.9850746268656716,
           0.9552238805970149,
           0,
           0,
           0,
           0,
           0.9701492537313433,
           0,
           0.9701492537313433,
           0,
           0,
           0,
           0,
           0,
           0,
           0,
           0,
           0.9850746268656716,
           0,
           0.9850746268656716,
           0,
           0,
           0.9850746268656716,
           0,
           0,
           0,
           0.9850746268656716,
           0,
           1,
           0,
           0,
           0,
           0,
           0,
           1,
           1,
           0
          ],
          "colorbar": {
           "title": {
            "text": "revenue"
           }
          },
          "colorscale": [
           [
            0,
            "#440154"
           ],
           [
            0.1111111111111111,
            "#482878"
           ],
           [
            0.2222222222222222,
            "#3e4989"
           ],
           [
            0.3333333333333333,
            "#31688e"
           ],
           [
            0.4444444444444444,
            "#26828e"
           ],
           [
            0.5555555555555556,
            "#1f9e89"
           ],
           [
            0.6666666666666666,
            "#35b779"
           ],
           [
            0.7777777777777778,
            "#6ece58"
           ],
           [
            0.8888888888888888,
            "#b5de2b"
           ],
           [
            1,
            "#fde725"
           ]
          ]
         },
         "type": "bar",
         "x": [
          "10101010000",
          "00001001001",
          "10111011000",
          "11101110010",
          "00101000001",
          "10111000011",
          "11101011111",
          "11101000011",
          "11111110011",
          "11100010011",
          "10011000001",
          "00111111011",
          "11001101110",
          "11111000100",
          "10100111001",
          "01101000010",
          "10100011000",
          "11010111000",
          "11010001011",
          "10111101010",
          "10111001010",
          "10111110010",
          "10101101110",
          "10100001001",
          "11010011011",
          "01101101011",
          "11101011000",
          "11101110001",
          "11011011000",
          "10011011001",
          "11101010000",
          "11101111000",
          "11000011001",
          "10111010001",
          "00101111001",
          "11011101000",
          "10101011110",
          "11101101000",
          "11011001010",
          "11001011010",
          "11011111001",
          "11111010001",
          "01111011000",
          "11101110011",
          "10101110011",
          "10000111011",
          "10000011111",
          "10010011001",
          "10101010001",
          "10100011001",
          "11111001000",
          "10100111010",
          "11111000011",
          "00001111011",
          "00100101011",
          "01111011001",
          "00111111010",
          "11100011001",
          "10111111000",
          "11011110000",
          "11000000000",
          "11011101001",
          "11001011000",
          "01001111000",
          "10001110001",
          "00101110110",
          "00001011111",
          "10110011010",
          "10101000111",
          "10111011010",
          "10101001110",
          "10101101111",
          "00101101011",
          "11011101011",
          "11101111010",
          "11101001010",
          "11100010001",
          "10110100001",
          "01101011011",
          "10001110011",
          "01011001011",
          "10011010001",
          "10111011111",
          "10100000011",
          "10001111100",
          "11011011001",
          "01011011001",
          "10001011000",
          "11111001010",
          "10101000011",
          "11001100001",
          "10010110011",
          "10011010011",
          "10010001011",
          "11011100011",
          "10001001100",
          "11110111010",
          "10001101001",
          "00101111011",
          "01010000001",
          "10110101011",
          "10111101101",
          "10001001001",
          "10100111011",
          "01001000011",
          "11011010100",
          "01101101001",
          "00000010111",
          "10101110001",
          "01101111011",
          "11101101001",
          "11111101001",
          "11111111110",
          "10001111001",
          "01101111001",
          "10011011011",
          "11101000001",
          "10111111010",
          "10011111001",
          "10101100001",
          "11111001011",
          "11011111011",
          "01001111011",
          "11111101011",
          "11111011010",
          "11011001011",
          "11111110001",
          "10111010011",
          "10111101001",
          "01001011011",
          "10101101000",
          "11100001001",
          "11111010000",
          "10101100011",
          "11011001001",
          "11101100001",
          "11111011000",
          "11101010001",
          "10011001001",
          "10001001011",
          "11111111001",
          "11111111010",
          "10111101011",
          "11101010011",
          "10011001011",
          "11001000011",
          "10101000000",
          "10011111011",
          "10011101001",
          "10001101011",
          "10101111010",
          "11011011011",
          "11001101011",
          "10011101011",
          "11101001001",
          "10001011001",
          "11001010011",
          "10101001001",
          "10111001011",
          "11001001011",
          "10111011011",
          "10101101011",
          "10111111001",
          "11001111011",
          "10111001001",
          "10111011001",
          "11101011010",
          "11001111001",
          "11001001001",
          "10101111001",
          "11101111001",
          "10101010011",
          "11101001011",
          "11101101011",
          "11001011001",
          "10101101001",
          "10001111011",
          "10001011011",
          "11101111011",
          "10101111011",
          "11101011001",
          "11001011011",
          "11101011011",
          "10101011001",
          "10101001011",
          "10101011011"
         ],
         "y": [
          1,
          1,
          1,
          1,
          1,
          1,
          1,
          1,
          1,
          1,
          1,
          1,
          1,
          1,
          1,
          1,
          1,
          1,
          1,
          1,
          1,
          1,
          1,
          1,
          1,
          1,
          1,
          1,
          1,
          1,
          1,
          1,
          1,
          1,
          1,
          1,
          1,
          1,
          1,
          1,
          1,
          1,
          1,
          1,
          1,
          1,
          1,
          1,
          1,
          1,
          1,
          1,
          1,
          1,
          1,
          1,
          1,
          1,
          1,
          1,
          1,
          1,
          1,
          1,
          1,
          1,
          1,
          1,
          1,
          1,
          1,
          1,
          1,
          1,
          1,
          1,
          1,
          1,
          1,
          1,
          1,
          1,
          1,
          1,
          1,
          1,
          1,
          1,
          1,
          1,
          1,
          1,
          1,
          1,
          1,
          1,
          1,
          1,
          1,
          1,
          1,
          1,
          1,
          1,
          1,
          1,
          1,
          1,
          2,
          2,
          2,
          2,
          2,
          2,
          2,
          2,
          2,
          2,
          2,
          2,
          2,
          2,
          2,
          2,
          2,
          2,
          2,
          2,
          2,
          2,
          2,
          2,
          2,
          2,
          2,
          2,
          2,
          3,
          3,
          3,
          3,
          3,
          3,
          3,
          3,
          3,
          3,
          3,
          3,
          3,
          4,
          4,
          4,
          4,
          4,
          4,
          4,
          4,
          4,
          5,
          5,
          5,
          5,
          5,
          6,
          7,
          7,
          7,
          8,
          8,
          8,
          9,
          9,
          9,
          9,
          9,
          11,
          11,
          12,
          12,
          14,
          15,
          16,
          17,
          18,
          24
         ]
        }
       ],
       "layout": {
        "template": {
         "data": {
          "bar": [
           {
            "error_x": {
             "color": "#2a3f5f"
            },
            "error_y": {
             "color": "#2a3f5f"
            },
            "marker": {
             "line": {
              "color": "#E5ECF6",
              "width": 0.5
             },
             "pattern": {
              "fillmode": "overlay",
              "size": 10,
              "solidity": 0.2
             }
            },
            "type": "bar"
           }
          ],
          "barpolar": [
           {
            "marker": {
             "line": {
              "color": "#E5ECF6",
              "width": 0.5
             },
             "pattern": {
              "fillmode": "overlay",
              "size": 10,
              "solidity": 0.2
             }
            },
            "type": "barpolar"
           }
          ],
          "carpet": [
           {
            "aaxis": {
             "endlinecolor": "#2a3f5f",
             "gridcolor": "white",
             "linecolor": "white",
             "minorgridcolor": "white",
             "startlinecolor": "#2a3f5f"
            },
            "baxis": {
             "endlinecolor": "#2a3f5f",
             "gridcolor": "white",
             "linecolor": "white",
             "minorgridcolor": "white",
             "startlinecolor": "#2a3f5f"
            },
            "type": "carpet"
           }
          ],
          "choropleth": [
           {
            "colorbar": {
             "outlinewidth": 0,
             "ticks": ""
            },
            "type": "choropleth"
           }
          ],
          "contour": [
           {
            "colorbar": {
             "outlinewidth": 0,
             "ticks": ""
            },
            "colorscale": [
             [
              0,
              "#0d0887"
             ],
             [
              0.1111111111111111,
              "#46039f"
             ],
             [
              0.2222222222222222,
              "#7201a8"
             ],
             [
              0.3333333333333333,
              "#9c179e"
             ],
             [
              0.4444444444444444,
              "#bd3786"
             ],
             [
              0.5555555555555556,
              "#d8576b"
             ],
             [
              0.6666666666666666,
              "#ed7953"
             ],
             [
              0.7777777777777778,
              "#fb9f3a"
             ],
             [
              0.8888888888888888,
              "#fdca26"
             ],
             [
              1,
              "#f0f921"
             ]
            ],
            "type": "contour"
           }
          ],
          "contourcarpet": [
           {
            "colorbar": {
             "outlinewidth": 0,
             "ticks": ""
            },
            "type": "contourcarpet"
           }
          ],
          "heatmap": [
           {
            "colorbar": {
             "outlinewidth": 0,
             "ticks": ""
            },
            "colorscale": [
             [
              0,
              "#0d0887"
             ],
             [
              0.1111111111111111,
              "#46039f"
             ],
             [
              0.2222222222222222,
              "#7201a8"
             ],
             [
              0.3333333333333333,
              "#9c179e"
             ],
             [
              0.4444444444444444,
              "#bd3786"
             ],
             [
              0.5555555555555556,
              "#d8576b"
             ],
             [
              0.6666666666666666,
              "#ed7953"
             ],
             [
              0.7777777777777778,
              "#fb9f3a"
             ],
             [
              0.8888888888888888,
              "#fdca26"
             ],
             [
              1,
              "#f0f921"
             ]
            ],
            "type": "heatmap"
           }
          ],
          "heatmapgl": [
           {
            "colorbar": {
             "outlinewidth": 0,
             "ticks": ""
            },
            "colorscale": [
             [
              0,
              "#0d0887"
             ],
             [
              0.1111111111111111,
              "#46039f"
             ],
             [
              0.2222222222222222,
              "#7201a8"
             ],
             [
              0.3333333333333333,
              "#9c179e"
             ],
             [
              0.4444444444444444,
              "#bd3786"
             ],
             [
              0.5555555555555556,
              "#d8576b"
             ],
             [
              0.6666666666666666,
              "#ed7953"
             ],
             [
              0.7777777777777778,
              "#fb9f3a"
             ],
             [
              0.8888888888888888,
              "#fdca26"
             ],
             [
              1,
              "#f0f921"
             ]
            ],
            "type": "heatmapgl"
           }
          ],
          "histogram": [
           {
            "marker": {
             "pattern": {
              "fillmode": "overlay",
              "size": 10,
              "solidity": 0.2
             }
            },
            "type": "histogram"
           }
          ],
          "histogram2d": [
           {
            "colorbar": {
             "outlinewidth": 0,
             "ticks": ""
            },
            "colorscale": [
             [
              0,
              "#0d0887"
             ],
             [
              0.1111111111111111,
              "#46039f"
             ],
             [
              0.2222222222222222,
              "#7201a8"
             ],
             [
              0.3333333333333333,
              "#9c179e"
             ],
             [
              0.4444444444444444,
              "#bd3786"
             ],
             [
              0.5555555555555556,
              "#d8576b"
             ],
             [
              0.6666666666666666,
              "#ed7953"
             ],
             [
              0.7777777777777778,
              "#fb9f3a"
             ],
             [
              0.8888888888888888,
              "#fdca26"
             ],
             [
              1,
              "#f0f921"
             ]
            ],
            "type": "histogram2d"
           }
          ],
          "histogram2dcontour": [
           {
            "colorbar": {
             "outlinewidth": 0,
             "ticks": ""
            },
            "colorscale": [
             [
              0,
              "#0d0887"
             ],
             [
              0.1111111111111111,
              "#46039f"
             ],
             [
              0.2222222222222222,
              "#7201a8"
             ],
             [
              0.3333333333333333,
              "#9c179e"
             ],
             [
              0.4444444444444444,
              "#bd3786"
             ],
             [
              0.5555555555555556,
              "#d8576b"
             ],
             [
              0.6666666666666666,
              "#ed7953"
             ],
             [
              0.7777777777777778,
              "#fb9f3a"
             ],
             [
              0.8888888888888888,
              "#fdca26"
             ],
             [
              1,
              "#f0f921"
             ]
            ],
            "type": "histogram2dcontour"
           }
          ],
          "mesh3d": [
           {
            "colorbar": {
             "outlinewidth": 0,
             "ticks": ""
            },
            "type": "mesh3d"
           }
          ],
          "parcoords": [
           {
            "line": {
             "colorbar": {
              "outlinewidth": 0,
              "ticks": ""
             }
            },
            "type": "parcoords"
           }
          ],
          "pie": [
           {
            "automargin": true,
            "type": "pie"
           }
          ],
          "scatter": [
           {
            "marker": {
             "colorbar": {
              "outlinewidth": 0,
              "ticks": ""
             }
            },
            "type": "scatter"
           }
          ],
          "scatter3d": [
           {
            "line": {
             "colorbar": {
              "outlinewidth": 0,
              "ticks": ""
             }
            },
            "marker": {
             "colorbar": {
              "outlinewidth": 0,
              "ticks": ""
             }
            },
            "type": "scatter3d"
           }
          ],
          "scattercarpet": [
           {
            "marker": {
             "colorbar": {
              "outlinewidth": 0,
              "ticks": ""
             }
            },
            "type": "scattercarpet"
           }
          ],
          "scattergeo": [
           {
            "marker": {
             "colorbar": {
              "outlinewidth": 0,
              "ticks": ""
             }
            },
            "type": "scattergeo"
           }
          ],
          "scattergl": [
           {
            "marker": {
             "colorbar": {
              "outlinewidth": 0,
              "ticks": ""
             }
            },
            "type": "scattergl"
           }
          ],
          "scattermapbox": [
           {
            "marker": {
             "colorbar": {
              "outlinewidth": 0,
              "ticks": ""
             }
            },
            "type": "scattermapbox"
           }
          ],
          "scatterpolar": [
           {
            "marker": {
             "colorbar": {
              "outlinewidth": 0,
              "ticks": ""
             }
            },
            "type": "scatterpolar"
           }
          ],
          "scatterpolargl": [
           {
            "marker": {
             "colorbar": {
              "outlinewidth": 0,
              "ticks": ""
             }
            },
            "type": "scatterpolargl"
           }
          ],
          "scatterternary": [
           {
            "marker": {
             "colorbar": {
              "outlinewidth": 0,
              "ticks": ""
             }
            },
            "type": "scatterternary"
           }
          ],
          "surface": [
           {
            "colorbar": {
             "outlinewidth": 0,
             "ticks": ""
            },
            "colorscale": [
             [
              0,
              "#0d0887"
             ],
             [
              0.1111111111111111,
              "#46039f"
             ],
             [
              0.2222222222222222,
              "#7201a8"
             ],
             [
              0.3333333333333333,
              "#9c179e"
             ],
             [
              0.4444444444444444,
              "#bd3786"
             ],
             [
              0.5555555555555556,
              "#d8576b"
             ],
             [
              0.6666666666666666,
              "#ed7953"
             ],
             [
              0.7777777777777778,
              "#fb9f3a"
             ],
             [
              0.8888888888888888,
              "#fdca26"
             ],
             [
              1,
              "#f0f921"
             ]
            ],
            "type": "surface"
           }
          ],
          "table": [
           {
            "cells": {
             "fill": {
              "color": "#EBF0F8"
             },
             "line": {
              "color": "white"
             }
            },
            "header": {
             "fill": {
              "color": "#C8D4E3"
             },
             "line": {
              "color": "white"
             }
            },
            "type": "table"
           }
          ]
         },
         "layout": {
          "annotationdefaults": {
           "arrowcolor": "#2a3f5f",
           "arrowhead": 0,
           "arrowwidth": 1
          },
          "autotypenumbers": "strict",
          "coloraxis": {
           "colorbar": {
            "outlinewidth": 0,
            "ticks": ""
           }
          },
          "colorscale": {
           "diverging": [
            [
             0,
             "#8e0152"
            ],
            [
             0.1,
             "#c51b7d"
            ],
            [
             0.2,
             "#de77ae"
            ],
            [
             0.3,
             "#f1b6da"
            ],
            [
             0.4,
             "#fde0ef"
            ],
            [
             0.5,
             "#f7f7f7"
            ],
            [
             0.6,
             "#e6f5d0"
            ],
            [
             0.7,
             "#b8e186"
            ],
            [
             0.8,
             "#7fbc41"
            ],
            [
             0.9,
             "#4d9221"
            ],
            [
             1,
             "#276419"
            ]
           ],
           "sequential": [
            [
             0,
             "#0d0887"
            ],
            [
             0.1111111111111111,
             "#46039f"
            ],
            [
             0.2222222222222222,
             "#7201a8"
            ],
            [
             0.3333333333333333,
             "#9c179e"
            ],
            [
             0.4444444444444444,
             "#bd3786"
            ],
            [
             0.5555555555555556,
             "#d8576b"
            ],
            [
             0.6666666666666666,
             "#ed7953"
            ],
            [
             0.7777777777777778,
             "#fb9f3a"
            ],
            [
             0.8888888888888888,
             "#fdca26"
            ],
            [
             1,
             "#f0f921"
            ]
           ],
           "sequentialminus": [
            [
             0,
             "#0d0887"
            ],
            [
             0.1111111111111111,
             "#46039f"
            ],
            [
             0.2222222222222222,
             "#7201a8"
            ],
            [
             0.3333333333333333,
             "#9c179e"
            ],
            [
             0.4444444444444444,
             "#bd3786"
            ],
            [
             0.5555555555555556,
             "#d8576b"
            ],
            [
             0.6666666666666666,
             "#ed7953"
            ],
            [
             0.7777777777777778,
             "#fb9f3a"
            ],
            [
             0.8888888888888888,
             "#fdca26"
            ],
            [
             1,
             "#f0f921"
            ]
           ]
          },
          "colorway": [
           "#636efa",
           "#EF553B",
           "#00cc96",
           "#ab63fa",
           "#FFA15A",
           "#19d3f3",
           "#FF6692",
           "#B6E880",
           "#FF97FF",
           "#FECB52"
          ],
          "font": {
           "color": "#2a3f5f"
          },
          "geo": {
           "bgcolor": "white",
           "lakecolor": "white",
           "landcolor": "#E5ECF6",
           "showlakes": true,
           "showland": true,
           "subunitcolor": "white"
          },
          "hoverlabel": {
           "align": "left"
          },
          "hovermode": "closest",
          "mapbox": {
           "style": "light"
          },
          "paper_bgcolor": "white",
          "plot_bgcolor": "#E5ECF6",
          "polar": {
           "angularaxis": {
            "gridcolor": "white",
            "linecolor": "white",
            "ticks": ""
           },
           "bgcolor": "#E5ECF6",
           "radialaxis": {
            "gridcolor": "white",
            "linecolor": "white",
            "ticks": ""
           }
          },
          "scene": {
           "xaxis": {
            "backgroundcolor": "#E5ECF6",
            "gridcolor": "white",
            "gridwidth": 2,
            "linecolor": "white",
            "showbackground": true,
            "ticks": "",
            "zerolinecolor": "white"
           },
           "yaxis": {
            "backgroundcolor": "#E5ECF6",
            "gridcolor": "white",
            "gridwidth": 2,
            "linecolor": "white",
            "showbackground": true,
            "ticks": "",
            "zerolinecolor": "white"
           },
           "zaxis": {
            "backgroundcolor": "#E5ECF6",
            "gridcolor": "white",
            "gridwidth": 2,
            "linecolor": "white",
            "showbackground": true,
            "ticks": "",
            "zerolinecolor": "white"
           }
          },
          "shapedefaults": {
           "line": {
            "color": "#2a3f5f"
           }
          },
          "ternary": {
           "aaxis": {
            "gridcolor": "white",
            "linecolor": "white",
            "ticks": ""
           },
           "baxis": {
            "gridcolor": "white",
            "linecolor": "white",
            "ticks": ""
           },
           "bgcolor": "#E5ECF6",
           "caxis": {
            "gridcolor": "white",
            "linecolor": "white",
            "ticks": ""
           }
          },
          "title": {
           "x": 0.05
          },
          "xaxis": {
           "automargin": true,
           "gridcolor": "white",
           "linecolor": "white",
           "ticks": "",
           "title": {
            "standoff": 15
           },
           "zerolinecolor": "white",
           "zerolinewidth": 2
          },
          "yaxis": {
           "automargin": true,
           "gridcolor": "white",
           "linecolor": "white",
           "ticks": "",
           "title": {
            "standoff": 15
           },
           "zerolinecolor": "white",
           "zerolinewidth": 2
          }
         }
        },
        "xaxis": {
         "type": "category"
        }
       }
      }
     },
     "metadata": {},
     "output_type": "display_data"
    },
    {
     "data": {
      "application/vnd.plotly.v1+json": {
       "config": {
        "plotlyServerURL": "https://plot.ly"
       },
       "data": [
        {
         "marker": {
          "cmax": 1,
          "cmin": 0,
          "color": [
           0.9230769230769231,
           0.7692307692307693,
           0,
           0.9538461538461539,
           0,
           0,
           0,
           0.9692307692307692,
           0,
           0,
           0,
           0,
           0,
           0.8923076923076924,
           0,
           0,
           0,
           0.9538461538461539,
           0.9846153846153847,
           0.8923076923076924,
           0,
           0,
           0.9692307692307692,
           0,
           0.8153846153846154,
           0.9384615384615385,
           0,
           0,
           0.9384615384615385,
           0,
           0,
           0.9230769230769231,
           0.9384615384615385,
           0.8307692307692308,
           0,
           0,
           0.9076923076923077,
           0,
           0.9538461538461539,
           0,
           0.9384615384615385,
           0,
           0,
           0,
           0,
           0.9538461538461539,
           0.9384615384615385,
           0.9384615384615385,
           0.9538461538461539,
           0,
           0.9692307692307692,
           0,
           0.8923076923076924,
           0.9230769230769231,
           0,
           0,
           0,
           0.9538461538461539,
           0,
           0.9384615384615385,
           0.9846153846153847,
           0,
           0.9538461538461539,
           0.8307692307692308,
           0,
           0,
           0.9692307692307692,
           0,
           0,
           0,
           0,
           0.9692307692307692,
           0.9538461538461539,
           0,
           0,
           0,
           0.9538461538461539,
           0.9384615384615385,
           0,
           0.9692307692307692,
           0,
           0.9846153846153847,
           0,
           0.9538461538461539,
           0,
           0,
           0,
           0.9384615384615385,
           0,
           0.9538461538461539,
           0,
           0,
           0.9692307692307692,
           0,
           0.8923076923076924,
           0,
           0,
           0,
           0,
           0,
           0,
           0,
           0,
           0.9538461538461539,
           0.9384615384615385,
           0,
           0,
           0,
           0,
           0,
           0.9384615384615385,
           0,
           0,
           0.7692307692307693,
           0,
           0,
           0,
           0,
           0,
           0,
           0,
           0,
           0,
           0,
           0,
           0,
           0.9846153846153847,
           0,
           0,
           0,
           0.9846153846153847,
           0.9538461538461539,
           0,
           0,
           0.9692307692307692,
           0,
           0,
           0,
           0.9538461538461539,
           0.8769230769230769,
           0.9538461538461539,
           0.9538461538461539,
           0.9846153846153847,
           0,
           0.9384615384615385,
           0,
           0,
           0,
           0.9692307692307692,
           0.9846153846153847,
           0,
           0.8461538461538461,
           0,
           0.9846153846153847,
           0.9384615384615385,
           0.9846153846153847,
           0.9384615384615385,
           0.9846153846153847,
           0,
           0,
           0.9846153846153847,
           0.9846153846153847,
           0.9846153846153847,
           0.9846153846153847,
           0.9846153846153847,
           0,
           0,
           0,
           0.9846153846153847,
           0.9846153846153847,
           0,
           1,
           0,
           0,
           0.9846153846153847,
           0.9846153846153847,
           0.9846153846153847,
           0.9846153846153847,
           0,
           0,
           1,
           0,
           1,
           1,
           1,
           0,
           0,
           1,
           0,
           1,
           1,
           0,
           0,
           1,
           0,
           1,
           0,
           0,
           0,
           0,
           0,
           0,
           0,
           0,
           0,
           0
          ],
          "colorbar": {
           "title": {
            "text": "revenue"
           }
          },
          "colorscale": [
           [
            0,
            "#440154"
           ],
           [
            0.1111111111111111,
            "#482878"
           ],
           [
            0.2222222222222222,
            "#3e4989"
           ],
           [
            0.3333333333333333,
            "#31688e"
           ],
           [
            0.4444444444444444,
            "#26828e"
           ],
           [
            0.5555555555555556,
            "#1f9e89"
           ],
           [
            0.6666666666666666,
            "#35b779"
           ],
           [
            0.7777777777777778,
            "#6ece58"
           ],
           [
            0.8888888888888888,
            "#b5de2b"
           ],
           [
            1,
            "#fde725"
           ]
          ]
         },
         "type": "bar",
         "x": [
          "01000100111",
          "00000100100",
          "10010111111",
          "00110101110",
          "11011110110",
          "10011011011",
          "11100111111",
          "01000110111",
          "11011100110",
          "01011101011",
          "11011101001",
          "11111111110",
          "11001001111",
          "01100101010",
          "11011011010",
          "00111101011",
          "11100101011",
          "00110101011",
          "01010011110",
          "01010001010",
          "11010010111",
          "11001100111",
          "11000111100",
          "10101111111",
          "01000101000",
          "01100011110",
          "11101110010",
          "11100010011",
          "00010110011",
          "11010110100",
          "11010100111",
          "11000101100",
          "10010101001",
          "00000101010",
          "11110111110",
          "11010100101",
          "01000110101",
          "10011000111",
          "11100011010",
          "11111001010",
          "01010101010",
          "11011011111",
          "11101111110",
          "11010000111",
          "11100100111",
          "10001101110",
          "01010001011",
          "01010100011",
          "10100101110",
          "11010110101",
          "11000101101",
          "10001101101",
          "10000101010",
          "10110000011",
          "10011101011",
          "11101100011",
          "11100011011",
          "01000111101",
          "11110100011",
          "11010100100",
          "10000111011",
          "01011011011",
          "01011001110",
          "00010100100",
          "11101111001",
          "01101111111",
          "01010101101",
          "11000011101",
          "01100101111",
          "11011111010",
          "00110111110",
          "01000011111",
          "10010001110",
          "11111111010",
          "10100011110",
          "01110101111",
          "01110011010",
          "10000101011",
          "11110111010",
          "01000101111",
          "10010010111",
          "11010101001",
          "11011111101",
          "01011100110",
          "11010010101",
          "11100111010",
          "11011111110",
          "00010010111",
          "10001111110",
          "10010010110",
          "11110110110",
          "10110111011",
          "01010111001",
          "11011110010",
          "00001011011",
          "10100111011",
          "01110101011",
          "01101101110",
          "11011001100",
          "10010110111",
          "10110001110",
          "01111101111",
          "11111111111",
          "11001100011",
          "10000110011",
          "01111111111",
          "01001111111",
          "10010010101",
          "11011111111",
          "11010010110",
          "11000100011",
          "11101100110",
          "01001101111",
          "01000100000",
          "11110010011",
          "11011111000",
          "10110100011",
          "11101111111",
          "01010111111",
          "01010011111",
          "01110111010",
          "11010011111",
          "11011101111",
          "01110101110",
          "11100101110",
          "10011101110",
          "11010111000",
          "11001101011",
          "10000111111",
          "10010100111",
          "11000100111",
          "10100111010",
          "11010110111",
          "10010011011",
          "01000111011",
          "10110101111",
          "11011101010",
          "10010101101",
          "11010100010",
          "01000101010",
          "10010101010",
          "01110101010",
          "11000011110",
          "01110111111",
          "11000110010",
          "00010111111",
          "11010001111",
          "11011101110",
          "01000111110",
          "10000111110",
          "10001101111",
          "10000100010",
          "01000111111",
          "11000110011",
          "11000100110",
          "01010011011",
          "00010101011",
          "01010001111",
          "11011111011",
          "10010111011",
          "11010101100",
          "00010111011",
          "11000011011",
          "10000101111",
          "00010111110",
          "10010111110",
          "01011111010",
          "11110111011",
          "01010101011",
          "11000111010",
          "11110101111",
          "11010110010",
          "11001111010",
          "11010110110",
          "01010101110",
          "11000101011",
          "01010111010",
          "11000101110",
          "11110101010",
          "11010011011",
          "10010101011",
          "11000111111",
          "11010100110",
          "11010100011",
          "11010001110",
          "11010110011",
          "10010101111",
          "10010101110",
          "01010101111",
          "10010111010",
          "11010001011",
          "01010111011",
          "11010011110",
          "11010101010",
          "11010111111",
          "11010011010",
          "11000111110",
          "11000101111",
          "11000111011",
          "11010101111",
          "11010111110",
          "01010111110",
          "11010111011",
          "11010111010",
          "11010101110",
          "11010101011"
         ],
         "y": [
          1,
          1,
          1,
          1,
          1,
          1,
          1,
          1,
          1,
          1,
          1,
          1,
          1,
          1,
          1,
          1,
          1,
          1,
          1,
          1,
          1,
          1,
          1,
          1,
          1,
          1,
          1,
          1,
          1,
          1,
          1,
          1,
          1,
          1,
          1,
          1,
          1,
          1,
          1,
          1,
          1,
          1,
          1,
          1,
          1,
          1,
          1,
          1,
          1,
          1,
          1,
          1,
          1,
          1,
          1,
          1,
          1,
          1,
          1,
          1,
          1,
          1,
          1,
          1,
          1,
          1,
          1,
          1,
          1,
          1,
          1,
          1,
          1,
          1,
          1,
          1,
          1,
          1,
          1,
          1,
          1,
          1,
          1,
          1,
          1,
          1,
          1,
          1,
          1,
          1,
          1,
          1,
          1,
          1,
          1,
          1,
          1,
          1,
          1,
          1,
          1,
          1,
          1,
          1,
          1,
          1,
          1,
          1,
          1,
          1,
          1,
          1,
          1,
          1,
          1,
          1,
          1,
          1,
          2,
          2,
          2,
          2,
          2,
          2,
          2,
          2,
          2,
          2,
          2,
          2,
          2,
          2,
          2,
          2,
          2,
          2,
          2,
          2,
          2,
          2,
          2,
          2,
          2,
          2,
          2,
          2,
          2,
          2,
          2,
          2,
          2,
          2,
          2,
          2,
          2,
          2,
          2,
          2,
          2,
          2,
          2,
          3,
          3,
          3,
          3,
          3,
          3,
          3,
          3,
          3,
          3,
          3,
          4,
          4,
          4,
          4,
          4,
          4,
          4,
          5,
          5,
          5,
          5,
          5,
          5,
          6,
          6,
          6,
          6,
          6,
          7,
          7,
          7,
          8,
          8,
          8,
          9,
          10,
          10,
          11,
          11,
          13,
          16,
          17,
          21,
          24
         ]
        }
       ],
       "layout": {
        "template": {
         "data": {
          "bar": [
           {
            "error_x": {
             "color": "#2a3f5f"
            },
            "error_y": {
             "color": "#2a3f5f"
            },
            "marker": {
             "line": {
              "color": "#E5ECF6",
              "width": 0.5
             },
             "pattern": {
              "fillmode": "overlay",
              "size": 10,
              "solidity": 0.2
             }
            },
            "type": "bar"
           }
          ],
          "barpolar": [
           {
            "marker": {
             "line": {
              "color": "#E5ECF6",
              "width": 0.5
             },
             "pattern": {
              "fillmode": "overlay",
              "size": 10,
              "solidity": 0.2
             }
            },
            "type": "barpolar"
           }
          ],
          "carpet": [
           {
            "aaxis": {
             "endlinecolor": "#2a3f5f",
             "gridcolor": "white",
             "linecolor": "white",
             "minorgridcolor": "white",
             "startlinecolor": "#2a3f5f"
            },
            "baxis": {
             "endlinecolor": "#2a3f5f",
             "gridcolor": "white",
             "linecolor": "white",
             "minorgridcolor": "white",
             "startlinecolor": "#2a3f5f"
            },
            "type": "carpet"
           }
          ],
          "choropleth": [
           {
            "colorbar": {
             "outlinewidth": 0,
             "ticks": ""
            },
            "type": "choropleth"
           }
          ],
          "contour": [
           {
            "colorbar": {
             "outlinewidth": 0,
             "ticks": ""
            },
            "colorscale": [
             [
              0,
              "#0d0887"
             ],
             [
              0.1111111111111111,
              "#46039f"
             ],
             [
              0.2222222222222222,
              "#7201a8"
             ],
             [
              0.3333333333333333,
              "#9c179e"
             ],
             [
              0.4444444444444444,
              "#bd3786"
             ],
             [
              0.5555555555555556,
              "#d8576b"
             ],
             [
              0.6666666666666666,
              "#ed7953"
             ],
             [
              0.7777777777777778,
              "#fb9f3a"
             ],
             [
              0.8888888888888888,
              "#fdca26"
             ],
             [
              1,
              "#f0f921"
             ]
            ],
            "type": "contour"
           }
          ],
          "contourcarpet": [
           {
            "colorbar": {
             "outlinewidth": 0,
             "ticks": ""
            },
            "type": "contourcarpet"
           }
          ],
          "heatmap": [
           {
            "colorbar": {
             "outlinewidth": 0,
             "ticks": ""
            },
            "colorscale": [
             [
              0,
              "#0d0887"
             ],
             [
              0.1111111111111111,
              "#46039f"
             ],
             [
              0.2222222222222222,
              "#7201a8"
             ],
             [
              0.3333333333333333,
              "#9c179e"
             ],
             [
              0.4444444444444444,
              "#bd3786"
             ],
             [
              0.5555555555555556,
              "#d8576b"
             ],
             [
              0.6666666666666666,
              "#ed7953"
             ],
             [
              0.7777777777777778,
              "#fb9f3a"
             ],
             [
              0.8888888888888888,
              "#fdca26"
             ],
             [
              1,
              "#f0f921"
             ]
            ],
            "type": "heatmap"
           }
          ],
          "heatmapgl": [
           {
            "colorbar": {
             "outlinewidth": 0,
             "ticks": ""
            },
            "colorscale": [
             [
              0,
              "#0d0887"
             ],
             [
              0.1111111111111111,
              "#46039f"
             ],
             [
              0.2222222222222222,
              "#7201a8"
             ],
             [
              0.3333333333333333,
              "#9c179e"
             ],
             [
              0.4444444444444444,
              "#bd3786"
             ],
             [
              0.5555555555555556,
              "#d8576b"
             ],
             [
              0.6666666666666666,
              "#ed7953"
             ],
             [
              0.7777777777777778,
              "#fb9f3a"
             ],
             [
              0.8888888888888888,
              "#fdca26"
             ],
             [
              1,
              "#f0f921"
             ]
            ],
            "type": "heatmapgl"
           }
          ],
          "histogram": [
           {
            "marker": {
             "pattern": {
              "fillmode": "overlay",
              "size": 10,
              "solidity": 0.2
             }
            },
            "type": "histogram"
           }
          ],
          "histogram2d": [
           {
            "colorbar": {
             "outlinewidth": 0,
             "ticks": ""
            },
            "colorscale": [
             [
              0,
              "#0d0887"
             ],
             [
              0.1111111111111111,
              "#46039f"
             ],
             [
              0.2222222222222222,
              "#7201a8"
             ],
             [
              0.3333333333333333,
              "#9c179e"
             ],
             [
              0.4444444444444444,
              "#bd3786"
             ],
             [
              0.5555555555555556,
              "#d8576b"
             ],
             [
              0.6666666666666666,
              "#ed7953"
             ],
             [
              0.7777777777777778,
              "#fb9f3a"
             ],
             [
              0.8888888888888888,
              "#fdca26"
             ],
             [
              1,
              "#f0f921"
             ]
            ],
            "type": "histogram2d"
           }
          ],
          "histogram2dcontour": [
           {
            "colorbar": {
             "outlinewidth": 0,
             "ticks": ""
            },
            "colorscale": [
             [
              0,
              "#0d0887"
             ],
             [
              0.1111111111111111,
              "#46039f"
             ],
             [
              0.2222222222222222,
              "#7201a8"
             ],
             [
              0.3333333333333333,
              "#9c179e"
             ],
             [
              0.4444444444444444,
              "#bd3786"
             ],
             [
              0.5555555555555556,
              "#d8576b"
             ],
             [
              0.6666666666666666,
              "#ed7953"
             ],
             [
              0.7777777777777778,
              "#fb9f3a"
             ],
             [
              0.8888888888888888,
              "#fdca26"
             ],
             [
              1,
              "#f0f921"
             ]
            ],
            "type": "histogram2dcontour"
           }
          ],
          "mesh3d": [
           {
            "colorbar": {
             "outlinewidth": 0,
             "ticks": ""
            },
            "type": "mesh3d"
           }
          ],
          "parcoords": [
           {
            "line": {
             "colorbar": {
              "outlinewidth": 0,
              "ticks": ""
             }
            },
            "type": "parcoords"
           }
          ],
          "pie": [
           {
            "automargin": true,
            "type": "pie"
           }
          ],
          "scatter": [
           {
            "marker": {
             "colorbar": {
              "outlinewidth": 0,
              "ticks": ""
             }
            },
            "type": "scatter"
           }
          ],
          "scatter3d": [
           {
            "line": {
             "colorbar": {
              "outlinewidth": 0,
              "ticks": ""
             }
            },
            "marker": {
             "colorbar": {
              "outlinewidth": 0,
              "ticks": ""
             }
            },
            "type": "scatter3d"
           }
          ],
          "scattercarpet": [
           {
            "marker": {
             "colorbar": {
              "outlinewidth": 0,
              "ticks": ""
             }
            },
            "type": "scattercarpet"
           }
          ],
          "scattergeo": [
           {
            "marker": {
             "colorbar": {
              "outlinewidth": 0,
              "ticks": ""
             }
            },
            "type": "scattergeo"
           }
          ],
          "scattergl": [
           {
            "marker": {
             "colorbar": {
              "outlinewidth": 0,
              "ticks": ""
             }
            },
            "type": "scattergl"
           }
          ],
          "scattermapbox": [
           {
            "marker": {
             "colorbar": {
              "outlinewidth": 0,
              "ticks": ""
             }
            },
            "type": "scattermapbox"
           }
          ],
          "scatterpolar": [
           {
            "marker": {
             "colorbar": {
              "outlinewidth": 0,
              "ticks": ""
             }
            },
            "type": "scatterpolar"
           }
          ],
          "scatterpolargl": [
           {
            "marker": {
             "colorbar": {
              "outlinewidth": 0,
              "ticks": ""
             }
            },
            "type": "scatterpolargl"
           }
          ],
          "scatterternary": [
           {
            "marker": {
             "colorbar": {
              "outlinewidth": 0,
              "ticks": ""
             }
            },
            "type": "scatterternary"
           }
          ],
          "surface": [
           {
            "colorbar": {
             "outlinewidth": 0,
             "ticks": ""
            },
            "colorscale": [
             [
              0,
              "#0d0887"
             ],
             [
              0.1111111111111111,
              "#46039f"
             ],
             [
              0.2222222222222222,
              "#7201a8"
             ],
             [
              0.3333333333333333,
              "#9c179e"
             ],
             [
              0.4444444444444444,
              "#bd3786"
             ],
             [
              0.5555555555555556,
              "#d8576b"
             ],
             [
              0.6666666666666666,
              "#ed7953"
             ],
             [
              0.7777777777777778,
              "#fb9f3a"
             ],
             [
              0.8888888888888888,
              "#fdca26"
             ],
             [
              1,
              "#f0f921"
             ]
            ],
            "type": "surface"
           }
          ],
          "table": [
           {
            "cells": {
             "fill": {
              "color": "#EBF0F8"
             },
             "line": {
              "color": "white"
             }
            },
            "header": {
             "fill": {
              "color": "#C8D4E3"
             },
             "line": {
              "color": "white"
             }
            },
            "type": "table"
           }
          ]
         },
         "layout": {
          "annotationdefaults": {
           "arrowcolor": "#2a3f5f",
           "arrowhead": 0,
           "arrowwidth": 1
          },
          "autotypenumbers": "strict",
          "coloraxis": {
           "colorbar": {
            "outlinewidth": 0,
            "ticks": ""
           }
          },
          "colorscale": {
           "diverging": [
            [
             0,
             "#8e0152"
            ],
            [
             0.1,
             "#c51b7d"
            ],
            [
             0.2,
             "#de77ae"
            ],
            [
             0.3,
             "#f1b6da"
            ],
            [
             0.4,
             "#fde0ef"
            ],
            [
             0.5,
             "#f7f7f7"
            ],
            [
             0.6,
             "#e6f5d0"
            ],
            [
             0.7,
             "#b8e186"
            ],
            [
             0.8,
             "#7fbc41"
            ],
            [
             0.9,
             "#4d9221"
            ],
            [
             1,
             "#276419"
            ]
           ],
           "sequential": [
            [
             0,
             "#0d0887"
            ],
            [
             0.1111111111111111,
             "#46039f"
            ],
            [
             0.2222222222222222,
             "#7201a8"
            ],
            [
             0.3333333333333333,
             "#9c179e"
            ],
            [
             0.4444444444444444,
             "#bd3786"
            ],
            [
             0.5555555555555556,
             "#d8576b"
            ],
            [
             0.6666666666666666,
             "#ed7953"
            ],
            [
             0.7777777777777778,
             "#fb9f3a"
            ],
            [
             0.8888888888888888,
             "#fdca26"
            ],
            [
             1,
             "#f0f921"
            ]
           ],
           "sequentialminus": [
            [
             0,
             "#0d0887"
            ],
            [
             0.1111111111111111,
             "#46039f"
            ],
            [
             0.2222222222222222,
             "#7201a8"
            ],
            [
             0.3333333333333333,
             "#9c179e"
            ],
            [
             0.4444444444444444,
             "#bd3786"
            ],
            [
             0.5555555555555556,
             "#d8576b"
            ],
            [
             0.6666666666666666,
             "#ed7953"
            ],
            [
             0.7777777777777778,
             "#fb9f3a"
            ],
            [
             0.8888888888888888,
             "#fdca26"
            ],
            [
             1,
             "#f0f921"
            ]
           ]
          },
          "colorway": [
           "#636efa",
           "#EF553B",
           "#00cc96",
           "#ab63fa",
           "#FFA15A",
           "#19d3f3",
           "#FF6692",
           "#B6E880",
           "#FF97FF",
           "#FECB52"
          ],
          "font": {
           "color": "#2a3f5f"
          },
          "geo": {
           "bgcolor": "white",
           "lakecolor": "white",
           "landcolor": "#E5ECF6",
           "showlakes": true,
           "showland": true,
           "subunitcolor": "white"
          },
          "hoverlabel": {
           "align": "left"
          },
          "hovermode": "closest",
          "mapbox": {
           "style": "light"
          },
          "paper_bgcolor": "white",
          "plot_bgcolor": "#E5ECF6",
          "polar": {
           "angularaxis": {
            "gridcolor": "white",
            "linecolor": "white",
            "ticks": ""
           },
           "bgcolor": "#E5ECF6",
           "radialaxis": {
            "gridcolor": "white",
            "linecolor": "white",
            "ticks": ""
           }
          },
          "scene": {
           "xaxis": {
            "backgroundcolor": "#E5ECF6",
            "gridcolor": "white",
            "gridwidth": 2,
            "linecolor": "white",
            "showbackground": true,
            "ticks": "",
            "zerolinecolor": "white"
           },
           "yaxis": {
            "backgroundcolor": "#E5ECF6",
            "gridcolor": "white",
            "gridwidth": 2,
            "linecolor": "white",
            "showbackground": true,
            "ticks": "",
            "zerolinecolor": "white"
           },
           "zaxis": {
            "backgroundcolor": "#E5ECF6",
            "gridcolor": "white",
            "gridwidth": 2,
            "linecolor": "white",
            "showbackground": true,
            "ticks": "",
            "zerolinecolor": "white"
           }
          },
          "shapedefaults": {
           "line": {
            "color": "#2a3f5f"
           }
          },
          "ternary": {
           "aaxis": {
            "gridcolor": "white",
            "linecolor": "white",
            "ticks": ""
           },
           "baxis": {
            "gridcolor": "white",
            "linecolor": "white",
            "ticks": ""
           },
           "bgcolor": "#E5ECF6",
           "caxis": {
            "gridcolor": "white",
            "linecolor": "white",
            "ticks": ""
           }
          },
          "title": {
           "x": 0.05
          },
          "xaxis": {
           "automargin": true,
           "gridcolor": "white",
           "linecolor": "white",
           "ticks": "",
           "title": {
            "standoff": 15
           },
           "zerolinecolor": "white",
           "zerolinewidth": 2
          },
          "yaxis": {
           "automargin": true,
           "gridcolor": "white",
           "linecolor": "white",
           "ticks": "",
           "title": {
            "standoff": 15
           },
           "zerolinecolor": "white",
           "zerolinewidth": 2
          }
         }
        },
        "xaxis": {
         "type": "category"
        }
       }
      }
     },
     "metadata": {},
     "output_type": "display_data"
    },
    {
     "data": {
      "application/vnd.plotly.v1+json": {
       "config": {
        "plotlyServerURL": "https://plot.ly"
       },
       "data": [
        {
         "marker": {
          "cmax": 1,
          "cmin": 0,
          "color": [
           0,
           0,
           0,
           0,
           0.9122807017543859,
           0,
           0.9649122807017544,
           0.9649122807017544,
           0.7894736842105263,
           0.8070175438596491,
           0,
           0.8947368421052632,
           0.9298245614035088,
           0,
           0,
           0,
           0,
           0.9298245614035088,
           0,
           0,
           0.8947368421052632,
           0.9298245614035088,
           0.9473684210526315,
           0.9649122807017544,
           0.8771929824561403,
           0,
           0.8421052631578947,
           0.9473684210526315,
           0.9473684210526315,
           0,
           0,
           0.8771929824561403,
           0.9649122807017544,
           0.9649122807017544,
           0,
           0,
           0,
           0,
           0,
           0,
           0,
           0.8245614035087719,
           0,
           0,
           0.9473684210526315,
           0.9473684210526315,
           0,
           0.9824561403508771,
           0.7543859649122807,
           0.7368421052631579,
           0.9122807017543859,
           0,
           0,
           0,
           0,
           0.9649122807017544,
           0,
           0.9298245614035088,
           0.8596491228070176,
           0,
           0,
           0,
           0.8596491228070176,
           1,
           0,
           0,
           0,
           0.9122807017543859,
           0,
           0,
           0,
           0,
           0,
           0.9824561403508771,
           0,
           0,
           0.7894736842105263,
           0.9298245614035088,
           0,
           0,
           0,
           0.9298245614035088,
           0,
           0,
           0,
           0,
           0,
           0,
           0,
           0,
           0.9122807017543859,
           0,
           0,
           0,
           0,
           0.9298245614035088,
           0.7894736842105263,
           0,
           0.9298245614035088,
           0.9824561403508771,
           0,
           0.9298245614035088,
           0,
           0,
           0,
           0.8947368421052632,
           0,
           0,
           0.9824561403508771,
           0,
           0,
           0,
           0,
           0,
           0,
           0.8771929824561403,
           0,
           0,
           0.8421052631578947,
           0,
           0,
           0.8421052631578947,
           0.8070175438596491,
           0,
           0,
           0.7192982456140351,
           0,
           0,
           0,
           0,
           0,
           0.9298245614035088,
           0,
           0,
           0,
           0.9649122807017544,
           0,
           0,
           0,
           0.9298245614035088,
           0,
           0,
           0.9298245614035088,
           0,
           0,
           0.9824561403508771,
           0,
           0.9649122807017544,
           0.9473684210526315,
           0,
           0,
           0,
           0,
           0.8947368421052632,
           0,
           0,
           0,
           0.9649122807017544,
           0,
           0.9473684210526315,
           0,
           0,
           0.9473684210526315,
           0,
           0,
           0.8421052631578947,
           0,
           0,
           0,
           0,
           0,
           0,
           0.8771929824561403,
           0,
           0.8771929824561403,
           0,
           0.9649122807017544,
           0,
           0.9473684210526315,
           0,
           0,
           0.9298245614035088,
           0.9649122807017544,
           0,
           0,
           0,
           0,
           0.9122807017543859,
           0,
           0.9298245614035088,
           0,
           0,
           0,
           0,
           0,
           0.9649122807017544,
           0,
           0,
           0.8771929824561403,
           0.9473684210526315,
           0,
           0.9649122807017544,
           0,
           0,
           0,
           0.9649122807017544,
           0.9473684210526315,
           0,
           0,
           0.9473684210526315,
           0.9473684210526315,
           0.8771929824561403,
           0,
           0.8771929824561403,
           0.9649122807017544,
           0,
           0.9122807017543859,
           0,
           0,
           0,
           0.9649122807017544,
           0,
           0.9473684210526315,
           0,
           0.9298245614035088,
           0,
           0,
           0,
           0,
           0,
           0,
           0,
           0.9298245614035088,
           0.9649122807017544,
           0,
           0.9824561403508771,
           0.9298245614035088,
           0,
           0,
           0.9473684210526315,
           0,
           0,
           0.9824561403508771,
           0,
           0,
           0,
           0.9824561403508771,
           0,
           0,
           0,
           0,
           0.9473684210526315,
           0.9649122807017544,
           0,
           0,
           0,
           0,
           0.9649122807017544,
           0.9824561403508771,
           0,
           0,
           0,
           0,
           0,
           0,
           0,
           0,
           0.9649122807017544,
           0,
           0,
           0,
           0.9649122807017544,
           0,
           0.7543859649122807,
           0,
           0,
           0.9649122807017544,
           0.8947368421052632,
           0.8245614035087719,
           0,
           0,
           0.9122807017543859,
           0.9824561403508771,
           0,
           0.9473684210526315,
           0.9649122807017544,
           0,
           0.8771929824561403,
           0,
           0,
           0.9824561403508771,
           0,
           0.9824561403508771,
           0,
           0,
           0.9649122807017544,
           0,
           0.9824561403508771,
           0,
           0,
           0,
           0,
           0,
           0.9824561403508771,
           0,
           0.9824561403508771,
           0,
           0,
           0,
           0,
           1,
           0,
           0,
           0,
           0,
           0.9649122807017544,
           0,
           0,
           0,
           0,
           0,
           0.9649122807017544,
           1,
           0,
           0.9824561403508771,
           0.9824561403508771,
           0,
           0,
           0.9824561403508771,
           0.9824561403508771,
           0.9824561403508771,
           0,
           0,
           0,
           1,
           0,
           1,
           0,
           0,
           0,
           0,
           0,
           0
          ],
          "colorbar": {
           "title": {
            "text": "revenue"
           }
          },
          "colorscale": [
           [
            0,
            "#440154"
           ],
           [
            0.1111111111111111,
            "#482878"
           ],
           [
            0.2222222222222222,
            "#3e4989"
           ],
           [
            0.3333333333333333,
            "#31688e"
           ],
           [
            0.4444444444444444,
            "#26828e"
           ],
           [
            0.5555555555555556,
            "#1f9e89"
           ],
           [
            0.6666666666666666,
            "#35b779"
           ],
           [
            0.7777777777777778,
            "#6ece58"
           ],
           [
            0.8888888888888888,
            "#b5de2b"
           ],
           [
            1,
            "#fde725"
           ]
          ]
         },
         "type": "bar",
         "x": [
          "10011111100",
          "10011011011",
          "11111000101",
          "11011010011",
          "01001110000",
          "01000110101",
          "10001111010",
          "01100010101",
          "00000110000",
          "10000011000",
          "10011111001",
          "00000110110",
          "00101110010",
          "10100011111",
          "10111011110",
          "10111010110",
          "01100110011",
          "11010011000",
          "11010100100",
          "11010011101",
          "10001110010",
          "00110010110",
          "10101011010",
          "01111010010",
          "00001100110",
          "11111111001",
          "00001110000",
          "10010011100",
          "01011011000",
          "10101101100",
          "11101111110",
          "11100010000",
          "10101110010",
          "10110011001",
          "11010110110",
          "11001010111",
          "01101110010",
          "11100111000",
          "11000111110",
          "10111000101",
          "11011010110",
          "10000001100",
          "11111111110",
          "01110011110",
          "10110010100",
          "11101000100",
          "11111110110",
          "10101110001",
          "00000010011",
          "00000010001",
          "10100110010",
          "11111010011",
          "00010111100",
          "10110111000",
          "11110100111",
          "10110100100",
          "11110011010",
          "01000011100",
          "10100000101",
          "00110011101",
          "11110011100",
          "11011111000",
          "01100100000",
          "10111110000",
          "00011111010",
          "11111010010",
          "01011111100",
          "01110000100",
          "01111111011",
          "11110011101",
          "11111011111",
          "10111011010",
          "01111111111",
          "00100110101",
          "01111011100",
          "00011110110",
          "00100010010",
          "10100100110",
          "01111011110",
          "00101111110",
          "11101011000",
          "00110011001",
          "00011111111",
          "01000111110",
          "01100110101",
          "11000110101",
          "01101100101",
          "10110011011",
          "11110000111",
          "10111110101",
          "10101010011",
          "11011110001",
          "11111111101",
          "10101011100",
          "10011110110",
          "01100110000",
          "10010010000",
          "11100111010",
          "00100111000",
          "10100111010",
          "01011111110",
          "10111100000",
          "11101010101",
          "10001111100",
          "10001111111",
          "10010010110",
          "01001111100",
          "11000110110",
          "11100010110",
          "01111001100",
          "11001110110",
          "10000111101",
          "01100111000",
          "11100011011",
          "01110010110",
          "00010010101",
          "00001111110",
          "11110110010",
          "00000010111",
          "01101101001",
          "11101011100",
          "10100100010",
          "10100010000",
          "11111110100",
          "01010111100",
          "10000000011",
          "10101111101",
          "00011111011",
          "10011011100",
          "00110011111",
          "00101111010",
          "10011010100",
          "01100110100",
          "11011111100",
          "11101110101",
          "00011011100",
          "11011011100",
          "11110010011",
          "10101111111",
          "00001110100",
          "10010111001",
          "10010111100",
          "00111100001",
          "11111110101",
          "11001011001",
          "01110110000",
          "00110110110",
          "00010110101",
          "11101010010",
          "11101110110",
          "11000111011",
          "01101011100",
          "11001011110",
          "10110010001",
          "00110101100",
          "10101110011",
          "11000111101",
          "10011110001",
          "00101011110",
          "01100110010",
          "11110010110",
          "01010111001",
          "11010110000",
          "10111011100",
          "11011110000",
          "00001010100",
          "10100111101",
          "01111110100",
          "01110101000",
          "11101110001",
          "01000111011",
          "01100011101",
          "10001010100",
          "01110110010",
          "01000110010",
          "01001110111",
          "11010010110",
          "10101010111",
          "11100011000",
          "11100010101",
          "00111011110",
          "11001011000",
          "11100110000",
          "10011011101",
          "11010110101",
          "01110010101",
          "01110100011",
          "01001010100",
          "11011110010",
          "00001011110",
          "11100110101",
          "10101110111",
          "11100111001",
          "11101011010",
          "10011111011",
          "11001010110",
          "10110111100",
          "01111110110",
          "10000110011",
          "10101010100",
          "01011110010",
          "00100111001",
          "01111010110",
          "11010010101",
          "11110111001",
          "00111010100",
          "10101110000",
          "10110011110",
          "10011111111",
          "00000111100",
          "10100110011",
          "00100110010",
          "00111011011",
          "10001110000",
          "10001110100",
          "01111111000",
          "10100011001",
          "11111111011",
          "11101110011",
          "01111011000",
          "10111010011",
          "10000111110",
          "00001011101",
          "01101100100",
          "10100110001",
          "01101011101",
          "01100011110",
          "11011011110",
          "11100100110",
          "00111101110",
          "00010111110",
          "00111011100",
          "11110001000",
          "10110110010",
          "01101010111",
          "10101010101",
          "01101000110",
          "01110110011",
          "01110111101",
          "00010111001",
          "10011111000",
          "11000101101",
          "10010110110",
          "10110011100",
          "10111011001",
          "10110010111",
          "11000110100",
          "00110111100",
          "10100111001",
          "10111110010",
          "10110110110",
          "10000110101",
          "00000111110",
          "11111111000",
          "10111110110",
          "00101111100",
          "11101010100",
          "10100011100",
          "10100110100",
          "01111010011",
          "10110111110",
          "10010111110",
          "11010011001",
          "10011110100",
          "10101111100",
          "10101110110",
          "00110111110",
          "00001110101",
          "01001110101",
          "11011110100",
          "10011111010",
          "11101010001",
          "11100011101",
          "10000010010",
          "10110110101",
          "10101100101",
          "01011110000",
          "10010110010",
          "00101010000",
          "11111111111",
          "00111111100",
          "10100010110",
          "10111011000",
          "00101110110",
          "11010010100",
          "00100110110",
          "11101011111",
          "10110010010",
          "00111111010",
          "10100111011",
          "10001110110",
          "00100110111",
          "10000111100",
          "11010110100",
          "01101011001",
          "10100111000",
          "11110011000",
          "01110010100",
          "00101110101",
          "00110111111",
          "10110111010",
          "00101111011",
          "11110110100",
          "10110010101",
          "11100011100",
          "00110111000",
          "11110010100",
          "01101111000",
          "01101110100",
          "10101110101",
          "00101110100",
          "01001110100",
          "11110110000",
          "10100011101",
          "10100111100",
          "11100010100",
          "11001110100",
          "10100110101",
          "10001110101",
          "00111110110",
          "00111110101",
          "11100011010",
          "00110110100",
          "10101111010",
          "01101110000",
          "10110110001",
          "01100011100",
          "01110110100",
          "00111010110",
          "00110011100",
          "00011110100",
          "10101111000",
          "00100111100",
          "11101110000",
          "10111010100",
          "11100110100",
          "10100110110",
          "01100111100",
          "00111110100",
          "11101110100",
          "10110110100",
          "10111110100",
          "10101110100"
         ],
         "y": [
          1,
          1,
          1,
          1,
          1,
          1,
          1,
          1,
          1,
          1,
          1,
          1,
          1,
          1,
          1,
          1,
          1,
          1,
          1,
          1,
          1,
          1,
          1,
          1,
          1,
          1,
          1,
          1,
          1,
          1,
          1,
          1,
          1,
          1,
          1,
          1,
          1,
          1,
          1,
          1,
          1,
          1,
          1,
          1,
          1,
          1,
          1,
          1,
          1,
          1,
          1,
          1,
          1,
          1,
          1,
          1,
          1,
          1,
          1,
          1,
          1,
          1,
          1,
          1,
          1,
          1,
          1,
          1,
          1,
          1,
          1,
          1,
          1,
          1,
          1,
          1,
          1,
          1,
          1,
          1,
          1,
          1,
          1,
          1,
          1,
          1,
          1,
          1,
          1,
          1,
          1,
          1,
          1,
          1,
          1,
          1,
          1,
          1,
          1,
          1,
          1,
          1,
          1,
          1,
          1,
          1,
          1,
          1,
          1,
          1,
          1,
          1,
          1,
          1,
          1,
          1,
          1,
          1,
          1,
          1,
          1,
          1,
          1,
          1,
          1,
          1,
          1,
          1,
          1,
          1,
          1,
          1,
          1,
          1,
          1,
          1,
          1,
          1,
          1,
          1,
          1,
          1,
          1,
          1,
          1,
          1,
          1,
          1,
          1,
          1,
          1,
          1,
          1,
          1,
          1,
          1,
          1,
          1,
          1,
          1,
          1,
          1,
          1,
          1,
          1,
          1,
          1,
          1,
          1,
          1,
          1,
          1,
          1,
          1,
          1,
          1,
          1,
          1,
          1,
          1,
          1,
          1,
          1,
          1,
          1,
          1,
          1,
          1,
          1,
          1,
          1,
          1,
          1,
          1,
          1,
          1,
          1,
          1,
          1,
          1,
          1,
          1,
          1,
          1,
          1,
          1,
          1,
          1,
          1,
          1,
          1,
          1,
          1,
          1,
          1,
          1,
          1,
          1,
          1,
          1,
          1,
          1,
          1,
          1,
          1,
          1,
          1,
          1,
          1,
          1,
          1,
          1,
          1,
          1,
          1,
          1,
          1,
          1,
          1,
          1,
          1,
          1,
          1,
          2,
          2,
          2,
          2,
          2,
          2,
          2,
          2,
          2,
          2,
          2,
          2,
          2,
          2,
          2,
          2,
          2,
          2,
          2,
          2,
          2,
          2,
          2,
          2,
          2,
          2,
          2,
          2,
          2,
          2,
          2,
          2,
          2,
          2,
          2,
          2,
          2,
          2,
          2,
          2,
          2,
          2,
          2,
          2,
          2,
          2,
          2,
          2,
          2,
          2,
          2,
          2,
          2,
          2,
          2,
          2,
          2,
          2,
          2,
          2,
          2,
          2,
          2,
          2,
          2,
          3,
          3,
          3,
          3,
          3,
          3,
          3,
          3,
          3,
          3,
          3,
          3,
          3,
          3,
          3,
          3,
          3,
          3,
          3,
          3,
          4,
          4,
          4,
          4,
          4,
          5,
          5,
          5,
          5,
          5,
          6,
          6,
          6,
          7,
          9
         ]
        }
       ],
       "layout": {
        "template": {
         "data": {
          "bar": [
           {
            "error_x": {
             "color": "#2a3f5f"
            },
            "error_y": {
             "color": "#2a3f5f"
            },
            "marker": {
             "line": {
              "color": "#E5ECF6",
              "width": 0.5
             },
             "pattern": {
              "fillmode": "overlay",
              "size": 10,
              "solidity": 0.2
             }
            },
            "type": "bar"
           }
          ],
          "barpolar": [
           {
            "marker": {
             "line": {
              "color": "#E5ECF6",
              "width": 0.5
             },
             "pattern": {
              "fillmode": "overlay",
              "size": 10,
              "solidity": 0.2
             }
            },
            "type": "barpolar"
           }
          ],
          "carpet": [
           {
            "aaxis": {
             "endlinecolor": "#2a3f5f",
             "gridcolor": "white",
             "linecolor": "white",
             "minorgridcolor": "white",
             "startlinecolor": "#2a3f5f"
            },
            "baxis": {
             "endlinecolor": "#2a3f5f",
             "gridcolor": "white",
             "linecolor": "white",
             "minorgridcolor": "white",
             "startlinecolor": "#2a3f5f"
            },
            "type": "carpet"
           }
          ],
          "choropleth": [
           {
            "colorbar": {
             "outlinewidth": 0,
             "ticks": ""
            },
            "type": "choropleth"
           }
          ],
          "contour": [
           {
            "colorbar": {
             "outlinewidth": 0,
             "ticks": ""
            },
            "colorscale": [
             [
              0,
              "#0d0887"
             ],
             [
              0.1111111111111111,
              "#46039f"
             ],
             [
              0.2222222222222222,
              "#7201a8"
             ],
             [
              0.3333333333333333,
              "#9c179e"
             ],
             [
              0.4444444444444444,
              "#bd3786"
             ],
             [
              0.5555555555555556,
              "#d8576b"
             ],
             [
              0.6666666666666666,
              "#ed7953"
             ],
             [
              0.7777777777777778,
              "#fb9f3a"
             ],
             [
              0.8888888888888888,
              "#fdca26"
             ],
             [
              1,
              "#f0f921"
             ]
            ],
            "type": "contour"
           }
          ],
          "contourcarpet": [
           {
            "colorbar": {
             "outlinewidth": 0,
             "ticks": ""
            },
            "type": "contourcarpet"
           }
          ],
          "heatmap": [
           {
            "colorbar": {
             "outlinewidth": 0,
             "ticks": ""
            },
            "colorscale": [
             [
              0,
              "#0d0887"
             ],
             [
              0.1111111111111111,
              "#46039f"
             ],
             [
              0.2222222222222222,
              "#7201a8"
             ],
             [
              0.3333333333333333,
              "#9c179e"
             ],
             [
              0.4444444444444444,
              "#bd3786"
             ],
             [
              0.5555555555555556,
              "#d8576b"
             ],
             [
              0.6666666666666666,
              "#ed7953"
             ],
             [
              0.7777777777777778,
              "#fb9f3a"
             ],
             [
              0.8888888888888888,
              "#fdca26"
             ],
             [
              1,
              "#f0f921"
             ]
            ],
            "type": "heatmap"
           }
          ],
          "heatmapgl": [
           {
            "colorbar": {
             "outlinewidth": 0,
             "ticks": ""
            },
            "colorscale": [
             [
              0,
              "#0d0887"
             ],
             [
              0.1111111111111111,
              "#46039f"
             ],
             [
              0.2222222222222222,
              "#7201a8"
             ],
             [
              0.3333333333333333,
              "#9c179e"
             ],
             [
              0.4444444444444444,
              "#bd3786"
             ],
             [
              0.5555555555555556,
              "#d8576b"
             ],
             [
              0.6666666666666666,
              "#ed7953"
             ],
             [
              0.7777777777777778,
              "#fb9f3a"
             ],
             [
              0.8888888888888888,
              "#fdca26"
             ],
             [
              1,
              "#f0f921"
             ]
            ],
            "type": "heatmapgl"
           }
          ],
          "histogram": [
           {
            "marker": {
             "pattern": {
              "fillmode": "overlay",
              "size": 10,
              "solidity": 0.2
             }
            },
            "type": "histogram"
           }
          ],
          "histogram2d": [
           {
            "colorbar": {
             "outlinewidth": 0,
             "ticks": ""
            },
            "colorscale": [
             [
              0,
              "#0d0887"
             ],
             [
              0.1111111111111111,
              "#46039f"
             ],
             [
              0.2222222222222222,
              "#7201a8"
             ],
             [
              0.3333333333333333,
              "#9c179e"
             ],
             [
              0.4444444444444444,
              "#bd3786"
             ],
             [
              0.5555555555555556,
              "#d8576b"
             ],
             [
              0.6666666666666666,
              "#ed7953"
             ],
             [
              0.7777777777777778,
              "#fb9f3a"
             ],
             [
              0.8888888888888888,
              "#fdca26"
             ],
             [
              1,
              "#f0f921"
             ]
            ],
            "type": "histogram2d"
           }
          ],
          "histogram2dcontour": [
           {
            "colorbar": {
             "outlinewidth": 0,
             "ticks": ""
            },
            "colorscale": [
             [
              0,
              "#0d0887"
             ],
             [
              0.1111111111111111,
              "#46039f"
             ],
             [
              0.2222222222222222,
              "#7201a8"
             ],
             [
              0.3333333333333333,
              "#9c179e"
             ],
             [
              0.4444444444444444,
              "#bd3786"
             ],
             [
              0.5555555555555556,
              "#d8576b"
             ],
             [
              0.6666666666666666,
              "#ed7953"
             ],
             [
              0.7777777777777778,
              "#fb9f3a"
             ],
             [
              0.8888888888888888,
              "#fdca26"
             ],
             [
              1,
              "#f0f921"
             ]
            ],
            "type": "histogram2dcontour"
           }
          ],
          "mesh3d": [
           {
            "colorbar": {
             "outlinewidth": 0,
             "ticks": ""
            },
            "type": "mesh3d"
           }
          ],
          "parcoords": [
           {
            "line": {
             "colorbar": {
              "outlinewidth": 0,
              "ticks": ""
             }
            },
            "type": "parcoords"
           }
          ],
          "pie": [
           {
            "automargin": true,
            "type": "pie"
           }
          ],
          "scatter": [
           {
            "marker": {
             "colorbar": {
              "outlinewidth": 0,
              "ticks": ""
             }
            },
            "type": "scatter"
           }
          ],
          "scatter3d": [
           {
            "line": {
             "colorbar": {
              "outlinewidth": 0,
              "ticks": ""
             }
            },
            "marker": {
             "colorbar": {
              "outlinewidth": 0,
              "ticks": ""
             }
            },
            "type": "scatter3d"
           }
          ],
          "scattercarpet": [
           {
            "marker": {
             "colorbar": {
              "outlinewidth": 0,
              "ticks": ""
             }
            },
            "type": "scattercarpet"
           }
          ],
          "scattergeo": [
           {
            "marker": {
             "colorbar": {
              "outlinewidth": 0,
              "ticks": ""
             }
            },
            "type": "scattergeo"
           }
          ],
          "scattergl": [
           {
            "marker": {
             "colorbar": {
              "outlinewidth": 0,
              "ticks": ""
             }
            },
            "type": "scattergl"
           }
          ],
          "scattermapbox": [
           {
            "marker": {
             "colorbar": {
              "outlinewidth": 0,
              "ticks": ""
             }
            },
            "type": "scattermapbox"
           }
          ],
          "scatterpolar": [
           {
            "marker": {
             "colorbar": {
              "outlinewidth": 0,
              "ticks": ""
             }
            },
            "type": "scatterpolar"
           }
          ],
          "scatterpolargl": [
           {
            "marker": {
             "colorbar": {
              "outlinewidth": 0,
              "ticks": ""
             }
            },
            "type": "scatterpolargl"
           }
          ],
          "scatterternary": [
           {
            "marker": {
             "colorbar": {
              "outlinewidth": 0,
              "ticks": ""
             }
            },
            "type": "scatterternary"
           }
          ],
          "surface": [
           {
            "colorbar": {
             "outlinewidth": 0,
             "ticks": ""
            },
            "colorscale": [
             [
              0,
              "#0d0887"
             ],
             [
              0.1111111111111111,
              "#46039f"
             ],
             [
              0.2222222222222222,
              "#7201a8"
             ],
             [
              0.3333333333333333,
              "#9c179e"
             ],
             [
              0.4444444444444444,
              "#bd3786"
             ],
             [
              0.5555555555555556,
              "#d8576b"
             ],
             [
              0.6666666666666666,
              "#ed7953"
             ],
             [
              0.7777777777777778,
              "#fb9f3a"
             ],
             [
              0.8888888888888888,
              "#fdca26"
             ],
             [
              1,
              "#f0f921"
             ]
            ],
            "type": "surface"
           }
          ],
          "table": [
           {
            "cells": {
             "fill": {
              "color": "#EBF0F8"
             },
             "line": {
              "color": "white"
             }
            },
            "header": {
             "fill": {
              "color": "#C8D4E3"
             },
             "line": {
              "color": "white"
             }
            },
            "type": "table"
           }
          ]
         },
         "layout": {
          "annotationdefaults": {
           "arrowcolor": "#2a3f5f",
           "arrowhead": 0,
           "arrowwidth": 1
          },
          "autotypenumbers": "strict",
          "coloraxis": {
           "colorbar": {
            "outlinewidth": 0,
            "ticks": ""
           }
          },
          "colorscale": {
           "diverging": [
            [
             0,
             "#8e0152"
            ],
            [
             0.1,
             "#c51b7d"
            ],
            [
             0.2,
             "#de77ae"
            ],
            [
             0.3,
             "#f1b6da"
            ],
            [
             0.4,
             "#fde0ef"
            ],
            [
             0.5,
             "#f7f7f7"
            ],
            [
             0.6,
             "#e6f5d0"
            ],
            [
             0.7,
             "#b8e186"
            ],
            [
             0.8,
             "#7fbc41"
            ],
            [
             0.9,
             "#4d9221"
            ],
            [
             1,
             "#276419"
            ]
           ],
           "sequential": [
            [
             0,
             "#0d0887"
            ],
            [
             0.1111111111111111,
             "#46039f"
            ],
            [
             0.2222222222222222,
             "#7201a8"
            ],
            [
             0.3333333333333333,
             "#9c179e"
            ],
            [
             0.4444444444444444,
             "#bd3786"
            ],
            [
             0.5555555555555556,
             "#d8576b"
            ],
            [
             0.6666666666666666,
             "#ed7953"
            ],
            [
             0.7777777777777778,
             "#fb9f3a"
            ],
            [
             0.8888888888888888,
             "#fdca26"
            ],
            [
             1,
             "#f0f921"
            ]
           ],
           "sequentialminus": [
            [
             0,
             "#0d0887"
            ],
            [
             0.1111111111111111,
             "#46039f"
            ],
            [
             0.2222222222222222,
             "#7201a8"
            ],
            [
             0.3333333333333333,
             "#9c179e"
            ],
            [
             0.4444444444444444,
             "#bd3786"
            ],
            [
             0.5555555555555556,
             "#d8576b"
            ],
            [
             0.6666666666666666,
             "#ed7953"
            ],
            [
             0.7777777777777778,
             "#fb9f3a"
            ],
            [
             0.8888888888888888,
             "#fdca26"
            ],
            [
             1,
             "#f0f921"
            ]
           ]
          },
          "colorway": [
           "#636efa",
           "#EF553B",
           "#00cc96",
           "#ab63fa",
           "#FFA15A",
           "#19d3f3",
           "#FF6692",
           "#B6E880",
           "#FF97FF",
           "#FECB52"
          ],
          "font": {
           "color": "#2a3f5f"
          },
          "geo": {
           "bgcolor": "white",
           "lakecolor": "white",
           "landcolor": "#E5ECF6",
           "showlakes": true,
           "showland": true,
           "subunitcolor": "white"
          },
          "hoverlabel": {
           "align": "left"
          },
          "hovermode": "closest",
          "mapbox": {
           "style": "light"
          },
          "paper_bgcolor": "white",
          "plot_bgcolor": "#E5ECF6",
          "polar": {
           "angularaxis": {
            "gridcolor": "white",
            "linecolor": "white",
            "ticks": ""
           },
           "bgcolor": "#E5ECF6",
           "radialaxis": {
            "gridcolor": "white",
            "linecolor": "white",
            "ticks": ""
           }
          },
          "scene": {
           "xaxis": {
            "backgroundcolor": "#E5ECF6",
            "gridcolor": "white",
            "gridwidth": 2,
            "linecolor": "white",
            "showbackground": true,
            "ticks": "",
            "zerolinecolor": "white"
           },
           "yaxis": {
            "backgroundcolor": "#E5ECF6",
            "gridcolor": "white",
            "gridwidth": 2,
            "linecolor": "white",
            "showbackground": true,
            "ticks": "",
            "zerolinecolor": "white"
           },
           "zaxis": {
            "backgroundcolor": "#E5ECF6",
            "gridcolor": "white",
            "gridwidth": 2,
            "linecolor": "white",
            "showbackground": true,
            "ticks": "",
            "zerolinecolor": "white"
           }
          },
          "shapedefaults": {
           "line": {
            "color": "#2a3f5f"
           }
          },
          "ternary": {
           "aaxis": {
            "gridcolor": "white",
            "linecolor": "white",
            "ticks": ""
           },
           "baxis": {
            "gridcolor": "white",
            "linecolor": "white",
            "ticks": ""
           },
           "bgcolor": "#E5ECF6",
           "caxis": {
            "gridcolor": "white",
            "linecolor": "white",
            "ticks": ""
           }
          },
          "title": {
           "x": 0.05
          },
          "xaxis": {
           "automargin": true,
           "gridcolor": "white",
           "linecolor": "white",
           "ticks": "",
           "title": {
            "standoff": 15
           },
           "zerolinecolor": "white",
           "zerolinewidth": 2
          },
          "yaxis": {
           "automargin": true,
           "gridcolor": "white",
           "linecolor": "white",
           "ticks": "",
           "title": {
            "standoff": 15
           },
           "zerolinecolor": "white",
           "zerolinewidth": 2
          }
         }
        },
        "xaxis": {
         "type": "category"
        }
       }
      }
     },
     "metadata": {},
     "output_type": "display_data"
    },
    {
     "data": {
      "application/vnd.plotly.v1+json": {
       "config": {
        "plotlyServerURL": "https://plot.ly"
       },
       "data": [
        {
         "marker": {
          "cmax": 1,
          "cmin": 0,
          "color": [
           0,
           0.921875,
           0.953125,
           0,
           0.90625,
           0.9375,
           0.859375,
           0.953125,
           0,
           0,
           0,
           0.8125,
           0.90625,
           0,
           0,
           0,
           0.921875,
           0,
           0.84375,
           0,
           0.953125,
           0.953125,
           0,
           0.953125,
           0.90625,
           0,
           0,
           0,
           0,
           0.890625,
           0,
           0,
           0.9375,
           0,
           0.953125,
           0,
           0.9375,
           0,
           0.921875,
           0,
           0.953125,
           0,
           0,
           0,
           0,
           0,
           0.90625,
           0,
           0.953125,
           0.9375,
           0,
           0,
           0.953125,
           0,
           0,
           0,
           0.9375,
           0,
           0,
           0.9375,
           0,
           0,
           0.953125,
           0,
           0.90625,
           0,
           0.90625,
           0.9375,
           0,
           0,
           0,
           0.953125,
           0.953125,
           0,
           0,
           0.84375,
           0.9375,
           0,
           0.9375,
           0,
           0,
           0,
           0.953125,
           0,
           0,
           0,
           0.90625,
           0,
           0.9375,
           0,
           0.96875,
           0,
           0,
           0,
           0.9375,
           0,
           0.8125,
           0.953125,
           0,
           0.96875,
           0,
           0.90625,
           0.8125,
           0.921875,
           0,
           0,
           0,
           0.90625,
           0,
           0,
           0,
           0.96875,
           0,
           0.96875,
           0,
           0,
           0,
           0.96875,
           0,
           0.953125,
           0.90625,
           0.953125,
           0.953125,
           0.984375,
           0,
           0.96875,
           0,
           0,
           0,
           0,
           0.96875,
           0.9375,
           0,
           0,
           0.96875,
           0,
           0.953125,
           0,
           0.953125,
           0,
           0.953125,
           0,
           0,
           0,
           0.96875,
           0,
           0.984375,
           0,
           0,
           0,
           0.96875,
           0.984375,
           0,
           0.96875,
           0,
           0,
           0,
           0,
           0,
           0,
           0,
           0.984375,
           0,
           0,
           0.96875,
           0,
           0,
           0,
           0.984375,
           0.984375,
           0,
           0,
           0.96875,
           0,
           0,
           0,
           0,
           0,
           0,
           0,
           0,
           0,
           1,
           0.96875,
           0.984375,
           1,
           0,
           0,
           0,
           0,
           0,
           0,
           0.984375,
           0,
           0,
           0
          ],
          "colorbar": {
           "title": {
            "text": "revenue"
           }
          },
          "colorscale": [
           [
            0,
            "#440154"
           ],
           [
            0.1111111111111111,
            "#482878"
           ],
           [
            0.2222222222222222,
            "#3e4989"
           ],
           [
            0.3333333333333333,
            "#31688e"
           ],
           [
            0.4444444444444444,
            "#26828e"
           ],
           [
            0.5555555555555556,
            "#1f9e89"
           ],
           [
            0.6666666666666666,
            "#35b779"
           ],
           [
            0.7777777777777778,
            "#6ece58"
           ],
           [
            0.8888888888888888,
            "#b5de2b"
           ],
           [
            1,
            "#fde725"
           ]
          ]
         },
         "type": "bar",
         "x": [
          "10110111111",
          "00101100101",
          "01100101110",
          "01110111111",
          "11110000110",
          "01101100110",
          "01000110100",
          "11001100101",
          "11110100101",
          "11111111001",
          "11101101111",
          "00000100101",
          "11100110011",
          "10110110110",
          "11101010101",
          "00110110111",
          "10000011101",
          "11010111100",
          "00100001100",
          "10001111100",
          "10100110101",
          "10001110110",
          "11111110111",
          "01001110101",
          "10110110001",
          "11100101011",
          "00101110111",
          "10111111110",
          "01101111101",
          "11010010100",
          "01010111100",
          "11101101101",
          "01001110110",
          "11011111110",
          "01100011101",
          "10110101101",
          "10010110110",
          "11010110110",
          "11001010110",
          "01001111101",
          "11010110100",
          "11111111111",
          "00001101110",
          "00111100101",
          "10010110111",
          "10110111101",
          "10110000111",
          "11011111100",
          "11100110100",
          "10001100111",
          "00101011101",
          "01101011101",
          "11000110111",
          "10010111101",
          "00101111100",
          "11001100111",
          "10100110110",
          "01100101111",
          "00101111111",
          "00101100111",
          "01101011100",
          "10000111111",
          "10000101111",
          "01101111011",
          "10001001100",
          "11101111110",
          "00101001100",
          "11000101100",
          "10101110110",
          "01101110110",
          "10001110111",
          "01000111110",
          "10000111100",
          "11100011111",
          "00001111101",
          "10000001100",
          "11000110101",
          "01111110100",
          "10101100100",
          "01111111101",
          "10111100100",
          "11110010111",
          "10010110101",
          "11101101100",
          "11101011100",
          "11101010111",
          "11100100100",
          "11000011111",
          "10110010101",
          "00101101111",
          "01101110100",
          "11111110101",
          "10101101101",
          "11110111110",
          "11101000101",
          "01101101111",
          "00100010100",
          "01100110111",
          "10101101110",
          "10100101110",
          "00001111111",
          "00110100101",
          "10000010100",
          "11010100110",
          "01010101101",
          "11100101110",
          "10001111110",
          "01100110100",
          "11110100110",
          "11001011101",
          "01101101101",
          "10100011101",
          "11001111101",
          "11100011100",
          "11001111100",
          "11111110110",
          "10001111101",
          "01000111101",
          "11101110111",
          "00110110101",
          "10000101100",
          "01110110100",
          "00101110110",
          "00100111101",
          "11000101111",
          "11001110100",
          "10110110111",
          "11101110110",
          "10111110101",
          "10101111110",
          "01100101101",
          "01100110101",
          "10101100111",
          "11101100111",
          "11101100100",
          "11110111101",
          "00000111111",
          "10001101110",
          "11100100111",
          "11001110110",
          "10101100110",
          "11110111111",
          "11101100110",
          "11001110111",
          "00101110101",
          "00100111111",
          "10101110100",
          "11101111111",
          "10101111111",
          "11110110101",
          "10000111110",
          "11000111100",
          "10101101100",
          "10101100101",
          "11110110100",
          "11100011101",
          "10101111100",
          "11001110101",
          "01100111110",
          "01101111100",
          "01100111111",
          "10000111101",
          "11000111110",
          "11101111101",
          "10001110101",
          "11101100101",
          "01101110101",
          "11000111111",
          "01100111100",
          "10100101101",
          "11101110100",
          "10101110111",
          "10110110100",
          "11010110101",
          "10110110101",
          "11101111100",
          "10100101111",
          "11100101101",
          "01100111101",
          "11000111101",
          "11100101111",
          "10101111101",
          "11100110111",
          "11100110110",
          "11100101100",
          "10100111100",
          "11100111110",
          "10100111111",
          "10100111110",
          "10101110101",
          "11101110101",
          "10100111101",
          "11100110101",
          "11100111111",
          "11100111100",
          "11100111101"
         ],
         "y": [
          1,
          1,
          1,
          1,
          1,
          1,
          1,
          1,
          1,
          1,
          1,
          1,
          1,
          1,
          1,
          1,
          1,
          1,
          1,
          1,
          1,
          1,
          1,
          1,
          1,
          1,
          1,
          1,
          1,
          1,
          1,
          1,
          1,
          1,
          1,
          1,
          1,
          1,
          1,
          1,
          1,
          1,
          1,
          1,
          1,
          1,
          1,
          1,
          1,
          1,
          1,
          1,
          1,
          1,
          1,
          1,
          1,
          1,
          1,
          1,
          1,
          1,
          1,
          1,
          1,
          1,
          1,
          1,
          1,
          1,
          1,
          1,
          1,
          1,
          1,
          1,
          1,
          1,
          1,
          1,
          1,
          1,
          1,
          1,
          1,
          1,
          1,
          1,
          1,
          1,
          1,
          1,
          1,
          1,
          1,
          1,
          1,
          1,
          1,
          1,
          1,
          1,
          1,
          1,
          1,
          2,
          2,
          2,
          2,
          2,
          2,
          2,
          2,
          2,
          2,
          2,
          2,
          2,
          2,
          2,
          2,
          2,
          2,
          2,
          2,
          2,
          2,
          2,
          2,
          2,
          2,
          2,
          2,
          2,
          2,
          2,
          2,
          2,
          2,
          2,
          2,
          2,
          2,
          2,
          3,
          3,
          3,
          3,
          3,
          3,
          3,
          3,
          3,
          3,
          3,
          3,
          3,
          3,
          3,
          3,
          3,
          3,
          3,
          4,
          4,
          4,
          4,
          4,
          4,
          5,
          5,
          5,
          5,
          5,
          5,
          5,
          5,
          5,
          6,
          7,
          7,
          7,
          8,
          8,
          8,
          8,
          10,
          11,
          11,
          12,
          13,
          13,
          13,
          17,
          20,
          24
         ]
        }
       ],
       "layout": {
        "template": {
         "data": {
          "bar": [
           {
            "error_x": {
             "color": "#2a3f5f"
            },
            "error_y": {
             "color": "#2a3f5f"
            },
            "marker": {
             "line": {
              "color": "#E5ECF6",
              "width": 0.5
             },
             "pattern": {
              "fillmode": "overlay",
              "size": 10,
              "solidity": 0.2
             }
            },
            "type": "bar"
           }
          ],
          "barpolar": [
           {
            "marker": {
             "line": {
              "color": "#E5ECF6",
              "width": 0.5
             },
             "pattern": {
              "fillmode": "overlay",
              "size": 10,
              "solidity": 0.2
             }
            },
            "type": "barpolar"
           }
          ],
          "carpet": [
           {
            "aaxis": {
             "endlinecolor": "#2a3f5f",
             "gridcolor": "white",
             "linecolor": "white",
             "minorgridcolor": "white",
             "startlinecolor": "#2a3f5f"
            },
            "baxis": {
             "endlinecolor": "#2a3f5f",
             "gridcolor": "white",
             "linecolor": "white",
             "minorgridcolor": "white",
             "startlinecolor": "#2a3f5f"
            },
            "type": "carpet"
           }
          ],
          "choropleth": [
           {
            "colorbar": {
             "outlinewidth": 0,
             "ticks": ""
            },
            "type": "choropleth"
           }
          ],
          "contour": [
           {
            "colorbar": {
             "outlinewidth": 0,
             "ticks": ""
            },
            "colorscale": [
             [
              0,
              "#0d0887"
             ],
             [
              0.1111111111111111,
              "#46039f"
             ],
             [
              0.2222222222222222,
              "#7201a8"
             ],
             [
              0.3333333333333333,
              "#9c179e"
             ],
             [
              0.4444444444444444,
              "#bd3786"
             ],
             [
              0.5555555555555556,
              "#d8576b"
             ],
             [
              0.6666666666666666,
              "#ed7953"
             ],
             [
              0.7777777777777778,
              "#fb9f3a"
             ],
             [
              0.8888888888888888,
              "#fdca26"
             ],
             [
              1,
              "#f0f921"
             ]
            ],
            "type": "contour"
           }
          ],
          "contourcarpet": [
           {
            "colorbar": {
             "outlinewidth": 0,
             "ticks": ""
            },
            "type": "contourcarpet"
           }
          ],
          "heatmap": [
           {
            "colorbar": {
             "outlinewidth": 0,
             "ticks": ""
            },
            "colorscale": [
             [
              0,
              "#0d0887"
             ],
             [
              0.1111111111111111,
              "#46039f"
             ],
             [
              0.2222222222222222,
              "#7201a8"
             ],
             [
              0.3333333333333333,
              "#9c179e"
             ],
             [
              0.4444444444444444,
              "#bd3786"
             ],
             [
              0.5555555555555556,
              "#d8576b"
             ],
             [
              0.6666666666666666,
              "#ed7953"
             ],
             [
              0.7777777777777778,
              "#fb9f3a"
             ],
             [
              0.8888888888888888,
              "#fdca26"
             ],
             [
              1,
              "#f0f921"
             ]
            ],
            "type": "heatmap"
           }
          ],
          "heatmapgl": [
           {
            "colorbar": {
             "outlinewidth": 0,
             "ticks": ""
            },
            "colorscale": [
             [
              0,
              "#0d0887"
             ],
             [
              0.1111111111111111,
              "#46039f"
             ],
             [
              0.2222222222222222,
              "#7201a8"
             ],
             [
              0.3333333333333333,
              "#9c179e"
             ],
             [
              0.4444444444444444,
              "#bd3786"
             ],
             [
              0.5555555555555556,
              "#d8576b"
             ],
             [
              0.6666666666666666,
              "#ed7953"
             ],
             [
              0.7777777777777778,
              "#fb9f3a"
             ],
             [
              0.8888888888888888,
              "#fdca26"
             ],
             [
              1,
              "#f0f921"
             ]
            ],
            "type": "heatmapgl"
           }
          ],
          "histogram": [
           {
            "marker": {
             "pattern": {
              "fillmode": "overlay",
              "size": 10,
              "solidity": 0.2
             }
            },
            "type": "histogram"
           }
          ],
          "histogram2d": [
           {
            "colorbar": {
             "outlinewidth": 0,
             "ticks": ""
            },
            "colorscale": [
             [
              0,
              "#0d0887"
             ],
             [
              0.1111111111111111,
              "#46039f"
             ],
             [
              0.2222222222222222,
              "#7201a8"
             ],
             [
              0.3333333333333333,
              "#9c179e"
             ],
             [
              0.4444444444444444,
              "#bd3786"
             ],
             [
              0.5555555555555556,
              "#d8576b"
             ],
             [
              0.6666666666666666,
              "#ed7953"
             ],
             [
              0.7777777777777778,
              "#fb9f3a"
             ],
             [
              0.8888888888888888,
              "#fdca26"
             ],
             [
              1,
              "#f0f921"
             ]
            ],
            "type": "histogram2d"
           }
          ],
          "histogram2dcontour": [
           {
            "colorbar": {
             "outlinewidth": 0,
             "ticks": ""
            },
            "colorscale": [
             [
              0,
              "#0d0887"
             ],
             [
              0.1111111111111111,
              "#46039f"
             ],
             [
              0.2222222222222222,
              "#7201a8"
             ],
             [
              0.3333333333333333,
              "#9c179e"
             ],
             [
              0.4444444444444444,
              "#bd3786"
             ],
             [
              0.5555555555555556,
              "#d8576b"
             ],
             [
              0.6666666666666666,
              "#ed7953"
             ],
             [
              0.7777777777777778,
              "#fb9f3a"
             ],
             [
              0.8888888888888888,
              "#fdca26"
             ],
             [
              1,
              "#f0f921"
             ]
            ],
            "type": "histogram2dcontour"
           }
          ],
          "mesh3d": [
           {
            "colorbar": {
             "outlinewidth": 0,
             "ticks": ""
            },
            "type": "mesh3d"
           }
          ],
          "parcoords": [
           {
            "line": {
             "colorbar": {
              "outlinewidth": 0,
              "ticks": ""
             }
            },
            "type": "parcoords"
           }
          ],
          "pie": [
           {
            "automargin": true,
            "type": "pie"
           }
          ],
          "scatter": [
           {
            "marker": {
             "colorbar": {
              "outlinewidth": 0,
              "ticks": ""
             }
            },
            "type": "scatter"
           }
          ],
          "scatter3d": [
           {
            "line": {
             "colorbar": {
              "outlinewidth": 0,
              "ticks": ""
             }
            },
            "marker": {
             "colorbar": {
              "outlinewidth": 0,
              "ticks": ""
             }
            },
            "type": "scatter3d"
           }
          ],
          "scattercarpet": [
           {
            "marker": {
             "colorbar": {
              "outlinewidth": 0,
              "ticks": ""
             }
            },
            "type": "scattercarpet"
           }
          ],
          "scattergeo": [
           {
            "marker": {
             "colorbar": {
              "outlinewidth": 0,
              "ticks": ""
             }
            },
            "type": "scattergeo"
           }
          ],
          "scattergl": [
           {
            "marker": {
             "colorbar": {
              "outlinewidth": 0,
              "ticks": ""
             }
            },
            "type": "scattergl"
           }
          ],
          "scattermapbox": [
           {
            "marker": {
             "colorbar": {
              "outlinewidth": 0,
              "ticks": ""
             }
            },
            "type": "scattermapbox"
           }
          ],
          "scatterpolar": [
           {
            "marker": {
             "colorbar": {
              "outlinewidth": 0,
              "ticks": ""
             }
            },
            "type": "scatterpolar"
           }
          ],
          "scatterpolargl": [
           {
            "marker": {
             "colorbar": {
              "outlinewidth": 0,
              "ticks": ""
             }
            },
            "type": "scatterpolargl"
           }
          ],
          "scatterternary": [
           {
            "marker": {
             "colorbar": {
              "outlinewidth": 0,
              "ticks": ""
             }
            },
            "type": "scatterternary"
           }
          ],
          "surface": [
           {
            "colorbar": {
             "outlinewidth": 0,
             "ticks": ""
            },
            "colorscale": [
             [
              0,
              "#0d0887"
             ],
             [
              0.1111111111111111,
              "#46039f"
             ],
             [
              0.2222222222222222,
              "#7201a8"
             ],
             [
              0.3333333333333333,
              "#9c179e"
             ],
             [
              0.4444444444444444,
              "#bd3786"
             ],
             [
              0.5555555555555556,
              "#d8576b"
             ],
             [
              0.6666666666666666,
              "#ed7953"
             ],
             [
              0.7777777777777778,
              "#fb9f3a"
             ],
             [
              0.8888888888888888,
              "#fdca26"
             ],
             [
              1,
              "#f0f921"
             ]
            ],
            "type": "surface"
           }
          ],
          "table": [
           {
            "cells": {
             "fill": {
              "color": "#EBF0F8"
             },
             "line": {
              "color": "white"
             }
            },
            "header": {
             "fill": {
              "color": "#C8D4E3"
             },
             "line": {
              "color": "white"
             }
            },
            "type": "table"
           }
          ]
         },
         "layout": {
          "annotationdefaults": {
           "arrowcolor": "#2a3f5f",
           "arrowhead": 0,
           "arrowwidth": 1
          },
          "autotypenumbers": "strict",
          "coloraxis": {
           "colorbar": {
            "outlinewidth": 0,
            "ticks": ""
           }
          },
          "colorscale": {
           "diverging": [
            [
             0,
             "#8e0152"
            ],
            [
             0.1,
             "#c51b7d"
            ],
            [
             0.2,
             "#de77ae"
            ],
            [
             0.3,
             "#f1b6da"
            ],
            [
             0.4,
             "#fde0ef"
            ],
            [
             0.5,
             "#f7f7f7"
            ],
            [
             0.6,
             "#e6f5d0"
            ],
            [
             0.7,
             "#b8e186"
            ],
            [
             0.8,
             "#7fbc41"
            ],
            [
             0.9,
             "#4d9221"
            ],
            [
             1,
             "#276419"
            ]
           ],
           "sequential": [
            [
             0,
             "#0d0887"
            ],
            [
             0.1111111111111111,
             "#46039f"
            ],
            [
             0.2222222222222222,
             "#7201a8"
            ],
            [
             0.3333333333333333,
             "#9c179e"
            ],
            [
             0.4444444444444444,
             "#bd3786"
            ],
            [
             0.5555555555555556,
             "#d8576b"
            ],
            [
             0.6666666666666666,
             "#ed7953"
            ],
            [
             0.7777777777777778,
             "#fb9f3a"
            ],
            [
             0.8888888888888888,
             "#fdca26"
            ],
            [
             1,
             "#f0f921"
            ]
           ],
           "sequentialminus": [
            [
             0,
             "#0d0887"
            ],
            [
             0.1111111111111111,
             "#46039f"
            ],
            [
             0.2222222222222222,
             "#7201a8"
            ],
            [
             0.3333333333333333,
             "#9c179e"
            ],
            [
             0.4444444444444444,
             "#bd3786"
            ],
            [
             0.5555555555555556,
             "#d8576b"
            ],
            [
             0.6666666666666666,
             "#ed7953"
            ],
            [
             0.7777777777777778,
             "#fb9f3a"
            ],
            [
             0.8888888888888888,
             "#fdca26"
            ],
            [
             1,
             "#f0f921"
            ]
           ]
          },
          "colorway": [
           "#636efa",
           "#EF553B",
           "#00cc96",
           "#ab63fa",
           "#FFA15A",
           "#19d3f3",
           "#FF6692",
           "#B6E880",
           "#FF97FF",
           "#FECB52"
          ],
          "font": {
           "color": "#2a3f5f"
          },
          "geo": {
           "bgcolor": "white",
           "lakecolor": "white",
           "landcolor": "#E5ECF6",
           "showlakes": true,
           "showland": true,
           "subunitcolor": "white"
          },
          "hoverlabel": {
           "align": "left"
          },
          "hovermode": "closest",
          "mapbox": {
           "style": "light"
          },
          "paper_bgcolor": "white",
          "plot_bgcolor": "#E5ECF6",
          "polar": {
           "angularaxis": {
            "gridcolor": "white",
            "linecolor": "white",
            "ticks": ""
           },
           "bgcolor": "#E5ECF6",
           "radialaxis": {
            "gridcolor": "white",
            "linecolor": "white",
            "ticks": ""
           }
          },
          "scene": {
           "xaxis": {
            "backgroundcolor": "#E5ECF6",
            "gridcolor": "white",
            "gridwidth": 2,
            "linecolor": "white",
            "showbackground": true,
            "ticks": "",
            "zerolinecolor": "white"
           },
           "yaxis": {
            "backgroundcolor": "#E5ECF6",
            "gridcolor": "white",
            "gridwidth": 2,
            "linecolor": "white",
            "showbackground": true,
            "ticks": "",
            "zerolinecolor": "white"
           },
           "zaxis": {
            "backgroundcolor": "#E5ECF6",
            "gridcolor": "white",
            "gridwidth": 2,
            "linecolor": "white",
            "showbackground": true,
            "ticks": "",
            "zerolinecolor": "white"
           }
          },
          "shapedefaults": {
           "line": {
            "color": "#2a3f5f"
           }
          },
          "ternary": {
           "aaxis": {
            "gridcolor": "white",
            "linecolor": "white",
            "ticks": ""
           },
           "baxis": {
            "gridcolor": "white",
            "linecolor": "white",
            "ticks": ""
           },
           "bgcolor": "#E5ECF6",
           "caxis": {
            "gridcolor": "white",
            "linecolor": "white",
            "ticks": ""
           }
          },
          "title": {
           "x": 0.05
          },
          "xaxis": {
           "automargin": true,
           "gridcolor": "white",
           "linecolor": "white",
           "ticks": "",
           "title": {
            "standoff": 15
           },
           "zerolinecolor": "white",
           "zerolinewidth": 2
          },
          "yaxis": {
           "automargin": true,
           "gridcolor": "white",
           "linecolor": "white",
           "ticks": "",
           "title": {
            "standoff": 15
           },
           "zerolinecolor": "white",
           "zerolinewidth": 2
          }
         }
        },
        "xaxis": {
         "type": "category"
        }
       }
      }
     },
     "metadata": {},
     "output_type": "display_data"
    },
    {
     "data": {
      "application/vnd.plotly.v1+json": {
       "config": {
        "plotlyServerURL": "https://plot.ly"
       },
       "data": [
        {
         "marker": {
          "cmax": 1,
          "cmin": 0,
          "color": [
           0,
           0,
           0.8805970149253731,
           0,
           0.9402985074626866,
           0.9850746268656716,
           0.8208955223880597,
           0.9701492537313433,
           0,
           0.9701492537313433,
           0,
           0,
           0.9253731343283582,
           0,
           0.835820895522388,
           0,
           0.8208955223880597,
           0,
           0.9402985074626866,
           0.8955223880597015,
           0.9104477611940298,
           0,
           0,
           0,
           0,
           0.8955223880597015,
           0.9701492537313433,
           0.9104477611940298,
           0.9701492537313433,
           0,
           0,
           0,
           0,
           0.8805970149253731,
           0,
           0.9701492537313433,
           0,
           0,
           0,
           0.9402985074626866,
           0.9402985074626866,
           0.9552238805970149,
           0.9701492537313433,
           0,
           0,
           0,
           0.9701492537313433,
           0,
           0.9253731343283582,
           0,
           0.8656716417910447,
           0,
           0.9701492537313433,
           0,
           0.8208955223880597,
           0,
           0.8955223880597015,
           0.7611940298507462,
           0,
           0.9402985074626866,
           0.9402985074626866,
           0,
           0,
           0,
           0.9552238805970149,
           0.8805970149253731,
           0.9701492537313433,
           0,
           0,
           0,
           0.9253731343283582,
           0,
           0.9402985074626866,
           0.9552238805970149,
           0.8208955223880597,
           0,
           0,
           0,
           0,
           0,
           0,
           0,
           0.8955223880597015,
           0,
           0.9701492537313433,
           0.9552238805970149,
           0,
           0,
           0.9701492537313433,
           0,
           0.9402985074626866,
           0,
           0.9253731343283582,
           0.9104477611940298,
           0,
           0.9104477611940298,
           0,
           0.9104477611940298,
           0.9253731343283582,
           0,
           0.9104477611940298,
           0,
           0,
           0,
           0,
           0,
           0.9552238805970149,
           0,
           0.9701492537313433,
           0.9104477611940298,
           0,
           0.9552238805970149,
           0.9552238805970149,
           0,
           0,
           0.8955223880597015,
           0,
           0,
           0,
           0,
           0,
           0,
           0,
           0.9552238805970149,
           0,
           0,
           0,
           0.9701492537313433,
           0,
           0.9552238805970149,
           0.9253731343283582,
           0,
           0.9850746268656716,
           0,
           0.9552238805970149,
           0,
           0,
           0,
           0,
           0.9552238805970149,
           0.9552238805970149,
           0,
           0,
           0,
           0,
           0.9850746268656716,
           0,
           0,
           0,
           0,
           0,
           0,
           0,
           0,
           0.9850746268656716,
           0,
           0,
           0,
           0.9850746268656716,
           1,
           0.9850746268656716,
           0,
           0,
           0,
           0,
           0,
           0,
           1,
           0,
           0.9850746268656716,
           0.9850746268656716,
           0,
           0.9850746268656716,
           0,
           0,
           0,
           0,
           0,
           0,
           1,
           0,
           0,
           0,
           0,
           0,
           0,
           1,
           0,
           0,
           0,
           0,
           0,
           0,
           0
          ],
          "colorbar": {
           "title": {
            "text": "revenue"
           }
          },
          "colorscale": [
           [
            0,
            "#440154"
           ],
           [
            0.1111111111111111,
            "#482878"
           ],
           [
            0.2222222222222222,
            "#3e4989"
           ],
           [
            0.3333333333333333,
            "#31688e"
           ],
           [
            0.4444444444444444,
            "#26828e"
           ],
           [
            0.5555555555555556,
            "#1f9e89"
           ],
           [
            0.6666666666666666,
            "#35b779"
           ],
           [
            0.7777777777777778,
            "#6ece58"
           ],
           [
            0.8888888888888888,
            "#b5de2b"
           ],
           [
            1,
            "#fde725"
           ]
          ]
         },
         "type": "bar",
         "x": [
          "10101110011",
          "10111010110",
          "01110110000",
          "11110110100",
          "11001001001",
          "11001110100",
          "00101100110",
          "10001111001",
          "11111110010",
          "11100110001",
          "10111010101",
          "11110011001",
          "10011101010",
          "11000111001",
          "00011110000",
          "00010001111",
          "10010010010",
          "11001100110",
          "11010110000",
          "11000101000",
          "11101100000",
          "11111010100",
          "11011000101",
          "11100111001",
          "01011110011",
          "11001100000",
          "10011110001",
          "01010101100",
          "10111111000",
          "11110101001",
          "11111101100",
          "11011110111",
          "11110110001",
          "10101110000",
          "11010101001",
          "10011101001",
          "11010111100",
          "11111111100",
          "11010101111",
          "11001100100",
          "10101101001",
          "11100110100",
          "11101100001",
          "11111001111",
          "11101101001",
          "11011101100",
          "11110100001",
          "11011111011",
          "10010111010",
          "10011101101",
          "01010110000",
          "11011010110",
          "01011110001",
          "00111111010",
          "01010100000",
          "11100101101",
          "11010100000",
          "00101010010",
          "11111110111",
          "11011100000",
          "11101011000",
          "01001110011",
          "01111110001",
          "11101110011",
          "10011101100",
          "10110110000",
          "10001110101",
          "01110111001",
          "11111011101",
          "11110111011",
          "01110110100",
          "11111011001",
          "10101100101",
          "11111100000",
          "10000101000",
          "11001101100",
          "11110111100",
          "11110100101",
          "10011111100",
          "11011001101",
          "10110110011",
          "11111111101",
          "10000100111",
          "11011011101",
          "10011100101",
          "10011010101",
          "10111011001",
          "11001011101",
          "10111110100",
          "11101101101",
          "11000110100",
          "11101010101",
          "10010110001",
          "01011110000",
          "10010111101",
          "10010111000",
          "10011110011",
          "10011011010",
          "10111001001",
          "01011101101",
          "11101000001",
          "10011110110",
          "10011100111",
          "11111101011",
          "01111111110",
          "11000110101",
          "11101100100",
          "11100110101",
          "10010111001",
          "10001110100",
          "11110111101",
          "11111000001",
          "11110101000",
          "11001100111",
          "11000111100",
          "00001111001",
          "10111111001",
          "01011111001",
          "11011011001",
          "11000111101",
          "11111100101",
          "10000111101",
          "10111111111",
          "10010111100",
          "10110110101",
          "11011110011",
          "11111100100",
          "11011011000",
          "11101110001",
          "11011100010",
          "01001110001",
          "10111101001",
          "10111110001",
          "11001100101",
          "10011111000",
          "11011001001",
          "11111101000",
          "11111101101",
          "10001111101",
          "11010100001",
          "11101110000",
          "11011100011",
          "11011011100",
          "11111111000",
          "11101111000",
          "11011100100",
          "11010100101",
          "10011111101",
          "11001111101",
          "11110111001",
          "11011100101",
          "11111111011",
          "11011010101",
          "11001101001",
          "11001111000",
          "11101110101",
          "11010110101",
          "11111101001",
          "11010110100",
          "11010110001",
          "11011010001",
          "10011110101",
          "11111010001",
          "11001111100",
          "10111111101",
          "11011101001",
          "11010111101",
          "11001110001",
          "11001110101",
          "11010111000",
          "11011110000",
          "10111110101",
          "11011101000",
          "11111100001",
          "10011111001",
          "11101111001",
          "11001111001",
          "11101111101",
          "11010111001",
          "11011100001",
          "11110110101",
          "11111110101",
          "11011101101",
          "11111110100",
          "11011111100",
          "11111111001",
          "11111110000",
          "11011111101",
          "11011111000",
          "11011111001",
          "11011110100",
          "11011110101",
          "11111110001",
          "11011110001"
         ],
         "y": [
          1,
          1,
          1,
          1,
          1,
          1,
          1,
          1,
          1,
          1,
          1,
          1,
          1,
          1,
          1,
          1,
          1,
          1,
          1,
          1,
          1,
          1,
          1,
          1,
          1,
          1,
          1,
          1,
          1,
          1,
          1,
          1,
          1,
          1,
          1,
          1,
          1,
          1,
          1,
          1,
          1,
          1,
          1,
          1,
          1,
          1,
          1,
          1,
          1,
          1,
          1,
          1,
          1,
          1,
          1,
          1,
          1,
          1,
          1,
          1,
          1,
          1,
          1,
          1,
          1,
          1,
          1,
          1,
          1,
          1,
          1,
          1,
          1,
          1,
          1,
          1,
          1,
          1,
          1,
          1,
          1,
          1,
          1,
          1,
          1,
          1,
          1,
          1,
          1,
          1,
          1,
          1,
          1,
          1,
          1,
          1,
          1,
          1,
          1,
          1,
          1,
          1,
          1,
          1,
          1,
          1,
          1,
          1,
          1,
          1,
          1,
          1,
          1,
          1,
          1,
          1,
          1,
          1,
          1,
          2,
          2,
          2,
          2,
          2,
          2,
          2,
          2,
          2,
          2,
          2,
          2,
          2,
          2,
          2,
          2,
          2,
          2,
          2,
          2,
          2,
          2,
          2,
          2,
          2,
          3,
          3,
          3,
          3,
          3,
          3,
          3,
          3,
          3,
          3,
          3,
          3,
          4,
          4,
          4,
          4,
          4,
          4,
          4,
          4,
          4,
          5,
          5,
          5,
          5,
          5,
          5,
          5,
          5,
          6,
          6,
          6,
          6,
          6,
          6,
          7,
          7,
          7,
          7,
          8,
          9,
          10,
          11,
          12,
          16,
          16,
          17,
          17,
          22,
          29
         ]
        }
       ],
       "layout": {
        "template": {
         "data": {
          "bar": [
           {
            "error_x": {
             "color": "#2a3f5f"
            },
            "error_y": {
             "color": "#2a3f5f"
            },
            "marker": {
             "line": {
              "color": "#E5ECF6",
              "width": 0.5
             },
             "pattern": {
              "fillmode": "overlay",
              "size": 10,
              "solidity": 0.2
             }
            },
            "type": "bar"
           }
          ],
          "barpolar": [
           {
            "marker": {
             "line": {
              "color": "#E5ECF6",
              "width": 0.5
             },
             "pattern": {
              "fillmode": "overlay",
              "size": 10,
              "solidity": 0.2
             }
            },
            "type": "barpolar"
           }
          ],
          "carpet": [
           {
            "aaxis": {
             "endlinecolor": "#2a3f5f",
             "gridcolor": "white",
             "linecolor": "white",
             "minorgridcolor": "white",
             "startlinecolor": "#2a3f5f"
            },
            "baxis": {
             "endlinecolor": "#2a3f5f",
             "gridcolor": "white",
             "linecolor": "white",
             "minorgridcolor": "white",
             "startlinecolor": "#2a3f5f"
            },
            "type": "carpet"
           }
          ],
          "choropleth": [
           {
            "colorbar": {
             "outlinewidth": 0,
             "ticks": ""
            },
            "type": "choropleth"
           }
          ],
          "contour": [
           {
            "colorbar": {
             "outlinewidth": 0,
             "ticks": ""
            },
            "colorscale": [
             [
              0,
              "#0d0887"
             ],
             [
              0.1111111111111111,
              "#46039f"
             ],
             [
              0.2222222222222222,
              "#7201a8"
             ],
             [
              0.3333333333333333,
              "#9c179e"
             ],
             [
              0.4444444444444444,
              "#bd3786"
             ],
             [
              0.5555555555555556,
              "#d8576b"
             ],
             [
              0.6666666666666666,
              "#ed7953"
             ],
             [
              0.7777777777777778,
              "#fb9f3a"
             ],
             [
              0.8888888888888888,
              "#fdca26"
             ],
             [
              1,
              "#f0f921"
             ]
            ],
            "type": "contour"
           }
          ],
          "contourcarpet": [
           {
            "colorbar": {
             "outlinewidth": 0,
             "ticks": ""
            },
            "type": "contourcarpet"
           }
          ],
          "heatmap": [
           {
            "colorbar": {
             "outlinewidth": 0,
             "ticks": ""
            },
            "colorscale": [
             [
              0,
              "#0d0887"
             ],
             [
              0.1111111111111111,
              "#46039f"
             ],
             [
              0.2222222222222222,
              "#7201a8"
             ],
             [
              0.3333333333333333,
              "#9c179e"
             ],
             [
              0.4444444444444444,
              "#bd3786"
             ],
             [
              0.5555555555555556,
              "#d8576b"
             ],
             [
              0.6666666666666666,
              "#ed7953"
             ],
             [
              0.7777777777777778,
              "#fb9f3a"
             ],
             [
              0.8888888888888888,
              "#fdca26"
             ],
             [
              1,
              "#f0f921"
             ]
            ],
            "type": "heatmap"
           }
          ],
          "heatmapgl": [
           {
            "colorbar": {
             "outlinewidth": 0,
             "ticks": ""
            },
            "colorscale": [
             [
              0,
              "#0d0887"
             ],
             [
              0.1111111111111111,
              "#46039f"
             ],
             [
              0.2222222222222222,
              "#7201a8"
             ],
             [
              0.3333333333333333,
              "#9c179e"
             ],
             [
              0.4444444444444444,
              "#bd3786"
             ],
             [
              0.5555555555555556,
              "#d8576b"
             ],
             [
              0.6666666666666666,
              "#ed7953"
             ],
             [
              0.7777777777777778,
              "#fb9f3a"
             ],
             [
              0.8888888888888888,
              "#fdca26"
             ],
             [
              1,
              "#f0f921"
             ]
            ],
            "type": "heatmapgl"
           }
          ],
          "histogram": [
           {
            "marker": {
             "pattern": {
              "fillmode": "overlay",
              "size": 10,
              "solidity": 0.2
             }
            },
            "type": "histogram"
           }
          ],
          "histogram2d": [
           {
            "colorbar": {
             "outlinewidth": 0,
             "ticks": ""
            },
            "colorscale": [
             [
              0,
              "#0d0887"
             ],
             [
              0.1111111111111111,
              "#46039f"
             ],
             [
              0.2222222222222222,
              "#7201a8"
             ],
             [
              0.3333333333333333,
              "#9c179e"
             ],
             [
              0.4444444444444444,
              "#bd3786"
             ],
             [
              0.5555555555555556,
              "#d8576b"
             ],
             [
              0.6666666666666666,
              "#ed7953"
             ],
             [
              0.7777777777777778,
              "#fb9f3a"
             ],
             [
              0.8888888888888888,
              "#fdca26"
             ],
             [
              1,
              "#f0f921"
             ]
            ],
            "type": "histogram2d"
           }
          ],
          "histogram2dcontour": [
           {
            "colorbar": {
             "outlinewidth": 0,
             "ticks": ""
            },
            "colorscale": [
             [
              0,
              "#0d0887"
             ],
             [
              0.1111111111111111,
              "#46039f"
             ],
             [
              0.2222222222222222,
              "#7201a8"
             ],
             [
              0.3333333333333333,
              "#9c179e"
             ],
             [
              0.4444444444444444,
              "#bd3786"
             ],
             [
              0.5555555555555556,
              "#d8576b"
             ],
             [
              0.6666666666666666,
              "#ed7953"
             ],
             [
              0.7777777777777778,
              "#fb9f3a"
             ],
             [
              0.8888888888888888,
              "#fdca26"
             ],
             [
              1,
              "#f0f921"
             ]
            ],
            "type": "histogram2dcontour"
           }
          ],
          "mesh3d": [
           {
            "colorbar": {
             "outlinewidth": 0,
             "ticks": ""
            },
            "type": "mesh3d"
           }
          ],
          "parcoords": [
           {
            "line": {
             "colorbar": {
              "outlinewidth": 0,
              "ticks": ""
             }
            },
            "type": "parcoords"
           }
          ],
          "pie": [
           {
            "automargin": true,
            "type": "pie"
           }
          ],
          "scatter": [
           {
            "marker": {
             "colorbar": {
              "outlinewidth": 0,
              "ticks": ""
             }
            },
            "type": "scatter"
           }
          ],
          "scatter3d": [
           {
            "line": {
             "colorbar": {
              "outlinewidth": 0,
              "ticks": ""
             }
            },
            "marker": {
             "colorbar": {
              "outlinewidth": 0,
              "ticks": ""
             }
            },
            "type": "scatter3d"
           }
          ],
          "scattercarpet": [
           {
            "marker": {
             "colorbar": {
              "outlinewidth": 0,
              "ticks": ""
             }
            },
            "type": "scattercarpet"
           }
          ],
          "scattergeo": [
           {
            "marker": {
             "colorbar": {
              "outlinewidth": 0,
              "ticks": ""
             }
            },
            "type": "scattergeo"
           }
          ],
          "scattergl": [
           {
            "marker": {
             "colorbar": {
              "outlinewidth": 0,
              "ticks": ""
             }
            },
            "type": "scattergl"
           }
          ],
          "scattermapbox": [
           {
            "marker": {
             "colorbar": {
              "outlinewidth": 0,
              "ticks": ""
             }
            },
            "type": "scattermapbox"
           }
          ],
          "scatterpolar": [
           {
            "marker": {
             "colorbar": {
              "outlinewidth": 0,
              "ticks": ""
             }
            },
            "type": "scatterpolar"
           }
          ],
          "scatterpolargl": [
           {
            "marker": {
             "colorbar": {
              "outlinewidth": 0,
              "ticks": ""
             }
            },
            "type": "scatterpolargl"
           }
          ],
          "scatterternary": [
           {
            "marker": {
             "colorbar": {
              "outlinewidth": 0,
              "ticks": ""
             }
            },
            "type": "scatterternary"
           }
          ],
          "surface": [
           {
            "colorbar": {
             "outlinewidth": 0,
             "ticks": ""
            },
            "colorscale": [
             [
              0,
              "#0d0887"
             ],
             [
              0.1111111111111111,
              "#46039f"
             ],
             [
              0.2222222222222222,
              "#7201a8"
             ],
             [
              0.3333333333333333,
              "#9c179e"
             ],
             [
              0.4444444444444444,
              "#bd3786"
             ],
             [
              0.5555555555555556,
              "#d8576b"
             ],
             [
              0.6666666666666666,
              "#ed7953"
             ],
             [
              0.7777777777777778,
              "#fb9f3a"
             ],
             [
              0.8888888888888888,
              "#fdca26"
             ],
             [
              1,
              "#f0f921"
             ]
            ],
            "type": "surface"
           }
          ],
          "table": [
           {
            "cells": {
             "fill": {
              "color": "#EBF0F8"
             },
             "line": {
              "color": "white"
             }
            },
            "header": {
             "fill": {
              "color": "#C8D4E3"
             },
             "line": {
              "color": "white"
             }
            },
            "type": "table"
           }
          ]
         },
         "layout": {
          "annotationdefaults": {
           "arrowcolor": "#2a3f5f",
           "arrowhead": 0,
           "arrowwidth": 1
          },
          "autotypenumbers": "strict",
          "coloraxis": {
           "colorbar": {
            "outlinewidth": 0,
            "ticks": ""
           }
          },
          "colorscale": {
           "diverging": [
            [
             0,
             "#8e0152"
            ],
            [
             0.1,
             "#c51b7d"
            ],
            [
             0.2,
             "#de77ae"
            ],
            [
             0.3,
             "#f1b6da"
            ],
            [
             0.4,
             "#fde0ef"
            ],
            [
             0.5,
             "#f7f7f7"
            ],
            [
             0.6,
             "#e6f5d0"
            ],
            [
             0.7,
             "#b8e186"
            ],
            [
             0.8,
             "#7fbc41"
            ],
            [
             0.9,
             "#4d9221"
            ],
            [
             1,
             "#276419"
            ]
           ],
           "sequential": [
            [
             0,
             "#0d0887"
            ],
            [
             0.1111111111111111,
             "#46039f"
            ],
            [
             0.2222222222222222,
             "#7201a8"
            ],
            [
             0.3333333333333333,
             "#9c179e"
            ],
            [
             0.4444444444444444,
             "#bd3786"
            ],
            [
             0.5555555555555556,
             "#d8576b"
            ],
            [
             0.6666666666666666,
             "#ed7953"
            ],
            [
             0.7777777777777778,
             "#fb9f3a"
            ],
            [
             0.8888888888888888,
             "#fdca26"
            ],
            [
             1,
             "#f0f921"
            ]
           ],
           "sequentialminus": [
            [
             0,
             "#0d0887"
            ],
            [
             0.1111111111111111,
             "#46039f"
            ],
            [
             0.2222222222222222,
             "#7201a8"
            ],
            [
             0.3333333333333333,
             "#9c179e"
            ],
            [
             0.4444444444444444,
             "#bd3786"
            ],
            [
             0.5555555555555556,
             "#d8576b"
            ],
            [
             0.6666666666666666,
             "#ed7953"
            ],
            [
             0.7777777777777778,
             "#fb9f3a"
            ],
            [
             0.8888888888888888,
             "#fdca26"
            ],
            [
             1,
             "#f0f921"
            ]
           ]
          },
          "colorway": [
           "#636efa",
           "#EF553B",
           "#00cc96",
           "#ab63fa",
           "#FFA15A",
           "#19d3f3",
           "#FF6692",
           "#B6E880",
           "#FF97FF",
           "#FECB52"
          ],
          "font": {
           "color": "#2a3f5f"
          },
          "geo": {
           "bgcolor": "white",
           "lakecolor": "white",
           "landcolor": "#E5ECF6",
           "showlakes": true,
           "showland": true,
           "subunitcolor": "white"
          },
          "hoverlabel": {
           "align": "left"
          },
          "hovermode": "closest",
          "mapbox": {
           "style": "light"
          },
          "paper_bgcolor": "white",
          "plot_bgcolor": "#E5ECF6",
          "polar": {
           "angularaxis": {
            "gridcolor": "white",
            "linecolor": "white",
            "ticks": ""
           },
           "bgcolor": "#E5ECF6",
           "radialaxis": {
            "gridcolor": "white",
            "linecolor": "white",
            "ticks": ""
           }
          },
          "scene": {
           "xaxis": {
            "backgroundcolor": "#E5ECF6",
            "gridcolor": "white",
            "gridwidth": 2,
            "linecolor": "white",
            "showbackground": true,
            "ticks": "",
            "zerolinecolor": "white"
           },
           "yaxis": {
            "backgroundcolor": "#E5ECF6",
            "gridcolor": "white",
            "gridwidth": 2,
            "linecolor": "white",
            "showbackground": true,
            "ticks": "",
            "zerolinecolor": "white"
           },
           "zaxis": {
            "backgroundcolor": "#E5ECF6",
            "gridcolor": "white",
            "gridwidth": 2,
            "linecolor": "white",
            "showbackground": true,
            "ticks": "",
            "zerolinecolor": "white"
           }
          },
          "shapedefaults": {
           "line": {
            "color": "#2a3f5f"
           }
          },
          "ternary": {
           "aaxis": {
            "gridcolor": "white",
            "linecolor": "white",
            "ticks": ""
           },
           "baxis": {
            "gridcolor": "white",
            "linecolor": "white",
            "ticks": ""
           },
           "bgcolor": "#E5ECF6",
           "caxis": {
            "gridcolor": "white",
            "linecolor": "white",
            "ticks": ""
           }
          },
          "title": {
           "x": 0.05
          },
          "xaxis": {
           "automargin": true,
           "gridcolor": "white",
           "linecolor": "white",
           "ticks": "",
           "title": {
            "standoff": 15
           },
           "zerolinecolor": "white",
           "zerolinewidth": 2
          },
          "yaxis": {
           "automargin": true,
           "gridcolor": "white",
           "linecolor": "white",
           "ticks": "",
           "title": {
            "standoff": 15
           },
           "zerolinecolor": "white",
           "zerolinewidth": 2
          }
         }
        },
        "xaxis": {
         "type": "category"
        }
       }
      }
     },
     "metadata": {},
     "output_type": "display_data"
    },
    {
     "data": {
      "application/vnd.plotly.v1+json": {
       "config": {
        "plotlyServerURL": "https://plot.ly"
       },
       "data": [
        {
         "marker": {
          "cmax": 1,
          "cmin": 0,
          "color": [
           0,
           0.9354838709677419,
           0,
           0,
           0,
           0.8387096774193549,
           0.8064516129032258,
           0.9354838709677419,
           0,
           0,
           0.9032258064516129,
           0,
           0.8064516129032258,
           0.8064516129032258,
           0.8870967741935484,
           0,
           0,
           0,
           0.8064516129032258,
           0.9032258064516129,
           0.9354838709677419,
           0,
           0.9193548387096774,
           0,
           0,
           0,
           0,
           0,
           0,
           0.9032258064516129,
           0,
           0,
           0.9354838709677419,
           0,
           0.9354838709677419,
           0,
           0,
           0,
           0.8709677419354839,
           0,
           0,
           0.9354838709677419,
           0.9193548387096774,
           0,
           0,
           0,
           0,
           0,
           0,
           0.9354838709677419,
           0.9354838709677419,
           0.8709677419354839,
           0.8870967741935484,
           0,
           0.9516129032258065,
           0.9354838709677419,
           0,
           0,
           0.8387096774193549,
           0,
           0,
           0.9516129032258065,
           0,
           0.7741935483870968,
           0,
           0,
           0.8870967741935484,
           0.9193548387096774,
           0,
           0.8548387096774194,
           0.7903225806451613,
           0.9032258064516129,
           0,
           0,
           0.9032258064516129,
           0,
           0,
           0,
           0,
           0,
           0,
           0,
           0,
           0,
           0.9354838709677419,
           0,
           0,
           0,
           0.9516129032258065,
           0,
           0,
           0,
           0,
           0.9516129032258065,
           0,
           0.9354838709677419,
           0,
           0,
           0.9516129032258065,
           0,
           0.9516129032258065,
           0,
           0,
           0.9516129032258065,
           0,
           0,
           0,
           0,
           0,
           0.9516129032258065,
           0.9516129032258065,
           0.967741935483871,
           0.967741935483871,
           0,
           0.9516129032258065,
           0.9516129032258065,
           0,
           0,
           0.967741935483871,
           0,
           0,
           0,
           0,
           0.9838709677419355,
           0.967741935483871,
           0.9838709677419355,
           0.967741935483871,
           0,
           0.967741935483871,
           0,
           0,
           0,
           0,
           0,
           0.9838709677419355,
           0.9838709677419355,
           0,
           0,
           0,
           0,
           0,
           0,
           1,
           0
          ],
          "colorbar": {
           "title": {
            "text": "revenue"
           }
          },
          "colorscale": [
           [
            0,
            "#440154"
           ],
           [
            0.1111111111111111,
            "#482878"
           ],
           [
            0.2222222222222222,
            "#3e4989"
           ],
           [
            0.3333333333333333,
            "#31688e"
           ],
           [
            0.4444444444444444,
            "#26828e"
           ],
           [
            0.5555555555555556,
            "#1f9e89"
           ],
           [
            0.6666666666666666,
            "#35b779"
           ],
           [
            0.7777777777777778,
            "#6ece58"
           ],
           [
            0.8888888888888888,
            "#b5de2b"
           ],
           [
            1,
            "#fde725"
           ]
          ]
         },
         "type": "bar",
         "x": [
          "10101110110",
          "01000100111",
          "11111100111",
          "11001100111",
          "01101110101",
          "00001111001",
          "00001100110",
          "10110100101",
          "01110111111",
          "11100110111",
          "10110001101",
          "11001111111",
          "00100000101",
          "10010000110",
          "00000100111",
          "10001011111",
          "11111110101",
          "11110100111",
          "00000100101",
          "10010101101",
          "10101001011",
          "01100001111",
          "10101100110",
          "10111101111",
          "10101011011",
          "01001011010",
          "10010110101",
          "11001100011",
          "11111111100",
          "10001010101",
          "01000101111",
          "11000101011",
          "00111000111",
          "11100001101",
          "00100111011",
          "00111010111",
          "00010110111",
          "10000011111",
          "00100101101",
          "10101010011",
          "01111110111",
          "01100000111",
          "00101000111",
          "10111011111",
          "11100101111",
          "11101101011",
          "10110101110",
          "10000111011",
          "10100111101",
          "00001101111",
          "01101100101",
          "00000110011",
          "00010111101",
          "11000001111",
          "00101110011",
          "00011100111",
          "11000100111",
          "00110111011",
          "00000000111",
          "10111110011",
          "10101111011",
          "10101010101",
          "00111101011",
          "00101100100",
          "01001101111",
          "10001010111",
          "00101100101",
          "00001100111",
          "11110111011",
          "00100100101",
          "00101101100",
          "10010100011",
          "11000000111",
          "10110111111",
          "00100001111",
          "01101000111",
          "10101110011",
          "11101100111",
          "00101011111",
          "01000110111",
          "10101011101",
          "11111111111",
          "01101100111",
          "11101110111",
          "00100010111",
          "11101100101",
          "10111110111",
          "10110100111",
          "00000111111",
          "10011100111",
          "00001111111",
          "01001100111",
          "01101101101",
          "10101100101",
          "01100101111",
          "00100100111",
          "10110110111",
          "11101111101",
          "00100011111",
          "00111001111",
          "00110100111",
          "00101111011",
          "10111100111",
          "10001001111",
          "00111100111",
          "10000111111",
          "01100100111",
          "10001110011",
          "10100011111",
          "00100101111",
          "00101111101",
          "10000101111",
          "10100110101",
          "10001110111",
          "10100000111",
          "10000100111",
          "10001101111",
          "10101111101",
          "10101101101",
          "00101111111",
          "11100100111",
          "10101011111",
          "10100010111",
          "10101000111",
          "00101010111",
          "00100110111",
          "10100001111",
          "00100111111",
          "00101100111",
          "10101010111",
          "10101001111",
          "10000110111",
          "10101110101",
          "10100111111",
          "00101101111",
          "10001100111",
          "10101111111",
          "00101110111",
          "10100101111",
          "10100110111",
          "10101101111",
          "10101110111",
          "10100100111",
          "10101100111"
         ],
         "y": [
          1,
          1,
          1,
          1,
          1,
          1,
          1,
          1,
          1,
          1,
          1,
          1,
          1,
          1,
          1,
          1,
          1,
          1,
          1,
          1,
          1,
          1,
          1,
          1,
          1,
          1,
          1,
          1,
          1,
          1,
          1,
          1,
          1,
          1,
          1,
          1,
          1,
          1,
          1,
          1,
          1,
          1,
          1,
          1,
          1,
          1,
          1,
          1,
          1,
          1,
          1,
          1,
          1,
          1,
          1,
          1,
          1,
          1,
          1,
          1,
          1,
          1,
          1,
          1,
          1,
          1,
          1,
          1,
          1,
          1,
          1,
          1,
          1,
          1,
          1,
          1,
          1,
          1,
          1,
          1,
          2,
          2,
          2,
          2,
          2,
          2,
          2,
          2,
          2,
          2,
          2,
          2,
          2,
          2,
          2,
          2,
          2,
          2,
          2,
          2,
          2,
          2,
          3,
          3,
          3,
          3,
          3,
          3,
          3,
          3,
          3,
          3,
          3,
          4,
          4,
          4,
          4,
          5,
          5,
          5,
          6,
          6,
          6,
          7,
          8,
          8,
          8,
          9,
          9,
          9,
          9,
          9,
          9,
          10,
          11,
          12,
          13,
          15,
          15,
          22,
          25,
          26,
          32,
          40
         ]
        }
       ],
       "layout": {
        "template": {
         "data": {
          "bar": [
           {
            "error_x": {
             "color": "#2a3f5f"
            },
            "error_y": {
             "color": "#2a3f5f"
            },
            "marker": {
             "line": {
              "color": "#E5ECF6",
              "width": 0.5
             },
             "pattern": {
              "fillmode": "overlay",
              "size": 10,
              "solidity": 0.2
             }
            },
            "type": "bar"
           }
          ],
          "barpolar": [
           {
            "marker": {
             "line": {
              "color": "#E5ECF6",
              "width": 0.5
             },
             "pattern": {
              "fillmode": "overlay",
              "size": 10,
              "solidity": 0.2
             }
            },
            "type": "barpolar"
           }
          ],
          "carpet": [
           {
            "aaxis": {
             "endlinecolor": "#2a3f5f",
             "gridcolor": "white",
             "linecolor": "white",
             "minorgridcolor": "white",
             "startlinecolor": "#2a3f5f"
            },
            "baxis": {
             "endlinecolor": "#2a3f5f",
             "gridcolor": "white",
             "linecolor": "white",
             "minorgridcolor": "white",
             "startlinecolor": "#2a3f5f"
            },
            "type": "carpet"
           }
          ],
          "choropleth": [
           {
            "colorbar": {
             "outlinewidth": 0,
             "ticks": ""
            },
            "type": "choropleth"
           }
          ],
          "contour": [
           {
            "colorbar": {
             "outlinewidth": 0,
             "ticks": ""
            },
            "colorscale": [
             [
              0,
              "#0d0887"
             ],
             [
              0.1111111111111111,
              "#46039f"
             ],
             [
              0.2222222222222222,
              "#7201a8"
             ],
             [
              0.3333333333333333,
              "#9c179e"
             ],
             [
              0.4444444444444444,
              "#bd3786"
             ],
             [
              0.5555555555555556,
              "#d8576b"
             ],
             [
              0.6666666666666666,
              "#ed7953"
             ],
             [
              0.7777777777777778,
              "#fb9f3a"
             ],
             [
              0.8888888888888888,
              "#fdca26"
             ],
             [
              1,
              "#f0f921"
             ]
            ],
            "type": "contour"
           }
          ],
          "contourcarpet": [
           {
            "colorbar": {
             "outlinewidth": 0,
             "ticks": ""
            },
            "type": "contourcarpet"
           }
          ],
          "heatmap": [
           {
            "colorbar": {
             "outlinewidth": 0,
             "ticks": ""
            },
            "colorscale": [
             [
              0,
              "#0d0887"
             ],
             [
              0.1111111111111111,
              "#46039f"
             ],
             [
              0.2222222222222222,
              "#7201a8"
             ],
             [
              0.3333333333333333,
              "#9c179e"
             ],
             [
              0.4444444444444444,
              "#bd3786"
             ],
             [
              0.5555555555555556,
              "#d8576b"
             ],
             [
              0.6666666666666666,
              "#ed7953"
             ],
             [
              0.7777777777777778,
              "#fb9f3a"
             ],
             [
              0.8888888888888888,
              "#fdca26"
             ],
             [
              1,
              "#f0f921"
             ]
            ],
            "type": "heatmap"
           }
          ],
          "heatmapgl": [
           {
            "colorbar": {
             "outlinewidth": 0,
             "ticks": ""
            },
            "colorscale": [
             [
              0,
              "#0d0887"
             ],
             [
              0.1111111111111111,
              "#46039f"
             ],
             [
              0.2222222222222222,
              "#7201a8"
             ],
             [
              0.3333333333333333,
              "#9c179e"
             ],
             [
              0.4444444444444444,
              "#bd3786"
             ],
             [
              0.5555555555555556,
              "#d8576b"
             ],
             [
              0.6666666666666666,
              "#ed7953"
             ],
             [
              0.7777777777777778,
              "#fb9f3a"
             ],
             [
              0.8888888888888888,
              "#fdca26"
             ],
             [
              1,
              "#f0f921"
             ]
            ],
            "type": "heatmapgl"
           }
          ],
          "histogram": [
           {
            "marker": {
             "pattern": {
              "fillmode": "overlay",
              "size": 10,
              "solidity": 0.2
             }
            },
            "type": "histogram"
           }
          ],
          "histogram2d": [
           {
            "colorbar": {
             "outlinewidth": 0,
             "ticks": ""
            },
            "colorscale": [
             [
              0,
              "#0d0887"
             ],
             [
              0.1111111111111111,
              "#46039f"
             ],
             [
              0.2222222222222222,
              "#7201a8"
             ],
             [
              0.3333333333333333,
              "#9c179e"
             ],
             [
              0.4444444444444444,
              "#bd3786"
             ],
             [
              0.5555555555555556,
              "#d8576b"
             ],
             [
              0.6666666666666666,
              "#ed7953"
             ],
             [
              0.7777777777777778,
              "#fb9f3a"
             ],
             [
              0.8888888888888888,
              "#fdca26"
             ],
             [
              1,
              "#f0f921"
             ]
            ],
            "type": "histogram2d"
           }
          ],
          "histogram2dcontour": [
           {
            "colorbar": {
             "outlinewidth": 0,
             "ticks": ""
            },
            "colorscale": [
             [
              0,
              "#0d0887"
             ],
             [
              0.1111111111111111,
              "#46039f"
             ],
             [
              0.2222222222222222,
              "#7201a8"
             ],
             [
              0.3333333333333333,
              "#9c179e"
             ],
             [
              0.4444444444444444,
              "#bd3786"
             ],
             [
              0.5555555555555556,
              "#d8576b"
             ],
             [
              0.6666666666666666,
              "#ed7953"
             ],
             [
              0.7777777777777778,
              "#fb9f3a"
             ],
             [
              0.8888888888888888,
              "#fdca26"
             ],
             [
              1,
              "#f0f921"
             ]
            ],
            "type": "histogram2dcontour"
           }
          ],
          "mesh3d": [
           {
            "colorbar": {
             "outlinewidth": 0,
             "ticks": ""
            },
            "type": "mesh3d"
           }
          ],
          "parcoords": [
           {
            "line": {
             "colorbar": {
              "outlinewidth": 0,
              "ticks": ""
             }
            },
            "type": "parcoords"
           }
          ],
          "pie": [
           {
            "automargin": true,
            "type": "pie"
           }
          ],
          "scatter": [
           {
            "marker": {
             "colorbar": {
              "outlinewidth": 0,
              "ticks": ""
             }
            },
            "type": "scatter"
           }
          ],
          "scatter3d": [
           {
            "line": {
             "colorbar": {
              "outlinewidth": 0,
              "ticks": ""
             }
            },
            "marker": {
             "colorbar": {
              "outlinewidth": 0,
              "ticks": ""
             }
            },
            "type": "scatter3d"
           }
          ],
          "scattercarpet": [
           {
            "marker": {
             "colorbar": {
              "outlinewidth": 0,
              "ticks": ""
             }
            },
            "type": "scattercarpet"
           }
          ],
          "scattergeo": [
           {
            "marker": {
             "colorbar": {
              "outlinewidth": 0,
              "ticks": ""
             }
            },
            "type": "scattergeo"
           }
          ],
          "scattergl": [
           {
            "marker": {
             "colorbar": {
              "outlinewidth": 0,
              "ticks": ""
             }
            },
            "type": "scattergl"
           }
          ],
          "scattermapbox": [
           {
            "marker": {
             "colorbar": {
              "outlinewidth": 0,
              "ticks": ""
             }
            },
            "type": "scattermapbox"
           }
          ],
          "scatterpolar": [
           {
            "marker": {
             "colorbar": {
              "outlinewidth": 0,
              "ticks": ""
             }
            },
            "type": "scatterpolar"
           }
          ],
          "scatterpolargl": [
           {
            "marker": {
             "colorbar": {
              "outlinewidth": 0,
              "ticks": ""
             }
            },
            "type": "scatterpolargl"
           }
          ],
          "scatterternary": [
           {
            "marker": {
             "colorbar": {
              "outlinewidth": 0,
              "ticks": ""
             }
            },
            "type": "scatterternary"
           }
          ],
          "surface": [
           {
            "colorbar": {
             "outlinewidth": 0,
             "ticks": ""
            },
            "colorscale": [
             [
              0,
              "#0d0887"
             ],
             [
              0.1111111111111111,
              "#46039f"
             ],
             [
              0.2222222222222222,
              "#7201a8"
             ],
             [
              0.3333333333333333,
              "#9c179e"
             ],
             [
              0.4444444444444444,
              "#bd3786"
             ],
             [
              0.5555555555555556,
              "#d8576b"
             ],
             [
              0.6666666666666666,
              "#ed7953"
             ],
             [
              0.7777777777777778,
              "#fb9f3a"
             ],
             [
              0.8888888888888888,
              "#fdca26"
             ],
             [
              1,
              "#f0f921"
             ]
            ],
            "type": "surface"
           }
          ],
          "table": [
           {
            "cells": {
             "fill": {
              "color": "#EBF0F8"
             },
             "line": {
              "color": "white"
             }
            },
            "header": {
             "fill": {
              "color": "#C8D4E3"
             },
             "line": {
              "color": "white"
             }
            },
            "type": "table"
           }
          ]
         },
         "layout": {
          "annotationdefaults": {
           "arrowcolor": "#2a3f5f",
           "arrowhead": 0,
           "arrowwidth": 1
          },
          "autotypenumbers": "strict",
          "coloraxis": {
           "colorbar": {
            "outlinewidth": 0,
            "ticks": ""
           }
          },
          "colorscale": {
           "diverging": [
            [
             0,
             "#8e0152"
            ],
            [
             0.1,
             "#c51b7d"
            ],
            [
             0.2,
             "#de77ae"
            ],
            [
             0.3,
             "#f1b6da"
            ],
            [
             0.4,
             "#fde0ef"
            ],
            [
             0.5,
             "#f7f7f7"
            ],
            [
             0.6,
             "#e6f5d0"
            ],
            [
             0.7,
             "#b8e186"
            ],
            [
             0.8,
             "#7fbc41"
            ],
            [
             0.9,
             "#4d9221"
            ],
            [
             1,
             "#276419"
            ]
           ],
           "sequential": [
            [
             0,
             "#0d0887"
            ],
            [
             0.1111111111111111,
             "#46039f"
            ],
            [
             0.2222222222222222,
             "#7201a8"
            ],
            [
             0.3333333333333333,
             "#9c179e"
            ],
            [
             0.4444444444444444,
             "#bd3786"
            ],
            [
             0.5555555555555556,
             "#d8576b"
            ],
            [
             0.6666666666666666,
             "#ed7953"
            ],
            [
             0.7777777777777778,
             "#fb9f3a"
            ],
            [
             0.8888888888888888,
             "#fdca26"
            ],
            [
             1,
             "#f0f921"
            ]
           ],
           "sequentialminus": [
            [
             0,
             "#0d0887"
            ],
            [
             0.1111111111111111,
             "#46039f"
            ],
            [
             0.2222222222222222,
             "#7201a8"
            ],
            [
             0.3333333333333333,
             "#9c179e"
            ],
            [
             0.4444444444444444,
             "#bd3786"
            ],
            [
             0.5555555555555556,
             "#d8576b"
            ],
            [
             0.6666666666666666,
             "#ed7953"
            ],
            [
             0.7777777777777778,
             "#fb9f3a"
            ],
            [
             0.8888888888888888,
             "#fdca26"
            ],
            [
             1,
             "#f0f921"
            ]
           ]
          },
          "colorway": [
           "#636efa",
           "#EF553B",
           "#00cc96",
           "#ab63fa",
           "#FFA15A",
           "#19d3f3",
           "#FF6692",
           "#B6E880",
           "#FF97FF",
           "#FECB52"
          ],
          "font": {
           "color": "#2a3f5f"
          },
          "geo": {
           "bgcolor": "white",
           "lakecolor": "white",
           "landcolor": "#E5ECF6",
           "showlakes": true,
           "showland": true,
           "subunitcolor": "white"
          },
          "hoverlabel": {
           "align": "left"
          },
          "hovermode": "closest",
          "mapbox": {
           "style": "light"
          },
          "paper_bgcolor": "white",
          "plot_bgcolor": "#E5ECF6",
          "polar": {
           "angularaxis": {
            "gridcolor": "white",
            "linecolor": "white",
            "ticks": ""
           },
           "bgcolor": "#E5ECF6",
           "radialaxis": {
            "gridcolor": "white",
            "linecolor": "white",
            "ticks": ""
           }
          },
          "scene": {
           "xaxis": {
            "backgroundcolor": "#E5ECF6",
            "gridcolor": "white",
            "gridwidth": 2,
            "linecolor": "white",
            "showbackground": true,
            "ticks": "",
            "zerolinecolor": "white"
           },
           "yaxis": {
            "backgroundcolor": "#E5ECF6",
            "gridcolor": "white",
            "gridwidth": 2,
            "linecolor": "white",
            "showbackground": true,
            "ticks": "",
            "zerolinecolor": "white"
           },
           "zaxis": {
            "backgroundcolor": "#E5ECF6",
            "gridcolor": "white",
            "gridwidth": 2,
            "linecolor": "white",
            "showbackground": true,
            "ticks": "",
            "zerolinecolor": "white"
           }
          },
          "shapedefaults": {
           "line": {
            "color": "#2a3f5f"
           }
          },
          "ternary": {
           "aaxis": {
            "gridcolor": "white",
            "linecolor": "white",
            "ticks": ""
           },
           "baxis": {
            "gridcolor": "white",
            "linecolor": "white",
            "ticks": ""
           },
           "bgcolor": "#E5ECF6",
           "caxis": {
            "gridcolor": "white",
            "linecolor": "white",
            "ticks": ""
           }
          },
          "title": {
           "x": 0.05
          },
          "xaxis": {
           "automargin": true,
           "gridcolor": "white",
           "linecolor": "white",
           "ticks": "",
           "title": {
            "standoff": 15
           },
           "zerolinecolor": "white",
           "zerolinewidth": 2
          },
          "yaxis": {
           "automargin": true,
           "gridcolor": "white",
           "linecolor": "white",
           "ticks": "",
           "title": {
            "standoff": 15
           },
           "zerolinecolor": "white",
           "zerolinewidth": 2
          }
         }
        },
        "xaxis": {
         "type": "category"
        }
       }
      }
     },
     "metadata": {},
     "output_type": "display_data"
    },
    {
     "data": {
      "application/vnd.plotly.v1+json": {
       "config": {
        "plotlyServerURL": "https://plot.ly"
       },
       "data": [
        {
         "marker": {
          "cmax": 1,
          "cmin": 0,
          "color": [
           0,
           0.9253731343283582,
           0,
           0.8656716417910447,
           0.9402985074626866,
           0,
           0,
           0.9402985074626866,
           0.8059701492537313,
           0,
           0,
           0,
           0.9402985074626866,
           0,
           0,
           0.9253731343283582,
           0,
           0,
           0,
           0,
           0.9552238805970149,
           0,
           0,
           0,
           0,
           0,
           0,
           0.9253731343283582,
           0.8208955223880597,
           0.9552238805970149,
           0.9253731343283582,
           0,
           0,
           0,
           0,
           0,
           0.8507462686567164,
           0.9552238805970149,
           0,
           0.9104477611940298,
           0,
           0.9552238805970149,
           0,
           0.9253731343283582,
           0.8507462686567164,
           0,
           0,
           0,
           0,
           0.9253731343283582,
           0,
           0.9552238805970149,
           0.9253731343283582,
           0,
           0.8059701492537313,
           0,
           0.9402985074626866,
           0,
           0,
           0.8656716417910447,
           0,
           0.9104477611940298,
           0,
           0,
           0,
           0,
           0,
           0,
           0,
           0.9552238805970149,
           0,
           0.9402985074626866,
           0.9552238805970149,
           0,
           0,
           0.9402985074626866,
           0,
           0.9552238805970149,
           0.8507462686567164,
           0.9552238805970149,
           0,
           0.8208955223880597,
           0.8955223880597015,
           0,
           0.9402985074626866,
           0,
           0,
           0.9253731343283582,
           0,
           0.9552238805970149,
           0,
           0,
           0.9701492537313433,
           0.9552238805970149,
           0,
           0,
           0,
           0.9402985074626866,
           0,
           0.9402985074626866,
           0,
           0,
           0,
           0.9552238805970149,
           0.9402985074626866,
           0,
           0,
           0.9402985074626866,
           0,
           0,
           0,
           0,
           0.9701492537313433,
           0.8955223880597015,
           0.8955223880597015,
           0,
           0,
           0.9253731343283582,
           0,
           0.9253731343283582,
           0,
           0,
           0,
           0,
           0,
           0,
           0,
           0,
           0,
           0.9701492537313433,
           0,
           0.9552238805970149,
           0,
           0,
           0.9552238805970149,
           0.9552238805970149,
           0,
           0.9402985074626866,
           0,
           0.9552238805970149,
           0,
           0.9701492537313433,
           0.9552238805970149,
           0,
           0,
           0.835820895522388,
           0,
           0.9552238805970149,
           0.9701492537313433,
           0,
           0,
           0.9701492537313433,
           0.9552238805970149,
           0.9701492537313433,
           0,
           0.9701492537313433,
           0,
           0,
           0,
           0,
           0,
           0.9850746268656716,
           0,
           0.9701492537313433,
           0.9402985074626866,
           0.9701492537313433,
           0,
           0.9701492537313433,
           0,
           0,
           0,
           0.9850746268656716,
           0,
           0.9850746268656716,
           0.9850746268656716,
           0,
           0,
           0,
           0,
           0,
           0,
           0,
           0.9850746268656716,
           0.9850746268656716,
           0,
           0,
           0,
           0,
           0,
           0,
           0,
           0,
           0,
           1,
           1,
           0,
           0
          ],
          "colorbar": {
           "title": {
            "text": "revenue"
           }
          },
          "colorscale": [
           [
            0,
            "#440154"
           ],
           [
            0.1111111111111111,
            "#482878"
           ],
           [
            0.2222222222222222,
            "#3e4989"
           ],
           [
            0.3333333333333333,
            "#31688e"
           ],
           [
            0.4444444444444444,
            "#26828e"
           ],
           [
            0.5555555555555556,
            "#1f9e89"
           ],
           [
            0.6666666666666666,
            "#35b779"
           ],
           [
            0.7777777777777778,
            "#6ece58"
           ],
           [
            0.8888888888888888,
            "#b5de2b"
           ],
           [
            1,
            "#fde725"
           ]
          ]
         },
         "type": "bar",
         "x": [
          "11111001000",
          "00100111010",
          "11101111110",
          "00101100100",
          "11101001000",
          "00110111101",
          "10011111111",
          "11110110000",
          "00000101010",
          "10110110011",
          "11111101010",
          "10110011100",
          "10100011010",
          "01111110100",
          "11110110100",
          "10001101010",
          "11010110011",
          "10110111011",
          "00101011111",
          "11111110110",
          "10111010010",
          "11111010100",
          "10111100110",
          "10101011111",
          "00011011011",
          "11110111101",
          "10011111000",
          "01110011010",
          "00110010000",
          "00111011000",
          "00111110000",
          "00101010111",
          "11001111000",
          "11111110101",
          "10101011001",
          "10110111101",
          "01110100100",
          "00011111010",
          "10101101001",
          "00110011001",
          "10011011010",
          "00110111001",
          "11101111001",
          "00110011100",
          "10000101000",
          "11100111110",
          "10100011110",
          "01011111010",
          "11110111110",
          "11010011010",
          "10111110101",
          "01101011010",
          "01110110110",
          "11101101000",
          "00000011000",
          "00011111110",
          "10110101000",
          "11001111100",
          "01101001011",
          "01101010000",
          "10001111011",
          "01111010001",
          "10100011011",
          "11111011110",
          "00111111101",
          "01111001100",
          "11101101110",
          "10111110100",
          "01101111101",
          "10110101010",
          "00101111110",
          "01101011000",
          "10111001000",
          "01110111100",
          "10111011100",
          "10011110010",
          "01101101101",
          "11110101000",
          "00101010000",
          "01111110010",
          "01111110110",
          "01000011000",
          "00010111010",
          "00111110110",
          "00101011001",
          "11110011110",
          "10100111011",
          "01110011001",
          "10111111001",
          "00100111110",
          "11100011100",
          "01111111100",
          "10100111000",
          "01111101000",
          "00101011110",
          "11111110111",
          "01110111110",
          "10110110001",
          "10111101110",
          "01100111010",
          "01111111001",
          "01101111100",
          "01101011100",
          "10100011100",
          "01100111001",
          "10101101010",
          "11110011010",
          "01110011100",
          "11111001010",
          "00110011101",
          "10101011110",
          "11101111100",
          "10101101000",
          "10110001000",
          "01110101000",
          "10111111011",
          "11111010010",
          "10100011000",
          "10111010100",
          "10111100000",
          "10110111110",
          "11111110010",
          "10111011110",
          "10011111010",
          "10101111110",
          "01111111110",
          "00111111110",
          "11011111000",
          "10110111001",
          "11101110000",
          "11110110001",
          "10110110100",
          "10110111111",
          "10111101010",
          "00101011100",
          "11100011010",
          "01111101010",
          "00110111000",
          "11111011000",
          "00111110100",
          "10101111001",
          "10101110010",
          "10010111010",
          "01001111110",
          "10001111010",
          "00100110000",
          "00111111001",
          "01110111000",
          "00101111000",
          "00110111110",
          "10100111110",
          "11110011000",
          "00110111010",
          "00111011010",
          "11101011000",
          "01111011000",
          "01111011010",
          "01101111010",
          "11111111100",
          "11110111010",
          "00101111100",
          "10101011000",
          "10111110010",
          "00110111100",
          "00100111100",
          "10110011010",
          "11100111010",
          "01110111010",
          "10101011010",
          "11111111010",
          "11111110000",
          "01101111000",
          "10111111100",
          "11100111000",
          "10111110000",
          "10110111100",
          "01111111010",
          "00111111100",
          "10111111110",
          "10100111100",
          "10111011000",
          "10101111100",
          "10100111010",
          "00101111010",
          "11101111010",
          "11110111000",
          "01111111000",
          "10110111010",
          "11101111000",
          "10111111010",
          "00111111010",
          "10101111010",
          "11111111000",
          "10110111000",
          "00111111000",
          "10101111000",
          "10111111000"
         ],
         "y": [
          1,
          1,
          1,
          1,
          1,
          1,
          1,
          1,
          1,
          1,
          1,
          1,
          1,
          1,
          1,
          1,
          1,
          1,
          1,
          1,
          1,
          1,
          1,
          1,
          1,
          1,
          1,
          1,
          1,
          1,
          1,
          1,
          1,
          1,
          1,
          1,
          1,
          1,
          1,
          1,
          1,
          1,
          1,
          1,
          1,
          1,
          1,
          1,
          1,
          1,
          1,
          1,
          1,
          1,
          1,
          1,
          1,
          1,
          1,
          1,
          1,
          1,
          1,
          1,
          1,
          1,
          1,
          1,
          1,
          1,
          1,
          1,
          1,
          1,
          1,
          1,
          1,
          1,
          1,
          1,
          1,
          1,
          1,
          1,
          1,
          1,
          1,
          1,
          1,
          1,
          1,
          1,
          1,
          1,
          1,
          1,
          1,
          1,
          1,
          1,
          1,
          1,
          1,
          1,
          1,
          1,
          1,
          1,
          1,
          1,
          1,
          1,
          1,
          1,
          1,
          1,
          1,
          1,
          1,
          1,
          2,
          2,
          2,
          2,
          2,
          2,
          2,
          2,
          2,
          2,
          2,
          2,
          2,
          2,
          2,
          2,
          2,
          2,
          2,
          2,
          2,
          2,
          2,
          2,
          2,
          2,
          2,
          3,
          3,
          3,
          3,
          3,
          3,
          3,
          3,
          3,
          3,
          3,
          3,
          3,
          3,
          4,
          4,
          4,
          4,
          4,
          4,
          4,
          5,
          5,
          5,
          5,
          5,
          5,
          5,
          5,
          5,
          6,
          6,
          6,
          7,
          7,
          7,
          7,
          7,
          9,
          10,
          11,
          11,
          12,
          12,
          12,
          13,
          14,
          14,
          19,
          33
         ]
        }
       ],
       "layout": {
        "template": {
         "data": {
          "bar": [
           {
            "error_x": {
             "color": "#2a3f5f"
            },
            "error_y": {
             "color": "#2a3f5f"
            },
            "marker": {
             "line": {
              "color": "#E5ECF6",
              "width": 0.5
             },
             "pattern": {
              "fillmode": "overlay",
              "size": 10,
              "solidity": 0.2
             }
            },
            "type": "bar"
           }
          ],
          "barpolar": [
           {
            "marker": {
             "line": {
              "color": "#E5ECF6",
              "width": 0.5
             },
             "pattern": {
              "fillmode": "overlay",
              "size": 10,
              "solidity": 0.2
             }
            },
            "type": "barpolar"
           }
          ],
          "carpet": [
           {
            "aaxis": {
             "endlinecolor": "#2a3f5f",
             "gridcolor": "white",
             "linecolor": "white",
             "minorgridcolor": "white",
             "startlinecolor": "#2a3f5f"
            },
            "baxis": {
             "endlinecolor": "#2a3f5f",
             "gridcolor": "white",
             "linecolor": "white",
             "minorgridcolor": "white",
             "startlinecolor": "#2a3f5f"
            },
            "type": "carpet"
           }
          ],
          "choropleth": [
           {
            "colorbar": {
             "outlinewidth": 0,
             "ticks": ""
            },
            "type": "choropleth"
           }
          ],
          "contour": [
           {
            "colorbar": {
             "outlinewidth": 0,
             "ticks": ""
            },
            "colorscale": [
             [
              0,
              "#0d0887"
             ],
             [
              0.1111111111111111,
              "#46039f"
             ],
             [
              0.2222222222222222,
              "#7201a8"
             ],
             [
              0.3333333333333333,
              "#9c179e"
             ],
             [
              0.4444444444444444,
              "#bd3786"
             ],
             [
              0.5555555555555556,
              "#d8576b"
             ],
             [
              0.6666666666666666,
              "#ed7953"
             ],
             [
              0.7777777777777778,
              "#fb9f3a"
             ],
             [
              0.8888888888888888,
              "#fdca26"
             ],
             [
              1,
              "#f0f921"
             ]
            ],
            "type": "contour"
           }
          ],
          "contourcarpet": [
           {
            "colorbar": {
             "outlinewidth": 0,
             "ticks": ""
            },
            "type": "contourcarpet"
           }
          ],
          "heatmap": [
           {
            "colorbar": {
             "outlinewidth": 0,
             "ticks": ""
            },
            "colorscale": [
             [
              0,
              "#0d0887"
             ],
             [
              0.1111111111111111,
              "#46039f"
             ],
             [
              0.2222222222222222,
              "#7201a8"
             ],
             [
              0.3333333333333333,
              "#9c179e"
             ],
             [
              0.4444444444444444,
              "#bd3786"
             ],
             [
              0.5555555555555556,
              "#d8576b"
             ],
             [
              0.6666666666666666,
              "#ed7953"
             ],
             [
              0.7777777777777778,
              "#fb9f3a"
             ],
             [
              0.8888888888888888,
              "#fdca26"
             ],
             [
              1,
              "#f0f921"
             ]
            ],
            "type": "heatmap"
           }
          ],
          "heatmapgl": [
           {
            "colorbar": {
             "outlinewidth": 0,
             "ticks": ""
            },
            "colorscale": [
             [
              0,
              "#0d0887"
             ],
             [
              0.1111111111111111,
              "#46039f"
             ],
             [
              0.2222222222222222,
              "#7201a8"
             ],
             [
              0.3333333333333333,
              "#9c179e"
             ],
             [
              0.4444444444444444,
              "#bd3786"
             ],
             [
              0.5555555555555556,
              "#d8576b"
             ],
             [
              0.6666666666666666,
              "#ed7953"
             ],
             [
              0.7777777777777778,
              "#fb9f3a"
             ],
             [
              0.8888888888888888,
              "#fdca26"
             ],
             [
              1,
              "#f0f921"
             ]
            ],
            "type": "heatmapgl"
           }
          ],
          "histogram": [
           {
            "marker": {
             "pattern": {
              "fillmode": "overlay",
              "size": 10,
              "solidity": 0.2
             }
            },
            "type": "histogram"
           }
          ],
          "histogram2d": [
           {
            "colorbar": {
             "outlinewidth": 0,
             "ticks": ""
            },
            "colorscale": [
             [
              0,
              "#0d0887"
             ],
             [
              0.1111111111111111,
              "#46039f"
             ],
             [
              0.2222222222222222,
              "#7201a8"
             ],
             [
              0.3333333333333333,
              "#9c179e"
             ],
             [
              0.4444444444444444,
              "#bd3786"
             ],
             [
              0.5555555555555556,
              "#d8576b"
             ],
             [
              0.6666666666666666,
              "#ed7953"
             ],
             [
              0.7777777777777778,
              "#fb9f3a"
             ],
             [
              0.8888888888888888,
              "#fdca26"
             ],
             [
              1,
              "#f0f921"
             ]
            ],
            "type": "histogram2d"
           }
          ],
          "histogram2dcontour": [
           {
            "colorbar": {
             "outlinewidth": 0,
             "ticks": ""
            },
            "colorscale": [
             [
              0,
              "#0d0887"
             ],
             [
              0.1111111111111111,
              "#46039f"
             ],
             [
              0.2222222222222222,
              "#7201a8"
             ],
             [
              0.3333333333333333,
              "#9c179e"
             ],
             [
              0.4444444444444444,
              "#bd3786"
             ],
             [
              0.5555555555555556,
              "#d8576b"
             ],
             [
              0.6666666666666666,
              "#ed7953"
             ],
             [
              0.7777777777777778,
              "#fb9f3a"
             ],
             [
              0.8888888888888888,
              "#fdca26"
             ],
             [
              1,
              "#f0f921"
             ]
            ],
            "type": "histogram2dcontour"
           }
          ],
          "mesh3d": [
           {
            "colorbar": {
             "outlinewidth": 0,
             "ticks": ""
            },
            "type": "mesh3d"
           }
          ],
          "parcoords": [
           {
            "line": {
             "colorbar": {
              "outlinewidth": 0,
              "ticks": ""
             }
            },
            "type": "parcoords"
           }
          ],
          "pie": [
           {
            "automargin": true,
            "type": "pie"
           }
          ],
          "scatter": [
           {
            "marker": {
             "colorbar": {
              "outlinewidth": 0,
              "ticks": ""
             }
            },
            "type": "scatter"
           }
          ],
          "scatter3d": [
           {
            "line": {
             "colorbar": {
              "outlinewidth": 0,
              "ticks": ""
             }
            },
            "marker": {
             "colorbar": {
              "outlinewidth": 0,
              "ticks": ""
             }
            },
            "type": "scatter3d"
           }
          ],
          "scattercarpet": [
           {
            "marker": {
             "colorbar": {
              "outlinewidth": 0,
              "ticks": ""
             }
            },
            "type": "scattercarpet"
           }
          ],
          "scattergeo": [
           {
            "marker": {
             "colorbar": {
              "outlinewidth": 0,
              "ticks": ""
             }
            },
            "type": "scattergeo"
           }
          ],
          "scattergl": [
           {
            "marker": {
             "colorbar": {
              "outlinewidth": 0,
              "ticks": ""
             }
            },
            "type": "scattergl"
           }
          ],
          "scattermapbox": [
           {
            "marker": {
             "colorbar": {
              "outlinewidth": 0,
              "ticks": ""
             }
            },
            "type": "scattermapbox"
           }
          ],
          "scatterpolar": [
           {
            "marker": {
             "colorbar": {
              "outlinewidth": 0,
              "ticks": ""
             }
            },
            "type": "scatterpolar"
           }
          ],
          "scatterpolargl": [
           {
            "marker": {
             "colorbar": {
              "outlinewidth": 0,
              "ticks": ""
             }
            },
            "type": "scatterpolargl"
           }
          ],
          "scatterternary": [
           {
            "marker": {
             "colorbar": {
              "outlinewidth": 0,
              "ticks": ""
             }
            },
            "type": "scatterternary"
           }
          ],
          "surface": [
           {
            "colorbar": {
             "outlinewidth": 0,
             "ticks": ""
            },
            "colorscale": [
             [
              0,
              "#0d0887"
             ],
             [
              0.1111111111111111,
              "#46039f"
             ],
             [
              0.2222222222222222,
              "#7201a8"
             ],
             [
              0.3333333333333333,
              "#9c179e"
             ],
             [
              0.4444444444444444,
              "#bd3786"
             ],
             [
              0.5555555555555556,
              "#d8576b"
             ],
             [
              0.6666666666666666,
              "#ed7953"
             ],
             [
              0.7777777777777778,
              "#fb9f3a"
             ],
             [
              0.8888888888888888,
              "#fdca26"
             ],
             [
              1,
              "#f0f921"
             ]
            ],
            "type": "surface"
           }
          ],
          "table": [
           {
            "cells": {
             "fill": {
              "color": "#EBF0F8"
             },
             "line": {
              "color": "white"
             }
            },
            "header": {
             "fill": {
              "color": "#C8D4E3"
             },
             "line": {
              "color": "white"
             }
            },
            "type": "table"
           }
          ]
         },
         "layout": {
          "annotationdefaults": {
           "arrowcolor": "#2a3f5f",
           "arrowhead": 0,
           "arrowwidth": 1
          },
          "autotypenumbers": "strict",
          "coloraxis": {
           "colorbar": {
            "outlinewidth": 0,
            "ticks": ""
           }
          },
          "colorscale": {
           "diverging": [
            [
             0,
             "#8e0152"
            ],
            [
             0.1,
             "#c51b7d"
            ],
            [
             0.2,
             "#de77ae"
            ],
            [
             0.3,
             "#f1b6da"
            ],
            [
             0.4,
             "#fde0ef"
            ],
            [
             0.5,
             "#f7f7f7"
            ],
            [
             0.6,
             "#e6f5d0"
            ],
            [
             0.7,
             "#b8e186"
            ],
            [
             0.8,
             "#7fbc41"
            ],
            [
             0.9,
             "#4d9221"
            ],
            [
             1,
             "#276419"
            ]
           ],
           "sequential": [
            [
             0,
             "#0d0887"
            ],
            [
             0.1111111111111111,
             "#46039f"
            ],
            [
             0.2222222222222222,
             "#7201a8"
            ],
            [
             0.3333333333333333,
             "#9c179e"
            ],
            [
             0.4444444444444444,
             "#bd3786"
            ],
            [
             0.5555555555555556,
             "#d8576b"
            ],
            [
             0.6666666666666666,
             "#ed7953"
            ],
            [
             0.7777777777777778,
             "#fb9f3a"
            ],
            [
             0.8888888888888888,
             "#fdca26"
            ],
            [
             1,
             "#f0f921"
            ]
           ],
           "sequentialminus": [
            [
             0,
             "#0d0887"
            ],
            [
             0.1111111111111111,
             "#46039f"
            ],
            [
             0.2222222222222222,
             "#7201a8"
            ],
            [
             0.3333333333333333,
             "#9c179e"
            ],
            [
             0.4444444444444444,
             "#bd3786"
            ],
            [
             0.5555555555555556,
             "#d8576b"
            ],
            [
             0.6666666666666666,
             "#ed7953"
            ],
            [
             0.7777777777777778,
             "#fb9f3a"
            ],
            [
             0.8888888888888888,
             "#fdca26"
            ],
            [
             1,
             "#f0f921"
            ]
           ]
          },
          "colorway": [
           "#636efa",
           "#EF553B",
           "#00cc96",
           "#ab63fa",
           "#FFA15A",
           "#19d3f3",
           "#FF6692",
           "#B6E880",
           "#FF97FF",
           "#FECB52"
          ],
          "font": {
           "color": "#2a3f5f"
          },
          "geo": {
           "bgcolor": "white",
           "lakecolor": "white",
           "landcolor": "#E5ECF6",
           "showlakes": true,
           "showland": true,
           "subunitcolor": "white"
          },
          "hoverlabel": {
           "align": "left"
          },
          "hovermode": "closest",
          "mapbox": {
           "style": "light"
          },
          "paper_bgcolor": "white",
          "plot_bgcolor": "#E5ECF6",
          "polar": {
           "angularaxis": {
            "gridcolor": "white",
            "linecolor": "white",
            "ticks": ""
           },
           "bgcolor": "#E5ECF6",
           "radialaxis": {
            "gridcolor": "white",
            "linecolor": "white",
            "ticks": ""
           }
          },
          "scene": {
           "xaxis": {
            "backgroundcolor": "#E5ECF6",
            "gridcolor": "white",
            "gridwidth": 2,
            "linecolor": "white",
            "showbackground": true,
            "ticks": "",
            "zerolinecolor": "white"
           },
           "yaxis": {
            "backgroundcolor": "#E5ECF6",
            "gridcolor": "white",
            "gridwidth": 2,
            "linecolor": "white",
            "showbackground": true,
            "ticks": "",
            "zerolinecolor": "white"
           },
           "zaxis": {
            "backgroundcolor": "#E5ECF6",
            "gridcolor": "white",
            "gridwidth": 2,
            "linecolor": "white",
            "showbackground": true,
            "ticks": "",
            "zerolinecolor": "white"
           }
          },
          "shapedefaults": {
           "line": {
            "color": "#2a3f5f"
           }
          },
          "ternary": {
           "aaxis": {
            "gridcolor": "white",
            "linecolor": "white",
            "ticks": ""
           },
           "baxis": {
            "gridcolor": "white",
            "linecolor": "white",
            "ticks": ""
           },
           "bgcolor": "#E5ECF6",
           "caxis": {
            "gridcolor": "white",
            "linecolor": "white",
            "ticks": ""
           }
          },
          "title": {
           "x": 0.05
          },
          "xaxis": {
           "automargin": true,
           "gridcolor": "white",
           "linecolor": "white",
           "ticks": "",
           "title": {
            "standoff": 15
           },
           "zerolinecolor": "white",
           "zerolinewidth": 2
          },
          "yaxis": {
           "automargin": true,
           "gridcolor": "white",
           "linecolor": "white",
           "ticks": "",
           "title": {
            "standoff": 15
           },
           "zerolinecolor": "white",
           "zerolinewidth": 2
          }
         }
        },
        "xaxis": {
         "type": "category"
        }
       }
      }
     },
     "metadata": {},
     "output_type": "display_data"
    },
    {
     "data": {
      "application/vnd.plotly.v1+json": {
       "config": {
        "plotlyServerURL": "https://plot.ly"
       },
       "data": [
        {
         "marker": {
          "cmax": 1,
          "cmin": 0,
          "color": [
           0.8611111111111112,
           0.9027777777777778,
           0,
           0,
           0.9305555555555556,
           0.9305555555555556,
           0,
           0,
           0,
           0,
           0,
           0,
           0.9444444444444444,
           0,
           0.9027777777777778,
           0.9305555555555556,
           0,
           0,
           0,
           0,
           0.9583333333333334,
           0,
           0,
           0,
           0,
           0.9305555555555556,
           0,
           0,
           0,
           0.9305555555555556,
           0,
           0,
           0.9166666666666666,
           0,
           0,
           0.8888888888888888,
           0,
           0,
           0.9305555555555556,
           0,
           0,
           0,
           0.9166666666666666,
           0,
           0.9166666666666666,
           0,
           0,
           0,
           0,
           0.9166666666666666,
           0.8333333333333334,
           0,
           0,
           0.9444444444444444,
           0,
           0,
           0.9027777777777778,
           0.8888888888888888,
           0,
           0.8611111111111112,
           0.875,
           0.9166666666666666,
           0.8888888888888888,
           0.8194444444444444,
           0,
           0,
           0.9305555555555556,
           0,
           0.9305555555555556,
           0,
           0.9166666666666666,
           0.9166666666666666,
           0,
           0,
           0.8194444444444444,
           0.8888888888888888,
           0,
           0,
           0.9027777777777778,
           0.9166666666666666,
           0.9027777777777778,
           0.8888888888888888,
           0,
           0.9444444444444444,
           0,
           0.8888888888888888,
           0.9166666666666666,
           0,
           0,
           0.9166666666666666,
           0,
           0,
           0,
           0,
           0,
           0.9305555555555556,
           0.9444444444444444,
           0,
           0,
           0,
           0,
           0.9166666666666666,
           0,
           0,
           0,
           0.9444444444444444,
           0,
           0.9166666666666666,
           0.8888888888888888,
           0,
           0.9444444444444444,
           0.9444444444444444,
           0,
           0,
           0,
           0,
           0,
           0,
           0,
           0.9444444444444444,
           0.9444444444444444,
           0,
           0,
           0.9444444444444444,
           0.9583333333333334,
           0.9305555555555556,
           0,
           0,
           0.9583333333333334,
           0,
           0,
           0.9444444444444444,
           0.9583333333333334,
           0,
           0,
           0.875,
           0,
           0,
           0.9444444444444444,
           0.9305555555555556,
           0,
           0,
           0.9444444444444444,
           0,
           0,
           0,
           0,
           0.9583333333333334,
           0.9444444444444444,
           0,
           0,
           0.9722222222222222,
           0.9583333333333334,
           0,
           0,
           0,
           0,
           0,
           0,
           0,
           0,
           0,
           0.9444444444444444,
           0,
           0,
           0,
           0,
           0,
           0,
           0,
           0.9583333333333334,
           0,
           0,
           0,
           0.9444444444444444,
           0,
           0,
           0,
           0,
           0,
           0,
           0,
           0.9583333333333334,
           0,
           0.9722222222222222,
           0,
           0.9722222222222222,
           0,
           0.9583333333333334,
           0.9722222222222222,
           0.9722222222222222,
           0.9722222222222222,
           0,
           0,
           0,
           0,
           0,
           0,
           1
          ],
          "colorbar": {
           "title": {
            "text": "revenue"
           }
          },
          "colorscale": [
           [
            0,
            "#440154"
           ],
           [
            0.1111111111111111,
            "#482878"
           ],
           [
            0.2222222222222222,
            "#3e4989"
           ],
           [
            0.3333333333333333,
            "#31688e"
           ],
           [
            0.4444444444444444,
            "#26828e"
           ],
           [
            0.5555555555555556,
            "#1f9e89"
           ],
           [
            0.6666666666666666,
            "#35b779"
           ],
           [
            0.7777777777777778,
            "#6ece58"
           ],
           [
            0.8888888888888888,
            "#b5de2b"
           ],
           [
            1,
            "#fde725"
           ]
          ]
         },
         "type": "bar",
         "x": [
          "00101010001",
          "01001110001",
          "11111100111",
          "01110011011",
          "01010110011",
          "10101001011",
          "11100111011",
          "00001110111",
          "01011011111",
          "10100001111",
          "00101010111",
          "11000011110",
          "01001010101",
          "01010111001",
          "01000011100",
          "01111001001",
          "11000111101",
          "01111001011",
          "01100001111",
          "01111011101",
          "01011010011",
          "01111010011",
          "00111111011",
          "00101011101",
          "10101101011",
          "10001110011",
          "01100111101",
          "01100110111",
          "01000111101",
          "11000110011",
          "11000111011",
          "01101001101",
          "01010001011",
          "00001101111",
          "11101011111",
          "01000010011",
          "00101111011",
          "01111111011",
          "11101001001",
          "01000111111",
          "01011111101",
          "11011111011",
          "01000101101",
          "11101111111",
          "01111100011",
          "00011111001",
          "01010011111",
          "10101011001",
          "01011111111",
          "00000011011",
          "11010000001",
          "10000011111",
          "01100011111",
          "00001001111",
          "10111100100",
          "11011011111",
          "11101010010",
          "01101110010",
          "00111011011",
          "10010011000",
          "00100111010",
          "10100011001",
          "01101100011",
          "00010001100",
          "10101111001",
          "01011111001",
          "00001111001",
          "01010100111",
          "00111001011",
          "00110111101",
          "00100001111",
          "00001101101",
          "11011101011",
          "11011010011",
          "01001010000",
          "00110010011",
          "11100111001",
          "11101110011",
          "00000001111",
          "10001001011",
          "10010001011",
          "00001010011",
          "11000111001",
          "01001001101",
          "11111101111",
          "01000001011",
          "01001000111",
          "11111101011",
          "10000111011",
          "11101100011",
          "01011001111",
          "11001111111",
          "01111111111",
          "00001111101",
          "01101111100",
          "00000111011",
          "01000010111",
          "11000101101",
          "11101101111",
          "01101111110",
          "01100011101",
          "00000110111",
          "01001011110",
          "01111011001",
          "11001111001",
          "00100111011",
          "10101011011",
          "01011011000",
          "00001001011",
          "00011011111",
          "01101010011",
          "00011011001",
          "01011111011",
          "01101111001",
          "01010111011",
          "01101010111",
          "01100111011",
          "00101011111",
          "11001110011",
          "11000011001",
          "00010011011",
          "11101111001",
          "00100111111",
          "00001010111",
          "01101101011",
          "01001010011",
          "01110011001",
          "11000011111",
          "01101110011",
          "11001011001",
          "10101111111",
          "01010011001",
          "00001011011",
          "11111111011",
          "10101011111",
          "00000011001",
          "11001101011",
          "00000011111",
          "01001101011",
          "01011101001",
          "01001110111",
          "10111011001",
          "01000001111",
          "11001111011",
          "11100011011",
          "11011110111",
          "01001101111",
          "11001001011",
          "01100111001",
          "00011111011",
          "01101011101",
          "01000111011",
          "01001011001",
          "01011011001",
          "11101111011",
          "11101001011",
          "01011101011",
          "00001111111",
          "11101010011",
          "11101011001",
          "11111011011",
          "11011101111",
          "10001011001",
          "01000011101",
          "01000011111",
          "01001111101",
          "00011011011",
          "10001011011",
          "11001011111",
          "01001011101",
          "01011001011",
          "01111011011",
          "11000011011",
          "11101011011",
          "01101001011",
          "01011110011",
          "11011011011",
          "01101111111",
          "01001001111",
          "01101011111",
          "01001111111",
          "10001111011",
          "11001010011",
          "01010011011",
          "00001111011",
          "01001010111",
          "00101011011",
          "00001011111",
          "01000011011",
          "01101011001",
          "01100011011",
          "01001111001",
          "11001011011",
          "01011011011",
          "01001011111",
          "01101111011",
          "01001111011",
          "01101011011",
          "01001011011"
         ],
         "y": [
          1,
          1,
          1,
          1,
          1,
          1,
          1,
          1,
          1,
          1,
          1,
          1,
          1,
          1,
          1,
          1,
          1,
          1,
          1,
          1,
          1,
          1,
          1,
          1,
          1,
          1,
          1,
          1,
          1,
          1,
          1,
          1,
          1,
          1,
          1,
          1,
          1,
          1,
          1,
          1,
          1,
          1,
          1,
          1,
          1,
          1,
          1,
          1,
          1,
          1,
          1,
          1,
          1,
          1,
          1,
          1,
          1,
          1,
          1,
          1,
          1,
          1,
          1,
          1,
          1,
          1,
          1,
          1,
          1,
          1,
          1,
          1,
          1,
          1,
          1,
          1,
          1,
          1,
          1,
          1,
          1,
          1,
          1,
          1,
          1,
          1,
          1,
          1,
          1,
          1,
          1,
          1,
          1,
          1,
          1,
          1,
          1,
          1,
          1,
          1,
          1,
          1,
          1,
          1,
          1,
          1,
          1,
          1,
          1,
          2,
          2,
          2,
          2,
          2,
          2,
          2,
          2,
          2,
          2,
          2,
          2,
          2,
          2,
          2,
          2,
          2,
          2,
          2,
          2,
          2,
          2,
          2,
          2,
          2,
          2,
          2,
          2,
          2,
          2,
          2,
          2,
          2,
          2,
          2,
          2,
          2,
          2,
          2,
          3,
          3,
          3,
          3,
          3,
          3,
          3,
          3,
          3,
          3,
          3,
          3,
          3,
          3,
          3,
          3,
          3,
          3,
          3,
          3,
          3,
          4,
          4,
          4,
          4,
          4,
          4,
          4,
          4,
          4,
          5,
          5,
          5,
          5,
          6,
          6,
          6,
          6,
          6,
          7,
          7,
          8,
          8,
          8,
          9,
          11,
          12,
          17,
          18,
          25,
          46
         ]
        }
       ],
       "layout": {
        "template": {
         "data": {
          "bar": [
           {
            "error_x": {
             "color": "#2a3f5f"
            },
            "error_y": {
             "color": "#2a3f5f"
            },
            "marker": {
             "line": {
              "color": "#E5ECF6",
              "width": 0.5
             },
             "pattern": {
              "fillmode": "overlay",
              "size": 10,
              "solidity": 0.2
             }
            },
            "type": "bar"
           }
          ],
          "barpolar": [
           {
            "marker": {
             "line": {
              "color": "#E5ECF6",
              "width": 0.5
             },
             "pattern": {
              "fillmode": "overlay",
              "size": 10,
              "solidity": 0.2
             }
            },
            "type": "barpolar"
           }
          ],
          "carpet": [
           {
            "aaxis": {
             "endlinecolor": "#2a3f5f",
             "gridcolor": "white",
             "linecolor": "white",
             "minorgridcolor": "white",
             "startlinecolor": "#2a3f5f"
            },
            "baxis": {
             "endlinecolor": "#2a3f5f",
             "gridcolor": "white",
             "linecolor": "white",
             "minorgridcolor": "white",
             "startlinecolor": "#2a3f5f"
            },
            "type": "carpet"
           }
          ],
          "choropleth": [
           {
            "colorbar": {
             "outlinewidth": 0,
             "ticks": ""
            },
            "type": "choropleth"
           }
          ],
          "contour": [
           {
            "colorbar": {
             "outlinewidth": 0,
             "ticks": ""
            },
            "colorscale": [
             [
              0,
              "#0d0887"
             ],
             [
              0.1111111111111111,
              "#46039f"
             ],
             [
              0.2222222222222222,
              "#7201a8"
             ],
             [
              0.3333333333333333,
              "#9c179e"
             ],
             [
              0.4444444444444444,
              "#bd3786"
             ],
             [
              0.5555555555555556,
              "#d8576b"
             ],
             [
              0.6666666666666666,
              "#ed7953"
             ],
             [
              0.7777777777777778,
              "#fb9f3a"
             ],
             [
              0.8888888888888888,
              "#fdca26"
             ],
             [
              1,
              "#f0f921"
             ]
            ],
            "type": "contour"
           }
          ],
          "contourcarpet": [
           {
            "colorbar": {
             "outlinewidth": 0,
             "ticks": ""
            },
            "type": "contourcarpet"
           }
          ],
          "heatmap": [
           {
            "colorbar": {
             "outlinewidth": 0,
             "ticks": ""
            },
            "colorscale": [
             [
              0,
              "#0d0887"
             ],
             [
              0.1111111111111111,
              "#46039f"
             ],
             [
              0.2222222222222222,
              "#7201a8"
             ],
             [
              0.3333333333333333,
              "#9c179e"
             ],
             [
              0.4444444444444444,
              "#bd3786"
             ],
             [
              0.5555555555555556,
              "#d8576b"
             ],
             [
              0.6666666666666666,
              "#ed7953"
             ],
             [
              0.7777777777777778,
              "#fb9f3a"
             ],
             [
              0.8888888888888888,
              "#fdca26"
             ],
             [
              1,
              "#f0f921"
             ]
            ],
            "type": "heatmap"
           }
          ],
          "heatmapgl": [
           {
            "colorbar": {
             "outlinewidth": 0,
             "ticks": ""
            },
            "colorscale": [
             [
              0,
              "#0d0887"
             ],
             [
              0.1111111111111111,
              "#46039f"
             ],
             [
              0.2222222222222222,
              "#7201a8"
             ],
             [
              0.3333333333333333,
              "#9c179e"
             ],
             [
              0.4444444444444444,
              "#bd3786"
             ],
             [
              0.5555555555555556,
              "#d8576b"
             ],
             [
              0.6666666666666666,
              "#ed7953"
             ],
             [
              0.7777777777777778,
              "#fb9f3a"
             ],
             [
              0.8888888888888888,
              "#fdca26"
             ],
             [
              1,
              "#f0f921"
             ]
            ],
            "type": "heatmapgl"
           }
          ],
          "histogram": [
           {
            "marker": {
             "pattern": {
              "fillmode": "overlay",
              "size": 10,
              "solidity": 0.2
             }
            },
            "type": "histogram"
           }
          ],
          "histogram2d": [
           {
            "colorbar": {
             "outlinewidth": 0,
             "ticks": ""
            },
            "colorscale": [
             [
              0,
              "#0d0887"
             ],
             [
              0.1111111111111111,
              "#46039f"
             ],
             [
              0.2222222222222222,
              "#7201a8"
             ],
             [
              0.3333333333333333,
              "#9c179e"
             ],
             [
              0.4444444444444444,
              "#bd3786"
             ],
             [
              0.5555555555555556,
              "#d8576b"
             ],
             [
              0.6666666666666666,
              "#ed7953"
             ],
             [
              0.7777777777777778,
              "#fb9f3a"
             ],
             [
              0.8888888888888888,
              "#fdca26"
             ],
             [
              1,
              "#f0f921"
             ]
            ],
            "type": "histogram2d"
           }
          ],
          "histogram2dcontour": [
           {
            "colorbar": {
             "outlinewidth": 0,
             "ticks": ""
            },
            "colorscale": [
             [
              0,
              "#0d0887"
             ],
             [
              0.1111111111111111,
              "#46039f"
             ],
             [
              0.2222222222222222,
              "#7201a8"
             ],
             [
              0.3333333333333333,
              "#9c179e"
             ],
             [
              0.4444444444444444,
              "#bd3786"
             ],
             [
              0.5555555555555556,
              "#d8576b"
             ],
             [
              0.6666666666666666,
              "#ed7953"
             ],
             [
              0.7777777777777778,
              "#fb9f3a"
             ],
             [
              0.8888888888888888,
              "#fdca26"
             ],
             [
              1,
              "#f0f921"
             ]
            ],
            "type": "histogram2dcontour"
           }
          ],
          "mesh3d": [
           {
            "colorbar": {
             "outlinewidth": 0,
             "ticks": ""
            },
            "type": "mesh3d"
           }
          ],
          "parcoords": [
           {
            "line": {
             "colorbar": {
              "outlinewidth": 0,
              "ticks": ""
             }
            },
            "type": "parcoords"
           }
          ],
          "pie": [
           {
            "automargin": true,
            "type": "pie"
           }
          ],
          "scatter": [
           {
            "marker": {
             "colorbar": {
              "outlinewidth": 0,
              "ticks": ""
             }
            },
            "type": "scatter"
           }
          ],
          "scatter3d": [
           {
            "line": {
             "colorbar": {
              "outlinewidth": 0,
              "ticks": ""
             }
            },
            "marker": {
             "colorbar": {
              "outlinewidth": 0,
              "ticks": ""
             }
            },
            "type": "scatter3d"
           }
          ],
          "scattercarpet": [
           {
            "marker": {
             "colorbar": {
              "outlinewidth": 0,
              "ticks": ""
             }
            },
            "type": "scattercarpet"
           }
          ],
          "scattergeo": [
           {
            "marker": {
             "colorbar": {
              "outlinewidth": 0,
              "ticks": ""
             }
            },
            "type": "scattergeo"
           }
          ],
          "scattergl": [
           {
            "marker": {
             "colorbar": {
              "outlinewidth": 0,
              "ticks": ""
             }
            },
            "type": "scattergl"
           }
          ],
          "scattermapbox": [
           {
            "marker": {
             "colorbar": {
              "outlinewidth": 0,
              "ticks": ""
             }
            },
            "type": "scattermapbox"
           }
          ],
          "scatterpolar": [
           {
            "marker": {
             "colorbar": {
              "outlinewidth": 0,
              "ticks": ""
             }
            },
            "type": "scatterpolar"
           }
          ],
          "scatterpolargl": [
           {
            "marker": {
             "colorbar": {
              "outlinewidth": 0,
              "ticks": ""
             }
            },
            "type": "scatterpolargl"
           }
          ],
          "scatterternary": [
           {
            "marker": {
             "colorbar": {
              "outlinewidth": 0,
              "ticks": ""
             }
            },
            "type": "scatterternary"
           }
          ],
          "surface": [
           {
            "colorbar": {
             "outlinewidth": 0,
             "ticks": ""
            },
            "colorscale": [
             [
              0,
              "#0d0887"
             ],
             [
              0.1111111111111111,
              "#46039f"
             ],
             [
              0.2222222222222222,
              "#7201a8"
             ],
             [
              0.3333333333333333,
              "#9c179e"
             ],
             [
              0.4444444444444444,
              "#bd3786"
             ],
             [
              0.5555555555555556,
              "#d8576b"
             ],
             [
              0.6666666666666666,
              "#ed7953"
             ],
             [
              0.7777777777777778,
              "#fb9f3a"
             ],
             [
              0.8888888888888888,
              "#fdca26"
             ],
             [
              1,
              "#f0f921"
             ]
            ],
            "type": "surface"
           }
          ],
          "table": [
           {
            "cells": {
             "fill": {
              "color": "#EBF0F8"
             },
             "line": {
              "color": "white"
             }
            },
            "header": {
             "fill": {
              "color": "#C8D4E3"
             },
             "line": {
              "color": "white"
             }
            },
            "type": "table"
           }
          ]
         },
         "layout": {
          "annotationdefaults": {
           "arrowcolor": "#2a3f5f",
           "arrowhead": 0,
           "arrowwidth": 1
          },
          "autotypenumbers": "strict",
          "coloraxis": {
           "colorbar": {
            "outlinewidth": 0,
            "ticks": ""
           }
          },
          "colorscale": {
           "diverging": [
            [
             0,
             "#8e0152"
            ],
            [
             0.1,
             "#c51b7d"
            ],
            [
             0.2,
             "#de77ae"
            ],
            [
             0.3,
             "#f1b6da"
            ],
            [
             0.4,
             "#fde0ef"
            ],
            [
             0.5,
             "#f7f7f7"
            ],
            [
             0.6,
             "#e6f5d0"
            ],
            [
             0.7,
             "#b8e186"
            ],
            [
             0.8,
             "#7fbc41"
            ],
            [
             0.9,
             "#4d9221"
            ],
            [
             1,
             "#276419"
            ]
           ],
           "sequential": [
            [
             0,
             "#0d0887"
            ],
            [
             0.1111111111111111,
             "#46039f"
            ],
            [
             0.2222222222222222,
             "#7201a8"
            ],
            [
             0.3333333333333333,
             "#9c179e"
            ],
            [
             0.4444444444444444,
             "#bd3786"
            ],
            [
             0.5555555555555556,
             "#d8576b"
            ],
            [
             0.6666666666666666,
             "#ed7953"
            ],
            [
             0.7777777777777778,
             "#fb9f3a"
            ],
            [
             0.8888888888888888,
             "#fdca26"
            ],
            [
             1,
             "#f0f921"
            ]
           ],
           "sequentialminus": [
            [
             0,
             "#0d0887"
            ],
            [
             0.1111111111111111,
             "#46039f"
            ],
            [
             0.2222222222222222,
             "#7201a8"
            ],
            [
             0.3333333333333333,
             "#9c179e"
            ],
            [
             0.4444444444444444,
             "#bd3786"
            ],
            [
             0.5555555555555556,
             "#d8576b"
            ],
            [
             0.6666666666666666,
             "#ed7953"
            ],
            [
             0.7777777777777778,
             "#fb9f3a"
            ],
            [
             0.8888888888888888,
             "#fdca26"
            ],
            [
             1,
             "#f0f921"
            ]
           ]
          },
          "colorway": [
           "#636efa",
           "#EF553B",
           "#00cc96",
           "#ab63fa",
           "#FFA15A",
           "#19d3f3",
           "#FF6692",
           "#B6E880",
           "#FF97FF",
           "#FECB52"
          ],
          "font": {
           "color": "#2a3f5f"
          },
          "geo": {
           "bgcolor": "white",
           "lakecolor": "white",
           "landcolor": "#E5ECF6",
           "showlakes": true,
           "showland": true,
           "subunitcolor": "white"
          },
          "hoverlabel": {
           "align": "left"
          },
          "hovermode": "closest",
          "mapbox": {
           "style": "light"
          },
          "paper_bgcolor": "white",
          "plot_bgcolor": "#E5ECF6",
          "polar": {
           "angularaxis": {
            "gridcolor": "white",
            "linecolor": "white",
            "ticks": ""
           },
           "bgcolor": "#E5ECF6",
           "radialaxis": {
            "gridcolor": "white",
            "linecolor": "white",
            "ticks": ""
           }
          },
          "scene": {
           "xaxis": {
            "backgroundcolor": "#E5ECF6",
            "gridcolor": "white",
            "gridwidth": 2,
            "linecolor": "white",
            "showbackground": true,
            "ticks": "",
            "zerolinecolor": "white"
           },
           "yaxis": {
            "backgroundcolor": "#E5ECF6",
            "gridcolor": "white",
            "gridwidth": 2,
            "linecolor": "white",
            "showbackground": true,
            "ticks": "",
            "zerolinecolor": "white"
           },
           "zaxis": {
            "backgroundcolor": "#E5ECF6",
            "gridcolor": "white",
            "gridwidth": 2,
            "linecolor": "white",
            "showbackground": true,
            "ticks": "",
            "zerolinecolor": "white"
           }
          },
          "shapedefaults": {
           "line": {
            "color": "#2a3f5f"
           }
          },
          "ternary": {
           "aaxis": {
            "gridcolor": "white",
            "linecolor": "white",
            "ticks": ""
           },
           "baxis": {
            "gridcolor": "white",
            "linecolor": "white",
            "ticks": ""
           },
           "bgcolor": "#E5ECF6",
           "caxis": {
            "gridcolor": "white",
            "linecolor": "white",
            "ticks": ""
           }
          },
          "title": {
           "x": 0.05
          },
          "xaxis": {
           "automargin": true,
           "gridcolor": "white",
           "linecolor": "white",
           "ticks": "",
           "title": {
            "standoff": 15
           },
           "zerolinecolor": "white",
           "zerolinewidth": 2
          },
          "yaxis": {
           "automargin": true,
           "gridcolor": "white",
           "linecolor": "white",
           "ticks": "",
           "title": {
            "standoff": 15
           },
           "zerolinecolor": "white",
           "zerolinewidth": 2
          }
         }
        },
        "xaxis": {
         "type": "category"
        }
       }
      }
     },
     "metadata": {},
     "output_type": "display_data"
    },
    {
     "data": {
      "application/vnd.plotly.v1+json": {
       "config": {
        "plotlyServerURL": "https://plot.ly"
       },
       "data": [
        {
         "marker": {
          "cmax": 1,
          "cmin": 0,
          "color": [
           0.921875,
           0.953125,
           0,
           0.953125,
           0.953125,
           0,
           0,
           0,
           0.84375,
           0,
           0.90625,
           0.875,
           0.96875,
           0,
           0.859375,
           0,
           0,
           0.953125,
           0,
           0,
           0,
           0.953125,
           0.953125,
           0.953125,
           0,
           0,
           0.90625,
           0,
           0,
           0,
           0.953125,
           0,
           0.9375,
           0,
           0,
           0.921875,
           0,
           0,
           0.96875,
           0,
           0.953125,
           0,
           0,
           0.921875,
           0.9375,
           0.953125,
           0.953125,
           0.96875,
           0.953125,
           0.953125,
           0.96875,
           0.921875,
           0,
           0.953125,
           0,
           0,
           0.9375,
           0,
           0.9375,
           0,
           0.921875,
           0.9375,
           0,
           0.90625,
           0.921875,
           0,
           0,
           0,
           0.859375,
           0,
           0.953125,
           0.96875,
           0,
           0.84375,
           0,
           0,
           0.921875,
           0,
           0,
           0.9375,
           0,
           0.9375,
           0,
           0,
           0.953125,
           0.828125,
           0,
           0,
           0,
           0,
           0.90625,
           0.953125,
           0.921875,
           0,
           0.8125,
           0,
           0,
           0,
           0.9375,
           0,
           0,
           0,
           0.953125,
           0,
           0,
           0.953125,
           0.921875,
           0.890625,
           0.96875,
           0,
           0.921875,
           0.9375,
           0.953125,
           0.953125,
           0,
           0.921875,
           0,
           0.90625,
           0.9375,
           0.953125,
           0.953125,
           0.953125,
           0,
           0.9375,
           0.828125,
           0,
           0.953125,
           0.875,
           0.921875,
           0.96875,
           0,
           0,
           0,
           0,
           0,
           0,
           0,
           0.875,
           0,
           0.96875,
           0.96875,
           0,
           0,
           0.96875,
           0.96875,
           0,
           0.953125,
           0.984375,
           0,
           0,
           0,
           0,
           0,
           0,
           0.953125,
           0.953125,
           0.96875,
           0.953125,
           0,
           0.953125,
           0.9375,
           0,
           0,
           0,
           0.953125,
           0.96875,
           0.96875,
           0.984375,
           0.9375,
           0,
           0,
           0.96875,
           0,
           0,
           0,
           0.96875,
           0,
           0.984375,
           0.96875,
           0,
           0,
           0,
           0,
           0,
           0.984375,
           0,
           0,
           0.984375,
           0.984375,
           0.984375,
           0,
           0,
           0,
           0,
           0.984375,
           0,
           0.984375,
           0.96875,
           0,
           0,
           0.984375,
           0,
           0,
           0,
           0,
           0,
           0,
           0,
           0,
           1,
           0,
           0,
           0.984375,
           0,
           0,
           1,
           0,
           1,
           0,
           1
          ],
          "colorbar": {
           "title": {
            "text": "revenue"
           }
          },
          "colorscale": [
           [
            0,
            "#440154"
           ],
           [
            0.1111111111111111,
            "#482878"
           ],
           [
            0.2222222222222222,
            "#3e4989"
           ],
           [
            0.3333333333333333,
            "#31688e"
           ],
           [
            0.4444444444444444,
            "#26828e"
           ],
           [
            0.5555555555555556,
            "#1f9e89"
           ],
           [
            0.6666666666666666,
            "#35b779"
           ],
           [
            0.7777777777777778,
            "#6ece58"
           ],
           [
            0.8888888888888888,
            "#b5de2b"
           ],
           [
            1,
            "#fde725"
           ]
          ]
         },
         "type": "bar",
         "x": [
          "00010100111",
          "10011001101",
          "10111111111",
          "01101000111",
          "10010011110",
          "00101101110",
          "00110011111",
          "01110011111",
          "00010000101",
          "00111011011",
          "01000010101",
          "00001010100",
          "11011010110",
          "01111011110",
          "00001000110",
          "11011110111",
          "00101111111",
          "01011011100",
          "10110010111",
          "11101011111",
          "01011101111",
          "10011000111",
          "00011010101",
          "00010010111",
          "11100011111",
          "11111110110",
          "01001100110",
          "10011111110",
          "01111011101",
          "01001011101",
          "10011010110",
          "11111011111",
          "11010010101",
          "00101100111",
          "11101010101",
          "00100100111",
          "10010011111",
          "01011011011",
          "10100010111",
          "01101011101",
          "11001011100",
          "10101011101",
          "00011100111",
          "00000110101",
          "10001000111",
          "01010011110",
          "10001010101",
          "10011010101",
          "00110011110",
          "01011010110",
          "10010010111",
          "10001100101",
          "00001111110",
          "10101001101",
          "00111111101",
          "01010011111",
          "00100011110",
          "01011011101",
          "01001011100",
          "01111011111",
          "01110001101",
          "11001001011",
          "11110011110",
          "01010010110",
          "01111000101",
          "01101011011",
          "00101011011",
          "11010011111",
          "00001010010",
          "01110010111",
          "01100001111",
          "01100010111",
          "11011101111",
          "00001100100",
          "10111010101",
          "00101110111",
          "11111000110",
          "11011011101",
          "11011110100",
          "00011010110",
          "11111011100",
          "00011001101",
          "10001111111",
          "10000111111",
          "10101010110",
          "01100100001",
          "00001110101",
          "10110011110",
          "01111010011",
          "11101011001",
          "11101001100",
          "10011010011",
          "00001000111",
          "11011011110",
          "00001000100",
          "10000110111",
          "11011001111",
          "10001111110",
          "00100011011",
          "00000111110",
          "01111010101",
          "11000111101",
          "01111001110",
          "10110011101",
          "10100101110",
          "10100011110",
          "10001011010",
          "00001100110",
          "11001010101",
          "00001101111",
          "10001110100",
          "01001011001",
          "01101011100",
          "01000010111",
          "11001011101",
          "01000100111",
          "11111111011",
          "00011110010",
          "01101011010",
          "01101001101",
          "00111001101",
          "01101010011",
          "00011110110",
          "11110000111",
          "00011000100",
          "01010011101",
          "00111000111",
          "00001000101",
          "11111010010",
          "00001011110",
          "10111110111",
          "11111111111",
          "10011011110",
          "10110011111",
          "10000011111",
          "01101001111",
          "11101010111",
          "00000010110",
          "01011001111",
          "11101000111",
          "10101010101",
          "10011001111",
          "00100011111",
          "00001001111",
          "11011000111",
          "11011011111",
          "11011001110",
          "00001011101",
          "10011011101",
          "11101011110",
          "11101001111",
          "00010011111",
          "00101110110",
          "10011011011",
          "00001110110",
          "00100010111",
          "01010010111",
          "11000011110",
          "10101001111",
          "00111010110",
          "00010001111",
          "11001011011",
          "10011011111",
          "01101011110",
          "00001100111",
          "00111010101",
          "11101010110",
          "00000011111",
          "00001101110",
          "11111010101",
          "11111010111",
          "01111000111",
          "00111011101",
          "10111010111",
          "10111011111",
          "01111010110",
          "00111001111",
          "10001001111",
          "00110010111",
          "10111001111",
          "10101011110",
          "01000011111",
          "01101010111",
          "10001011101",
          "00101011110",
          "01111010111",
          "00111011110",
          "00011001111",
          "10001011110",
          "00101001111",
          "00101011101",
          "11000011111",
          "01011011110",
          "00001110111",
          "00011011110",
          "11001011110",
          "01001011110",
          "10111000111",
          "11011010111",
          "00111011111",
          "01001001111",
          "00011011101",
          "10101011111",
          "11001010111",
          "01011010111",
          "10101010111",
          "00111010111",
          "11001011111",
          "00101011111",
          "01001010111",
          "01001011111",
          "10001011111",
          "00001010111",
          "01011011111",
          "10011010111",
          "00011010111",
          "00011011111",
          "00101010111",
          "00001011111",
          "10001010111"
         ],
         "y": [
          1,
          1,
          1,
          1,
          1,
          1,
          1,
          1,
          1,
          1,
          1,
          1,
          1,
          1,
          1,
          1,
          1,
          1,
          1,
          1,
          1,
          1,
          1,
          1,
          1,
          1,
          1,
          1,
          1,
          1,
          1,
          1,
          1,
          1,
          1,
          1,
          1,
          1,
          1,
          1,
          1,
          1,
          1,
          1,
          1,
          1,
          1,
          1,
          1,
          1,
          1,
          1,
          1,
          1,
          1,
          1,
          1,
          1,
          1,
          1,
          1,
          1,
          1,
          1,
          1,
          1,
          1,
          1,
          1,
          1,
          1,
          1,
          1,
          1,
          1,
          1,
          1,
          1,
          1,
          1,
          1,
          1,
          1,
          1,
          1,
          1,
          1,
          1,
          1,
          1,
          1,
          1,
          1,
          1,
          1,
          1,
          1,
          1,
          1,
          1,
          1,
          1,
          1,
          1,
          1,
          1,
          1,
          1,
          1,
          1,
          1,
          1,
          1,
          1,
          1,
          1,
          1,
          1,
          1,
          1,
          1,
          1,
          1,
          1,
          1,
          1,
          1,
          1,
          1,
          1,
          1,
          1,
          2,
          2,
          2,
          2,
          2,
          2,
          2,
          2,
          2,
          2,
          2,
          2,
          2,
          2,
          2,
          2,
          2,
          2,
          2,
          2,
          2,
          2,
          2,
          2,
          2,
          2,
          2,
          2,
          2,
          2,
          2,
          2,
          2,
          2,
          2,
          2,
          2,
          2,
          3,
          3,
          3,
          3,
          3,
          3,
          3,
          3,
          3,
          3,
          3,
          3,
          4,
          4,
          4,
          4,
          4,
          4,
          4,
          4,
          4,
          4,
          4,
          4,
          4,
          5,
          5,
          5,
          5,
          6,
          6,
          7,
          7,
          7,
          7,
          7,
          7,
          7,
          8,
          8,
          9,
          10,
          10,
          10,
          11,
          11,
          12,
          13,
          16,
          17
         ]
        }
       ],
       "layout": {
        "template": {
         "data": {
          "bar": [
           {
            "error_x": {
             "color": "#2a3f5f"
            },
            "error_y": {
             "color": "#2a3f5f"
            },
            "marker": {
             "line": {
              "color": "#E5ECF6",
              "width": 0.5
             },
             "pattern": {
              "fillmode": "overlay",
              "size": 10,
              "solidity": 0.2
             }
            },
            "type": "bar"
           }
          ],
          "barpolar": [
           {
            "marker": {
             "line": {
              "color": "#E5ECF6",
              "width": 0.5
             },
             "pattern": {
              "fillmode": "overlay",
              "size": 10,
              "solidity": 0.2
             }
            },
            "type": "barpolar"
           }
          ],
          "carpet": [
           {
            "aaxis": {
             "endlinecolor": "#2a3f5f",
             "gridcolor": "white",
             "linecolor": "white",
             "minorgridcolor": "white",
             "startlinecolor": "#2a3f5f"
            },
            "baxis": {
             "endlinecolor": "#2a3f5f",
             "gridcolor": "white",
             "linecolor": "white",
             "minorgridcolor": "white",
             "startlinecolor": "#2a3f5f"
            },
            "type": "carpet"
           }
          ],
          "choropleth": [
           {
            "colorbar": {
             "outlinewidth": 0,
             "ticks": ""
            },
            "type": "choropleth"
           }
          ],
          "contour": [
           {
            "colorbar": {
             "outlinewidth": 0,
             "ticks": ""
            },
            "colorscale": [
             [
              0,
              "#0d0887"
             ],
             [
              0.1111111111111111,
              "#46039f"
             ],
             [
              0.2222222222222222,
              "#7201a8"
             ],
             [
              0.3333333333333333,
              "#9c179e"
             ],
             [
              0.4444444444444444,
              "#bd3786"
             ],
             [
              0.5555555555555556,
              "#d8576b"
             ],
             [
              0.6666666666666666,
              "#ed7953"
             ],
             [
              0.7777777777777778,
              "#fb9f3a"
             ],
             [
              0.8888888888888888,
              "#fdca26"
             ],
             [
              1,
              "#f0f921"
             ]
            ],
            "type": "contour"
           }
          ],
          "contourcarpet": [
           {
            "colorbar": {
             "outlinewidth": 0,
             "ticks": ""
            },
            "type": "contourcarpet"
           }
          ],
          "heatmap": [
           {
            "colorbar": {
             "outlinewidth": 0,
             "ticks": ""
            },
            "colorscale": [
             [
              0,
              "#0d0887"
             ],
             [
              0.1111111111111111,
              "#46039f"
             ],
             [
              0.2222222222222222,
              "#7201a8"
             ],
             [
              0.3333333333333333,
              "#9c179e"
             ],
             [
              0.4444444444444444,
              "#bd3786"
             ],
             [
              0.5555555555555556,
              "#d8576b"
             ],
             [
              0.6666666666666666,
              "#ed7953"
             ],
             [
              0.7777777777777778,
              "#fb9f3a"
             ],
             [
              0.8888888888888888,
              "#fdca26"
             ],
             [
              1,
              "#f0f921"
             ]
            ],
            "type": "heatmap"
           }
          ],
          "heatmapgl": [
           {
            "colorbar": {
             "outlinewidth": 0,
             "ticks": ""
            },
            "colorscale": [
             [
              0,
              "#0d0887"
             ],
             [
              0.1111111111111111,
              "#46039f"
             ],
             [
              0.2222222222222222,
              "#7201a8"
             ],
             [
              0.3333333333333333,
              "#9c179e"
             ],
             [
              0.4444444444444444,
              "#bd3786"
             ],
             [
              0.5555555555555556,
              "#d8576b"
             ],
             [
              0.6666666666666666,
              "#ed7953"
             ],
             [
              0.7777777777777778,
              "#fb9f3a"
             ],
             [
              0.8888888888888888,
              "#fdca26"
             ],
             [
              1,
              "#f0f921"
             ]
            ],
            "type": "heatmapgl"
           }
          ],
          "histogram": [
           {
            "marker": {
             "pattern": {
              "fillmode": "overlay",
              "size": 10,
              "solidity": 0.2
             }
            },
            "type": "histogram"
           }
          ],
          "histogram2d": [
           {
            "colorbar": {
             "outlinewidth": 0,
             "ticks": ""
            },
            "colorscale": [
             [
              0,
              "#0d0887"
             ],
             [
              0.1111111111111111,
              "#46039f"
             ],
             [
              0.2222222222222222,
              "#7201a8"
             ],
             [
              0.3333333333333333,
              "#9c179e"
             ],
             [
              0.4444444444444444,
              "#bd3786"
             ],
             [
              0.5555555555555556,
              "#d8576b"
             ],
             [
              0.6666666666666666,
              "#ed7953"
             ],
             [
              0.7777777777777778,
              "#fb9f3a"
             ],
             [
              0.8888888888888888,
              "#fdca26"
             ],
             [
              1,
              "#f0f921"
             ]
            ],
            "type": "histogram2d"
           }
          ],
          "histogram2dcontour": [
           {
            "colorbar": {
             "outlinewidth": 0,
             "ticks": ""
            },
            "colorscale": [
             [
              0,
              "#0d0887"
             ],
             [
              0.1111111111111111,
              "#46039f"
             ],
             [
              0.2222222222222222,
              "#7201a8"
             ],
             [
              0.3333333333333333,
              "#9c179e"
             ],
             [
              0.4444444444444444,
              "#bd3786"
             ],
             [
              0.5555555555555556,
              "#d8576b"
             ],
             [
              0.6666666666666666,
              "#ed7953"
             ],
             [
              0.7777777777777778,
              "#fb9f3a"
             ],
             [
              0.8888888888888888,
              "#fdca26"
             ],
             [
              1,
              "#f0f921"
             ]
            ],
            "type": "histogram2dcontour"
           }
          ],
          "mesh3d": [
           {
            "colorbar": {
             "outlinewidth": 0,
             "ticks": ""
            },
            "type": "mesh3d"
           }
          ],
          "parcoords": [
           {
            "line": {
             "colorbar": {
              "outlinewidth": 0,
              "ticks": ""
             }
            },
            "type": "parcoords"
           }
          ],
          "pie": [
           {
            "automargin": true,
            "type": "pie"
           }
          ],
          "scatter": [
           {
            "marker": {
             "colorbar": {
              "outlinewidth": 0,
              "ticks": ""
             }
            },
            "type": "scatter"
           }
          ],
          "scatter3d": [
           {
            "line": {
             "colorbar": {
              "outlinewidth": 0,
              "ticks": ""
             }
            },
            "marker": {
             "colorbar": {
              "outlinewidth": 0,
              "ticks": ""
             }
            },
            "type": "scatter3d"
           }
          ],
          "scattercarpet": [
           {
            "marker": {
             "colorbar": {
              "outlinewidth": 0,
              "ticks": ""
             }
            },
            "type": "scattercarpet"
           }
          ],
          "scattergeo": [
           {
            "marker": {
             "colorbar": {
              "outlinewidth": 0,
              "ticks": ""
             }
            },
            "type": "scattergeo"
           }
          ],
          "scattergl": [
           {
            "marker": {
             "colorbar": {
              "outlinewidth": 0,
              "ticks": ""
             }
            },
            "type": "scattergl"
           }
          ],
          "scattermapbox": [
           {
            "marker": {
             "colorbar": {
              "outlinewidth": 0,
              "ticks": ""
             }
            },
            "type": "scattermapbox"
           }
          ],
          "scatterpolar": [
           {
            "marker": {
             "colorbar": {
              "outlinewidth": 0,
              "ticks": ""
             }
            },
            "type": "scatterpolar"
           }
          ],
          "scatterpolargl": [
           {
            "marker": {
             "colorbar": {
              "outlinewidth": 0,
              "ticks": ""
             }
            },
            "type": "scatterpolargl"
           }
          ],
          "scatterternary": [
           {
            "marker": {
             "colorbar": {
              "outlinewidth": 0,
              "ticks": ""
             }
            },
            "type": "scatterternary"
           }
          ],
          "surface": [
           {
            "colorbar": {
             "outlinewidth": 0,
             "ticks": ""
            },
            "colorscale": [
             [
              0,
              "#0d0887"
             ],
             [
              0.1111111111111111,
              "#46039f"
             ],
             [
              0.2222222222222222,
              "#7201a8"
             ],
             [
              0.3333333333333333,
              "#9c179e"
             ],
             [
              0.4444444444444444,
              "#bd3786"
             ],
             [
              0.5555555555555556,
              "#d8576b"
             ],
             [
              0.6666666666666666,
              "#ed7953"
             ],
             [
              0.7777777777777778,
              "#fb9f3a"
             ],
             [
              0.8888888888888888,
              "#fdca26"
             ],
             [
              1,
              "#f0f921"
             ]
            ],
            "type": "surface"
           }
          ],
          "table": [
           {
            "cells": {
             "fill": {
              "color": "#EBF0F8"
             },
             "line": {
              "color": "white"
             }
            },
            "header": {
             "fill": {
              "color": "#C8D4E3"
             },
             "line": {
              "color": "white"
             }
            },
            "type": "table"
           }
          ]
         },
         "layout": {
          "annotationdefaults": {
           "arrowcolor": "#2a3f5f",
           "arrowhead": 0,
           "arrowwidth": 1
          },
          "autotypenumbers": "strict",
          "coloraxis": {
           "colorbar": {
            "outlinewidth": 0,
            "ticks": ""
           }
          },
          "colorscale": {
           "diverging": [
            [
             0,
             "#8e0152"
            ],
            [
             0.1,
             "#c51b7d"
            ],
            [
             0.2,
             "#de77ae"
            ],
            [
             0.3,
             "#f1b6da"
            ],
            [
             0.4,
             "#fde0ef"
            ],
            [
             0.5,
             "#f7f7f7"
            ],
            [
             0.6,
             "#e6f5d0"
            ],
            [
             0.7,
             "#b8e186"
            ],
            [
             0.8,
             "#7fbc41"
            ],
            [
             0.9,
             "#4d9221"
            ],
            [
             1,
             "#276419"
            ]
           ],
           "sequential": [
            [
             0,
             "#0d0887"
            ],
            [
             0.1111111111111111,
             "#46039f"
            ],
            [
             0.2222222222222222,
             "#7201a8"
            ],
            [
             0.3333333333333333,
             "#9c179e"
            ],
            [
             0.4444444444444444,
             "#bd3786"
            ],
            [
             0.5555555555555556,
             "#d8576b"
            ],
            [
             0.6666666666666666,
             "#ed7953"
            ],
            [
             0.7777777777777778,
             "#fb9f3a"
            ],
            [
             0.8888888888888888,
             "#fdca26"
            ],
            [
             1,
             "#f0f921"
            ]
           ],
           "sequentialminus": [
            [
             0,
             "#0d0887"
            ],
            [
             0.1111111111111111,
             "#46039f"
            ],
            [
             0.2222222222222222,
             "#7201a8"
            ],
            [
             0.3333333333333333,
             "#9c179e"
            ],
            [
             0.4444444444444444,
             "#bd3786"
            ],
            [
             0.5555555555555556,
             "#d8576b"
            ],
            [
             0.6666666666666666,
             "#ed7953"
            ],
            [
             0.7777777777777778,
             "#fb9f3a"
            ],
            [
             0.8888888888888888,
             "#fdca26"
            ],
            [
             1,
             "#f0f921"
            ]
           ]
          },
          "colorway": [
           "#636efa",
           "#EF553B",
           "#00cc96",
           "#ab63fa",
           "#FFA15A",
           "#19d3f3",
           "#FF6692",
           "#B6E880",
           "#FF97FF",
           "#FECB52"
          ],
          "font": {
           "color": "#2a3f5f"
          },
          "geo": {
           "bgcolor": "white",
           "lakecolor": "white",
           "landcolor": "#E5ECF6",
           "showlakes": true,
           "showland": true,
           "subunitcolor": "white"
          },
          "hoverlabel": {
           "align": "left"
          },
          "hovermode": "closest",
          "mapbox": {
           "style": "light"
          },
          "paper_bgcolor": "white",
          "plot_bgcolor": "#E5ECF6",
          "polar": {
           "angularaxis": {
            "gridcolor": "white",
            "linecolor": "white",
            "ticks": ""
           },
           "bgcolor": "#E5ECF6",
           "radialaxis": {
            "gridcolor": "white",
            "linecolor": "white",
            "ticks": ""
           }
          },
          "scene": {
           "xaxis": {
            "backgroundcolor": "#E5ECF6",
            "gridcolor": "white",
            "gridwidth": 2,
            "linecolor": "white",
            "showbackground": true,
            "ticks": "",
            "zerolinecolor": "white"
           },
           "yaxis": {
            "backgroundcolor": "#E5ECF6",
            "gridcolor": "white",
            "gridwidth": 2,
            "linecolor": "white",
            "showbackground": true,
            "ticks": "",
            "zerolinecolor": "white"
           },
           "zaxis": {
            "backgroundcolor": "#E5ECF6",
            "gridcolor": "white",
            "gridwidth": 2,
            "linecolor": "white",
            "showbackground": true,
            "ticks": "",
            "zerolinecolor": "white"
           }
          },
          "shapedefaults": {
           "line": {
            "color": "#2a3f5f"
           }
          },
          "ternary": {
           "aaxis": {
            "gridcolor": "white",
            "linecolor": "white",
            "ticks": ""
           },
           "baxis": {
            "gridcolor": "white",
            "linecolor": "white",
            "ticks": ""
           },
           "bgcolor": "#E5ECF6",
           "caxis": {
            "gridcolor": "white",
            "linecolor": "white",
            "ticks": ""
           }
          },
          "title": {
           "x": 0.05
          },
          "xaxis": {
           "automargin": true,
           "gridcolor": "white",
           "linecolor": "white",
           "ticks": "",
           "title": {
            "standoff": 15
           },
           "zerolinecolor": "white",
           "zerolinewidth": 2
          },
          "yaxis": {
           "automargin": true,
           "gridcolor": "white",
           "linecolor": "white",
           "ticks": "",
           "title": {
            "standoff": 15
           },
           "zerolinecolor": "white",
           "zerolinewidth": 2
          }
         }
        },
        "xaxis": {
         "type": "category"
        }
       }
      }
     },
     "metadata": {},
     "output_type": "display_data"
    },
    {
     "data": {
      "application/vnd.plotly.v1+json": {
       "config": {
        "plotlyServerURL": "https://plot.ly"
       },
       "data": [
        {
         "marker": {
          "cmax": 1,
          "cmin": 0,
          "color": [
           0,
           0.8309859154929577,
           0.9014084507042254,
           0.9436619718309859,
           0,
           0,
           0.8873239436619719,
           0,
           0.8169014084507042,
           0.9014084507042254,
           0.9014084507042254,
           0.9577464788732394,
           0,
           0,
           0.9436619718309859,
           0,
           0.9436619718309859,
           0,
           0.8732394366197183,
           0,
           0.8169014084507042,
           0,
           0,
           0.9295774647887324,
           0.9436619718309859,
           0.9436619718309859,
           0,
           0.9295774647887324,
           0,
           0.8732394366197183,
           0.8873239436619719,
           0,
           0,
           0,
           0,
           0,
           0.8873239436619719,
           0,
           0,
           0.9436619718309859,
           0,
           0,
           0,
           0.9436619718309859,
           0.9577464788732394,
           0.9295774647887324,
           0.9154929577464789,
           0,
           0,
           0,
           0.9295774647887324,
           0.9295774647887324,
           0,
           0,
           0,
           0,
           0,
           0,
           0,
           0,
           0.9577464788732394,
           0,
           0,
           0,
           0,
           0,
           0,
           0,
           0,
           0,
           0.9295774647887324,
           0,
           0.971830985915493,
           0,
           0,
           0,
           0.9154929577464789,
           0,
           0.9577464788732394,
           0,
           0.9436619718309859,
           0,
           0,
           0,
           0,
           0.971830985915493,
           0.9436619718309859,
           0.9295774647887324,
           0.9577464788732394,
           0,
           0.9295774647887324,
           0,
           0,
           0,
           0,
           0,
           0,
           0,
           0.971830985915493,
           0.971830985915493,
           0,
           0.9577464788732394,
           0,
           0,
           0,
           0.971830985915493,
           0.971830985915493,
           0,
           0,
           0,
           0,
           0,
           0,
           0,
           0,
           0,
           0,
           0,
           0,
           0,
           0,
           0,
           0.971830985915493,
           0.9859154929577465,
           0,
           0,
           0,
           0,
           0,
           0,
           0,
           0,
           1
          ],
          "colorbar": {
           "title": {
            "text": "revenue"
           }
          },
          "colorscale": [
           [
            0,
            "#440154"
           ],
           [
            0.1111111111111111,
            "#482878"
           ],
           [
            0.2222222222222222,
            "#3e4989"
           ],
           [
            0.3333333333333333,
            "#31688e"
           ],
           [
            0.4444444444444444,
            "#26828e"
           ],
           [
            0.5555555555555556,
            "#1f9e89"
           ],
           [
            0.6666666666666666,
            "#35b779"
           ],
           [
            0.7777777777777778,
            "#6ece58"
           ],
           [
            0.8888888888888888,
            "#b5de2b"
           ],
           [
            1,
            "#fde725"
           ]
          ]
         },
         "type": "bar",
         "x": [
          "01011111111",
          "01101000011",
          "01011101000",
          "11010100001",
          "01011111001",
          "11111101101",
          "11000000111",
          "11110100110",
          "01010000010",
          "01011000011",
          "01101001111",
          "01011100101",
          "10011100011",
          "01010110111",
          "01010110011",
          "11110100010",
          "11011001001",
          "11001011111",
          "01111000010",
          "11010100110",
          "01001000011",
          "11111001010",
          "11011000110",
          "01010001111",
          "01111001110",
          "01011000111",
          "11010011011",
          "01110100101",
          "11101111111",
          "11001000101",
          "01111001001",
          "01110101110",
          "11011111011",
          "01110010111",
          "01110110011",
          "11011101100",
          "01100101011",
          "11110101110",
          "11011111010",
          "01011011011",
          "01110101111",
          "01111011011",
          "11111100001",
          "01011101100",
          "01010101110",
          "01001100111",
          "11111001000",
          "01111110011",
          "11001100111",
          "11111000110",
          "01111001101",
          "11110001010",
          "11000110100",
          "10101001101",
          "11010000111",
          "11010101001",
          "10111001011",
          "10010100110",
          "11011110011",
          "11110100011",
          "01010101011",
          "01111001111",
          "01111101101",
          "11111100000",
          "11111011111",
          "11111111011",
          "01111101110",
          "00111101111",
          "11110001011",
          "11111101010",
          "11011000010",
          "01110100111",
          "01011001111",
          "01011111010",
          "11110101011",
          "01111011111",
          "01010101010",
          "11011110111",
          "01111101001",
          "11111100101",
          "01110001111",
          "11010101010",
          "11011100001",
          "11011100110",
          "11010101110",
          "01011100110",
          "01111100010",
          "01010100011",
          "01011101010",
          "11110101111",
          "01011100010",
          "11111100010",
          "11010100111",
          "11011000111",
          "11011101101",
          "01111100110",
          "11111100110",
          "11011101110",
          "01110101011",
          "01111101010",
          "11011101001",
          "11010001011",
          "01011110011",
          "11111000011",
          "11111001011",
          "11011000011",
          "01010100111",
          "11111101110",
          "11011101111",
          "11011001011",
          "11111100111",
          "11010101111",
          "11010100011",
          "11011101010",
          "11111101011",
          "11011001111",
          "11011100010",
          "11111101111",
          "01011101110",
          "11011100111",
          "01010101111",
          "11010101011",
          "01011100011",
          "01111100011",
          "01111101111",
          "01111100111",
          "01011100111",
          "11111100011",
          "01011101111",
          "01111101011",
          "11011100011",
          "11011101011",
          "01011101011"
         ],
         "y": [
          1,
          1,
          1,
          1,
          1,
          1,
          1,
          1,
          1,
          1,
          1,
          1,
          1,
          1,
          1,
          1,
          1,
          1,
          1,
          1,
          1,
          1,
          1,
          1,
          1,
          1,
          1,
          1,
          1,
          1,
          1,
          1,
          1,
          1,
          1,
          1,
          1,
          1,
          1,
          1,
          1,
          1,
          1,
          1,
          1,
          1,
          1,
          1,
          1,
          1,
          1,
          1,
          1,
          1,
          1,
          1,
          1,
          1,
          1,
          1,
          1,
          2,
          2,
          2,
          2,
          2,
          2,
          2,
          2,
          2,
          2,
          2,
          2,
          2,
          2,
          2,
          2,
          2,
          2,
          2,
          2,
          2,
          2,
          2,
          2,
          2,
          2,
          2,
          3,
          3,
          3,
          3,
          3,
          3,
          3,
          3,
          3,
          3,
          4,
          4,
          4,
          4,
          4,
          5,
          5,
          5,
          6,
          6,
          6,
          6,
          6,
          6,
          7,
          7,
          7,
          7,
          8,
          8,
          9,
          10,
          11,
          11,
          11,
          12,
          12,
          13,
          16,
          17,
          17,
          18,
          20,
          34,
          41
         ]
        }
       ],
       "layout": {
        "template": {
         "data": {
          "bar": [
           {
            "error_x": {
             "color": "#2a3f5f"
            },
            "error_y": {
             "color": "#2a3f5f"
            },
            "marker": {
             "line": {
              "color": "#E5ECF6",
              "width": 0.5
             },
             "pattern": {
              "fillmode": "overlay",
              "size": 10,
              "solidity": 0.2
             }
            },
            "type": "bar"
           }
          ],
          "barpolar": [
           {
            "marker": {
             "line": {
              "color": "#E5ECF6",
              "width": 0.5
             },
             "pattern": {
              "fillmode": "overlay",
              "size": 10,
              "solidity": 0.2
             }
            },
            "type": "barpolar"
           }
          ],
          "carpet": [
           {
            "aaxis": {
             "endlinecolor": "#2a3f5f",
             "gridcolor": "white",
             "linecolor": "white",
             "minorgridcolor": "white",
             "startlinecolor": "#2a3f5f"
            },
            "baxis": {
             "endlinecolor": "#2a3f5f",
             "gridcolor": "white",
             "linecolor": "white",
             "minorgridcolor": "white",
             "startlinecolor": "#2a3f5f"
            },
            "type": "carpet"
           }
          ],
          "choropleth": [
           {
            "colorbar": {
             "outlinewidth": 0,
             "ticks": ""
            },
            "type": "choropleth"
           }
          ],
          "contour": [
           {
            "colorbar": {
             "outlinewidth": 0,
             "ticks": ""
            },
            "colorscale": [
             [
              0,
              "#0d0887"
             ],
             [
              0.1111111111111111,
              "#46039f"
             ],
             [
              0.2222222222222222,
              "#7201a8"
             ],
             [
              0.3333333333333333,
              "#9c179e"
             ],
             [
              0.4444444444444444,
              "#bd3786"
             ],
             [
              0.5555555555555556,
              "#d8576b"
             ],
             [
              0.6666666666666666,
              "#ed7953"
             ],
             [
              0.7777777777777778,
              "#fb9f3a"
             ],
             [
              0.8888888888888888,
              "#fdca26"
             ],
             [
              1,
              "#f0f921"
             ]
            ],
            "type": "contour"
           }
          ],
          "contourcarpet": [
           {
            "colorbar": {
             "outlinewidth": 0,
             "ticks": ""
            },
            "type": "contourcarpet"
           }
          ],
          "heatmap": [
           {
            "colorbar": {
             "outlinewidth": 0,
             "ticks": ""
            },
            "colorscale": [
             [
              0,
              "#0d0887"
             ],
             [
              0.1111111111111111,
              "#46039f"
             ],
             [
              0.2222222222222222,
              "#7201a8"
             ],
             [
              0.3333333333333333,
              "#9c179e"
             ],
             [
              0.4444444444444444,
              "#bd3786"
             ],
             [
              0.5555555555555556,
              "#d8576b"
             ],
             [
              0.6666666666666666,
              "#ed7953"
             ],
             [
              0.7777777777777778,
              "#fb9f3a"
             ],
             [
              0.8888888888888888,
              "#fdca26"
             ],
             [
              1,
              "#f0f921"
             ]
            ],
            "type": "heatmap"
           }
          ],
          "heatmapgl": [
           {
            "colorbar": {
             "outlinewidth": 0,
             "ticks": ""
            },
            "colorscale": [
             [
              0,
              "#0d0887"
             ],
             [
              0.1111111111111111,
              "#46039f"
             ],
             [
              0.2222222222222222,
              "#7201a8"
             ],
             [
              0.3333333333333333,
              "#9c179e"
             ],
             [
              0.4444444444444444,
              "#bd3786"
             ],
             [
              0.5555555555555556,
              "#d8576b"
             ],
             [
              0.6666666666666666,
              "#ed7953"
             ],
             [
              0.7777777777777778,
              "#fb9f3a"
             ],
             [
              0.8888888888888888,
              "#fdca26"
             ],
             [
              1,
              "#f0f921"
             ]
            ],
            "type": "heatmapgl"
           }
          ],
          "histogram": [
           {
            "marker": {
             "pattern": {
              "fillmode": "overlay",
              "size": 10,
              "solidity": 0.2
             }
            },
            "type": "histogram"
           }
          ],
          "histogram2d": [
           {
            "colorbar": {
             "outlinewidth": 0,
             "ticks": ""
            },
            "colorscale": [
             [
              0,
              "#0d0887"
             ],
             [
              0.1111111111111111,
              "#46039f"
             ],
             [
              0.2222222222222222,
              "#7201a8"
             ],
             [
              0.3333333333333333,
              "#9c179e"
             ],
             [
              0.4444444444444444,
              "#bd3786"
             ],
             [
              0.5555555555555556,
              "#d8576b"
             ],
             [
              0.6666666666666666,
              "#ed7953"
             ],
             [
              0.7777777777777778,
              "#fb9f3a"
             ],
             [
              0.8888888888888888,
              "#fdca26"
             ],
             [
              1,
              "#f0f921"
             ]
            ],
            "type": "histogram2d"
           }
          ],
          "histogram2dcontour": [
           {
            "colorbar": {
             "outlinewidth": 0,
             "ticks": ""
            },
            "colorscale": [
             [
              0,
              "#0d0887"
             ],
             [
              0.1111111111111111,
              "#46039f"
             ],
             [
              0.2222222222222222,
              "#7201a8"
             ],
             [
              0.3333333333333333,
              "#9c179e"
             ],
             [
              0.4444444444444444,
              "#bd3786"
             ],
             [
              0.5555555555555556,
              "#d8576b"
             ],
             [
              0.6666666666666666,
              "#ed7953"
             ],
             [
              0.7777777777777778,
              "#fb9f3a"
             ],
             [
              0.8888888888888888,
              "#fdca26"
             ],
             [
              1,
              "#f0f921"
             ]
            ],
            "type": "histogram2dcontour"
           }
          ],
          "mesh3d": [
           {
            "colorbar": {
             "outlinewidth": 0,
             "ticks": ""
            },
            "type": "mesh3d"
           }
          ],
          "parcoords": [
           {
            "line": {
             "colorbar": {
              "outlinewidth": 0,
              "ticks": ""
             }
            },
            "type": "parcoords"
           }
          ],
          "pie": [
           {
            "automargin": true,
            "type": "pie"
           }
          ],
          "scatter": [
           {
            "marker": {
             "colorbar": {
              "outlinewidth": 0,
              "ticks": ""
             }
            },
            "type": "scatter"
           }
          ],
          "scatter3d": [
           {
            "line": {
             "colorbar": {
              "outlinewidth": 0,
              "ticks": ""
             }
            },
            "marker": {
             "colorbar": {
              "outlinewidth": 0,
              "ticks": ""
             }
            },
            "type": "scatter3d"
           }
          ],
          "scattercarpet": [
           {
            "marker": {
             "colorbar": {
              "outlinewidth": 0,
              "ticks": ""
             }
            },
            "type": "scattercarpet"
           }
          ],
          "scattergeo": [
           {
            "marker": {
             "colorbar": {
              "outlinewidth": 0,
              "ticks": ""
             }
            },
            "type": "scattergeo"
           }
          ],
          "scattergl": [
           {
            "marker": {
             "colorbar": {
              "outlinewidth": 0,
              "ticks": ""
             }
            },
            "type": "scattergl"
           }
          ],
          "scattermapbox": [
           {
            "marker": {
             "colorbar": {
              "outlinewidth": 0,
              "ticks": ""
             }
            },
            "type": "scattermapbox"
           }
          ],
          "scatterpolar": [
           {
            "marker": {
             "colorbar": {
              "outlinewidth": 0,
              "ticks": ""
             }
            },
            "type": "scatterpolar"
           }
          ],
          "scatterpolargl": [
           {
            "marker": {
             "colorbar": {
              "outlinewidth": 0,
              "ticks": ""
             }
            },
            "type": "scatterpolargl"
           }
          ],
          "scatterternary": [
           {
            "marker": {
             "colorbar": {
              "outlinewidth": 0,
              "ticks": ""
             }
            },
            "type": "scatterternary"
           }
          ],
          "surface": [
           {
            "colorbar": {
             "outlinewidth": 0,
             "ticks": ""
            },
            "colorscale": [
             [
              0,
              "#0d0887"
             ],
             [
              0.1111111111111111,
              "#46039f"
             ],
             [
              0.2222222222222222,
              "#7201a8"
             ],
             [
              0.3333333333333333,
              "#9c179e"
             ],
             [
              0.4444444444444444,
              "#bd3786"
             ],
             [
              0.5555555555555556,
              "#d8576b"
             ],
             [
              0.6666666666666666,
              "#ed7953"
             ],
             [
              0.7777777777777778,
              "#fb9f3a"
             ],
             [
              0.8888888888888888,
              "#fdca26"
             ],
             [
              1,
              "#f0f921"
             ]
            ],
            "type": "surface"
           }
          ],
          "table": [
           {
            "cells": {
             "fill": {
              "color": "#EBF0F8"
             },
             "line": {
              "color": "white"
             }
            },
            "header": {
             "fill": {
              "color": "#C8D4E3"
             },
             "line": {
              "color": "white"
             }
            },
            "type": "table"
           }
          ]
         },
         "layout": {
          "annotationdefaults": {
           "arrowcolor": "#2a3f5f",
           "arrowhead": 0,
           "arrowwidth": 1
          },
          "autotypenumbers": "strict",
          "coloraxis": {
           "colorbar": {
            "outlinewidth": 0,
            "ticks": ""
           }
          },
          "colorscale": {
           "diverging": [
            [
             0,
             "#8e0152"
            ],
            [
             0.1,
             "#c51b7d"
            ],
            [
             0.2,
             "#de77ae"
            ],
            [
             0.3,
             "#f1b6da"
            ],
            [
             0.4,
             "#fde0ef"
            ],
            [
             0.5,
             "#f7f7f7"
            ],
            [
             0.6,
             "#e6f5d0"
            ],
            [
             0.7,
             "#b8e186"
            ],
            [
             0.8,
             "#7fbc41"
            ],
            [
             0.9,
             "#4d9221"
            ],
            [
             1,
             "#276419"
            ]
           ],
           "sequential": [
            [
             0,
             "#0d0887"
            ],
            [
             0.1111111111111111,
             "#46039f"
            ],
            [
             0.2222222222222222,
             "#7201a8"
            ],
            [
             0.3333333333333333,
             "#9c179e"
            ],
            [
             0.4444444444444444,
             "#bd3786"
            ],
            [
             0.5555555555555556,
             "#d8576b"
            ],
            [
             0.6666666666666666,
             "#ed7953"
            ],
            [
             0.7777777777777778,
             "#fb9f3a"
            ],
            [
             0.8888888888888888,
             "#fdca26"
            ],
            [
             1,
             "#f0f921"
            ]
           ],
           "sequentialminus": [
            [
             0,
             "#0d0887"
            ],
            [
             0.1111111111111111,
             "#46039f"
            ],
            [
             0.2222222222222222,
             "#7201a8"
            ],
            [
             0.3333333333333333,
             "#9c179e"
            ],
            [
             0.4444444444444444,
             "#bd3786"
            ],
            [
             0.5555555555555556,
             "#d8576b"
            ],
            [
             0.6666666666666666,
             "#ed7953"
            ],
            [
             0.7777777777777778,
             "#fb9f3a"
            ],
            [
             0.8888888888888888,
             "#fdca26"
            ],
            [
             1,
             "#f0f921"
            ]
           ]
          },
          "colorway": [
           "#636efa",
           "#EF553B",
           "#00cc96",
           "#ab63fa",
           "#FFA15A",
           "#19d3f3",
           "#FF6692",
           "#B6E880",
           "#FF97FF",
           "#FECB52"
          ],
          "font": {
           "color": "#2a3f5f"
          },
          "geo": {
           "bgcolor": "white",
           "lakecolor": "white",
           "landcolor": "#E5ECF6",
           "showlakes": true,
           "showland": true,
           "subunitcolor": "white"
          },
          "hoverlabel": {
           "align": "left"
          },
          "hovermode": "closest",
          "mapbox": {
           "style": "light"
          },
          "paper_bgcolor": "white",
          "plot_bgcolor": "#E5ECF6",
          "polar": {
           "angularaxis": {
            "gridcolor": "white",
            "linecolor": "white",
            "ticks": ""
           },
           "bgcolor": "#E5ECF6",
           "radialaxis": {
            "gridcolor": "white",
            "linecolor": "white",
            "ticks": ""
           }
          },
          "scene": {
           "xaxis": {
            "backgroundcolor": "#E5ECF6",
            "gridcolor": "white",
            "gridwidth": 2,
            "linecolor": "white",
            "showbackground": true,
            "ticks": "",
            "zerolinecolor": "white"
           },
           "yaxis": {
            "backgroundcolor": "#E5ECF6",
            "gridcolor": "white",
            "gridwidth": 2,
            "linecolor": "white",
            "showbackground": true,
            "ticks": "",
            "zerolinecolor": "white"
           },
           "zaxis": {
            "backgroundcolor": "#E5ECF6",
            "gridcolor": "white",
            "gridwidth": 2,
            "linecolor": "white",
            "showbackground": true,
            "ticks": "",
            "zerolinecolor": "white"
           }
          },
          "shapedefaults": {
           "line": {
            "color": "#2a3f5f"
           }
          },
          "ternary": {
           "aaxis": {
            "gridcolor": "white",
            "linecolor": "white",
            "ticks": ""
           },
           "baxis": {
            "gridcolor": "white",
            "linecolor": "white",
            "ticks": ""
           },
           "bgcolor": "#E5ECF6",
           "caxis": {
            "gridcolor": "white",
            "linecolor": "white",
            "ticks": ""
           }
          },
          "title": {
           "x": 0.05
          },
          "xaxis": {
           "automargin": true,
           "gridcolor": "white",
           "linecolor": "white",
           "ticks": "",
           "title": {
            "standoff": 15
           },
           "zerolinecolor": "white",
           "zerolinewidth": 2
          },
          "yaxis": {
           "automargin": true,
           "gridcolor": "white",
           "linecolor": "white",
           "ticks": "",
           "title": {
            "standoff": 15
           },
           "zerolinecolor": "white",
           "zerolinewidth": 2
          }
         }
        },
        "xaxis": {
         "type": "category"
        }
       }
      }
     },
     "metadata": {},
     "output_type": "display_data"
    },
    {
     "data": {
      "application/vnd.plotly.v1+json": {
       "config": {
        "plotlyServerURL": "https://plot.ly"
       },
       "data": [
        {
         "marker": {
          "cmax": 1,
          "cmin": 0,
          "color": [
           0.9420289855072463,
           0,
           0,
           0.927536231884058,
           0.927536231884058,
           0,
           0.927536231884058,
           0.9565217391304348,
           0,
           0,
           0,
           0,
           0.9565217391304348,
           0,
           0,
           0,
           0.927536231884058,
           0,
           0.9565217391304348,
           0.8985507246376812,
           0,
           0,
           0,
           0.9855072463768116,
           0,
           0,
           0.8695652173913043,
           0,
           0.8840579710144928,
           0.927536231884058,
           0.8840579710144928,
           0.9420289855072463,
           0,
           0,
           0.8840579710144928,
           0,
           0.9565217391304348,
           0.927536231884058,
           0,
           0,
           0,
           0,
           0,
           0.8985507246376812,
           0.8985507246376812,
           0,
           0,
           0,
           0,
           0,
           0.8985507246376812,
           0,
           0,
           0.9565217391304348,
           0.9710144927536232,
           0.9565217391304348,
           0,
           0,
           0,
           0.9565217391304348,
           0.9420289855072463,
           0,
           0.9565217391304348,
           0,
           0.9710144927536232,
           0.9420289855072463,
           0.8985507246376812,
           0.9420289855072463,
           0.9130434782608695,
           0,
           0,
           0.8985507246376812,
           0,
           0,
           0,
           0,
           0.927536231884058,
           0,
           0,
           0.8260869565217391,
           0.9565217391304348,
           0.9710144927536232,
           0,
           0,
           0.9130434782608695,
           0.9130434782608695,
           0.855072463768116,
           0.927536231884058,
           0,
           0,
           0,
           0.927536231884058,
           0.9130434782608695,
           0.9420289855072463,
           0,
           0,
           0,
           0.9420289855072463,
           0,
           0,
           0.9130434782608695,
           0,
           0,
           0.9855072463768116,
           0.855072463768116,
           0,
           0.9565217391304348,
           0.8985507246376812,
           0.9130434782608695,
           0,
           0,
           0.8985507246376812,
           0.9420289855072463,
           0.9565217391304348,
           0,
           0,
           0,
           0,
           0,
           0.9420289855072463,
           0.9130434782608695,
           0.8985507246376812,
           0,
           0,
           0.9420289855072463,
           0,
           0,
           0.9565217391304348,
           0.8260869565217391,
           0,
           0,
           0.9420289855072463,
           0,
           0.9565217391304348,
           0.9420289855072463,
           0.927536231884058,
           0,
           0,
           0.8840579710144928,
           0.9130434782608695,
           0.927536231884058,
           0,
           0.7971014492753623,
           0,
           0.8260869565217391,
           0.8985507246376812,
           0.9710144927536232,
           0,
           0,
           0,
           0,
           0,
           0,
           0.7971014492753623,
           0,
           0,
           0.9710144927536232,
           0,
           0,
           0.927536231884058,
           0,
           0.9710144927536232,
           0.927536231884058,
           0,
           0,
           0.9420289855072463,
           0,
           0,
           0.9565217391304348,
           0,
           0,
           0,
           0,
           0,
           0.9855072463768116,
           0,
           0.9710144927536232,
           0.9420289855072463,
           0,
           0.9710144927536232,
           0.9710144927536232,
           0,
           0.8260869565217391,
           0,
           0,
           0.9710144927536232,
           0,
           0.9710144927536232,
           0,
           0.9855072463768116,
           0.9710144927536232,
           0,
           0,
           0,
           0,
           0,
           0,
           0.9565217391304348,
           0,
           0,
           0,
           0,
           0,
           0,
           0,
           0,
           0,
           0.9855072463768116,
           0,
           0.9855072463768116,
           0,
           0.9710144927536232,
           0,
           0,
           0,
           0,
           0.9855072463768116,
           0,
           0,
           0,
           0,
           0,
           0.9710144927536232,
           0.9855072463768116,
           0.9710144927536232,
           0,
           1,
           0,
           0.9855072463768116,
           0,
           0,
           0,
           0,
           0,
           0,
           0,
           0.9855072463768116,
           1,
           0,
           0,
           0,
           0,
           0,
           0.9855072463768116,
           0,
           1,
           0.9855072463768116,
           0,
           0,
           0,
           0
          ],
          "colorbar": {
           "title": {
            "text": "revenue"
           }
          },
          "colorscale": [
           [
            0,
            "#440154"
           ],
           [
            0.1111111111111111,
            "#482878"
           ],
           [
            0.2222222222222222,
            "#3e4989"
           ],
           [
            0.3333333333333333,
            "#31688e"
           ],
           [
            0.4444444444444444,
            "#26828e"
           ],
           [
            0.5555555555555556,
            "#1f9e89"
           ],
           [
            0.6666666666666666,
            "#35b779"
           ],
           [
            0.7777777777777778,
            "#6ece58"
           ],
           [
            0.8888888888888888,
            "#b5de2b"
           ],
           [
            1,
            "#fde725"
           ]
          ]
         },
         "type": "bar",
         "x": [
          "01010100111",
          "10011011011",
          "10101110010",
          "01101100010",
          "10101001010",
          "00101111011",
          "00110110001",
          "01100011011",
          "11111110010",
          "01101100111",
          "10111000011",
          "10100111111",
          "00101101010",
          "11010011111",
          "10101111001",
          "00100111110",
          "11011001010",
          "11001110011",
          "01101110010",
          "00011110010",
          "11101111011",
          "01110111110",
          "10111100110",
          "01010101011",
          "10100110011",
          "10001111010",
          "01001100010",
          "11101101001",
          "10000100010",
          "00001111010",
          "00011100110",
          "11010101000",
          "00110101110",
          "10111110011",
          "00100100010",
          "01111011110",
          "00000111011",
          "00110011110",
          "10111101010",
          "10000111011",
          "01011101011",
          "00111111011",
          "10100111010",
          "01110100100",
          "00010100011",
          "10100110101",
          "11100111110",
          "11100111111",
          "11001101010",
          "11101100011",
          "01000100011",
          "01010110111",
          "11100111011",
          "10001101010",
          "00101110011",
          "01111100010",
          "00111100111",
          "11001101011",
          "11101100010",
          "01010110011",
          "00110111000",
          "10001111001",
          "01110001011",
          "10100110001",
          "10100110010",
          "00000101111",
          "10001100010",
          "10010111000",
          "01100101000",
          "11110001010",
          "01111010111",
          "00101100101",
          "10110111010",
          "10010110011",
          "11011101111",
          "00111101100",
          "01000110011",
          "01111111101",
          "01101110110",
          "00110000010",
          "01000101011",
          "00111100011",
          "10101110011",
          "11110110111",
          "00010101010",
          "00110100010",
          "00000110010",
          "00110001011",
          "10000111001",
          "11100100110",
          "01011111011",
          "00101110010",
          "01100100010",
          "01101001011",
          "10001110011",
          "10010111011",
          "10001111011",
          "11000110010",
          "11111101001",
          "11110101011",
          "00001111001",
          "10110010011",
          "01111110001",
          "00100101011",
          "00110010010",
          "11011101010",
          "00010111110",
          "00100001011",
          "00100110010",
          "11001111011",
          "01110011110",
          "01110010110",
          "01011110110",
          "00111110010",
          "01110101110",
          "11111011011",
          "01100111001",
          "11101101010",
          "00111101111",
          "01011101001",
          "01100100101",
          "00100110001",
          "10011101010",
          "10011010111",
          "10100101000",
          "11111111110",
          "11100111001",
          "01010101110",
          "00010001010",
          "11000101011",
          "01110110110",
          "00111001011",
          "11011110010",
          "01010111001",
          "00100101010",
          "01100100110",
          "11110010011",
          "11011111000",
          "01111000110",
          "01010110010",
          "11101100000",
          "00110111100",
          "01010000010",
          "11100110011",
          "00010110000",
          "01011100010",
          "01110111000",
          "01110111001",
          "01100111111",
          "11111111111",
          "00110101111",
          "11111101000",
          "00101110111",
          "00010010010",
          "11010110011",
          "01100111110",
          "01001101011",
          "11111101010",
          "01111110011",
          "01001101010",
          "11111111010",
          "11000101010",
          "10000100011",
          "11110100010",
          "01110111111",
          "11110100000",
          "11011111011",
          "11111110011",
          "11011100010",
          "01111101110",
          "11111011111",
          "01100101011",
          "11001111010",
          "11010101010",
          "00111101010",
          "11010101011",
          "00011101011",
          "10100100010",
          "10010111010",
          "00001111011",
          "01010111010",
          "10000101011",
          "00100010010",
          "10110101010",
          "10110111001",
          "11100100010",
          "01111101011",
          "01100101010",
          "10111111010",
          "00010111011",
          "11010110010",
          "01101111011",
          "00110111011",
          "01111100011",
          "11110110010",
          "10110111011",
          "01101101011",
          "01100100011",
          "10110110010",
          "01010111110",
          "11110100011",
          "10110101011",
          "11010111011",
          "11010100011",
          "10100101010",
          "11100110010",
          "00110111001",
          "00110110011",
          "01001111011",
          "01111110010",
          "00111101011",
          "10000111010",
          "10101111010",
          "10100111011",
          "01100111011",
          "00011111011",
          "00101111010",
          "11111100010",
          "11000111010",
          "10111110010",
          "00110111111",
          "00101101011",
          "01110110010",
          "01101101010",
          "00100111010",
          "11100101010",
          "00110111010",
          "11110110011",
          "01110100011",
          "10011111010",
          "01110101011",
          "01101111010",
          "10110110011",
          "00110101011",
          "11110111011",
          "11100111010",
          "01000111011",
          "01100111010",
          "01010111011",
          "11110111010",
          "01111111010",
          "01110110011",
          "01111101010",
          "01100110011",
          "00111111010",
          "01110101010",
          "01011111010",
          "00100111011",
          "01111111011",
          "01110111011",
          "01110111010"
         ],
         "y": [
          1,
          1,
          1,
          1,
          1,
          1,
          1,
          1,
          1,
          1,
          1,
          1,
          1,
          1,
          1,
          1,
          1,
          1,
          1,
          1,
          1,
          1,
          1,
          1,
          1,
          1,
          1,
          1,
          1,
          1,
          1,
          1,
          1,
          1,
          1,
          1,
          1,
          1,
          1,
          1,
          1,
          1,
          1,
          1,
          1,
          1,
          1,
          1,
          1,
          1,
          1,
          1,
          1,
          1,
          1,
          1,
          1,
          1,
          1,
          1,
          1,
          1,
          1,
          1,
          1,
          1,
          1,
          1,
          1,
          1,
          1,
          1,
          1,
          1,
          1,
          1,
          1,
          1,
          1,
          1,
          1,
          1,
          1,
          1,
          1,
          1,
          1,
          1,
          1,
          1,
          1,
          1,
          1,
          1,
          1,
          1,
          1,
          1,
          1,
          1,
          1,
          1,
          1,
          1,
          1,
          1,
          1,
          1,
          1,
          1,
          1,
          1,
          1,
          1,
          1,
          1,
          1,
          1,
          1,
          1,
          1,
          1,
          1,
          1,
          1,
          1,
          1,
          1,
          1,
          1,
          1,
          1,
          1,
          1,
          1,
          1,
          1,
          1,
          1,
          1,
          1,
          1,
          1,
          1,
          1,
          1,
          1,
          1,
          1,
          1,
          1,
          1,
          1,
          2,
          2,
          2,
          2,
          2,
          2,
          2,
          2,
          2,
          2,
          2,
          2,
          2,
          2,
          2,
          2,
          2,
          2,
          2,
          2,
          2,
          2,
          2,
          2,
          2,
          2,
          2,
          2,
          2,
          2,
          2,
          2,
          2,
          2,
          2,
          2,
          2,
          2,
          2,
          3,
          3,
          3,
          3,
          3,
          3,
          3,
          3,
          3,
          3,
          3,
          3,
          3,
          3,
          3,
          3,
          3,
          3,
          3,
          3,
          3,
          3,
          3,
          3,
          3,
          3,
          3,
          3,
          3,
          3,
          3,
          4,
          4,
          4,
          4,
          4,
          4,
          5,
          5,
          5,
          5,
          5,
          5,
          5,
          6,
          6,
          6,
          6,
          7,
          7,
          8,
          8,
          8,
          9,
          9,
          10,
          12,
          12,
          15
         ]
        }
       ],
       "layout": {
        "template": {
         "data": {
          "bar": [
           {
            "error_x": {
             "color": "#2a3f5f"
            },
            "error_y": {
             "color": "#2a3f5f"
            },
            "marker": {
             "line": {
              "color": "#E5ECF6",
              "width": 0.5
             },
             "pattern": {
              "fillmode": "overlay",
              "size": 10,
              "solidity": 0.2
             }
            },
            "type": "bar"
           }
          ],
          "barpolar": [
           {
            "marker": {
             "line": {
              "color": "#E5ECF6",
              "width": 0.5
             },
             "pattern": {
              "fillmode": "overlay",
              "size": 10,
              "solidity": 0.2
             }
            },
            "type": "barpolar"
           }
          ],
          "carpet": [
           {
            "aaxis": {
             "endlinecolor": "#2a3f5f",
             "gridcolor": "white",
             "linecolor": "white",
             "minorgridcolor": "white",
             "startlinecolor": "#2a3f5f"
            },
            "baxis": {
             "endlinecolor": "#2a3f5f",
             "gridcolor": "white",
             "linecolor": "white",
             "minorgridcolor": "white",
             "startlinecolor": "#2a3f5f"
            },
            "type": "carpet"
           }
          ],
          "choropleth": [
           {
            "colorbar": {
             "outlinewidth": 0,
             "ticks": ""
            },
            "type": "choropleth"
           }
          ],
          "contour": [
           {
            "colorbar": {
             "outlinewidth": 0,
             "ticks": ""
            },
            "colorscale": [
             [
              0,
              "#0d0887"
             ],
             [
              0.1111111111111111,
              "#46039f"
             ],
             [
              0.2222222222222222,
              "#7201a8"
             ],
             [
              0.3333333333333333,
              "#9c179e"
             ],
             [
              0.4444444444444444,
              "#bd3786"
             ],
             [
              0.5555555555555556,
              "#d8576b"
             ],
             [
              0.6666666666666666,
              "#ed7953"
             ],
             [
              0.7777777777777778,
              "#fb9f3a"
             ],
             [
              0.8888888888888888,
              "#fdca26"
             ],
             [
              1,
              "#f0f921"
             ]
            ],
            "type": "contour"
           }
          ],
          "contourcarpet": [
           {
            "colorbar": {
             "outlinewidth": 0,
             "ticks": ""
            },
            "type": "contourcarpet"
           }
          ],
          "heatmap": [
           {
            "colorbar": {
             "outlinewidth": 0,
             "ticks": ""
            },
            "colorscale": [
             [
              0,
              "#0d0887"
             ],
             [
              0.1111111111111111,
              "#46039f"
             ],
             [
              0.2222222222222222,
              "#7201a8"
             ],
             [
              0.3333333333333333,
              "#9c179e"
             ],
             [
              0.4444444444444444,
              "#bd3786"
             ],
             [
              0.5555555555555556,
              "#d8576b"
             ],
             [
              0.6666666666666666,
              "#ed7953"
             ],
             [
              0.7777777777777778,
              "#fb9f3a"
             ],
             [
              0.8888888888888888,
              "#fdca26"
             ],
             [
              1,
              "#f0f921"
             ]
            ],
            "type": "heatmap"
           }
          ],
          "heatmapgl": [
           {
            "colorbar": {
             "outlinewidth": 0,
             "ticks": ""
            },
            "colorscale": [
             [
              0,
              "#0d0887"
             ],
             [
              0.1111111111111111,
              "#46039f"
             ],
             [
              0.2222222222222222,
              "#7201a8"
             ],
             [
              0.3333333333333333,
              "#9c179e"
             ],
             [
              0.4444444444444444,
              "#bd3786"
             ],
             [
              0.5555555555555556,
              "#d8576b"
             ],
             [
              0.6666666666666666,
              "#ed7953"
             ],
             [
              0.7777777777777778,
              "#fb9f3a"
             ],
             [
              0.8888888888888888,
              "#fdca26"
             ],
             [
              1,
              "#f0f921"
             ]
            ],
            "type": "heatmapgl"
           }
          ],
          "histogram": [
           {
            "marker": {
             "pattern": {
              "fillmode": "overlay",
              "size": 10,
              "solidity": 0.2
             }
            },
            "type": "histogram"
           }
          ],
          "histogram2d": [
           {
            "colorbar": {
             "outlinewidth": 0,
             "ticks": ""
            },
            "colorscale": [
             [
              0,
              "#0d0887"
             ],
             [
              0.1111111111111111,
              "#46039f"
             ],
             [
              0.2222222222222222,
              "#7201a8"
             ],
             [
              0.3333333333333333,
              "#9c179e"
             ],
             [
              0.4444444444444444,
              "#bd3786"
             ],
             [
              0.5555555555555556,
              "#d8576b"
             ],
             [
              0.6666666666666666,
              "#ed7953"
             ],
             [
              0.7777777777777778,
              "#fb9f3a"
             ],
             [
              0.8888888888888888,
              "#fdca26"
             ],
             [
              1,
              "#f0f921"
             ]
            ],
            "type": "histogram2d"
           }
          ],
          "histogram2dcontour": [
           {
            "colorbar": {
             "outlinewidth": 0,
             "ticks": ""
            },
            "colorscale": [
             [
              0,
              "#0d0887"
             ],
             [
              0.1111111111111111,
              "#46039f"
             ],
             [
              0.2222222222222222,
              "#7201a8"
             ],
             [
              0.3333333333333333,
              "#9c179e"
             ],
             [
              0.4444444444444444,
              "#bd3786"
             ],
             [
              0.5555555555555556,
              "#d8576b"
             ],
             [
              0.6666666666666666,
              "#ed7953"
             ],
             [
              0.7777777777777778,
              "#fb9f3a"
             ],
             [
              0.8888888888888888,
              "#fdca26"
             ],
             [
              1,
              "#f0f921"
             ]
            ],
            "type": "histogram2dcontour"
           }
          ],
          "mesh3d": [
           {
            "colorbar": {
             "outlinewidth": 0,
             "ticks": ""
            },
            "type": "mesh3d"
           }
          ],
          "parcoords": [
           {
            "line": {
             "colorbar": {
              "outlinewidth": 0,
              "ticks": ""
             }
            },
            "type": "parcoords"
           }
          ],
          "pie": [
           {
            "automargin": true,
            "type": "pie"
           }
          ],
          "scatter": [
           {
            "marker": {
             "colorbar": {
              "outlinewidth": 0,
              "ticks": ""
             }
            },
            "type": "scatter"
           }
          ],
          "scatter3d": [
           {
            "line": {
             "colorbar": {
              "outlinewidth": 0,
              "ticks": ""
             }
            },
            "marker": {
             "colorbar": {
              "outlinewidth": 0,
              "ticks": ""
             }
            },
            "type": "scatter3d"
           }
          ],
          "scattercarpet": [
           {
            "marker": {
             "colorbar": {
              "outlinewidth": 0,
              "ticks": ""
             }
            },
            "type": "scattercarpet"
           }
          ],
          "scattergeo": [
           {
            "marker": {
             "colorbar": {
              "outlinewidth": 0,
              "ticks": ""
             }
            },
            "type": "scattergeo"
           }
          ],
          "scattergl": [
           {
            "marker": {
             "colorbar": {
              "outlinewidth": 0,
              "ticks": ""
             }
            },
            "type": "scattergl"
           }
          ],
          "scattermapbox": [
           {
            "marker": {
             "colorbar": {
              "outlinewidth": 0,
              "ticks": ""
             }
            },
            "type": "scattermapbox"
           }
          ],
          "scatterpolar": [
           {
            "marker": {
             "colorbar": {
              "outlinewidth": 0,
              "ticks": ""
             }
            },
            "type": "scatterpolar"
           }
          ],
          "scatterpolargl": [
           {
            "marker": {
             "colorbar": {
              "outlinewidth": 0,
              "ticks": ""
             }
            },
            "type": "scatterpolargl"
           }
          ],
          "scatterternary": [
           {
            "marker": {
             "colorbar": {
              "outlinewidth": 0,
              "ticks": ""
             }
            },
            "type": "scatterternary"
           }
          ],
          "surface": [
           {
            "colorbar": {
             "outlinewidth": 0,
             "ticks": ""
            },
            "colorscale": [
             [
              0,
              "#0d0887"
             ],
             [
              0.1111111111111111,
              "#46039f"
             ],
             [
              0.2222222222222222,
              "#7201a8"
             ],
             [
              0.3333333333333333,
              "#9c179e"
             ],
             [
              0.4444444444444444,
              "#bd3786"
             ],
             [
              0.5555555555555556,
              "#d8576b"
             ],
             [
              0.6666666666666666,
              "#ed7953"
             ],
             [
              0.7777777777777778,
              "#fb9f3a"
             ],
             [
              0.8888888888888888,
              "#fdca26"
             ],
             [
              1,
              "#f0f921"
             ]
            ],
            "type": "surface"
           }
          ],
          "table": [
           {
            "cells": {
             "fill": {
              "color": "#EBF0F8"
             },
             "line": {
              "color": "white"
             }
            },
            "header": {
             "fill": {
              "color": "#C8D4E3"
             },
             "line": {
              "color": "white"
             }
            },
            "type": "table"
           }
          ]
         },
         "layout": {
          "annotationdefaults": {
           "arrowcolor": "#2a3f5f",
           "arrowhead": 0,
           "arrowwidth": 1
          },
          "autotypenumbers": "strict",
          "coloraxis": {
           "colorbar": {
            "outlinewidth": 0,
            "ticks": ""
           }
          },
          "colorscale": {
           "diverging": [
            [
             0,
             "#8e0152"
            ],
            [
             0.1,
             "#c51b7d"
            ],
            [
             0.2,
             "#de77ae"
            ],
            [
             0.3,
             "#f1b6da"
            ],
            [
             0.4,
             "#fde0ef"
            ],
            [
             0.5,
             "#f7f7f7"
            ],
            [
             0.6,
             "#e6f5d0"
            ],
            [
             0.7,
             "#b8e186"
            ],
            [
             0.8,
             "#7fbc41"
            ],
            [
             0.9,
             "#4d9221"
            ],
            [
             1,
             "#276419"
            ]
           ],
           "sequential": [
            [
             0,
             "#0d0887"
            ],
            [
             0.1111111111111111,
             "#46039f"
            ],
            [
             0.2222222222222222,
             "#7201a8"
            ],
            [
             0.3333333333333333,
             "#9c179e"
            ],
            [
             0.4444444444444444,
             "#bd3786"
            ],
            [
             0.5555555555555556,
             "#d8576b"
            ],
            [
             0.6666666666666666,
             "#ed7953"
            ],
            [
             0.7777777777777778,
             "#fb9f3a"
            ],
            [
             0.8888888888888888,
             "#fdca26"
            ],
            [
             1,
             "#f0f921"
            ]
           ],
           "sequentialminus": [
            [
             0,
             "#0d0887"
            ],
            [
             0.1111111111111111,
             "#46039f"
            ],
            [
             0.2222222222222222,
             "#7201a8"
            ],
            [
             0.3333333333333333,
             "#9c179e"
            ],
            [
             0.4444444444444444,
             "#bd3786"
            ],
            [
             0.5555555555555556,
             "#d8576b"
            ],
            [
             0.6666666666666666,
             "#ed7953"
            ],
            [
             0.7777777777777778,
             "#fb9f3a"
            ],
            [
             0.8888888888888888,
             "#fdca26"
            ],
            [
             1,
             "#f0f921"
            ]
           ]
          },
          "colorway": [
           "#636efa",
           "#EF553B",
           "#00cc96",
           "#ab63fa",
           "#FFA15A",
           "#19d3f3",
           "#FF6692",
           "#B6E880",
           "#FF97FF",
           "#FECB52"
          ],
          "font": {
           "color": "#2a3f5f"
          },
          "geo": {
           "bgcolor": "white",
           "lakecolor": "white",
           "landcolor": "#E5ECF6",
           "showlakes": true,
           "showland": true,
           "subunitcolor": "white"
          },
          "hoverlabel": {
           "align": "left"
          },
          "hovermode": "closest",
          "mapbox": {
           "style": "light"
          },
          "paper_bgcolor": "white",
          "plot_bgcolor": "#E5ECF6",
          "polar": {
           "angularaxis": {
            "gridcolor": "white",
            "linecolor": "white",
            "ticks": ""
           },
           "bgcolor": "#E5ECF6",
           "radialaxis": {
            "gridcolor": "white",
            "linecolor": "white",
            "ticks": ""
           }
          },
          "scene": {
           "xaxis": {
            "backgroundcolor": "#E5ECF6",
            "gridcolor": "white",
            "gridwidth": 2,
            "linecolor": "white",
            "showbackground": true,
            "ticks": "",
            "zerolinecolor": "white"
           },
           "yaxis": {
            "backgroundcolor": "#E5ECF6",
            "gridcolor": "white",
            "gridwidth": 2,
            "linecolor": "white",
            "showbackground": true,
            "ticks": "",
            "zerolinecolor": "white"
           },
           "zaxis": {
            "backgroundcolor": "#E5ECF6",
            "gridcolor": "white",
            "gridwidth": 2,
            "linecolor": "white",
            "showbackground": true,
            "ticks": "",
            "zerolinecolor": "white"
           }
          },
          "shapedefaults": {
           "line": {
            "color": "#2a3f5f"
           }
          },
          "ternary": {
           "aaxis": {
            "gridcolor": "white",
            "linecolor": "white",
            "ticks": ""
           },
           "baxis": {
            "gridcolor": "white",
            "linecolor": "white",
            "ticks": ""
           },
           "bgcolor": "#E5ECF6",
           "caxis": {
            "gridcolor": "white",
            "linecolor": "white",
            "ticks": ""
           }
          },
          "title": {
           "x": 0.05
          },
          "xaxis": {
           "automargin": true,
           "gridcolor": "white",
           "linecolor": "white",
           "ticks": "",
           "title": {
            "standoff": 15
           },
           "zerolinecolor": "white",
           "zerolinewidth": 2
          },
          "yaxis": {
           "automargin": true,
           "gridcolor": "white",
           "linecolor": "white",
           "ticks": "",
           "title": {
            "standoff": 15
           },
           "zerolinecolor": "white",
           "zerolinewidth": 2
          }
         }
        },
        "xaxis": {
         "type": "category"
        }
       }
      }
     },
     "metadata": {},
     "output_type": "display_data"
    },
    {
     "data": {
      "application/vnd.plotly.v1+json": {
       "config": {
        "plotlyServerURL": "https://plot.ly"
       },
       "data": [
        {
         "marker": {
          "cmax": 1,
          "cmin": 0,
          "color": [
           0.90625,
           0,
           0,
           0.859375,
           0.921875,
           0,
           0,
           0,
           0.859375,
           0.921875,
           0,
           0,
           0.859375,
           0,
           0.953125,
           0,
           0,
           0,
           0,
           0,
           0.9375,
           0,
           0,
           0,
           0.8125,
           0,
           0,
           0.953125,
           0.828125,
           0,
           0.96875,
           0.890625,
           0,
           0.90625,
           0,
           0,
           0,
           0.953125,
           0,
           0,
           0,
           1,
           0,
           0.953125,
           0.953125,
           0.9375,
           0,
           0,
           0.953125,
           0,
           0,
           0,
           0.9375,
           0.9375,
           0,
           0.875,
           0,
           0,
           0.953125,
           0,
           0,
           0,
           0,
           0.859375,
           0.875,
           0.9375,
           0,
           0.953125,
           0.890625,
           0.921875,
           0.9375,
           0.890625,
           0.9375,
           0.9375,
           0.765625,
           0,
           0,
           0,
           0,
           0,
           0,
           0,
           0,
           0.8125,
           0,
           0.96875,
           0,
           0.875,
           0.875,
           0,
           0.90625,
           0.859375,
           0,
           0,
           0.953125,
           0,
           0.921875,
           0,
           0.875,
           0.984375,
           0,
           0.859375,
           0.921875,
           0,
           0,
           0.9375,
           0.953125,
           0,
           0.9375,
           0,
           0,
           0,
           0.984375,
           0.984375,
           0.953125,
           0,
           0.984375,
           0,
           0,
           0,
           0,
           0.90625,
           0.984375,
           0,
           0,
           0,
           0,
           0.96875,
           0,
           0,
           0,
           0,
           0,
           0.890625,
           0,
           0.984375,
           0,
           0,
           0,
           0,
           0,
           0.96875,
           0.9375,
           0.921875,
           0.984375,
           0,
           0,
           0.984375,
           0,
           0,
           0,
           0,
           0,
           0,
           0,
           0,
           0,
           0.984375,
           0,
           0,
           0,
           0.984375,
           0,
           0,
           1,
           0.96875,
           0,
           0,
           0.984375,
           1,
           0,
           0,
           1,
           0,
           1,
           1,
           0.984375,
           0.96875,
           0,
           0,
           0,
           0,
           0,
           1,
           0.984375,
           0,
           0,
           0,
           0,
           1,
           0,
           0,
           0,
           1,
           0,
           0,
           0,
           0,
           0,
           0
          ],
          "colorbar": {
           "title": {
            "text": "revenue"
           }
          },
          "colorscale": [
           [
            0,
            "#440154"
           ],
           [
            0.1111111111111111,
            "#482878"
           ],
           [
            0.2222222222222222,
            "#3e4989"
           ],
           [
            0.3333333333333333,
            "#31688e"
           ],
           [
            0.4444444444444444,
            "#26828e"
           ],
           [
            0.5555555555555556,
            "#1f9e89"
           ],
           [
            0.6666666666666666,
            "#35b779"
           ],
           [
            0.7777777777777778,
            "#6ece58"
           ],
           [
            0.8888888888888888,
            "#b5de2b"
           ],
           [
            1,
            "#fde725"
           ]
          ]
         },
         "type": "bar",
         "x": [
          "00110101010",
          "11111111001",
          "10111000111",
          "00100101010",
          "00111011000",
          "00101101111",
          "10001111110",
          "01110101111",
          "01111100100",
          "10010101010",
          "00101011111",
          "11010101011",
          "00001110110",
          "10101111111",
          "00001111101",
          "11111111111",
          "11111111110",
          "10111110010",
          "10101011010",
          "10001011110",
          "10011000011",
          "10111011001",
          "11011101010",
          "10001011011",
          "00000011010",
          "10110111010",
          "11101111110",
          "10101011000",
          "10000000011",
          "01011111010",
          "00111111000",
          "10001011000",
          "01111111011",
          "00111101000",
          "11001111101",
          "10101111100",
          "01111011011",
          "10011001001",
          "10000110101",
          "00110101111",
          "00101111110",
          "10101101010",
          "11111101100",
          "00011001111",
          "01101101110",
          "10011011000",
          "11011011000",
          "11110101101",
          "00101101101",
          "11111110111",
          "00101111101",
          "11101011001",
          "01011111100",
          "00001101011",
          "00111011101",
          "01001101010",
          "10001101111",
          "10011011011",
          "10001011010",
          "10101011011",
          "10111000011",
          "10111011111",
          "01101101011",
          "01010101010",
          "00010001011",
          "00111011100",
          "10110101110",
          "00100101111",
          "11000101010",
          "10011101000",
          "01011101110",
          "00101001001",
          "00001111110",
          "10111001000",
          "00110100000",
          "00101011101",
          "11101101010",
          "00111011111",
          "01111111100",
          "00110111110",
          "10110111011",
          "11011100011",
          "10101011111",
          "00010011100",
          "01110101011",
          "00110111010",
          "00011011011",
          "00101001010",
          "01111001000",
          "00110111001",
          "00111010010",
          "00111010100",
          "01111101001",
          "10010111110",
          "10111001100",
          "00001111111",
          "00111001010",
          "10010101011",
          "10000101010",
          "01111101010",
          "10001111011",
          "00111001000",
          "00011101001",
          "01011111101",
          "10101011001",
          "11110101000",
          "00101011001",
          "00111011110",
          "10101101000",
          "01111101011",
          "00111001111",
          "10101001111",
          "00011111110",
          "00111111100",
          "10001101001",
          "00111111101",
          "00101111010",
          "00111111110",
          "10101101111",
          "10101111010",
          "10001101011",
          "00011101010",
          "00110101011",
          "10111011000",
          "11111101011",
          "00001111011",
          "11111101110",
          "00101001111",
          "00111011011",
          "10011011001",
          "10101111000",
          "00101111001",
          "10011011111",
          "10001101100",
          "10111111101",
          "10011111000",
          "00011111111",
          "00011111101",
          "10010101111",
          "10111001111",
          "10011001011",
          "10011001101",
          "01111101100",
          "00111101100",
          "00011101011",
          "10101101001",
          "00101111011",
          "00111011010",
          "10111001101",
          "10110101011",
          "10101111001",
          "10111111000",
          "10101101101",
          "10111011010",
          "10011101111",
          "10101101110",
          "00011111011",
          "10110101010",
          "10101001011",
          "10011111111",
          "10011111011",
          "10111101000",
          "00111111111",
          "10111101111",
          "00011101111",
          "00111101010",
          "10011111101",
          "10011011010",
          "00111101110",
          "10111101100",
          "10111001011",
          "10011111001",
          "00111001011",
          "10111111001",
          "00111101101",
          "00101101011",
          "10011101010",
          "10001101101",
          "10011101101",
          "10111001110",
          "10101101011",
          "10111001001",
          "10111111011",
          "10011101110",
          "00111101001",
          "10111111110",
          "10111101101",
          "00111111011",
          "10111111010",
          "10011101001",
          "00111111001",
          "10111101110",
          "00111111010",
          "10111001010",
          "00111101111",
          "10111101001",
          "00111101011",
          "10111101011",
          "10011101011",
          "10111101010"
         ],
         "y": [
          1,
          1,
          1,
          1,
          1,
          1,
          1,
          1,
          1,
          1,
          1,
          1,
          1,
          1,
          1,
          1,
          1,
          1,
          1,
          1,
          1,
          1,
          1,
          1,
          1,
          1,
          1,
          1,
          1,
          1,
          1,
          1,
          1,
          1,
          1,
          1,
          1,
          1,
          1,
          1,
          1,
          1,
          1,
          1,
          1,
          1,
          1,
          1,
          1,
          1,
          1,
          1,
          1,
          1,
          1,
          1,
          1,
          1,
          1,
          1,
          1,
          1,
          1,
          1,
          1,
          1,
          1,
          1,
          1,
          1,
          1,
          1,
          1,
          1,
          1,
          1,
          1,
          1,
          1,
          1,
          1,
          1,
          1,
          1,
          1,
          1,
          1,
          1,
          1,
          1,
          1,
          1,
          1,
          1,
          1,
          1,
          1,
          1,
          1,
          1,
          1,
          1,
          1,
          1,
          1,
          1,
          1,
          2,
          2,
          2,
          2,
          2,
          2,
          2,
          2,
          2,
          2,
          2,
          2,
          2,
          2,
          2,
          2,
          2,
          2,
          2,
          2,
          2,
          2,
          2,
          2,
          2,
          2,
          2,
          2,
          2,
          2,
          2,
          2,
          2,
          2,
          2,
          2,
          3,
          3,
          3,
          3,
          3,
          3,
          3,
          3,
          3,
          3,
          3,
          3,
          3,
          3,
          3,
          4,
          4,
          4,
          4,
          4,
          4,
          4,
          4,
          4,
          4,
          4,
          4,
          4,
          4,
          4,
          5,
          5,
          5,
          5,
          5,
          5,
          5,
          5,
          5,
          6,
          6,
          6,
          6,
          6,
          6,
          6,
          7,
          7,
          8,
          9,
          10,
          12,
          13,
          16,
          16,
          16,
          27
         ]
        }
       ],
       "layout": {
        "template": {
         "data": {
          "bar": [
           {
            "error_x": {
             "color": "#2a3f5f"
            },
            "error_y": {
             "color": "#2a3f5f"
            },
            "marker": {
             "line": {
              "color": "#E5ECF6",
              "width": 0.5
             },
             "pattern": {
              "fillmode": "overlay",
              "size": 10,
              "solidity": 0.2
             }
            },
            "type": "bar"
           }
          ],
          "barpolar": [
           {
            "marker": {
             "line": {
              "color": "#E5ECF6",
              "width": 0.5
             },
             "pattern": {
              "fillmode": "overlay",
              "size": 10,
              "solidity": 0.2
             }
            },
            "type": "barpolar"
           }
          ],
          "carpet": [
           {
            "aaxis": {
             "endlinecolor": "#2a3f5f",
             "gridcolor": "white",
             "linecolor": "white",
             "minorgridcolor": "white",
             "startlinecolor": "#2a3f5f"
            },
            "baxis": {
             "endlinecolor": "#2a3f5f",
             "gridcolor": "white",
             "linecolor": "white",
             "minorgridcolor": "white",
             "startlinecolor": "#2a3f5f"
            },
            "type": "carpet"
           }
          ],
          "choropleth": [
           {
            "colorbar": {
             "outlinewidth": 0,
             "ticks": ""
            },
            "type": "choropleth"
           }
          ],
          "contour": [
           {
            "colorbar": {
             "outlinewidth": 0,
             "ticks": ""
            },
            "colorscale": [
             [
              0,
              "#0d0887"
             ],
             [
              0.1111111111111111,
              "#46039f"
             ],
             [
              0.2222222222222222,
              "#7201a8"
             ],
             [
              0.3333333333333333,
              "#9c179e"
             ],
             [
              0.4444444444444444,
              "#bd3786"
             ],
             [
              0.5555555555555556,
              "#d8576b"
             ],
             [
              0.6666666666666666,
              "#ed7953"
             ],
             [
              0.7777777777777778,
              "#fb9f3a"
             ],
             [
              0.8888888888888888,
              "#fdca26"
             ],
             [
              1,
              "#f0f921"
             ]
            ],
            "type": "contour"
           }
          ],
          "contourcarpet": [
           {
            "colorbar": {
             "outlinewidth": 0,
             "ticks": ""
            },
            "type": "contourcarpet"
           }
          ],
          "heatmap": [
           {
            "colorbar": {
             "outlinewidth": 0,
             "ticks": ""
            },
            "colorscale": [
             [
              0,
              "#0d0887"
             ],
             [
              0.1111111111111111,
              "#46039f"
             ],
             [
              0.2222222222222222,
              "#7201a8"
             ],
             [
              0.3333333333333333,
              "#9c179e"
             ],
             [
              0.4444444444444444,
              "#bd3786"
             ],
             [
              0.5555555555555556,
              "#d8576b"
             ],
             [
              0.6666666666666666,
              "#ed7953"
             ],
             [
              0.7777777777777778,
              "#fb9f3a"
             ],
             [
              0.8888888888888888,
              "#fdca26"
             ],
             [
              1,
              "#f0f921"
             ]
            ],
            "type": "heatmap"
           }
          ],
          "heatmapgl": [
           {
            "colorbar": {
             "outlinewidth": 0,
             "ticks": ""
            },
            "colorscale": [
             [
              0,
              "#0d0887"
             ],
             [
              0.1111111111111111,
              "#46039f"
             ],
             [
              0.2222222222222222,
              "#7201a8"
             ],
             [
              0.3333333333333333,
              "#9c179e"
             ],
             [
              0.4444444444444444,
              "#bd3786"
             ],
             [
              0.5555555555555556,
              "#d8576b"
             ],
             [
              0.6666666666666666,
              "#ed7953"
             ],
             [
              0.7777777777777778,
              "#fb9f3a"
             ],
             [
              0.8888888888888888,
              "#fdca26"
             ],
             [
              1,
              "#f0f921"
             ]
            ],
            "type": "heatmapgl"
           }
          ],
          "histogram": [
           {
            "marker": {
             "pattern": {
              "fillmode": "overlay",
              "size": 10,
              "solidity": 0.2
             }
            },
            "type": "histogram"
           }
          ],
          "histogram2d": [
           {
            "colorbar": {
             "outlinewidth": 0,
             "ticks": ""
            },
            "colorscale": [
             [
              0,
              "#0d0887"
             ],
             [
              0.1111111111111111,
              "#46039f"
             ],
             [
              0.2222222222222222,
              "#7201a8"
             ],
             [
              0.3333333333333333,
              "#9c179e"
             ],
             [
              0.4444444444444444,
              "#bd3786"
             ],
             [
              0.5555555555555556,
              "#d8576b"
             ],
             [
              0.6666666666666666,
              "#ed7953"
             ],
             [
              0.7777777777777778,
              "#fb9f3a"
             ],
             [
              0.8888888888888888,
              "#fdca26"
             ],
             [
              1,
              "#f0f921"
             ]
            ],
            "type": "histogram2d"
           }
          ],
          "histogram2dcontour": [
           {
            "colorbar": {
             "outlinewidth": 0,
             "ticks": ""
            },
            "colorscale": [
             [
              0,
              "#0d0887"
             ],
             [
              0.1111111111111111,
              "#46039f"
             ],
             [
              0.2222222222222222,
              "#7201a8"
             ],
             [
              0.3333333333333333,
              "#9c179e"
             ],
             [
              0.4444444444444444,
              "#bd3786"
             ],
             [
              0.5555555555555556,
              "#d8576b"
             ],
             [
              0.6666666666666666,
              "#ed7953"
             ],
             [
              0.7777777777777778,
              "#fb9f3a"
             ],
             [
              0.8888888888888888,
              "#fdca26"
             ],
             [
              1,
              "#f0f921"
             ]
            ],
            "type": "histogram2dcontour"
           }
          ],
          "mesh3d": [
           {
            "colorbar": {
             "outlinewidth": 0,
             "ticks": ""
            },
            "type": "mesh3d"
           }
          ],
          "parcoords": [
           {
            "line": {
             "colorbar": {
              "outlinewidth": 0,
              "ticks": ""
             }
            },
            "type": "parcoords"
           }
          ],
          "pie": [
           {
            "automargin": true,
            "type": "pie"
           }
          ],
          "scatter": [
           {
            "marker": {
             "colorbar": {
              "outlinewidth": 0,
              "ticks": ""
             }
            },
            "type": "scatter"
           }
          ],
          "scatter3d": [
           {
            "line": {
             "colorbar": {
              "outlinewidth": 0,
              "ticks": ""
             }
            },
            "marker": {
             "colorbar": {
              "outlinewidth": 0,
              "ticks": ""
             }
            },
            "type": "scatter3d"
           }
          ],
          "scattercarpet": [
           {
            "marker": {
             "colorbar": {
              "outlinewidth": 0,
              "ticks": ""
             }
            },
            "type": "scattercarpet"
           }
          ],
          "scattergeo": [
           {
            "marker": {
             "colorbar": {
              "outlinewidth": 0,
              "ticks": ""
             }
            },
            "type": "scattergeo"
           }
          ],
          "scattergl": [
           {
            "marker": {
             "colorbar": {
              "outlinewidth": 0,
              "ticks": ""
             }
            },
            "type": "scattergl"
           }
          ],
          "scattermapbox": [
           {
            "marker": {
             "colorbar": {
              "outlinewidth": 0,
              "ticks": ""
             }
            },
            "type": "scattermapbox"
           }
          ],
          "scatterpolar": [
           {
            "marker": {
             "colorbar": {
              "outlinewidth": 0,
              "ticks": ""
             }
            },
            "type": "scatterpolar"
           }
          ],
          "scatterpolargl": [
           {
            "marker": {
             "colorbar": {
              "outlinewidth": 0,
              "ticks": ""
             }
            },
            "type": "scatterpolargl"
           }
          ],
          "scatterternary": [
           {
            "marker": {
             "colorbar": {
              "outlinewidth": 0,
              "ticks": ""
             }
            },
            "type": "scatterternary"
           }
          ],
          "surface": [
           {
            "colorbar": {
             "outlinewidth": 0,
             "ticks": ""
            },
            "colorscale": [
             [
              0,
              "#0d0887"
             ],
             [
              0.1111111111111111,
              "#46039f"
             ],
             [
              0.2222222222222222,
              "#7201a8"
             ],
             [
              0.3333333333333333,
              "#9c179e"
             ],
             [
              0.4444444444444444,
              "#bd3786"
             ],
             [
              0.5555555555555556,
              "#d8576b"
             ],
             [
              0.6666666666666666,
              "#ed7953"
             ],
             [
              0.7777777777777778,
              "#fb9f3a"
             ],
             [
              0.8888888888888888,
              "#fdca26"
             ],
             [
              1,
              "#f0f921"
             ]
            ],
            "type": "surface"
           }
          ],
          "table": [
           {
            "cells": {
             "fill": {
              "color": "#EBF0F8"
             },
             "line": {
              "color": "white"
             }
            },
            "header": {
             "fill": {
              "color": "#C8D4E3"
             },
             "line": {
              "color": "white"
             }
            },
            "type": "table"
           }
          ]
         },
         "layout": {
          "annotationdefaults": {
           "arrowcolor": "#2a3f5f",
           "arrowhead": 0,
           "arrowwidth": 1
          },
          "autotypenumbers": "strict",
          "coloraxis": {
           "colorbar": {
            "outlinewidth": 0,
            "ticks": ""
           }
          },
          "colorscale": {
           "diverging": [
            [
             0,
             "#8e0152"
            ],
            [
             0.1,
             "#c51b7d"
            ],
            [
             0.2,
             "#de77ae"
            ],
            [
             0.3,
             "#f1b6da"
            ],
            [
             0.4,
             "#fde0ef"
            ],
            [
             0.5,
             "#f7f7f7"
            ],
            [
             0.6,
             "#e6f5d0"
            ],
            [
             0.7,
             "#b8e186"
            ],
            [
             0.8,
             "#7fbc41"
            ],
            [
             0.9,
             "#4d9221"
            ],
            [
             1,
             "#276419"
            ]
           ],
           "sequential": [
            [
             0,
             "#0d0887"
            ],
            [
             0.1111111111111111,
             "#46039f"
            ],
            [
             0.2222222222222222,
             "#7201a8"
            ],
            [
             0.3333333333333333,
             "#9c179e"
            ],
            [
             0.4444444444444444,
             "#bd3786"
            ],
            [
             0.5555555555555556,
             "#d8576b"
            ],
            [
             0.6666666666666666,
             "#ed7953"
            ],
            [
             0.7777777777777778,
             "#fb9f3a"
            ],
            [
             0.8888888888888888,
             "#fdca26"
            ],
            [
             1,
             "#f0f921"
            ]
           ],
           "sequentialminus": [
            [
             0,
             "#0d0887"
            ],
            [
             0.1111111111111111,
             "#46039f"
            ],
            [
             0.2222222222222222,
             "#7201a8"
            ],
            [
             0.3333333333333333,
             "#9c179e"
            ],
            [
             0.4444444444444444,
             "#bd3786"
            ],
            [
             0.5555555555555556,
             "#d8576b"
            ],
            [
             0.6666666666666666,
             "#ed7953"
            ],
            [
             0.7777777777777778,
             "#fb9f3a"
            ],
            [
             0.8888888888888888,
             "#fdca26"
            ],
            [
             1,
             "#f0f921"
            ]
           ]
          },
          "colorway": [
           "#636efa",
           "#EF553B",
           "#00cc96",
           "#ab63fa",
           "#FFA15A",
           "#19d3f3",
           "#FF6692",
           "#B6E880",
           "#FF97FF",
           "#FECB52"
          ],
          "font": {
           "color": "#2a3f5f"
          },
          "geo": {
           "bgcolor": "white",
           "lakecolor": "white",
           "landcolor": "#E5ECF6",
           "showlakes": true,
           "showland": true,
           "subunitcolor": "white"
          },
          "hoverlabel": {
           "align": "left"
          },
          "hovermode": "closest",
          "mapbox": {
           "style": "light"
          },
          "paper_bgcolor": "white",
          "plot_bgcolor": "#E5ECF6",
          "polar": {
           "angularaxis": {
            "gridcolor": "white",
            "linecolor": "white",
            "ticks": ""
           },
           "bgcolor": "#E5ECF6",
           "radialaxis": {
            "gridcolor": "white",
            "linecolor": "white",
            "ticks": ""
           }
          },
          "scene": {
           "xaxis": {
            "backgroundcolor": "#E5ECF6",
            "gridcolor": "white",
            "gridwidth": 2,
            "linecolor": "white",
            "showbackground": true,
            "ticks": "",
            "zerolinecolor": "white"
           },
           "yaxis": {
            "backgroundcolor": "#E5ECF6",
            "gridcolor": "white",
            "gridwidth": 2,
            "linecolor": "white",
            "showbackground": true,
            "ticks": "",
            "zerolinecolor": "white"
           },
           "zaxis": {
            "backgroundcolor": "#E5ECF6",
            "gridcolor": "white",
            "gridwidth": 2,
            "linecolor": "white",
            "showbackground": true,
            "ticks": "",
            "zerolinecolor": "white"
           }
          },
          "shapedefaults": {
           "line": {
            "color": "#2a3f5f"
           }
          },
          "ternary": {
           "aaxis": {
            "gridcolor": "white",
            "linecolor": "white",
            "ticks": ""
           },
           "baxis": {
            "gridcolor": "white",
            "linecolor": "white",
            "ticks": ""
           },
           "bgcolor": "#E5ECF6",
           "caxis": {
            "gridcolor": "white",
            "linecolor": "white",
            "ticks": ""
           }
          },
          "title": {
           "x": 0.05
          },
          "xaxis": {
           "automargin": true,
           "gridcolor": "white",
           "linecolor": "white",
           "ticks": "",
           "title": {
            "standoff": 15
           },
           "zerolinecolor": "white",
           "zerolinewidth": 2
          },
          "yaxis": {
           "automargin": true,
           "gridcolor": "white",
           "linecolor": "white",
           "ticks": "",
           "title": {
            "standoff": 15
           },
           "zerolinecolor": "white",
           "zerolinewidth": 2
          }
         }
        },
        "xaxis": {
         "type": "category"
        }
       }
      }
     },
     "metadata": {},
     "output_type": "display_data"
    },
    {
     "data": {
      "application/vnd.plotly.v1+json": {
       "config": {
        "plotlyServerURL": "https://plot.ly"
       },
       "data": [
        {
         "marker": {
          "cmax": 1,
          "cmin": 0,
          "color": [
           0,
           0.9384615384615385,
           0.9538461538461539,
           0,
           0,
           0.8769230769230769,
           0,
           0,
           0.9538461538461539,
           0,
           0,
           0,
           0,
           0.8153846153846154,
           0.8307692307692308,
           0.9076923076923077,
           0.9076923076923077,
           0,
           0,
           0,
           0,
           0,
           0,
           0,
           0,
           0,
           0,
           0,
           0,
           0,
           0,
           0.9076923076923077,
           0,
           0,
           0,
           0,
           0.8769230769230769,
           0.9538461538461539,
           0.8615384615384616,
           0,
           0.9692307692307692,
           0,
           0,
           0.9538461538461539,
           0,
           0.9538461538461539,
           0,
           0,
           0,
           0,
           0,
           0.9384615384615385,
           0,
           0,
           0.9230769230769231,
           0.8923076923076924,
           0,
           0,
           0,
           0,
           0.8307692307692308,
           0,
           0.9384615384615385,
           0.9538461538461539,
           0,
           0.8769230769230769,
           0.9384615384615385,
           0,
           0,
           0,
           0,
           0,
           0,
           0,
           0,
           0.9538461538461539,
           0.9384615384615385,
           0.9076923076923077,
           0,
           0,
           0.9538461538461539,
           0.9846153846153847,
           0,
           0,
           0,
           0,
           0,
           0,
           0.9692307692307692,
           0,
           0,
           0.9692307692307692,
           0.9692307692307692,
           0,
           0,
           0,
           0,
           0.9384615384615385,
           0,
           0.9538461538461539,
           0.9692307692307692,
           0,
           0,
           0,
           0,
           0.9538461538461539,
           0.9692307692307692,
           0,
           0,
           0,
           0,
           0.9692307692307692,
           0.9692307692307692,
           0,
           0,
           0,
           0,
           0.9846153846153847,
           0.9846153846153847,
           0,
           0,
           0.9692307692307692,
           0,
           0,
           0,
           0,
           0,
           0,
           0,
           0,
           0,
           0,
           0,
           0,
           0,
           0,
           0.9846153846153847,
           0,
           1,
           0,
           1,
           0,
           0,
           0,
           0,
           0
          ],
          "colorbar": {
           "title": {
            "text": "revenue"
           }
          },
          "colorscale": [
           [
            0,
            "#440154"
           ],
           [
            0.1111111111111111,
            "#482878"
           ],
           [
            0.2222222222222222,
            "#3e4989"
           ],
           [
            0.3333333333333333,
            "#31688e"
           ],
           [
            0.4444444444444444,
            "#26828e"
           ],
           [
            0.5555555555555556,
            "#1f9e89"
           ],
           [
            0.6666666666666666,
            "#35b779"
           ],
           [
            0.7777777777777778,
            "#6ece58"
           ],
           [
            0.8888888888888888,
            "#b5de2b"
           ],
           [
            1,
            "#fde725"
           ]
          ]
         },
         "type": "bar",
         "x": [
          "11111010111",
          "01111010100",
          "11011110100",
          "01111100011",
          "11111110011",
          "11001100100",
          "11110110111",
          "11011110010",
          "11111100000",
          "10111111111",
          "01001110110",
          "01010100111",
          "11010101101",
          "11010000000",
          "01010001100",
          "01011101100",
          "00110100110",
          "11001111101",
          "01110100101",
          "11010000111",
          "01101101110",
          "00010010011",
          "10111000110",
          "11111101101",
          "11101111100",
          "11111011100",
          "10111100010",
          "11111000011",
          "11010101110",
          "11111101001",
          "11110111010",
          "11011000100",
          "11010100011",
          "11101100010",
          "01011101111",
          "11111111010",
          "11011001000",
          "01011101010",
          "01110100000",
          "01011010110",
          "01111000010",
          "11111100101",
          "10111110111",
          "01111100100",
          "01111010110",
          "11100000110",
          "11110011110",
          "11101101111",
          "01111011100",
          "11101101001",
          "01100010011",
          "11001000110",
          "11110000011",
          "01100000011",
          "11010001010",
          "11000101010",
          "11110110110",
          "11111100111",
          "11010010110",
          "11101110111",
          "11010001000",
          "11110100011",
          "11010100010",
          "01010101110",
          "11011010110",
          "01011001100",
          "11111010000",
          "11101101010",
          "01111110010",
          "10011100111",
          "11011010111",
          "01101001110",
          "11011101111",
          "01110101110",
          "01110001110",
          "01110100010",
          "11011100001",
          "01111100000",
          "11111111101",
          "11011100101",
          "11010000110",
          "11011100010",
          "11111000111",
          "01011000111",
          "11011000011",
          "11011100011",
          "11111110110",
          "11001101110",
          "11011001010",
          "11111100001",
          "11111000001",
          "01110000110",
          "11110000010",
          "01111001010",
          "01011101110",
          "11011000111",
          "11111011110",
          "11010100101",
          "11111000101",
          "11011101100",
          "11001100110",
          "01111101010",
          "11111010100",
          "11110100111",
          "11111111110",
          "11101000010",
          "11111000100",
          "11111101010",
          "11111111100",
          "11111010110",
          "11101000110",
          "01011001110",
          "11111101000",
          "11110101010",
          "01110100110",
          "11011101010",
          "11110001110",
          "11111001100",
          "01011100110",
          "11011011110",
          "01111100010",
          "11110101100",
          "11111001010",
          "01111100110",
          "11011100111",
          "11011001110",
          "11111101100",
          "11110100010",
          "01111001110",
          "01111000110",
          "11101100110",
          "01111101110",
          "11110100110",
          "11111100010",
          "11110101110",
          "11110000110",
          "11010100110",
          "11111000010",
          "11011000110",
          "11011101110",
          "11111100100",
          "11111001110",
          "11011100110",
          "11111101110",
          "11111100110",
          "11111000110"
         ],
         "y": [
          1,
          1,
          1,
          1,
          1,
          1,
          1,
          1,
          1,
          1,
          1,
          1,
          1,
          1,
          1,
          1,
          1,
          1,
          1,
          1,
          1,
          1,
          1,
          1,
          1,
          1,
          1,
          1,
          1,
          1,
          1,
          1,
          1,
          1,
          1,
          1,
          1,
          1,
          1,
          1,
          1,
          1,
          1,
          1,
          1,
          1,
          1,
          1,
          1,
          1,
          1,
          1,
          1,
          1,
          1,
          1,
          1,
          1,
          1,
          1,
          1,
          1,
          1,
          1,
          1,
          1,
          1,
          1,
          1,
          1,
          1,
          1,
          1,
          1,
          1,
          1,
          1,
          1,
          1,
          2,
          2,
          2,
          2,
          2,
          2,
          2,
          2,
          2,
          2,
          2,
          2,
          2,
          2,
          2,
          2,
          2,
          2,
          3,
          3,
          3,
          3,
          3,
          3,
          3,
          3,
          3,
          3,
          3,
          3,
          3,
          3,
          3,
          3,
          3,
          3,
          4,
          4,
          4,
          4,
          4,
          4,
          5,
          5,
          5,
          5,
          5,
          6,
          6,
          6,
          6,
          6,
          7,
          8,
          9,
          9,
          10,
          10,
          11,
          12,
          15,
          15,
          15,
          26,
          26,
          42,
          49
         ]
        }
       ],
       "layout": {
        "template": {
         "data": {
          "bar": [
           {
            "error_x": {
             "color": "#2a3f5f"
            },
            "error_y": {
             "color": "#2a3f5f"
            },
            "marker": {
             "line": {
              "color": "#E5ECF6",
              "width": 0.5
             },
             "pattern": {
              "fillmode": "overlay",
              "size": 10,
              "solidity": 0.2
             }
            },
            "type": "bar"
           }
          ],
          "barpolar": [
           {
            "marker": {
             "line": {
              "color": "#E5ECF6",
              "width": 0.5
             },
             "pattern": {
              "fillmode": "overlay",
              "size": 10,
              "solidity": 0.2
             }
            },
            "type": "barpolar"
           }
          ],
          "carpet": [
           {
            "aaxis": {
             "endlinecolor": "#2a3f5f",
             "gridcolor": "white",
             "linecolor": "white",
             "minorgridcolor": "white",
             "startlinecolor": "#2a3f5f"
            },
            "baxis": {
             "endlinecolor": "#2a3f5f",
             "gridcolor": "white",
             "linecolor": "white",
             "minorgridcolor": "white",
             "startlinecolor": "#2a3f5f"
            },
            "type": "carpet"
           }
          ],
          "choropleth": [
           {
            "colorbar": {
             "outlinewidth": 0,
             "ticks": ""
            },
            "type": "choropleth"
           }
          ],
          "contour": [
           {
            "colorbar": {
             "outlinewidth": 0,
             "ticks": ""
            },
            "colorscale": [
             [
              0,
              "#0d0887"
             ],
             [
              0.1111111111111111,
              "#46039f"
             ],
             [
              0.2222222222222222,
              "#7201a8"
             ],
             [
              0.3333333333333333,
              "#9c179e"
             ],
             [
              0.4444444444444444,
              "#bd3786"
             ],
             [
              0.5555555555555556,
              "#d8576b"
             ],
             [
              0.6666666666666666,
              "#ed7953"
             ],
             [
              0.7777777777777778,
              "#fb9f3a"
             ],
             [
              0.8888888888888888,
              "#fdca26"
             ],
             [
              1,
              "#f0f921"
             ]
            ],
            "type": "contour"
           }
          ],
          "contourcarpet": [
           {
            "colorbar": {
             "outlinewidth": 0,
             "ticks": ""
            },
            "type": "contourcarpet"
           }
          ],
          "heatmap": [
           {
            "colorbar": {
             "outlinewidth": 0,
             "ticks": ""
            },
            "colorscale": [
             [
              0,
              "#0d0887"
             ],
             [
              0.1111111111111111,
              "#46039f"
             ],
             [
              0.2222222222222222,
              "#7201a8"
             ],
             [
              0.3333333333333333,
              "#9c179e"
             ],
             [
              0.4444444444444444,
              "#bd3786"
             ],
             [
              0.5555555555555556,
              "#d8576b"
             ],
             [
              0.6666666666666666,
              "#ed7953"
             ],
             [
              0.7777777777777778,
              "#fb9f3a"
             ],
             [
              0.8888888888888888,
              "#fdca26"
             ],
             [
              1,
              "#f0f921"
             ]
            ],
            "type": "heatmap"
           }
          ],
          "heatmapgl": [
           {
            "colorbar": {
             "outlinewidth": 0,
             "ticks": ""
            },
            "colorscale": [
             [
              0,
              "#0d0887"
             ],
             [
              0.1111111111111111,
              "#46039f"
             ],
             [
              0.2222222222222222,
              "#7201a8"
             ],
             [
              0.3333333333333333,
              "#9c179e"
             ],
             [
              0.4444444444444444,
              "#bd3786"
             ],
             [
              0.5555555555555556,
              "#d8576b"
             ],
             [
              0.6666666666666666,
              "#ed7953"
             ],
             [
              0.7777777777777778,
              "#fb9f3a"
             ],
             [
              0.8888888888888888,
              "#fdca26"
             ],
             [
              1,
              "#f0f921"
             ]
            ],
            "type": "heatmapgl"
           }
          ],
          "histogram": [
           {
            "marker": {
             "pattern": {
              "fillmode": "overlay",
              "size": 10,
              "solidity": 0.2
             }
            },
            "type": "histogram"
           }
          ],
          "histogram2d": [
           {
            "colorbar": {
             "outlinewidth": 0,
             "ticks": ""
            },
            "colorscale": [
             [
              0,
              "#0d0887"
             ],
             [
              0.1111111111111111,
              "#46039f"
             ],
             [
              0.2222222222222222,
              "#7201a8"
             ],
             [
              0.3333333333333333,
              "#9c179e"
             ],
             [
              0.4444444444444444,
              "#bd3786"
             ],
             [
              0.5555555555555556,
              "#d8576b"
             ],
             [
              0.6666666666666666,
              "#ed7953"
             ],
             [
              0.7777777777777778,
              "#fb9f3a"
             ],
             [
              0.8888888888888888,
              "#fdca26"
             ],
             [
              1,
              "#f0f921"
             ]
            ],
            "type": "histogram2d"
           }
          ],
          "histogram2dcontour": [
           {
            "colorbar": {
             "outlinewidth": 0,
             "ticks": ""
            },
            "colorscale": [
             [
              0,
              "#0d0887"
             ],
             [
              0.1111111111111111,
              "#46039f"
             ],
             [
              0.2222222222222222,
              "#7201a8"
             ],
             [
              0.3333333333333333,
              "#9c179e"
             ],
             [
              0.4444444444444444,
              "#bd3786"
             ],
             [
              0.5555555555555556,
              "#d8576b"
             ],
             [
              0.6666666666666666,
              "#ed7953"
             ],
             [
              0.7777777777777778,
              "#fb9f3a"
             ],
             [
              0.8888888888888888,
              "#fdca26"
             ],
             [
              1,
              "#f0f921"
             ]
            ],
            "type": "histogram2dcontour"
           }
          ],
          "mesh3d": [
           {
            "colorbar": {
             "outlinewidth": 0,
             "ticks": ""
            },
            "type": "mesh3d"
           }
          ],
          "parcoords": [
           {
            "line": {
             "colorbar": {
              "outlinewidth": 0,
              "ticks": ""
             }
            },
            "type": "parcoords"
           }
          ],
          "pie": [
           {
            "automargin": true,
            "type": "pie"
           }
          ],
          "scatter": [
           {
            "marker": {
             "colorbar": {
              "outlinewidth": 0,
              "ticks": ""
             }
            },
            "type": "scatter"
           }
          ],
          "scatter3d": [
           {
            "line": {
             "colorbar": {
              "outlinewidth": 0,
              "ticks": ""
             }
            },
            "marker": {
             "colorbar": {
              "outlinewidth": 0,
              "ticks": ""
             }
            },
            "type": "scatter3d"
           }
          ],
          "scattercarpet": [
           {
            "marker": {
             "colorbar": {
              "outlinewidth": 0,
              "ticks": ""
             }
            },
            "type": "scattercarpet"
           }
          ],
          "scattergeo": [
           {
            "marker": {
             "colorbar": {
              "outlinewidth": 0,
              "ticks": ""
             }
            },
            "type": "scattergeo"
           }
          ],
          "scattergl": [
           {
            "marker": {
             "colorbar": {
              "outlinewidth": 0,
              "ticks": ""
             }
            },
            "type": "scattergl"
           }
          ],
          "scattermapbox": [
           {
            "marker": {
             "colorbar": {
              "outlinewidth": 0,
              "ticks": ""
             }
            },
            "type": "scattermapbox"
           }
          ],
          "scatterpolar": [
           {
            "marker": {
             "colorbar": {
              "outlinewidth": 0,
              "ticks": ""
             }
            },
            "type": "scatterpolar"
           }
          ],
          "scatterpolargl": [
           {
            "marker": {
             "colorbar": {
              "outlinewidth": 0,
              "ticks": ""
             }
            },
            "type": "scatterpolargl"
           }
          ],
          "scatterternary": [
           {
            "marker": {
             "colorbar": {
              "outlinewidth": 0,
              "ticks": ""
             }
            },
            "type": "scatterternary"
           }
          ],
          "surface": [
           {
            "colorbar": {
             "outlinewidth": 0,
             "ticks": ""
            },
            "colorscale": [
             [
              0,
              "#0d0887"
             ],
             [
              0.1111111111111111,
              "#46039f"
             ],
             [
              0.2222222222222222,
              "#7201a8"
             ],
             [
              0.3333333333333333,
              "#9c179e"
             ],
             [
              0.4444444444444444,
              "#bd3786"
             ],
             [
              0.5555555555555556,
              "#d8576b"
             ],
             [
              0.6666666666666666,
              "#ed7953"
             ],
             [
              0.7777777777777778,
              "#fb9f3a"
             ],
             [
              0.8888888888888888,
              "#fdca26"
             ],
             [
              1,
              "#f0f921"
             ]
            ],
            "type": "surface"
           }
          ],
          "table": [
           {
            "cells": {
             "fill": {
              "color": "#EBF0F8"
             },
             "line": {
              "color": "white"
             }
            },
            "header": {
             "fill": {
              "color": "#C8D4E3"
             },
             "line": {
              "color": "white"
             }
            },
            "type": "table"
           }
          ]
         },
         "layout": {
          "annotationdefaults": {
           "arrowcolor": "#2a3f5f",
           "arrowhead": 0,
           "arrowwidth": 1
          },
          "autotypenumbers": "strict",
          "coloraxis": {
           "colorbar": {
            "outlinewidth": 0,
            "ticks": ""
           }
          },
          "colorscale": {
           "diverging": [
            [
             0,
             "#8e0152"
            ],
            [
             0.1,
             "#c51b7d"
            ],
            [
             0.2,
             "#de77ae"
            ],
            [
             0.3,
             "#f1b6da"
            ],
            [
             0.4,
             "#fde0ef"
            ],
            [
             0.5,
             "#f7f7f7"
            ],
            [
             0.6,
             "#e6f5d0"
            ],
            [
             0.7,
             "#b8e186"
            ],
            [
             0.8,
             "#7fbc41"
            ],
            [
             0.9,
             "#4d9221"
            ],
            [
             1,
             "#276419"
            ]
           ],
           "sequential": [
            [
             0,
             "#0d0887"
            ],
            [
             0.1111111111111111,
             "#46039f"
            ],
            [
             0.2222222222222222,
             "#7201a8"
            ],
            [
             0.3333333333333333,
             "#9c179e"
            ],
            [
             0.4444444444444444,
             "#bd3786"
            ],
            [
             0.5555555555555556,
             "#d8576b"
            ],
            [
             0.6666666666666666,
             "#ed7953"
            ],
            [
             0.7777777777777778,
             "#fb9f3a"
            ],
            [
             0.8888888888888888,
             "#fdca26"
            ],
            [
             1,
             "#f0f921"
            ]
           ],
           "sequentialminus": [
            [
             0,
             "#0d0887"
            ],
            [
             0.1111111111111111,
             "#46039f"
            ],
            [
             0.2222222222222222,
             "#7201a8"
            ],
            [
             0.3333333333333333,
             "#9c179e"
            ],
            [
             0.4444444444444444,
             "#bd3786"
            ],
            [
             0.5555555555555556,
             "#d8576b"
            ],
            [
             0.6666666666666666,
             "#ed7953"
            ],
            [
             0.7777777777777778,
             "#fb9f3a"
            ],
            [
             0.8888888888888888,
             "#fdca26"
            ],
            [
             1,
             "#f0f921"
            ]
           ]
          },
          "colorway": [
           "#636efa",
           "#EF553B",
           "#00cc96",
           "#ab63fa",
           "#FFA15A",
           "#19d3f3",
           "#FF6692",
           "#B6E880",
           "#FF97FF",
           "#FECB52"
          ],
          "font": {
           "color": "#2a3f5f"
          },
          "geo": {
           "bgcolor": "white",
           "lakecolor": "white",
           "landcolor": "#E5ECF6",
           "showlakes": true,
           "showland": true,
           "subunitcolor": "white"
          },
          "hoverlabel": {
           "align": "left"
          },
          "hovermode": "closest",
          "mapbox": {
           "style": "light"
          },
          "paper_bgcolor": "white",
          "plot_bgcolor": "#E5ECF6",
          "polar": {
           "angularaxis": {
            "gridcolor": "white",
            "linecolor": "white",
            "ticks": ""
           },
           "bgcolor": "#E5ECF6",
           "radialaxis": {
            "gridcolor": "white",
            "linecolor": "white",
            "ticks": ""
           }
          },
          "scene": {
           "xaxis": {
            "backgroundcolor": "#E5ECF6",
            "gridcolor": "white",
            "gridwidth": 2,
            "linecolor": "white",
            "showbackground": true,
            "ticks": "",
            "zerolinecolor": "white"
           },
           "yaxis": {
            "backgroundcolor": "#E5ECF6",
            "gridcolor": "white",
            "gridwidth": 2,
            "linecolor": "white",
            "showbackground": true,
            "ticks": "",
            "zerolinecolor": "white"
           },
           "zaxis": {
            "backgroundcolor": "#E5ECF6",
            "gridcolor": "white",
            "gridwidth": 2,
            "linecolor": "white",
            "showbackground": true,
            "ticks": "",
            "zerolinecolor": "white"
           }
          },
          "shapedefaults": {
           "line": {
            "color": "#2a3f5f"
           }
          },
          "ternary": {
           "aaxis": {
            "gridcolor": "white",
            "linecolor": "white",
            "ticks": ""
           },
           "baxis": {
            "gridcolor": "white",
            "linecolor": "white",
            "ticks": ""
           },
           "bgcolor": "#E5ECF6",
           "caxis": {
            "gridcolor": "white",
            "linecolor": "white",
            "ticks": ""
           }
          },
          "title": {
           "x": 0.05
          },
          "xaxis": {
           "automargin": true,
           "gridcolor": "white",
           "linecolor": "white",
           "ticks": "",
           "title": {
            "standoff": 15
           },
           "zerolinecolor": "white",
           "zerolinewidth": 2
          },
          "yaxis": {
           "automargin": true,
           "gridcolor": "white",
           "linecolor": "white",
           "ticks": "",
           "title": {
            "standoff": 15
           },
           "zerolinecolor": "white",
           "zerolinewidth": 2
          }
         }
        },
        "xaxis": {
         "type": "category"
        }
       }
      }
     },
     "metadata": {},
     "output_type": "display_data"
    },
    {
     "data": {
      "application/vnd.plotly.v1+json": {
       "config": {
        "plotlyServerURL": "https://plot.ly"
       },
       "data": [
        {
         "marker": {
          "cmax": 1,
          "cmin": 0,
          "color": [
           0,
           0,
           0.8571428571428571,
           0.8142857142857143,
           0.9571428571428572,
           0,
           0,
           0,
           0.9285714285714286,
           0,
           0,
           0.9142857142857143,
           0.9285714285714286,
           0,
           0.8428571428571429,
           0.9142857142857143,
           0.9571428571428572,
           0,
           0,
           0.8857142857142857,
           0,
           0.8571428571428571,
           0,
           0,
           0.9571428571428572,
           0,
           0,
           0.9714285714285714,
           0.8571428571428571,
           0,
           0.8714285714285714,
           0.8285714285714286,
           0,
           0,
           0,
           0,
           0,
           0.9571428571428572,
           0.8714285714285714,
           0.9571428571428572,
           0,
           0.9142857142857143,
           0.8428571428571429,
           0,
           0.9571428571428572,
           0.8142857142857143,
           0,
           0,
           0.9,
           0,
           0.9142857142857143,
           0,
           0.9714285714285714,
           0,
           0.8571428571428571,
           0.9,
           0.9428571428571428,
           0.8285714285714286,
           0,
           0.9285714285714286,
           0.9285714285714286,
           0,
           0,
           0,
           0,
           0,
           0.9714285714285714,
           0.9571428571428572,
           0,
           0,
           0,
           0.9285714285714286,
           0,
           0,
           0,
           0,
           0,
           0,
           0.9714285714285714,
           0,
           0,
           0,
           0,
           0.9714285714285714,
           0.9285714285714286,
           0,
           0,
           0,
           0,
           0,
           0.9285714285714286,
           0.9714285714285714,
           0,
           0,
           0,
           0.9714285714285714,
           0,
           0.9571428571428572,
           0,
           0,
           0.9714285714285714,
           0,
           0,
           0.9714285714285714,
           0.9857142857142858,
           0,
           0,
           0,
           0.9857142857142858,
           0.9857142857142858,
           0,
           0,
           0,
           0,
           0,
           0.9857142857142858,
           1,
           0,
           0
          ],
          "colorbar": {
           "title": {
            "text": "revenue"
           }
          },
          "colorscale": [
           [
            0,
            "#440154"
           ],
           [
            0.1111111111111111,
            "#482878"
           ],
           [
            0.2222222222222222,
            "#3e4989"
           ],
           [
            0.3333333333333333,
            "#31688e"
           ],
           [
            0.4444444444444444,
            "#26828e"
           ],
           [
            0.5555555555555556,
            "#1f9e89"
           ],
           [
            0.6666666666666666,
            "#35b779"
           ],
           [
            0.7777777777777778,
            "#6ece58"
           ],
           [
            0.8888888888888888,
            "#b5de2b"
           ],
           [
            1,
            "#fde725"
           ]
          ]
         },
         "type": "bar",
         "x": [
          "10001101011",
          "10011110001",
          "00001010101",
          "10100000011",
          "10010100111",
          "11011010011",
          "10001010111",
          "10011010011",
          "00111010101",
          "11001001101",
          "10101100111",
          "10111001001",
          "00011101101",
          "11111010001",
          "10111000100",
          "01101010101",
          "00011100111",
          "01011001011",
          "01111110111",
          "01110100101",
          "11101100101",
          "00011000101",
          "10111010011",
          "01011110110",
          "11011100001",
          "10111111100",
          "00011101111",
          "11001000111",
          "01111100010",
          "10011001111",
          "10110000101",
          "10001000110",
          "10111100011",
          "00111110101",
          "10011101001",
          "10001110101",
          "11111111111",
          "01111100101",
          "10001000101",
          "11001100101",
          "00111110111",
          "11001000101",
          "10111000010",
          "11111111110",
          "01011000111",
          "00101000101",
          "01011110001",
          "01111010101",
          "00011100101",
          "10011110011",
          "00011000111",
          "11111100001",
          "10001100111",
          "10001110111",
          "00001000111",
          "10000110101",
          "01001100111",
          "10011000100",
          "10111110001",
          "10011010001",
          "00101010111",
          "01011111110",
          "10101010011",
          "01111001101",
          "10101010111",
          "00111001111",
          "01111000111",
          "10011001101",
          "00001110111",
          "11111110101",
          "00011110111",
          "00111010011",
          "11111000011",
          "11101000111",
          "01011110111",
          "01011100111",
          "01011010111",
          "10111110111",
          "10011100011",
          "01111010111",
          "00111010111",
          "11011110111",
          "10111110011",
          "00111100111",
          "10011000101",
          "01111100111",
          "11011100011",
          "11011110101",
          "11011100110",
          "11001100111",
          "10001000111",
          "00011010111",
          "10011110101",
          "11111010101",
          "10111110101",
          "10011100101",
          "11011010101",
          "00011110101",
          "11111100101",
          "10111010111",
          "11011000011",
          "11111010111",
          "10111010101",
          "11011000101",
          "10011010101",
          "11011010111",
          "11111100111",
          "11011100101",
          "10111100101",
          "11111000101",
          "10011010111",
          "11111000111",
          "10011110111",
          "10111100111",
          "11011100111",
          "10011000111",
          "10111000111",
          "11011000111",
          "10011100111"
         ],
         "y": [
          1,
          1,
          1,
          1,
          1,
          1,
          1,
          1,
          1,
          1,
          1,
          1,
          1,
          1,
          1,
          1,
          1,
          1,
          1,
          1,
          1,
          1,
          1,
          1,
          1,
          1,
          1,
          1,
          1,
          1,
          1,
          1,
          1,
          1,
          1,
          1,
          1,
          1,
          1,
          1,
          1,
          1,
          1,
          1,
          1,
          1,
          1,
          1,
          1,
          1,
          1,
          1,
          1,
          1,
          1,
          1,
          1,
          1,
          1,
          1,
          1,
          1,
          1,
          1,
          1,
          2,
          2,
          2,
          2,
          2,
          2,
          2,
          2,
          2,
          2,
          3,
          3,
          3,
          3,
          3,
          3,
          3,
          3,
          3,
          3,
          3,
          3,
          4,
          4,
          4,
          4,
          4,
          5,
          5,
          5,
          5,
          5,
          5,
          5,
          6,
          6,
          7,
          8,
          8,
          8,
          10,
          10,
          11,
          13,
          13,
          16,
          16,
          19,
          20,
          22,
          25,
          29,
          43,
          46
         ]
        }
       ],
       "layout": {
        "template": {
         "data": {
          "bar": [
           {
            "error_x": {
             "color": "#2a3f5f"
            },
            "error_y": {
             "color": "#2a3f5f"
            },
            "marker": {
             "line": {
              "color": "#E5ECF6",
              "width": 0.5
             },
             "pattern": {
              "fillmode": "overlay",
              "size": 10,
              "solidity": 0.2
             }
            },
            "type": "bar"
           }
          ],
          "barpolar": [
           {
            "marker": {
             "line": {
              "color": "#E5ECF6",
              "width": 0.5
             },
             "pattern": {
              "fillmode": "overlay",
              "size": 10,
              "solidity": 0.2
             }
            },
            "type": "barpolar"
           }
          ],
          "carpet": [
           {
            "aaxis": {
             "endlinecolor": "#2a3f5f",
             "gridcolor": "white",
             "linecolor": "white",
             "minorgridcolor": "white",
             "startlinecolor": "#2a3f5f"
            },
            "baxis": {
             "endlinecolor": "#2a3f5f",
             "gridcolor": "white",
             "linecolor": "white",
             "minorgridcolor": "white",
             "startlinecolor": "#2a3f5f"
            },
            "type": "carpet"
           }
          ],
          "choropleth": [
           {
            "colorbar": {
             "outlinewidth": 0,
             "ticks": ""
            },
            "type": "choropleth"
           }
          ],
          "contour": [
           {
            "colorbar": {
             "outlinewidth": 0,
             "ticks": ""
            },
            "colorscale": [
             [
              0,
              "#0d0887"
             ],
             [
              0.1111111111111111,
              "#46039f"
             ],
             [
              0.2222222222222222,
              "#7201a8"
             ],
             [
              0.3333333333333333,
              "#9c179e"
             ],
             [
              0.4444444444444444,
              "#bd3786"
             ],
             [
              0.5555555555555556,
              "#d8576b"
             ],
             [
              0.6666666666666666,
              "#ed7953"
             ],
             [
              0.7777777777777778,
              "#fb9f3a"
             ],
             [
              0.8888888888888888,
              "#fdca26"
             ],
             [
              1,
              "#f0f921"
             ]
            ],
            "type": "contour"
           }
          ],
          "contourcarpet": [
           {
            "colorbar": {
             "outlinewidth": 0,
             "ticks": ""
            },
            "type": "contourcarpet"
           }
          ],
          "heatmap": [
           {
            "colorbar": {
             "outlinewidth": 0,
             "ticks": ""
            },
            "colorscale": [
             [
              0,
              "#0d0887"
             ],
             [
              0.1111111111111111,
              "#46039f"
             ],
             [
              0.2222222222222222,
              "#7201a8"
             ],
             [
              0.3333333333333333,
              "#9c179e"
             ],
             [
              0.4444444444444444,
              "#bd3786"
             ],
             [
              0.5555555555555556,
              "#d8576b"
             ],
             [
              0.6666666666666666,
              "#ed7953"
             ],
             [
              0.7777777777777778,
              "#fb9f3a"
             ],
             [
              0.8888888888888888,
              "#fdca26"
             ],
             [
              1,
              "#f0f921"
             ]
            ],
            "type": "heatmap"
           }
          ],
          "heatmapgl": [
           {
            "colorbar": {
             "outlinewidth": 0,
             "ticks": ""
            },
            "colorscale": [
             [
              0,
              "#0d0887"
             ],
             [
              0.1111111111111111,
              "#46039f"
             ],
             [
              0.2222222222222222,
              "#7201a8"
             ],
             [
              0.3333333333333333,
              "#9c179e"
             ],
             [
              0.4444444444444444,
              "#bd3786"
             ],
             [
              0.5555555555555556,
              "#d8576b"
             ],
             [
              0.6666666666666666,
              "#ed7953"
             ],
             [
              0.7777777777777778,
              "#fb9f3a"
             ],
             [
              0.8888888888888888,
              "#fdca26"
             ],
             [
              1,
              "#f0f921"
             ]
            ],
            "type": "heatmapgl"
           }
          ],
          "histogram": [
           {
            "marker": {
             "pattern": {
              "fillmode": "overlay",
              "size": 10,
              "solidity": 0.2
             }
            },
            "type": "histogram"
           }
          ],
          "histogram2d": [
           {
            "colorbar": {
             "outlinewidth": 0,
             "ticks": ""
            },
            "colorscale": [
             [
              0,
              "#0d0887"
             ],
             [
              0.1111111111111111,
              "#46039f"
             ],
             [
              0.2222222222222222,
              "#7201a8"
             ],
             [
              0.3333333333333333,
              "#9c179e"
             ],
             [
              0.4444444444444444,
              "#bd3786"
             ],
             [
              0.5555555555555556,
              "#d8576b"
             ],
             [
              0.6666666666666666,
              "#ed7953"
             ],
             [
              0.7777777777777778,
              "#fb9f3a"
             ],
             [
              0.8888888888888888,
              "#fdca26"
             ],
             [
              1,
              "#f0f921"
             ]
            ],
            "type": "histogram2d"
           }
          ],
          "histogram2dcontour": [
           {
            "colorbar": {
             "outlinewidth": 0,
             "ticks": ""
            },
            "colorscale": [
             [
              0,
              "#0d0887"
             ],
             [
              0.1111111111111111,
              "#46039f"
             ],
             [
              0.2222222222222222,
              "#7201a8"
             ],
             [
              0.3333333333333333,
              "#9c179e"
             ],
             [
              0.4444444444444444,
              "#bd3786"
             ],
             [
              0.5555555555555556,
              "#d8576b"
             ],
             [
              0.6666666666666666,
              "#ed7953"
             ],
             [
              0.7777777777777778,
              "#fb9f3a"
             ],
             [
              0.8888888888888888,
              "#fdca26"
             ],
             [
              1,
              "#f0f921"
             ]
            ],
            "type": "histogram2dcontour"
           }
          ],
          "mesh3d": [
           {
            "colorbar": {
             "outlinewidth": 0,
             "ticks": ""
            },
            "type": "mesh3d"
           }
          ],
          "parcoords": [
           {
            "line": {
             "colorbar": {
              "outlinewidth": 0,
              "ticks": ""
             }
            },
            "type": "parcoords"
           }
          ],
          "pie": [
           {
            "automargin": true,
            "type": "pie"
           }
          ],
          "scatter": [
           {
            "marker": {
             "colorbar": {
              "outlinewidth": 0,
              "ticks": ""
             }
            },
            "type": "scatter"
           }
          ],
          "scatter3d": [
           {
            "line": {
             "colorbar": {
              "outlinewidth": 0,
              "ticks": ""
             }
            },
            "marker": {
             "colorbar": {
              "outlinewidth": 0,
              "ticks": ""
             }
            },
            "type": "scatter3d"
           }
          ],
          "scattercarpet": [
           {
            "marker": {
             "colorbar": {
              "outlinewidth": 0,
              "ticks": ""
             }
            },
            "type": "scattercarpet"
           }
          ],
          "scattergeo": [
           {
            "marker": {
             "colorbar": {
              "outlinewidth": 0,
              "ticks": ""
             }
            },
            "type": "scattergeo"
           }
          ],
          "scattergl": [
           {
            "marker": {
             "colorbar": {
              "outlinewidth": 0,
              "ticks": ""
             }
            },
            "type": "scattergl"
           }
          ],
          "scattermapbox": [
           {
            "marker": {
             "colorbar": {
              "outlinewidth": 0,
              "ticks": ""
             }
            },
            "type": "scattermapbox"
           }
          ],
          "scatterpolar": [
           {
            "marker": {
             "colorbar": {
              "outlinewidth": 0,
              "ticks": ""
             }
            },
            "type": "scatterpolar"
           }
          ],
          "scatterpolargl": [
           {
            "marker": {
             "colorbar": {
              "outlinewidth": 0,
              "ticks": ""
             }
            },
            "type": "scatterpolargl"
           }
          ],
          "scatterternary": [
           {
            "marker": {
             "colorbar": {
              "outlinewidth": 0,
              "ticks": ""
             }
            },
            "type": "scatterternary"
           }
          ],
          "surface": [
           {
            "colorbar": {
             "outlinewidth": 0,
             "ticks": ""
            },
            "colorscale": [
             [
              0,
              "#0d0887"
             ],
             [
              0.1111111111111111,
              "#46039f"
             ],
             [
              0.2222222222222222,
              "#7201a8"
             ],
             [
              0.3333333333333333,
              "#9c179e"
             ],
             [
              0.4444444444444444,
              "#bd3786"
             ],
             [
              0.5555555555555556,
              "#d8576b"
             ],
             [
              0.6666666666666666,
              "#ed7953"
             ],
             [
              0.7777777777777778,
              "#fb9f3a"
             ],
             [
              0.8888888888888888,
              "#fdca26"
             ],
             [
              1,
              "#f0f921"
             ]
            ],
            "type": "surface"
           }
          ],
          "table": [
           {
            "cells": {
             "fill": {
              "color": "#EBF0F8"
             },
             "line": {
              "color": "white"
             }
            },
            "header": {
             "fill": {
              "color": "#C8D4E3"
             },
             "line": {
              "color": "white"
             }
            },
            "type": "table"
           }
          ]
         },
         "layout": {
          "annotationdefaults": {
           "arrowcolor": "#2a3f5f",
           "arrowhead": 0,
           "arrowwidth": 1
          },
          "autotypenumbers": "strict",
          "coloraxis": {
           "colorbar": {
            "outlinewidth": 0,
            "ticks": ""
           }
          },
          "colorscale": {
           "diverging": [
            [
             0,
             "#8e0152"
            ],
            [
             0.1,
             "#c51b7d"
            ],
            [
             0.2,
             "#de77ae"
            ],
            [
             0.3,
             "#f1b6da"
            ],
            [
             0.4,
             "#fde0ef"
            ],
            [
             0.5,
             "#f7f7f7"
            ],
            [
             0.6,
             "#e6f5d0"
            ],
            [
             0.7,
             "#b8e186"
            ],
            [
             0.8,
             "#7fbc41"
            ],
            [
             0.9,
             "#4d9221"
            ],
            [
             1,
             "#276419"
            ]
           ],
           "sequential": [
            [
             0,
             "#0d0887"
            ],
            [
             0.1111111111111111,
             "#46039f"
            ],
            [
             0.2222222222222222,
             "#7201a8"
            ],
            [
             0.3333333333333333,
             "#9c179e"
            ],
            [
             0.4444444444444444,
             "#bd3786"
            ],
            [
             0.5555555555555556,
             "#d8576b"
            ],
            [
             0.6666666666666666,
             "#ed7953"
            ],
            [
             0.7777777777777778,
             "#fb9f3a"
            ],
            [
             0.8888888888888888,
             "#fdca26"
            ],
            [
             1,
             "#f0f921"
            ]
           ],
           "sequentialminus": [
            [
             0,
             "#0d0887"
            ],
            [
             0.1111111111111111,
             "#46039f"
            ],
            [
             0.2222222222222222,
             "#7201a8"
            ],
            [
             0.3333333333333333,
             "#9c179e"
            ],
            [
             0.4444444444444444,
             "#bd3786"
            ],
            [
             0.5555555555555556,
             "#d8576b"
            ],
            [
             0.6666666666666666,
             "#ed7953"
            ],
            [
             0.7777777777777778,
             "#fb9f3a"
            ],
            [
             0.8888888888888888,
             "#fdca26"
            ],
            [
             1,
             "#f0f921"
            ]
           ]
          },
          "colorway": [
           "#636efa",
           "#EF553B",
           "#00cc96",
           "#ab63fa",
           "#FFA15A",
           "#19d3f3",
           "#FF6692",
           "#B6E880",
           "#FF97FF",
           "#FECB52"
          ],
          "font": {
           "color": "#2a3f5f"
          },
          "geo": {
           "bgcolor": "white",
           "lakecolor": "white",
           "landcolor": "#E5ECF6",
           "showlakes": true,
           "showland": true,
           "subunitcolor": "white"
          },
          "hoverlabel": {
           "align": "left"
          },
          "hovermode": "closest",
          "mapbox": {
           "style": "light"
          },
          "paper_bgcolor": "white",
          "plot_bgcolor": "#E5ECF6",
          "polar": {
           "angularaxis": {
            "gridcolor": "white",
            "linecolor": "white",
            "ticks": ""
           },
           "bgcolor": "#E5ECF6",
           "radialaxis": {
            "gridcolor": "white",
            "linecolor": "white",
            "ticks": ""
           }
          },
          "scene": {
           "xaxis": {
            "backgroundcolor": "#E5ECF6",
            "gridcolor": "white",
            "gridwidth": 2,
            "linecolor": "white",
            "showbackground": true,
            "ticks": "",
            "zerolinecolor": "white"
           },
           "yaxis": {
            "backgroundcolor": "#E5ECF6",
            "gridcolor": "white",
            "gridwidth": 2,
            "linecolor": "white",
            "showbackground": true,
            "ticks": "",
            "zerolinecolor": "white"
           },
           "zaxis": {
            "backgroundcolor": "#E5ECF6",
            "gridcolor": "white",
            "gridwidth": 2,
            "linecolor": "white",
            "showbackground": true,
            "ticks": "",
            "zerolinecolor": "white"
           }
          },
          "shapedefaults": {
           "line": {
            "color": "#2a3f5f"
           }
          },
          "ternary": {
           "aaxis": {
            "gridcolor": "white",
            "linecolor": "white",
            "ticks": ""
           },
           "baxis": {
            "gridcolor": "white",
            "linecolor": "white",
            "ticks": ""
           },
           "bgcolor": "#E5ECF6",
           "caxis": {
            "gridcolor": "white",
            "linecolor": "white",
            "ticks": ""
           }
          },
          "title": {
           "x": 0.05
          },
          "xaxis": {
           "automargin": true,
           "gridcolor": "white",
           "linecolor": "white",
           "ticks": "",
           "title": {
            "standoff": 15
           },
           "zerolinecolor": "white",
           "zerolinewidth": 2
          },
          "yaxis": {
           "automargin": true,
           "gridcolor": "white",
           "linecolor": "white",
           "ticks": "",
           "title": {
            "standoff": 15
           },
           "zerolinecolor": "white",
           "zerolinewidth": 2
          }
         }
        },
        "xaxis": {
         "type": "category"
        }
       }
      }
     },
     "metadata": {},
     "output_type": "display_data"
    },
    {
     "data": {
      "application/vnd.plotly.v1+json": {
       "config": {
        "plotlyServerURL": "https://plot.ly"
       },
       "data": [
        {
         "marker": {
          "cmax": 1,
          "cmin": 0,
          "color": [
           0,
           0.8676470588235294,
           0.9264705882352942,
           0,
           0,
           0.8529411764705882,
           0,
           0,
           0,
           0,
           0,
           0,
           0,
           0,
           0.9264705882352942,
           0,
           0,
           0,
           0,
           0,
           0,
           0.9411764705882353,
           0.6911764705882353,
           0,
           0,
           0.8382352941176471,
           0.9264705882352942,
           0,
           0.9117647058823529,
           0,
           0,
           0,
           0,
           0.8823529411764706,
           0.9411764705882353,
           0.7941176470588235,
           0.8529411764705882,
           0,
           0.9117647058823529,
           0,
           0.7352941176470589,
           0.9264705882352942,
           0,
           0.9411764705882353,
           0.9558823529411765,
           0.6176470588235294,
           0,
           0.8382352941176471,
           0.9558823529411765,
           0.9411764705882353,
           0,
           0,
           0.8970588235294118,
           0,
           0,
           0,
           0.8676470588235294,
           0.9558823529411765,
           0,
           0.9558823529411765,
           0,
           0,
           0,
           0,
           0,
           0,
           0,
           0,
           0,
           0,
           0,
           0,
           0,
           0.9264705882352942,
           0,
           0,
           0.9558823529411765,
           0,
           0.9705882352941176,
           0,
           0,
           0,
           0,
           0,
           0,
           0,
           0.9705882352941176,
           0,
           0,
           0,
           0.9852941176470589,
           0,
           1,
           0,
           0
          ],
          "colorbar": {
           "title": {
            "text": "revenue"
           }
          },
          "colorscale": [
           [
            0,
            "#440154"
           ],
           [
            0.1111111111111111,
            "#482878"
           ],
           [
            0.2222222222222222,
            "#3e4989"
           ],
           [
            0.3333333333333333,
            "#31688e"
           ],
           [
            0.4444444444444444,
            "#26828e"
           ],
           [
            0.5555555555555556,
            "#1f9e89"
           ],
           [
            0.6666666666666666,
            "#35b779"
           ],
           [
            0.7777777777777778,
            "#6ece58"
           ],
           [
            0.8888888888888888,
            "#b5de2b"
           ],
           [
            1,
            "#fde725"
           ]
          ]
         },
         "type": "bar",
         "x": [
          "01111000110",
          "10111001000",
          "00101010111",
          "01111100111",
          "00111010110",
          "10100101100",
          "10111101101",
          "00111101010",
          "00101111101",
          "11101111111",
          "00110111110",
          "01111001010",
          "11101101100",
          "00111100111",
          "10101010110",
          "10111101100",
          "00011101110",
          "00101111011",
          "10101001111",
          "00110101110",
          "00011111011",
          "01111001100",
          "00100001000",
          "01101111111",
          "11101111110",
          "00111000100",
          "00001111110",
          "00111110110",
          "00100101110",
          "00011111110",
          "11101011110",
          "11000100011",
          "00111111010",
          "10110001010",
          "00101111100",
          "00001101100",
          "00101000110",
          "11010110110",
          "01001101110",
          "00111000111",
          "00011000100",
          "01100011110",
          "01101011111",
          "00111001101",
          "00101110110",
          "01000001000",
          "10101111100",
          "00101001100",
          "00111011100",
          "10101100110",
          "11111101110",
          "10111011111",
          "00101101100",
          "11111111101",
          "00111011101",
          "11101101110",
          "10110001100",
          "00100111110",
          "10111101111",
          "00101001111",
          "01111011110",
          "10101101111",
          "10111001111",
          "10111101110",
          "01111001110",
          "00101111111",
          "10111111110",
          "01101001111",
          "10101111110",
          "00111001111",
          "00111111111",
          "10111011110",
          "00111011111",
          "00101001110",
          "10111001110",
          "01101011110",
          "10101001110",
          "10101011110",
          "00111101100",
          "01101111110",
          "01111101110",
          "00101011111",
          "01111111110",
          "11101001110",
          "00101101111",
          "00111101111",
          "00101011110",
          "01101101110",
          "00111011110",
          "10101101110",
          "00101101110",
          "00111111110",
          "00111001110",
          "00101111110",
          "00111101110"
         ],
         "y": [
          1,
          1,
          1,
          1,
          1,
          1,
          1,
          1,
          1,
          1,
          1,
          1,
          1,
          1,
          1,
          1,
          1,
          1,
          1,
          1,
          1,
          1,
          1,
          1,
          1,
          1,
          1,
          1,
          1,
          1,
          1,
          1,
          1,
          1,
          1,
          1,
          1,
          1,
          1,
          1,
          1,
          1,
          1,
          1,
          1,
          1,
          1,
          2,
          2,
          2,
          2,
          2,
          2,
          2,
          2,
          2,
          2,
          2,
          2,
          3,
          3,
          3,
          3,
          3,
          4,
          4,
          4,
          4,
          5,
          5,
          5,
          5,
          5,
          6,
          6,
          6,
          6,
          7,
          7,
          7,
          8,
          8,
          9,
          9,
          12,
          12,
          17,
          20,
          23,
          23,
          24,
          24,
          34,
          48,
          69
         ]
        }
       ],
       "layout": {
        "template": {
         "data": {
          "bar": [
           {
            "error_x": {
             "color": "#2a3f5f"
            },
            "error_y": {
             "color": "#2a3f5f"
            },
            "marker": {
             "line": {
              "color": "#E5ECF6",
              "width": 0.5
             },
             "pattern": {
              "fillmode": "overlay",
              "size": 10,
              "solidity": 0.2
             }
            },
            "type": "bar"
           }
          ],
          "barpolar": [
           {
            "marker": {
             "line": {
              "color": "#E5ECF6",
              "width": 0.5
             },
             "pattern": {
              "fillmode": "overlay",
              "size": 10,
              "solidity": 0.2
             }
            },
            "type": "barpolar"
           }
          ],
          "carpet": [
           {
            "aaxis": {
             "endlinecolor": "#2a3f5f",
             "gridcolor": "white",
             "linecolor": "white",
             "minorgridcolor": "white",
             "startlinecolor": "#2a3f5f"
            },
            "baxis": {
             "endlinecolor": "#2a3f5f",
             "gridcolor": "white",
             "linecolor": "white",
             "minorgridcolor": "white",
             "startlinecolor": "#2a3f5f"
            },
            "type": "carpet"
           }
          ],
          "choropleth": [
           {
            "colorbar": {
             "outlinewidth": 0,
             "ticks": ""
            },
            "type": "choropleth"
           }
          ],
          "contour": [
           {
            "colorbar": {
             "outlinewidth": 0,
             "ticks": ""
            },
            "colorscale": [
             [
              0,
              "#0d0887"
             ],
             [
              0.1111111111111111,
              "#46039f"
             ],
             [
              0.2222222222222222,
              "#7201a8"
             ],
             [
              0.3333333333333333,
              "#9c179e"
             ],
             [
              0.4444444444444444,
              "#bd3786"
             ],
             [
              0.5555555555555556,
              "#d8576b"
             ],
             [
              0.6666666666666666,
              "#ed7953"
             ],
             [
              0.7777777777777778,
              "#fb9f3a"
             ],
             [
              0.8888888888888888,
              "#fdca26"
             ],
             [
              1,
              "#f0f921"
             ]
            ],
            "type": "contour"
           }
          ],
          "contourcarpet": [
           {
            "colorbar": {
             "outlinewidth": 0,
             "ticks": ""
            },
            "type": "contourcarpet"
           }
          ],
          "heatmap": [
           {
            "colorbar": {
             "outlinewidth": 0,
             "ticks": ""
            },
            "colorscale": [
             [
              0,
              "#0d0887"
             ],
             [
              0.1111111111111111,
              "#46039f"
             ],
             [
              0.2222222222222222,
              "#7201a8"
             ],
             [
              0.3333333333333333,
              "#9c179e"
             ],
             [
              0.4444444444444444,
              "#bd3786"
             ],
             [
              0.5555555555555556,
              "#d8576b"
             ],
             [
              0.6666666666666666,
              "#ed7953"
             ],
             [
              0.7777777777777778,
              "#fb9f3a"
             ],
             [
              0.8888888888888888,
              "#fdca26"
             ],
             [
              1,
              "#f0f921"
             ]
            ],
            "type": "heatmap"
           }
          ],
          "heatmapgl": [
           {
            "colorbar": {
             "outlinewidth": 0,
             "ticks": ""
            },
            "colorscale": [
             [
              0,
              "#0d0887"
             ],
             [
              0.1111111111111111,
              "#46039f"
             ],
             [
              0.2222222222222222,
              "#7201a8"
             ],
             [
              0.3333333333333333,
              "#9c179e"
             ],
             [
              0.4444444444444444,
              "#bd3786"
             ],
             [
              0.5555555555555556,
              "#d8576b"
             ],
             [
              0.6666666666666666,
              "#ed7953"
             ],
             [
              0.7777777777777778,
              "#fb9f3a"
             ],
             [
              0.8888888888888888,
              "#fdca26"
             ],
             [
              1,
              "#f0f921"
             ]
            ],
            "type": "heatmapgl"
           }
          ],
          "histogram": [
           {
            "marker": {
             "pattern": {
              "fillmode": "overlay",
              "size": 10,
              "solidity": 0.2
             }
            },
            "type": "histogram"
           }
          ],
          "histogram2d": [
           {
            "colorbar": {
             "outlinewidth": 0,
             "ticks": ""
            },
            "colorscale": [
             [
              0,
              "#0d0887"
             ],
             [
              0.1111111111111111,
              "#46039f"
             ],
             [
              0.2222222222222222,
              "#7201a8"
             ],
             [
              0.3333333333333333,
              "#9c179e"
             ],
             [
              0.4444444444444444,
              "#bd3786"
             ],
             [
              0.5555555555555556,
              "#d8576b"
             ],
             [
              0.6666666666666666,
              "#ed7953"
             ],
             [
              0.7777777777777778,
              "#fb9f3a"
             ],
             [
              0.8888888888888888,
              "#fdca26"
             ],
             [
              1,
              "#f0f921"
             ]
            ],
            "type": "histogram2d"
           }
          ],
          "histogram2dcontour": [
           {
            "colorbar": {
             "outlinewidth": 0,
             "ticks": ""
            },
            "colorscale": [
             [
              0,
              "#0d0887"
             ],
             [
              0.1111111111111111,
              "#46039f"
             ],
             [
              0.2222222222222222,
              "#7201a8"
             ],
             [
              0.3333333333333333,
              "#9c179e"
             ],
             [
              0.4444444444444444,
              "#bd3786"
             ],
             [
              0.5555555555555556,
              "#d8576b"
             ],
             [
              0.6666666666666666,
              "#ed7953"
             ],
             [
              0.7777777777777778,
              "#fb9f3a"
             ],
             [
              0.8888888888888888,
              "#fdca26"
             ],
             [
              1,
              "#f0f921"
             ]
            ],
            "type": "histogram2dcontour"
           }
          ],
          "mesh3d": [
           {
            "colorbar": {
             "outlinewidth": 0,
             "ticks": ""
            },
            "type": "mesh3d"
           }
          ],
          "parcoords": [
           {
            "line": {
             "colorbar": {
              "outlinewidth": 0,
              "ticks": ""
             }
            },
            "type": "parcoords"
           }
          ],
          "pie": [
           {
            "automargin": true,
            "type": "pie"
           }
          ],
          "scatter": [
           {
            "marker": {
             "colorbar": {
              "outlinewidth": 0,
              "ticks": ""
             }
            },
            "type": "scatter"
           }
          ],
          "scatter3d": [
           {
            "line": {
             "colorbar": {
              "outlinewidth": 0,
              "ticks": ""
             }
            },
            "marker": {
             "colorbar": {
              "outlinewidth": 0,
              "ticks": ""
             }
            },
            "type": "scatter3d"
           }
          ],
          "scattercarpet": [
           {
            "marker": {
             "colorbar": {
              "outlinewidth": 0,
              "ticks": ""
             }
            },
            "type": "scattercarpet"
           }
          ],
          "scattergeo": [
           {
            "marker": {
             "colorbar": {
              "outlinewidth": 0,
              "ticks": ""
             }
            },
            "type": "scattergeo"
           }
          ],
          "scattergl": [
           {
            "marker": {
             "colorbar": {
              "outlinewidth": 0,
              "ticks": ""
             }
            },
            "type": "scattergl"
           }
          ],
          "scattermapbox": [
           {
            "marker": {
             "colorbar": {
              "outlinewidth": 0,
              "ticks": ""
             }
            },
            "type": "scattermapbox"
           }
          ],
          "scatterpolar": [
           {
            "marker": {
             "colorbar": {
              "outlinewidth": 0,
              "ticks": ""
             }
            },
            "type": "scatterpolar"
           }
          ],
          "scatterpolargl": [
           {
            "marker": {
             "colorbar": {
              "outlinewidth": 0,
              "ticks": ""
             }
            },
            "type": "scatterpolargl"
           }
          ],
          "scatterternary": [
           {
            "marker": {
             "colorbar": {
              "outlinewidth": 0,
              "ticks": ""
             }
            },
            "type": "scatterternary"
           }
          ],
          "surface": [
           {
            "colorbar": {
             "outlinewidth": 0,
             "ticks": ""
            },
            "colorscale": [
             [
              0,
              "#0d0887"
             ],
             [
              0.1111111111111111,
              "#46039f"
             ],
             [
              0.2222222222222222,
              "#7201a8"
             ],
             [
              0.3333333333333333,
              "#9c179e"
             ],
             [
              0.4444444444444444,
              "#bd3786"
             ],
             [
              0.5555555555555556,
              "#d8576b"
             ],
             [
              0.6666666666666666,
              "#ed7953"
             ],
             [
              0.7777777777777778,
              "#fb9f3a"
             ],
             [
              0.8888888888888888,
              "#fdca26"
             ],
             [
              1,
              "#f0f921"
             ]
            ],
            "type": "surface"
           }
          ],
          "table": [
           {
            "cells": {
             "fill": {
              "color": "#EBF0F8"
             },
             "line": {
              "color": "white"
             }
            },
            "header": {
             "fill": {
              "color": "#C8D4E3"
             },
             "line": {
              "color": "white"
             }
            },
            "type": "table"
           }
          ]
         },
         "layout": {
          "annotationdefaults": {
           "arrowcolor": "#2a3f5f",
           "arrowhead": 0,
           "arrowwidth": 1
          },
          "autotypenumbers": "strict",
          "coloraxis": {
           "colorbar": {
            "outlinewidth": 0,
            "ticks": ""
           }
          },
          "colorscale": {
           "diverging": [
            [
             0,
             "#8e0152"
            ],
            [
             0.1,
             "#c51b7d"
            ],
            [
             0.2,
             "#de77ae"
            ],
            [
             0.3,
             "#f1b6da"
            ],
            [
             0.4,
             "#fde0ef"
            ],
            [
             0.5,
             "#f7f7f7"
            ],
            [
             0.6,
             "#e6f5d0"
            ],
            [
             0.7,
             "#b8e186"
            ],
            [
             0.8,
             "#7fbc41"
            ],
            [
             0.9,
             "#4d9221"
            ],
            [
             1,
             "#276419"
            ]
           ],
           "sequential": [
            [
             0,
             "#0d0887"
            ],
            [
             0.1111111111111111,
             "#46039f"
            ],
            [
             0.2222222222222222,
             "#7201a8"
            ],
            [
             0.3333333333333333,
             "#9c179e"
            ],
            [
             0.4444444444444444,
             "#bd3786"
            ],
            [
             0.5555555555555556,
             "#d8576b"
            ],
            [
             0.6666666666666666,
             "#ed7953"
            ],
            [
             0.7777777777777778,
             "#fb9f3a"
            ],
            [
             0.8888888888888888,
             "#fdca26"
            ],
            [
             1,
             "#f0f921"
            ]
           ],
           "sequentialminus": [
            [
             0,
             "#0d0887"
            ],
            [
             0.1111111111111111,
             "#46039f"
            ],
            [
             0.2222222222222222,
             "#7201a8"
            ],
            [
             0.3333333333333333,
             "#9c179e"
            ],
            [
             0.4444444444444444,
             "#bd3786"
            ],
            [
             0.5555555555555556,
             "#d8576b"
            ],
            [
             0.6666666666666666,
             "#ed7953"
            ],
            [
             0.7777777777777778,
             "#fb9f3a"
            ],
            [
             0.8888888888888888,
             "#fdca26"
            ],
            [
             1,
             "#f0f921"
            ]
           ]
          },
          "colorway": [
           "#636efa",
           "#EF553B",
           "#00cc96",
           "#ab63fa",
           "#FFA15A",
           "#19d3f3",
           "#FF6692",
           "#B6E880",
           "#FF97FF",
           "#FECB52"
          ],
          "font": {
           "color": "#2a3f5f"
          },
          "geo": {
           "bgcolor": "white",
           "lakecolor": "white",
           "landcolor": "#E5ECF6",
           "showlakes": true,
           "showland": true,
           "subunitcolor": "white"
          },
          "hoverlabel": {
           "align": "left"
          },
          "hovermode": "closest",
          "mapbox": {
           "style": "light"
          },
          "paper_bgcolor": "white",
          "plot_bgcolor": "#E5ECF6",
          "polar": {
           "angularaxis": {
            "gridcolor": "white",
            "linecolor": "white",
            "ticks": ""
           },
           "bgcolor": "#E5ECF6",
           "radialaxis": {
            "gridcolor": "white",
            "linecolor": "white",
            "ticks": ""
           }
          },
          "scene": {
           "xaxis": {
            "backgroundcolor": "#E5ECF6",
            "gridcolor": "white",
            "gridwidth": 2,
            "linecolor": "white",
            "showbackground": true,
            "ticks": "",
            "zerolinecolor": "white"
           },
           "yaxis": {
            "backgroundcolor": "#E5ECF6",
            "gridcolor": "white",
            "gridwidth": 2,
            "linecolor": "white",
            "showbackground": true,
            "ticks": "",
            "zerolinecolor": "white"
           },
           "zaxis": {
            "backgroundcolor": "#E5ECF6",
            "gridcolor": "white",
            "gridwidth": 2,
            "linecolor": "white",
            "showbackground": true,
            "ticks": "",
            "zerolinecolor": "white"
           }
          },
          "shapedefaults": {
           "line": {
            "color": "#2a3f5f"
           }
          },
          "ternary": {
           "aaxis": {
            "gridcolor": "white",
            "linecolor": "white",
            "ticks": ""
           },
           "baxis": {
            "gridcolor": "white",
            "linecolor": "white",
            "ticks": ""
           },
           "bgcolor": "#E5ECF6",
           "caxis": {
            "gridcolor": "white",
            "linecolor": "white",
            "ticks": ""
           }
          },
          "title": {
           "x": 0.05
          },
          "xaxis": {
           "automargin": true,
           "gridcolor": "white",
           "linecolor": "white",
           "ticks": "",
           "title": {
            "standoff": 15
           },
           "zerolinecolor": "white",
           "zerolinewidth": 2
          },
          "yaxis": {
           "automargin": true,
           "gridcolor": "white",
           "linecolor": "white",
           "ticks": "",
           "title": {
            "standoff": 15
           },
           "zerolinecolor": "white",
           "zerolinewidth": 2
          }
         }
        },
        "xaxis": {
         "type": "category"
        }
       }
      }
     },
     "metadata": {},
     "output_type": "display_data"
    },
    {
     "data": {
      "application/vnd.plotly.v1+json": {
       "config": {
        "plotlyServerURL": "https://plot.ly"
       },
       "data": [
        {
         "marker": {
          "cmax": 1,
          "cmin": 0,
          "color": [
           0,
           0,
           0.9104477611940298,
           0.9253731343283582,
           0.8059701492537313,
           0.8507462686567164,
           0.7910447761194029,
           0.7910447761194029,
           0.8955223880597015,
           0,
           0,
           0,
           0.9402985074626866,
           0,
           0,
           0,
           0,
           0.9253731343283582,
           0,
           0,
           0,
           0.8805970149253731,
           0,
           0,
           0.8656716417910447,
           0,
           0,
           0,
           0,
           0,
           0.9104477611940298,
           0.9253731343283582,
           0.8805970149253731,
           0,
           0,
           0.7761194029850746,
           0,
           0,
           0.9253731343283582,
           0.8507462686567164,
           0,
           0.9552238805970149,
           0.9402985074626866,
           0.9253731343283582,
           0,
           0,
           0,
           0,
           0,
           0.9552238805970149,
           0.9552238805970149,
           0,
           0,
           0,
           0.9253731343283582,
           0,
           0,
           0,
           0.9552238805970149,
           0.9253731343283582,
           0,
           0,
           0,
           0.8805970149253731,
           0.835820895522388,
           0,
           0,
           0.8805970149253731,
           0.9552238805970149,
           0,
           0,
           0.8955223880597015,
           0.9253731343283582,
           0,
           0.8208955223880597,
           0,
           0.9552238805970149,
           0,
           0.9552238805970149,
           0.9104477611940298,
           0.9253731343283582,
           0,
           0.9253731343283582,
           0,
           0,
           0,
           0,
           0,
           0.9402985074626866,
           0,
           0.9552238805970149,
           0,
           0,
           0,
           0,
           0,
           0.8507462686567164,
           0,
           0,
           0,
           0.9552238805970149,
           0,
           0.8656716417910447,
           0,
           0,
           0,
           0,
           0,
           0,
           0,
           0,
           0.9552238805970149,
           0.9552238805970149,
           0.9552238805970149,
           0,
           0.9701492537313433,
           0,
           0,
           0,
           0,
           0.9552238805970149,
           0,
           0,
           0,
           0.9701492537313433,
           0.9552238805970149,
           0,
           0.9701492537313433,
           0.9701492537313433,
           0,
           0,
           0,
           0,
           0,
           0,
           0,
           0,
           0,
           0.9701492537313433,
           0,
           0,
           0,
           0,
           0,
           0,
           0.9850746268656716,
           0,
           0,
           1,
           0,
           0,
           1,
           0
          ],
          "colorbar": {
           "title": {
            "text": "revenue"
           }
          },
          "colorscale": [
           [
            0,
            "#440154"
           ],
           [
            0.1111111111111111,
            "#482878"
           ],
           [
            0.2222222222222222,
            "#3e4989"
           ],
           [
            0.3333333333333333,
            "#31688e"
           ],
           [
            0.4444444444444444,
            "#26828e"
           ],
           [
            0.5555555555555556,
            "#1f9e89"
           ],
           [
            0.6666666666666666,
            "#35b779"
           ],
           [
            0.7777777777777778,
            "#6ece58"
           ],
           [
            0.8888888888888888,
            "#b5de2b"
           ],
           [
            1,
            "#fde725"
           ]
          ]
         },
         "type": "bar",
         "x": [
          "01100111110",
          "00111011100",
          "00111001010",
          "00001111010",
          "10010011000",
          "00101001000",
          "01001001000",
          "01000011000",
          "01101001000",
          "11111011001",
          "01101011011",
          "00111011011",
          "01111001100",
          "10111111010",
          "11001111110",
          "11010011111",
          "11100011011",
          "01100011010",
          "01101110010",
          "10101110100",
          "00111011110",
          "00011011010",
          "01100111100",
          "10111111000",
          "01000101111",
          "01011101011",
          "01101011100",
          "11110111001",
          "11110111011",
          "01111101001",
          "11010011011",
          "01110101000",
          "01010011011",
          "11011001111",
          "11111011100",
          "11000001001",
          "01111111100",
          "00111111001",
          "11100011000",
          "10001101000",
          "00111110000",
          "00101011001",
          "00111001011",
          "00011111000",
          "00101111011",
          "11001111011",
          "11101101010",
          "11011010011",
          "00110111010",
          "01100011011",
          "11101001010",
          "11111110000",
          "00110111001",
          "11111010000",
          "00101101000",
          "11110111010",
          "01110111001",
          "10010111001",
          "00111101000",
          "01100101001",
          "01110101001",
          "11101111010",
          "11111111000",
          "01110001010",
          "10100100001",
          "10111111011",
          "11111001011",
          "11010011010",
          "11011011010",
          "11010101011",
          "11011111011",
          "11001101000",
          "01011011010",
          "00100111011",
          "01011001000",
          "00111111011",
          "10101011000",
          "10101111011",
          "00101101010",
          "00110011010",
          "01010111010",
          "01010111011",
          "01110011000",
          "10111011010",
          "11100111000",
          "01111001011",
          "01101111011",
          "01101111001",
          "01011011110",
          "01111101011",
          "01101001011",
          "11111001010",
          "11101111000",
          "01110111011",
          "00111011001",
          "01101011110",
          "01011001010",
          "11100111011",
          "00111111110",
          "11101011011",
          "01111001001",
          "00101011011",
          "01011001110",
          "11011111111",
          "00111101010",
          "11001111010",
          "01011111010",
          "10101011001",
          "10111011001",
          "10101111010",
          "00111111010",
          "01110011001",
          "01111001010",
          "11100011010",
          "01111011100",
          "01001111010",
          "01110111000",
          "01101101010",
          "11100111010",
          "01011111011",
          "00011111010",
          "01110011011",
          "01100111010",
          "10101011010",
          "01011111000",
          "00101011010",
          "11101011000",
          "01100111000",
          "01101011000",
          "11111111010",
          "01101011001",
          "00101111000",
          "11111011000",
          "01111101010",
          "01111011001",
          "01111111001",
          "01111101000",
          "00111111000",
          "01101101000",
          "01111111011",
          "01110111010",
          "01111011011",
          "11101011010",
          "11111011010",
          "00101111010",
          "00111011010",
          "01111111010",
          "01101111010",
          "01111011000",
          "01111111000",
          "01101111000",
          "01101011010",
          "01111011010"
         ],
         "y": [
          1,
          1,
          1,
          1,
          1,
          1,
          1,
          1,
          1,
          1,
          1,
          1,
          1,
          1,
          1,
          1,
          1,
          1,
          1,
          1,
          1,
          1,
          1,
          1,
          1,
          1,
          1,
          1,
          1,
          1,
          1,
          1,
          1,
          1,
          1,
          1,
          1,
          1,
          1,
          1,
          1,
          1,
          1,
          1,
          1,
          1,
          1,
          1,
          1,
          1,
          1,
          1,
          1,
          1,
          1,
          1,
          1,
          1,
          1,
          1,
          1,
          1,
          1,
          1,
          1,
          1,
          1,
          1,
          1,
          1,
          1,
          1,
          1,
          1,
          1,
          1,
          1,
          1,
          1,
          1,
          1,
          2,
          2,
          2,
          2,
          2,
          2,
          2,
          2,
          2,
          2,
          2,
          2,
          2,
          2,
          2,
          2,
          2,
          2,
          2,
          2,
          2,
          2,
          2,
          2,
          2,
          2,
          2,
          2,
          3,
          3,
          3,
          3,
          3,
          3,
          3,
          3,
          3,
          3,
          3,
          4,
          4,
          4,
          4,
          4,
          4,
          4,
          4,
          5,
          5,
          5,
          5,
          6,
          6,
          6,
          6,
          7,
          7,
          7,
          7,
          7,
          8,
          8,
          11,
          11,
          12,
          21,
          22,
          23,
          25,
          26,
          30,
          34
         ]
        }
       ],
       "layout": {
        "template": {
         "data": {
          "bar": [
           {
            "error_x": {
             "color": "#2a3f5f"
            },
            "error_y": {
             "color": "#2a3f5f"
            },
            "marker": {
             "line": {
              "color": "#E5ECF6",
              "width": 0.5
             },
             "pattern": {
              "fillmode": "overlay",
              "size": 10,
              "solidity": 0.2
             }
            },
            "type": "bar"
           }
          ],
          "barpolar": [
           {
            "marker": {
             "line": {
              "color": "#E5ECF6",
              "width": 0.5
             },
             "pattern": {
              "fillmode": "overlay",
              "size": 10,
              "solidity": 0.2
             }
            },
            "type": "barpolar"
           }
          ],
          "carpet": [
           {
            "aaxis": {
             "endlinecolor": "#2a3f5f",
             "gridcolor": "white",
             "linecolor": "white",
             "minorgridcolor": "white",
             "startlinecolor": "#2a3f5f"
            },
            "baxis": {
             "endlinecolor": "#2a3f5f",
             "gridcolor": "white",
             "linecolor": "white",
             "minorgridcolor": "white",
             "startlinecolor": "#2a3f5f"
            },
            "type": "carpet"
           }
          ],
          "choropleth": [
           {
            "colorbar": {
             "outlinewidth": 0,
             "ticks": ""
            },
            "type": "choropleth"
           }
          ],
          "contour": [
           {
            "colorbar": {
             "outlinewidth": 0,
             "ticks": ""
            },
            "colorscale": [
             [
              0,
              "#0d0887"
             ],
             [
              0.1111111111111111,
              "#46039f"
             ],
             [
              0.2222222222222222,
              "#7201a8"
             ],
             [
              0.3333333333333333,
              "#9c179e"
             ],
             [
              0.4444444444444444,
              "#bd3786"
             ],
             [
              0.5555555555555556,
              "#d8576b"
             ],
             [
              0.6666666666666666,
              "#ed7953"
             ],
             [
              0.7777777777777778,
              "#fb9f3a"
             ],
             [
              0.8888888888888888,
              "#fdca26"
             ],
             [
              1,
              "#f0f921"
             ]
            ],
            "type": "contour"
           }
          ],
          "contourcarpet": [
           {
            "colorbar": {
             "outlinewidth": 0,
             "ticks": ""
            },
            "type": "contourcarpet"
           }
          ],
          "heatmap": [
           {
            "colorbar": {
             "outlinewidth": 0,
             "ticks": ""
            },
            "colorscale": [
             [
              0,
              "#0d0887"
             ],
             [
              0.1111111111111111,
              "#46039f"
             ],
             [
              0.2222222222222222,
              "#7201a8"
             ],
             [
              0.3333333333333333,
              "#9c179e"
             ],
             [
              0.4444444444444444,
              "#bd3786"
             ],
             [
              0.5555555555555556,
              "#d8576b"
             ],
             [
              0.6666666666666666,
              "#ed7953"
             ],
             [
              0.7777777777777778,
              "#fb9f3a"
             ],
             [
              0.8888888888888888,
              "#fdca26"
             ],
             [
              1,
              "#f0f921"
             ]
            ],
            "type": "heatmap"
           }
          ],
          "heatmapgl": [
           {
            "colorbar": {
             "outlinewidth": 0,
             "ticks": ""
            },
            "colorscale": [
             [
              0,
              "#0d0887"
             ],
             [
              0.1111111111111111,
              "#46039f"
             ],
             [
              0.2222222222222222,
              "#7201a8"
             ],
             [
              0.3333333333333333,
              "#9c179e"
             ],
             [
              0.4444444444444444,
              "#bd3786"
             ],
             [
              0.5555555555555556,
              "#d8576b"
             ],
             [
              0.6666666666666666,
              "#ed7953"
             ],
             [
              0.7777777777777778,
              "#fb9f3a"
             ],
             [
              0.8888888888888888,
              "#fdca26"
             ],
             [
              1,
              "#f0f921"
             ]
            ],
            "type": "heatmapgl"
           }
          ],
          "histogram": [
           {
            "marker": {
             "pattern": {
              "fillmode": "overlay",
              "size": 10,
              "solidity": 0.2
             }
            },
            "type": "histogram"
           }
          ],
          "histogram2d": [
           {
            "colorbar": {
             "outlinewidth": 0,
             "ticks": ""
            },
            "colorscale": [
             [
              0,
              "#0d0887"
             ],
             [
              0.1111111111111111,
              "#46039f"
             ],
             [
              0.2222222222222222,
              "#7201a8"
             ],
             [
              0.3333333333333333,
              "#9c179e"
             ],
             [
              0.4444444444444444,
              "#bd3786"
             ],
             [
              0.5555555555555556,
              "#d8576b"
             ],
             [
              0.6666666666666666,
              "#ed7953"
             ],
             [
              0.7777777777777778,
              "#fb9f3a"
             ],
             [
              0.8888888888888888,
              "#fdca26"
             ],
             [
              1,
              "#f0f921"
             ]
            ],
            "type": "histogram2d"
           }
          ],
          "histogram2dcontour": [
           {
            "colorbar": {
             "outlinewidth": 0,
             "ticks": ""
            },
            "colorscale": [
             [
              0,
              "#0d0887"
             ],
             [
              0.1111111111111111,
              "#46039f"
             ],
             [
              0.2222222222222222,
              "#7201a8"
             ],
             [
              0.3333333333333333,
              "#9c179e"
             ],
             [
              0.4444444444444444,
              "#bd3786"
             ],
             [
              0.5555555555555556,
              "#d8576b"
             ],
             [
              0.6666666666666666,
              "#ed7953"
             ],
             [
              0.7777777777777778,
              "#fb9f3a"
             ],
             [
              0.8888888888888888,
              "#fdca26"
             ],
             [
              1,
              "#f0f921"
             ]
            ],
            "type": "histogram2dcontour"
           }
          ],
          "mesh3d": [
           {
            "colorbar": {
             "outlinewidth": 0,
             "ticks": ""
            },
            "type": "mesh3d"
           }
          ],
          "parcoords": [
           {
            "line": {
             "colorbar": {
              "outlinewidth": 0,
              "ticks": ""
             }
            },
            "type": "parcoords"
           }
          ],
          "pie": [
           {
            "automargin": true,
            "type": "pie"
           }
          ],
          "scatter": [
           {
            "marker": {
             "colorbar": {
              "outlinewidth": 0,
              "ticks": ""
             }
            },
            "type": "scatter"
           }
          ],
          "scatter3d": [
           {
            "line": {
             "colorbar": {
              "outlinewidth": 0,
              "ticks": ""
             }
            },
            "marker": {
             "colorbar": {
              "outlinewidth": 0,
              "ticks": ""
             }
            },
            "type": "scatter3d"
           }
          ],
          "scattercarpet": [
           {
            "marker": {
             "colorbar": {
              "outlinewidth": 0,
              "ticks": ""
             }
            },
            "type": "scattercarpet"
           }
          ],
          "scattergeo": [
           {
            "marker": {
             "colorbar": {
              "outlinewidth": 0,
              "ticks": ""
             }
            },
            "type": "scattergeo"
           }
          ],
          "scattergl": [
           {
            "marker": {
             "colorbar": {
              "outlinewidth": 0,
              "ticks": ""
             }
            },
            "type": "scattergl"
           }
          ],
          "scattermapbox": [
           {
            "marker": {
             "colorbar": {
              "outlinewidth": 0,
              "ticks": ""
             }
            },
            "type": "scattermapbox"
           }
          ],
          "scatterpolar": [
           {
            "marker": {
             "colorbar": {
              "outlinewidth": 0,
              "ticks": ""
             }
            },
            "type": "scatterpolar"
           }
          ],
          "scatterpolargl": [
           {
            "marker": {
             "colorbar": {
              "outlinewidth": 0,
              "ticks": ""
             }
            },
            "type": "scatterpolargl"
           }
          ],
          "scatterternary": [
           {
            "marker": {
             "colorbar": {
              "outlinewidth": 0,
              "ticks": ""
             }
            },
            "type": "scatterternary"
           }
          ],
          "surface": [
           {
            "colorbar": {
             "outlinewidth": 0,
             "ticks": ""
            },
            "colorscale": [
             [
              0,
              "#0d0887"
             ],
             [
              0.1111111111111111,
              "#46039f"
             ],
             [
              0.2222222222222222,
              "#7201a8"
             ],
             [
              0.3333333333333333,
              "#9c179e"
             ],
             [
              0.4444444444444444,
              "#bd3786"
             ],
             [
              0.5555555555555556,
              "#d8576b"
             ],
             [
              0.6666666666666666,
              "#ed7953"
             ],
             [
              0.7777777777777778,
              "#fb9f3a"
             ],
             [
              0.8888888888888888,
              "#fdca26"
             ],
             [
              1,
              "#f0f921"
             ]
            ],
            "type": "surface"
           }
          ],
          "table": [
           {
            "cells": {
             "fill": {
              "color": "#EBF0F8"
             },
             "line": {
              "color": "white"
             }
            },
            "header": {
             "fill": {
              "color": "#C8D4E3"
             },
             "line": {
              "color": "white"
             }
            },
            "type": "table"
           }
          ]
         },
         "layout": {
          "annotationdefaults": {
           "arrowcolor": "#2a3f5f",
           "arrowhead": 0,
           "arrowwidth": 1
          },
          "autotypenumbers": "strict",
          "coloraxis": {
           "colorbar": {
            "outlinewidth": 0,
            "ticks": ""
           }
          },
          "colorscale": {
           "diverging": [
            [
             0,
             "#8e0152"
            ],
            [
             0.1,
             "#c51b7d"
            ],
            [
             0.2,
             "#de77ae"
            ],
            [
             0.3,
             "#f1b6da"
            ],
            [
             0.4,
             "#fde0ef"
            ],
            [
             0.5,
             "#f7f7f7"
            ],
            [
             0.6,
             "#e6f5d0"
            ],
            [
             0.7,
             "#b8e186"
            ],
            [
             0.8,
             "#7fbc41"
            ],
            [
             0.9,
             "#4d9221"
            ],
            [
             1,
             "#276419"
            ]
           ],
           "sequential": [
            [
             0,
             "#0d0887"
            ],
            [
             0.1111111111111111,
             "#46039f"
            ],
            [
             0.2222222222222222,
             "#7201a8"
            ],
            [
             0.3333333333333333,
             "#9c179e"
            ],
            [
             0.4444444444444444,
             "#bd3786"
            ],
            [
             0.5555555555555556,
             "#d8576b"
            ],
            [
             0.6666666666666666,
             "#ed7953"
            ],
            [
             0.7777777777777778,
             "#fb9f3a"
            ],
            [
             0.8888888888888888,
             "#fdca26"
            ],
            [
             1,
             "#f0f921"
            ]
           ],
           "sequentialminus": [
            [
             0,
             "#0d0887"
            ],
            [
             0.1111111111111111,
             "#46039f"
            ],
            [
             0.2222222222222222,
             "#7201a8"
            ],
            [
             0.3333333333333333,
             "#9c179e"
            ],
            [
             0.4444444444444444,
             "#bd3786"
            ],
            [
             0.5555555555555556,
             "#d8576b"
            ],
            [
             0.6666666666666666,
             "#ed7953"
            ],
            [
             0.7777777777777778,
             "#fb9f3a"
            ],
            [
             0.8888888888888888,
             "#fdca26"
            ],
            [
             1,
             "#f0f921"
            ]
           ]
          },
          "colorway": [
           "#636efa",
           "#EF553B",
           "#00cc96",
           "#ab63fa",
           "#FFA15A",
           "#19d3f3",
           "#FF6692",
           "#B6E880",
           "#FF97FF",
           "#FECB52"
          ],
          "font": {
           "color": "#2a3f5f"
          },
          "geo": {
           "bgcolor": "white",
           "lakecolor": "white",
           "landcolor": "#E5ECF6",
           "showlakes": true,
           "showland": true,
           "subunitcolor": "white"
          },
          "hoverlabel": {
           "align": "left"
          },
          "hovermode": "closest",
          "mapbox": {
           "style": "light"
          },
          "paper_bgcolor": "white",
          "plot_bgcolor": "#E5ECF6",
          "polar": {
           "angularaxis": {
            "gridcolor": "white",
            "linecolor": "white",
            "ticks": ""
           },
           "bgcolor": "#E5ECF6",
           "radialaxis": {
            "gridcolor": "white",
            "linecolor": "white",
            "ticks": ""
           }
          },
          "scene": {
           "xaxis": {
            "backgroundcolor": "#E5ECF6",
            "gridcolor": "white",
            "gridwidth": 2,
            "linecolor": "white",
            "showbackground": true,
            "ticks": "",
            "zerolinecolor": "white"
           },
           "yaxis": {
            "backgroundcolor": "#E5ECF6",
            "gridcolor": "white",
            "gridwidth": 2,
            "linecolor": "white",
            "showbackground": true,
            "ticks": "",
            "zerolinecolor": "white"
           },
           "zaxis": {
            "backgroundcolor": "#E5ECF6",
            "gridcolor": "white",
            "gridwidth": 2,
            "linecolor": "white",
            "showbackground": true,
            "ticks": "",
            "zerolinecolor": "white"
           }
          },
          "shapedefaults": {
           "line": {
            "color": "#2a3f5f"
           }
          },
          "ternary": {
           "aaxis": {
            "gridcolor": "white",
            "linecolor": "white",
            "ticks": ""
           },
           "baxis": {
            "gridcolor": "white",
            "linecolor": "white",
            "ticks": ""
           },
           "bgcolor": "#E5ECF6",
           "caxis": {
            "gridcolor": "white",
            "linecolor": "white",
            "ticks": ""
           }
          },
          "title": {
           "x": 0.05
          },
          "xaxis": {
           "automargin": true,
           "gridcolor": "white",
           "linecolor": "white",
           "ticks": "",
           "title": {
            "standoff": 15
           },
           "zerolinecolor": "white",
           "zerolinewidth": 2
          },
          "yaxis": {
           "automargin": true,
           "gridcolor": "white",
           "linecolor": "white",
           "ticks": "",
           "title": {
            "standoff": 15
           },
           "zerolinecolor": "white",
           "zerolinewidth": 2
          }
         }
        },
        "xaxis": {
         "type": "category"
        }
       }
      }
     },
     "metadata": {},
     "output_type": "display_data"
    },
    {
     "data": {
      "application/vnd.plotly.v1+json": {
       "config": {
        "plotlyServerURL": "https://plot.ly"
       },
       "data": [
        {
         "marker": {
          "cmax": 1,
          "cmin": 0,
          "color": [
           0,
           0.8904109589041096,
           0,
           0.958904109589041,
           0,
           0,
           0.958904109589041,
           0.8904109589041096,
           0,
           0,
           0.9452054794520548,
           0.9041095890410958,
           0.9452054794520548,
           0,
           0.9041095890410958,
           0,
           0.9452054794520548,
           0,
           0,
           0.8767123287671232,
           0,
           0.8767123287671232,
           0.8904109589041096,
           0,
           0,
           0.9041095890410958,
           0,
           0.9452054794520548,
           0,
           0,
           0,
           0.8493150684931506,
           0,
           0.863013698630137,
           0,
           0,
           0,
           0,
           0,
           0.8082191780821918,
           0,
           0,
           0.9452054794520548,
           0.7945205479452054,
           0.9452054794520548,
           0.9452054794520548,
           0.8904109589041096,
           0,
           0.958904109589041,
           0,
           0.9041095890410958,
           0,
           0,
           0.9452054794520548,
           0,
           0.9452054794520548,
           0,
           0.8904109589041096,
           0.958904109589041,
           0,
           0.8493150684931506,
           0.958904109589041,
           0.958904109589041,
           0.9452054794520548,
           0.9452054794520548,
           0,
           0.863013698630137,
           0,
           0,
           0.9041095890410958,
           0.9726027397260274,
           0,
           0.958904109589041,
           0,
           0.958904109589041,
           0.958904109589041,
           0.9863013698630136,
           0.958904109589041,
           0,
           0,
           0,
           0,
           0,
           0,
           0,
           0.9315068493150684,
           0,
           0.9863013698630136,
           0,
           0.8767123287671232,
           0.9452054794520548,
           0.958904109589041,
           0.9315068493150684,
           0,
           0,
           0,
           0.958904109589041,
           0.958904109589041,
           0.958904109589041,
           0,
           0,
           0,
           0,
           0,
           0,
           0,
           0,
           0,
           0,
           0,
           0,
           0.9863013698630136,
           0.9863013698630136,
           0,
           1,
           0,
           0.9863013698630136,
           0,
           0,
           1,
           0.9863013698630136,
           1,
           0,
           0,
           1,
           0.9863013698630136,
           0,
           0,
           1,
           0,
           0,
           0
          ],
          "colorbar": {
           "title": {
            "text": "revenue"
           }
          },
          "colorscale": [
           [
            0,
            "#440154"
           ],
           [
            0.1111111111111111,
            "#482878"
           ],
           [
            0.2222222222222222,
            "#3e4989"
           ],
           [
            0.3333333333333333,
            "#31688e"
           ],
           [
            0.4444444444444444,
            "#26828e"
           ],
           [
            0.5555555555555556,
            "#1f9e89"
           ],
           [
            0.6666666666666666,
            "#35b779"
           ],
           [
            0.7777777777777778,
            "#6ece58"
           ],
           [
            0.8888888888888888,
            "#b5de2b"
           ],
           [
            1,
            "#fde725"
           ]
          ]
         },
         "type": "bar",
         "x": [
          "10101001101",
          "10000101100",
          "11111011010",
          "10011100110",
          "11111001110",
          "00111111111",
          "11001101100",
          "10001100010",
          "11001110110",
          "11011001011",
          "10101100010",
          "10011101000",
          "10010101110",
          "11001111110",
          "10001100100",
          "10111110110",
          "10001101100",
          "11101101110",
          "11111011110",
          "10000011010",
          "01111001111",
          "01001101100",
          "10001001011",
          "10110111100",
          "11101101100",
          "10011010010",
          "11101010110",
          "10001110010",
          "10100111010",
          "01100111110",
          "10010111100",
          "10001001001",
          "11101111111",
          "11000110000",
          "01101101110",
          "11100101110",
          "11101111010",
          "11111001011",
          "10101011101",
          "00001101000",
          "11100100110",
          "11001111010",
          "10101010010",
          "00010010101",
          "10001011100",
          "11001011010",
          "10000100110",
          "10101011100",
          "11101000110",
          "10111011100",
          "10110100010",
          "10011101111",
          "10111001111",
          "10101000110",
          "11011101011",
          "10101101000",
          "11100101100",
          "10101001000",
          "10111100010",
          "00111011110",
          "00001101010",
          "11101001100",
          "10110101100",
          "10100110010",
          "10110011010",
          "10111110010",
          "10010100011",
          "10111110000",
          "10011111010",
          "10011000110",
          "10111100100",
          "10110101110",
          "10111010010",
          "11111001100",
          "10011111000",
          "10101110000",
          "10001011110",
          "10101010100",
          "10101110100",
          "10000111110",
          "10100011110",
          "11101101010",
          "10011110110",
          "11111111110",
          "11111101000",
          "10001011010",
          "10101110010",
          "10100101110",
          "11101100110",
          "10001001010",
          "10001101011",
          "10011011100",
          "10001001110",
          "10111111000",
          "10001111100",
          "00111101110",
          "11011001110",
          "10101100100",
          "11011101010",
          "10011111100",
          "10111111100",
          "10001110110",
          "11111101110",
          "10111111010",
          "10011111110",
          "10100111110",
          "10111100110",
          "10111011010",
          "10101110110",
          "10111011110",
          "11001101110",
          "10101001110",
          "10101011010",
          "11101001110",
          "10101101100",
          "10101111100",
          "10001111010",
          "10101111000",
          "10111101100",
          "10101100110",
          "10101101010",
          "10111001110",
          "10111111110",
          "10001111110",
          "10011101110",
          "10001101110",
          "10101111010",
          "10101011110",
          "10111101010",
          "10101111110",
          "10111101110",
          "10101101110"
         ],
         "y": [
          1,
          1,
          1,
          1,
          1,
          1,
          1,
          1,
          1,
          1,
          1,
          1,
          1,
          1,
          1,
          1,
          1,
          1,
          1,
          1,
          1,
          1,
          1,
          1,
          1,
          1,
          1,
          1,
          1,
          1,
          1,
          1,
          1,
          1,
          1,
          1,
          1,
          1,
          1,
          1,
          1,
          1,
          1,
          1,
          1,
          1,
          1,
          1,
          1,
          1,
          1,
          1,
          1,
          1,
          1,
          1,
          1,
          1,
          1,
          1,
          1,
          1,
          1,
          1,
          1,
          1,
          1,
          2,
          2,
          2,
          2,
          2,
          2,
          2,
          2,
          2,
          2,
          2,
          2,
          2,
          2,
          2,
          2,
          2,
          2,
          2,
          2,
          3,
          3,
          3,
          3,
          3,
          3,
          3,
          3,
          3,
          3,
          3,
          3,
          3,
          4,
          4,
          4,
          4,
          4,
          4,
          4,
          4,
          5,
          6,
          6,
          6,
          6,
          6,
          7,
          7,
          7,
          7,
          8,
          8,
          9,
          9,
          11,
          12,
          13,
          13,
          14,
          18,
          19,
          20,
          50,
          67
         ]
        }
       ],
       "layout": {
        "template": {
         "data": {
          "bar": [
           {
            "error_x": {
             "color": "#2a3f5f"
            },
            "error_y": {
             "color": "#2a3f5f"
            },
            "marker": {
             "line": {
              "color": "#E5ECF6",
              "width": 0.5
             },
             "pattern": {
              "fillmode": "overlay",
              "size": 10,
              "solidity": 0.2
             }
            },
            "type": "bar"
           }
          ],
          "barpolar": [
           {
            "marker": {
             "line": {
              "color": "#E5ECF6",
              "width": 0.5
             },
             "pattern": {
              "fillmode": "overlay",
              "size": 10,
              "solidity": 0.2
             }
            },
            "type": "barpolar"
           }
          ],
          "carpet": [
           {
            "aaxis": {
             "endlinecolor": "#2a3f5f",
             "gridcolor": "white",
             "linecolor": "white",
             "minorgridcolor": "white",
             "startlinecolor": "#2a3f5f"
            },
            "baxis": {
             "endlinecolor": "#2a3f5f",
             "gridcolor": "white",
             "linecolor": "white",
             "minorgridcolor": "white",
             "startlinecolor": "#2a3f5f"
            },
            "type": "carpet"
           }
          ],
          "choropleth": [
           {
            "colorbar": {
             "outlinewidth": 0,
             "ticks": ""
            },
            "type": "choropleth"
           }
          ],
          "contour": [
           {
            "colorbar": {
             "outlinewidth": 0,
             "ticks": ""
            },
            "colorscale": [
             [
              0,
              "#0d0887"
             ],
             [
              0.1111111111111111,
              "#46039f"
             ],
             [
              0.2222222222222222,
              "#7201a8"
             ],
             [
              0.3333333333333333,
              "#9c179e"
             ],
             [
              0.4444444444444444,
              "#bd3786"
             ],
             [
              0.5555555555555556,
              "#d8576b"
             ],
             [
              0.6666666666666666,
              "#ed7953"
             ],
             [
              0.7777777777777778,
              "#fb9f3a"
             ],
             [
              0.8888888888888888,
              "#fdca26"
             ],
             [
              1,
              "#f0f921"
             ]
            ],
            "type": "contour"
           }
          ],
          "contourcarpet": [
           {
            "colorbar": {
             "outlinewidth": 0,
             "ticks": ""
            },
            "type": "contourcarpet"
           }
          ],
          "heatmap": [
           {
            "colorbar": {
             "outlinewidth": 0,
             "ticks": ""
            },
            "colorscale": [
             [
              0,
              "#0d0887"
             ],
             [
              0.1111111111111111,
              "#46039f"
             ],
             [
              0.2222222222222222,
              "#7201a8"
             ],
             [
              0.3333333333333333,
              "#9c179e"
             ],
             [
              0.4444444444444444,
              "#bd3786"
             ],
             [
              0.5555555555555556,
              "#d8576b"
             ],
             [
              0.6666666666666666,
              "#ed7953"
             ],
             [
              0.7777777777777778,
              "#fb9f3a"
             ],
             [
              0.8888888888888888,
              "#fdca26"
             ],
             [
              1,
              "#f0f921"
             ]
            ],
            "type": "heatmap"
           }
          ],
          "heatmapgl": [
           {
            "colorbar": {
             "outlinewidth": 0,
             "ticks": ""
            },
            "colorscale": [
             [
              0,
              "#0d0887"
             ],
             [
              0.1111111111111111,
              "#46039f"
             ],
             [
              0.2222222222222222,
              "#7201a8"
             ],
             [
              0.3333333333333333,
              "#9c179e"
             ],
             [
              0.4444444444444444,
              "#bd3786"
             ],
             [
              0.5555555555555556,
              "#d8576b"
             ],
             [
              0.6666666666666666,
              "#ed7953"
             ],
             [
              0.7777777777777778,
              "#fb9f3a"
             ],
             [
              0.8888888888888888,
              "#fdca26"
             ],
             [
              1,
              "#f0f921"
             ]
            ],
            "type": "heatmapgl"
           }
          ],
          "histogram": [
           {
            "marker": {
             "pattern": {
              "fillmode": "overlay",
              "size": 10,
              "solidity": 0.2
             }
            },
            "type": "histogram"
           }
          ],
          "histogram2d": [
           {
            "colorbar": {
             "outlinewidth": 0,
             "ticks": ""
            },
            "colorscale": [
             [
              0,
              "#0d0887"
             ],
             [
              0.1111111111111111,
              "#46039f"
             ],
             [
              0.2222222222222222,
              "#7201a8"
             ],
             [
              0.3333333333333333,
              "#9c179e"
             ],
             [
              0.4444444444444444,
              "#bd3786"
             ],
             [
              0.5555555555555556,
              "#d8576b"
             ],
             [
              0.6666666666666666,
              "#ed7953"
             ],
             [
              0.7777777777777778,
              "#fb9f3a"
             ],
             [
              0.8888888888888888,
              "#fdca26"
             ],
             [
              1,
              "#f0f921"
             ]
            ],
            "type": "histogram2d"
           }
          ],
          "histogram2dcontour": [
           {
            "colorbar": {
             "outlinewidth": 0,
             "ticks": ""
            },
            "colorscale": [
             [
              0,
              "#0d0887"
             ],
             [
              0.1111111111111111,
              "#46039f"
             ],
             [
              0.2222222222222222,
              "#7201a8"
             ],
             [
              0.3333333333333333,
              "#9c179e"
             ],
             [
              0.4444444444444444,
              "#bd3786"
             ],
             [
              0.5555555555555556,
              "#d8576b"
             ],
             [
              0.6666666666666666,
              "#ed7953"
             ],
             [
              0.7777777777777778,
              "#fb9f3a"
             ],
             [
              0.8888888888888888,
              "#fdca26"
             ],
             [
              1,
              "#f0f921"
             ]
            ],
            "type": "histogram2dcontour"
           }
          ],
          "mesh3d": [
           {
            "colorbar": {
             "outlinewidth": 0,
             "ticks": ""
            },
            "type": "mesh3d"
           }
          ],
          "parcoords": [
           {
            "line": {
             "colorbar": {
              "outlinewidth": 0,
              "ticks": ""
             }
            },
            "type": "parcoords"
           }
          ],
          "pie": [
           {
            "automargin": true,
            "type": "pie"
           }
          ],
          "scatter": [
           {
            "marker": {
             "colorbar": {
              "outlinewidth": 0,
              "ticks": ""
             }
            },
            "type": "scatter"
           }
          ],
          "scatter3d": [
           {
            "line": {
             "colorbar": {
              "outlinewidth": 0,
              "ticks": ""
             }
            },
            "marker": {
             "colorbar": {
              "outlinewidth": 0,
              "ticks": ""
             }
            },
            "type": "scatter3d"
           }
          ],
          "scattercarpet": [
           {
            "marker": {
             "colorbar": {
              "outlinewidth": 0,
              "ticks": ""
             }
            },
            "type": "scattercarpet"
           }
          ],
          "scattergeo": [
           {
            "marker": {
             "colorbar": {
              "outlinewidth": 0,
              "ticks": ""
             }
            },
            "type": "scattergeo"
           }
          ],
          "scattergl": [
           {
            "marker": {
             "colorbar": {
              "outlinewidth": 0,
              "ticks": ""
             }
            },
            "type": "scattergl"
           }
          ],
          "scattermapbox": [
           {
            "marker": {
             "colorbar": {
              "outlinewidth": 0,
              "ticks": ""
             }
            },
            "type": "scattermapbox"
           }
          ],
          "scatterpolar": [
           {
            "marker": {
             "colorbar": {
              "outlinewidth": 0,
              "ticks": ""
             }
            },
            "type": "scatterpolar"
           }
          ],
          "scatterpolargl": [
           {
            "marker": {
             "colorbar": {
              "outlinewidth": 0,
              "ticks": ""
             }
            },
            "type": "scatterpolargl"
           }
          ],
          "scatterternary": [
           {
            "marker": {
             "colorbar": {
              "outlinewidth": 0,
              "ticks": ""
             }
            },
            "type": "scatterternary"
           }
          ],
          "surface": [
           {
            "colorbar": {
             "outlinewidth": 0,
             "ticks": ""
            },
            "colorscale": [
             [
              0,
              "#0d0887"
             ],
             [
              0.1111111111111111,
              "#46039f"
             ],
             [
              0.2222222222222222,
              "#7201a8"
             ],
             [
              0.3333333333333333,
              "#9c179e"
             ],
             [
              0.4444444444444444,
              "#bd3786"
             ],
             [
              0.5555555555555556,
              "#d8576b"
             ],
             [
              0.6666666666666666,
              "#ed7953"
             ],
             [
              0.7777777777777778,
              "#fb9f3a"
             ],
             [
              0.8888888888888888,
              "#fdca26"
             ],
             [
              1,
              "#f0f921"
             ]
            ],
            "type": "surface"
           }
          ],
          "table": [
           {
            "cells": {
             "fill": {
              "color": "#EBF0F8"
             },
             "line": {
              "color": "white"
             }
            },
            "header": {
             "fill": {
              "color": "#C8D4E3"
             },
             "line": {
              "color": "white"
             }
            },
            "type": "table"
           }
          ]
         },
         "layout": {
          "annotationdefaults": {
           "arrowcolor": "#2a3f5f",
           "arrowhead": 0,
           "arrowwidth": 1
          },
          "autotypenumbers": "strict",
          "coloraxis": {
           "colorbar": {
            "outlinewidth": 0,
            "ticks": ""
           }
          },
          "colorscale": {
           "diverging": [
            [
             0,
             "#8e0152"
            ],
            [
             0.1,
             "#c51b7d"
            ],
            [
             0.2,
             "#de77ae"
            ],
            [
             0.3,
             "#f1b6da"
            ],
            [
             0.4,
             "#fde0ef"
            ],
            [
             0.5,
             "#f7f7f7"
            ],
            [
             0.6,
             "#e6f5d0"
            ],
            [
             0.7,
             "#b8e186"
            ],
            [
             0.8,
             "#7fbc41"
            ],
            [
             0.9,
             "#4d9221"
            ],
            [
             1,
             "#276419"
            ]
           ],
           "sequential": [
            [
             0,
             "#0d0887"
            ],
            [
             0.1111111111111111,
             "#46039f"
            ],
            [
             0.2222222222222222,
             "#7201a8"
            ],
            [
             0.3333333333333333,
             "#9c179e"
            ],
            [
             0.4444444444444444,
             "#bd3786"
            ],
            [
             0.5555555555555556,
             "#d8576b"
            ],
            [
             0.6666666666666666,
             "#ed7953"
            ],
            [
             0.7777777777777778,
             "#fb9f3a"
            ],
            [
             0.8888888888888888,
             "#fdca26"
            ],
            [
             1,
             "#f0f921"
            ]
           ],
           "sequentialminus": [
            [
             0,
             "#0d0887"
            ],
            [
             0.1111111111111111,
             "#46039f"
            ],
            [
             0.2222222222222222,
             "#7201a8"
            ],
            [
             0.3333333333333333,
             "#9c179e"
            ],
            [
             0.4444444444444444,
             "#bd3786"
            ],
            [
             0.5555555555555556,
             "#d8576b"
            ],
            [
             0.6666666666666666,
             "#ed7953"
            ],
            [
             0.7777777777777778,
             "#fb9f3a"
            ],
            [
             0.8888888888888888,
             "#fdca26"
            ],
            [
             1,
             "#f0f921"
            ]
           ]
          },
          "colorway": [
           "#636efa",
           "#EF553B",
           "#00cc96",
           "#ab63fa",
           "#FFA15A",
           "#19d3f3",
           "#FF6692",
           "#B6E880",
           "#FF97FF",
           "#FECB52"
          ],
          "font": {
           "color": "#2a3f5f"
          },
          "geo": {
           "bgcolor": "white",
           "lakecolor": "white",
           "landcolor": "#E5ECF6",
           "showlakes": true,
           "showland": true,
           "subunitcolor": "white"
          },
          "hoverlabel": {
           "align": "left"
          },
          "hovermode": "closest",
          "mapbox": {
           "style": "light"
          },
          "paper_bgcolor": "white",
          "plot_bgcolor": "#E5ECF6",
          "polar": {
           "angularaxis": {
            "gridcolor": "white",
            "linecolor": "white",
            "ticks": ""
           },
           "bgcolor": "#E5ECF6",
           "radialaxis": {
            "gridcolor": "white",
            "linecolor": "white",
            "ticks": ""
           }
          },
          "scene": {
           "xaxis": {
            "backgroundcolor": "#E5ECF6",
            "gridcolor": "white",
            "gridwidth": 2,
            "linecolor": "white",
            "showbackground": true,
            "ticks": "",
            "zerolinecolor": "white"
           },
           "yaxis": {
            "backgroundcolor": "#E5ECF6",
            "gridcolor": "white",
            "gridwidth": 2,
            "linecolor": "white",
            "showbackground": true,
            "ticks": "",
            "zerolinecolor": "white"
           },
           "zaxis": {
            "backgroundcolor": "#E5ECF6",
            "gridcolor": "white",
            "gridwidth": 2,
            "linecolor": "white",
            "showbackground": true,
            "ticks": "",
            "zerolinecolor": "white"
           }
          },
          "shapedefaults": {
           "line": {
            "color": "#2a3f5f"
           }
          },
          "ternary": {
           "aaxis": {
            "gridcolor": "white",
            "linecolor": "white",
            "ticks": ""
           },
           "baxis": {
            "gridcolor": "white",
            "linecolor": "white",
            "ticks": ""
           },
           "bgcolor": "#E5ECF6",
           "caxis": {
            "gridcolor": "white",
            "linecolor": "white",
            "ticks": ""
           }
          },
          "title": {
           "x": 0.05
          },
          "xaxis": {
           "automargin": true,
           "gridcolor": "white",
           "linecolor": "white",
           "ticks": "",
           "title": {
            "standoff": 15
           },
           "zerolinecolor": "white",
           "zerolinewidth": 2
          },
          "yaxis": {
           "automargin": true,
           "gridcolor": "white",
           "linecolor": "white",
           "ticks": "",
           "title": {
            "standoff": 15
           },
           "zerolinecolor": "white",
           "zerolinewidth": 2
          }
         }
        },
        "xaxis": {
         "type": "category"
        }
       }
      }
     },
     "metadata": {},
     "output_type": "display_data"
    },
    {
     "data": {
      "application/vnd.plotly.v1+json": {
       "config": {
        "plotlyServerURL": "https://plot.ly"
       },
       "data": [
        {
         "marker": {
          "cmax": 1,
          "cmin": 0,
          "color": [
           0.8970588235294118,
           0.8088235294117647,
           0,
           0,
           0.9264705882352942,
           0.9264705882352942,
           0,
           0,
           0,
           0.9411764705882353,
           0,
           0,
           0,
           0,
           0,
           0,
           0.8823529411764706,
           0.8970588235294118,
           0.9411764705882353,
           0.9852941176470589,
           0,
           0,
           0,
           0.9117647058823529,
           0,
           0.8382352941176471,
           0,
           0,
           0,
           0,
           0.9411764705882353,
           0.8823529411764706,
           0,
           0,
           0.9264705882352942,
           0,
           0,
           0,
           0,
           0,
           0,
           0.8970588235294118,
           0,
           0,
           0,
           0,
           0.9558823529411765,
           0,
           0,
           0,
           0,
           0,
           0.9558823529411765,
           0.9264705882352942,
           0,
           0,
           0,
           0,
           0,
           0.9117647058823529,
           0,
           0,
           0,
           0.9705882352941176,
           0.9411764705882353,
           0,
           0.9411764705882353,
           0.9264705882352942,
           0,
           0,
           0.9264705882352942,
           0.8970588235294118,
           0.8970588235294118,
           0,
           0.9411764705882353,
           0.9558823529411765,
           0,
           0.8382352941176471,
           0,
           0.9117647058823529,
           0,
           0.9411764705882353,
           0.8088235294117647,
           0.8529411764705882,
           0.9558823529411765,
           0.8088235294117647,
           0,
           0,
           0.9411764705882353,
           0.8529411764705882,
           0.9411764705882353,
           0,
           0.9264705882352942,
           0,
           0.9264705882352942,
           0.8676470588235294,
           0.9852941176470589,
           0,
           0,
           0.8382352941176471,
           0.7941176470588235,
           0,
           0,
           0,
           0,
           0,
           0.8235294117647058,
           0.9411764705882353,
           0.9411764705882353,
           0.9411764705882353,
           0.9411764705882353,
           0,
           0,
           0.8088235294117647,
           0.9705882352941176,
           0.9705882352941176,
           0.9117647058823529,
           0.9411764705882353,
           0.8088235294117647,
           0.8088235294117647,
           0.8823529411764706,
           0,
           0,
           0.9705882352941176,
           0,
           0,
           0,
           0,
           0,
           0.9558823529411765,
           0,
           0,
           0,
           0,
           0,
           0.8970588235294118,
           0,
           0.9411764705882353,
           0,
           0,
           0,
           0.9411764705882353,
           0.8676470588235294,
           0.9264705882352942,
           0.9558823529411765,
           0.8823529411764706,
           0.9411764705882353,
           0,
           0,
           0.9264705882352942,
           0,
           0.9558823529411765,
           0,
           0.9558823529411765,
           0.9411764705882353,
           0,
           0,
           0,
           0,
           0,
           0.9558823529411765,
           0,
           0,
           0,
           0,
           0,
           0,
           0.9411764705882353,
           0,
           0.9705882352941176,
           0,
           0,
           0.9852941176470589,
           0,
           0,
           0.9705882352941176,
           0,
           0,
           0,
           0,
           0,
           0.9558823529411765,
           0.9852941176470589,
           0,
           0,
           0.9411764705882353,
           0,
           0,
           0,
           0,
           0.9852941176470589,
           0,
           0.9705882352941176,
           1,
           0,
           0,
           0,
           0,
           0,
           0,
           0,
           0.9705882352941176,
           0,
           0.9705882352941176,
           0,
           0,
           0,
           0.9852941176470589,
           0,
           0.9852941176470589,
           0.9558823529411765,
           0.9852941176470589,
           0,
           0,
           0.9852941176470589,
           0,
           0,
           0,
           0.9705882352941176,
           0,
           0,
           0,
           0,
           0.9705882352941176,
           0,
           0,
           0.9852941176470589,
           0,
           0,
           0.9852941176470589,
           0,
           0,
           0,
           0.9852941176470589,
           0,
           0,
           0,
           0.9852941176470589,
           0,
           0,
           1,
           1,
           0,
           1,
           0,
           0,
           0,
           0
          ],
          "colorbar": {
           "title": {
            "text": "revenue"
           }
          },
          "colorscale": [
           [
            0,
            "#440154"
           ],
           [
            0.1111111111111111,
            "#482878"
           ],
           [
            0.2222222222222222,
            "#3e4989"
           ],
           [
            0.3333333333333333,
            "#31688e"
           ],
           [
            0.4444444444444444,
            "#26828e"
           ],
           [
            0.5555555555555556,
            "#1f9e89"
           ],
           [
            0.6666666666666666,
            "#35b779"
           ],
           [
            0.7777777777777778,
            "#6ece58"
           ],
           [
            0.8888888888888888,
            "#b5de2b"
           ],
           [
            1,
            "#fde725"
           ]
          ]
         },
         "type": "bar",
         "x": [
          "00001111010",
          "10010110000",
          "00100110111",
          "01000111111",
          "00010110101",
          "00011010101",
          "01111111011",
          "01111011101",
          "01111000110",
          "01100110011",
          "01100101110",
          "01001101110",
          "00110110111",
          "11111001100",
          "01111001110",
          "01111101100",
          "00110011010",
          "00000010111",
          "01000011101",
          "00011011110",
          "01111010011",
          "00011111101",
          "01110101100",
          "01000000111",
          "01111110011",
          "00010010100",
          "00111110011",
          "01100110111",
          "01101010101",
          "00010101111",
          "01011111000",
          "00100000111",
          "10001001110",
          "01111010101",
          "01101000101",
          "00001110111",
          "01111100110",
          "00110011111",
          "01101110100",
          "01101110110",
          "01100110110",
          "01010110001",
          "01101111110",
          "01011111011",
          "00110101101",
          "01101111010",
          "00110110101",
          "00011001111",
          "01000110111",
          "01000111101",
          "01001010111",
          "01111010111",
          "01001001110",
          "01111110000",
          "00111111110",
          "00110111110",
          "01111001011",
          "01111110010",
          "01001111111",
          "10010011011",
          "01010101111",
          "10011110111",
          "10111111010",
          "01110010101",
          "00011001110",
          "01101011110",
          "00010101110",
          "01110000101",
          "01011001101",
          "01111101110",
          "00100001111",
          "00010010110",
          "01000100101",
          "00111111100",
          "00011010110",
          "00111010101",
          "00111110101",
          "10101110000",
          "01111111110",
          "11010111000",
          "01010101110",
          "00001010111",
          "01000010001",
          "00010011010",
          "01010100110",
          "01010010000",
          "00101111011",
          "01110111101",
          "01011100100",
          "01000011001",
          "00001101110",
          "01010111011",
          "00010111100",
          "01001011111",
          "00101000111",
          "01010010010",
          "00010011111",
          "11011111111",
          "01011000111",
          "00000110100",
          "01100010000",
          "01010001111",
          "00111111101",
          "10010111011",
          "01001110111",
          "01011101011",
          "01000010010",
          "01010011100",
          "01101000110",
          "00011110011",
          "01010100101",
          "11110000110",
          "01110011101",
          "00000010011",
          "00010111101",
          "01110011100",
          "00110001101",
          "00000111110",
          "00011000010",
          "01010001000",
          "00110110010",
          "11111110111",
          "01100011110",
          "01110110100",
          "11111111011",
          "01011101111",
          "00110111111",
          "00101110111",
          "01110011110",
          "01011011010",
          "01101010110",
          "00100111101",
          "01110100110",
          "01110100111",
          "00111110111",
          "01001000101",
          "01111100100",
          "01100001110",
          "01111011010",
          "00110101110",
          "01110110011",
          "00000101111",
          "00111110000",
          "00010011101",
          "01011100011",
          "00010110100",
          "01001111001",
          "01110001110",
          "01101011100",
          "11010010011",
          "01100111100",
          "01010111010",
          "11111101111",
          "01010101011",
          "00011000111",
          "01111111101",
          "01011001111",
          "01111011110",
          "01011111100",
          "01011110101",
          "01000101110",
          "11110111011",
          "01011110011",
          "01000111110",
          "00011111111",
          "00011100111",
          "00111111111",
          "01001011100",
          "00111011111",
          "00011111100",
          "01011011011",
          "01110111100",
          "00010110111",
          "01111110111",
          "01011101101",
          "00110011110",
          "01100011111",
          "01011010111",
          "01110111111",
          "01011100111",
          "01111110100",
          "01000100111",
          "01010110101",
          "01010100111",
          "01111000111",
          "01001110100",
          "01011111010",
          "01100111101",
          "01111011100",
          "00011110111",
          "00011010111",
          "01010111101",
          "00110010111",
          "01010011110",
          "01011001110",
          "01110110101",
          "00011011111",
          "01111110110",
          "01001111110",
          "01011111101",
          "00111110110",
          "01111010100",
          "01110011111",
          "00011110101",
          "01111010110",
          "01110101110",
          "01011111111",
          "01011010101",
          "00111010111",
          "00010111110",
          "01001000111",
          "01011110100",
          "01000011111",
          "00011111110",
          "00011110110",
          "01110001111",
          "01011111001",
          "01001001111",
          "00111010110",
          "01011100110",
          "01001011110",
          "01110111110",
          "01011101110",
          "00011011101",
          "00111011110",
          "01110010111",
          "01010011101",
          "01011011101",
          "00010111111",
          "01011011100",
          "01111011111",
          "01001110110",
          "01110110111",
          "01110010110",
          "11111111111",
          "01011111110",
          "01011110111",
          "01010111100",
          "01010111111",
          "01011011111",
          "01010010111",
          "01011010110",
          "01011011110",
          "01010110110",
          "01011110110",
          "01010111110",
          "01010011111",
          "01010110111"
         ],
         "y": [
          1,
          1,
          1,
          1,
          1,
          1,
          1,
          1,
          1,
          1,
          1,
          1,
          1,
          1,
          1,
          1,
          1,
          1,
          1,
          1,
          1,
          1,
          1,
          1,
          1,
          1,
          1,
          1,
          1,
          1,
          1,
          1,
          1,
          1,
          1,
          1,
          1,
          1,
          1,
          1,
          1,
          1,
          1,
          1,
          1,
          1,
          1,
          1,
          1,
          1,
          1,
          1,
          1,
          1,
          1,
          1,
          1,
          1,
          1,
          1,
          1,
          1,
          1,
          1,
          1,
          1,
          1,
          1,
          1,
          1,
          1,
          1,
          1,
          1,
          1,
          1,
          1,
          1,
          1,
          1,
          1,
          1,
          1,
          1,
          1,
          1,
          1,
          1,
          1,
          1,
          1,
          1,
          1,
          1,
          1,
          1,
          1,
          1,
          1,
          1,
          1,
          1,
          1,
          1,
          1,
          1,
          1,
          1,
          1,
          1,
          1,
          1,
          1,
          1,
          1,
          1,
          1,
          1,
          1,
          1,
          1,
          1,
          1,
          1,
          1,
          1,
          1,
          1,
          1,
          1,
          1,
          1,
          1,
          1,
          1,
          1,
          1,
          1,
          1,
          1,
          1,
          1,
          1,
          1,
          1,
          1,
          1,
          1,
          1,
          1,
          1,
          1,
          1,
          1,
          2,
          2,
          2,
          2,
          2,
          2,
          2,
          2,
          2,
          2,
          2,
          2,
          2,
          2,
          2,
          2,
          2,
          2,
          2,
          2,
          2,
          2,
          2,
          2,
          2,
          2,
          2,
          2,
          2,
          2,
          2,
          2,
          2,
          2,
          2,
          3,
          3,
          3,
          3,
          3,
          3,
          3,
          3,
          3,
          3,
          3,
          3,
          3,
          3,
          3,
          3,
          3,
          3,
          3,
          3,
          3,
          3,
          3,
          3,
          3,
          3,
          3,
          3,
          3,
          3,
          3,
          3,
          4,
          4,
          4,
          4,
          4,
          4,
          4,
          4,
          4,
          5,
          5,
          5,
          5,
          6,
          6,
          6,
          7,
          8,
          8,
          8,
          10,
          10,
          11,
          11,
          12,
          15,
          18
         ]
        }
       ],
       "layout": {
        "template": {
         "data": {
          "bar": [
           {
            "error_x": {
             "color": "#2a3f5f"
            },
            "error_y": {
             "color": "#2a3f5f"
            },
            "marker": {
             "line": {
              "color": "#E5ECF6",
              "width": 0.5
             },
             "pattern": {
              "fillmode": "overlay",
              "size": 10,
              "solidity": 0.2
             }
            },
            "type": "bar"
           }
          ],
          "barpolar": [
           {
            "marker": {
             "line": {
              "color": "#E5ECF6",
              "width": 0.5
             },
             "pattern": {
              "fillmode": "overlay",
              "size": 10,
              "solidity": 0.2
             }
            },
            "type": "barpolar"
           }
          ],
          "carpet": [
           {
            "aaxis": {
             "endlinecolor": "#2a3f5f",
             "gridcolor": "white",
             "linecolor": "white",
             "minorgridcolor": "white",
             "startlinecolor": "#2a3f5f"
            },
            "baxis": {
             "endlinecolor": "#2a3f5f",
             "gridcolor": "white",
             "linecolor": "white",
             "minorgridcolor": "white",
             "startlinecolor": "#2a3f5f"
            },
            "type": "carpet"
           }
          ],
          "choropleth": [
           {
            "colorbar": {
             "outlinewidth": 0,
             "ticks": ""
            },
            "type": "choropleth"
           }
          ],
          "contour": [
           {
            "colorbar": {
             "outlinewidth": 0,
             "ticks": ""
            },
            "colorscale": [
             [
              0,
              "#0d0887"
             ],
             [
              0.1111111111111111,
              "#46039f"
             ],
             [
              0.2222222222222222,
              "#7201a8"
             ],
             [
              0.3333333333333333,
              "#9c179e"
             ],
             [
              0.4444444444444444,
              "#bd3786"
             ],
             [
              0.5555555555555556,
              "#d8576b"
             ],
             [
              0.6666666666666666,
              "#ed7953"
             ],
             [
              0.7777777777777778,
              "#fb9f3a"
             ],
             [
              0.8888888888888888,
              "#fdca26"
             ],
             [
              1,
              "#f0f921"
             ]
            ],
            "type": "contour"
           }
          ],
          "contourcarpet": [
           {
            "colorbar": {
             "outlinewidth": 0,
             "ticks": ""
            },
            "type": "contourcarpet"
           }
          ],
          "heatmap": [
           {
            "colorbar": {
             "outlinewidth": 0,
             "ticks": ""
            },
            "colorscale": [
             [
              0,
              "#0d0887"
             ],
             [
              0.1111111111111111,
              "#46039f"
             ],
             [
              0.2222222222222222,
              "#7201a8"
             ],
             [
              0.3333333333333333,
              "#9c179e"
             ],
             [
              0.4444444444444444,
              "#bd3786"
             ],
             [
              0.5555555555555556,
              "#d8576b"
             ],
             [
              0.6666666666666666,
              "#ed7953"
             ],
             [
              0.7777777777777778,
              "#fb9f3a"
             ],
             [
              0.8888888888888888,
              "#fdca26"
             ],
             [
              1,
              "#f0f921"
             ]
            ],
            "type": "heatmap"
           }
          ],
          "heatmapgl": [
           {
            "colorbar": {
             "outlinewidth": 0,
             "ticks": ""
            },
            "colorscale": [
             [
              0,
              "#0d0887"
             ],
             [
              0.1111111111111111,
              "#46039f"
             ],
             [
              0.2222222222222222,
              "#7201a8"
             ],
             [
              0.3333333333333333,
              "#9c179e"
             ],
             [
              0.4444444444444444,
              "#bd3786"
             ],
             [
              0.5555555555555556,
              "#d8576b"
             ],
             [
              0.6666666666666666,
              "#ed7953"
             ],
             [
              0.7777777777777778,
              "#fb9f3a"
             ],
             [
              0.8888888888888888,
              "#fdca26"
             ],
             [
              1,
              "#f0f921"
             ]
            ],
            "type": "heatmapgl"
           }
          ],
          "histogram": [
           {
            "marker": {
             "pattern": {
              "fillmode": "overlay",
              "size": 10,
              "solidity": 0.2
             }
            },
            "type": "histogram"
           }
          ],
          "histogram2d": [
           {
            "colorbar": {
             "outlinewidth": 0,
             "ticks": ""
            },
            "colorscale": [
             [
              0,
              "#0d0887"
             ],
             [
              0.1111111111111111,
              "#46039f"
             ],
             [
              0.2222222222222222,
              "#7201a8"
             ],
             [
              0.3333333333333333,
              "#9c179e"
             ],
             [
              0.4444444444444444,
              "#bd3786"
             ],
             [
              0.5555555555555556,
              "#d8576b"
             ],
             [
              0.6666666666666666,
              "#ed7953"
             ],
             [
              0.7777777777777778,
              "#fb9f3a"
             ],
             [
              0.8888888888888888,
              "#fdca26"
             ],
             [
              1,
              "#f0f921"
             ]
            ],
            "type": "histogram2d"
           }
          ],
          "histogram2dcontour": [
           {
            "colorbar": {
             "outlinewidth": 0,
             "ticks": ""
            },
            "colorscale": [
             [
              0,
              "#0d0887"
             ],
             [
              0.1111111111111111,
              "#46039f"
             ],
             [
              0.2222222222222222,
              "#7201a8"
             ],
             [
              0.3333333333333333,
              "#9c179e"
             ],
             [
              0.4444444444444444,
              "#bd3786"
             ],
             [
              0.5555555555555556,
              "#d8576b"
             ],
             [
              0.6666666666666666,
              "#ed7953"
             ],
             [
              0.7777777777777778,
              "#fb9f3a"
             ],
             [
              0.8888888888888888,
              "#fdca26"
             ],
             [
              1,
              "#f0f921"
             ]
            ],
            "type": "histogram2dcontour"
           }
          ],
          "mesh3d": [
           {
            "colorbar": {
             "outlinewidth": 0,
             "ticks": ""
            },
            "type": "mesh3d"
           }
          ],
          "parcoords": [
           {
            "line": {
             "colorbar": {
              "outlinewidth": 0,
              "ticks": ""
             }
            },
            "type": "parcoords"
           }
          ],
          "pie": [
           {
            "automargin": true,
            "type": "pie"
           }
          ],
          "scatter": [
           {
            "marker": {
             "colorbar": {
              "outlinewidth": 0,
              "ticks": ""
             }
            },
            "type": "scatter"
           }
          ],
          "scatter3d": [
           {
            "line": {
             "colorbar": {
              "outlinewidth": 0,
              "ticks": ""
             }
            },
            "marker": {
             "colorbar": {
              "outlinewidth": 0,
              "ticks": ""
             }
            },
            "type": "scatter3d"
           }
          ],
          "scattercarpet": [
           {
            "marker": {
             "colorbar": {
              "outlinewidth": 0,
              "ticks": ""
             }
            },
            "type": "scattercarpet"
           }
          ],
          "scattergeo": [
           {
            "marker": {
             "colorbar": {
              "outlinewidth": 0,
              "ticks": ""
             }
            },
            "type": "scattergeo"
           }
          ],
          "scattergl": [
           {
            "marker": {
             "colorbar": {
              "outlinewidth": 0,
              "ticks": ""
             }
            },
            "type": "scattergl"
           }
          ],
          "scattermapbox": [
           {
            "marker": {
             "colorbar": {
              "outlinewidth": 0,
              "ticks": ""
             }
            },
            "type": "scattermapbox"
           }
          ],
          "scatterpolar": [
           {
            "marker": {
             "colorbar": {
              "outlinewidth": 0,
              "ticks": ""
             }
            },
            "type": "scatterpolar"
           }
          ],
          "scatterpolargl": [
           {
            "marker": {
             "colorbar": {
              "outlinewidth": 0,
              "ticks": ""
             }
            },
            "type": "scatterpolargl"
           }
          ],
          "scatterternary": [
           {
            "marker": {
             "colorbar": {
              "outlinewidth": 0,
              "ticks": ""
             }
            },
            "type": "scatterternary"
           }
          ],
          "surface": [
           {
            "colorbar": {
             "outlinewidth": 0,
             "ticks": ""
            },
            "colorscale": [
             [
              0,
              "#0d0887"
             ],
             [
              0.1111111111111111,
              "#46039f"
             ],
             [
              0.2222222222222222,
              "#7201a8"
             ],
             [
              0.3333333333333333,
              "#9c179e"
             ],
             [
              0.4444444444444444,
              "#bd3786"
             ],
             [
              0.5555555555555556,
              "#d8576b"
             ],
             [
              0.6666666666666666,
              "#ed7953"
             ],
             [
              0.7777777777777778,
              "#fb9f3a"
             ],
             [
              0.8888888888888888,
              "#fdca26"
             ],
             [
              1,
              "#f0f921"
             ]
            ],
            "type": "surface"
           }
          ],
          "table": [
           {
            "cells": {
             "fill": {
              "color": "#EBF0F8"
             },
             "line": {
              "color": "white"
             }
            },
            "header": {
             "fill": {
              "color": "#C8D4E3"
             },
             "line": {
              "color": "white"
             }
            },
            "type": "table"
           }
          ]
         },
         "layout": {
          "annotationdefaults": {
           "arrowcolor": "#2a3f5f",
           "arrowhead": 0,
           "arrowwidth": 1
          },
          "autotypenumbers": "strict",
          "coloraxis": {
           "colorbar": {
            "outlinewidth": 0,
            "ticks": ""
           }
          },
          "colorscale": {
           "diverging": [
            [
             0,
             "#8e0152"
            ],
            [
             0.1,
             "#c51b7d"
            ],
            [
             0.2,
             "#de77ae"
            ],
            [
             0.3,
             "#f1b6da"
            ],
            [
             0.4,
             "#fde0ef"
            ],
            [
             0.5,
             "#f7f7f7"
            ],
            [
             0.6,
             "#e6f5d0"
            ],
            [
             0.7,
             "#b8e186"
            ],
            [
             0.8,
             "#7fbc41"
            ],
            [
             0.9,
             "#4d9221"
            ],
            [
             1,
             "#276419"
            ]
           ],
           "sequential": [
            [
             0,
             "#0d0887"
            ],
            [
             0.1111111111111111,
             "#46039f"
            ],
            [
             0.2222222222222222,
             "#7201a8"
            ],
            [
             0.3333333333333333,
             "#9c179e"
            ],
            [
             0.4444444444444444,
             "#bd3786"
            ],
            [
             0.5555555555555556,
             "#d8576b"
            ],
            [
             0.6666666666666666,
             "#ed7953"
            ],
            [
             0.7777777777777778,
             "#fb9f3a"
            ],
            [
             0.8888888888888888,
             "#fdca26"
            ],
            [
             1,
             "#f0f921"
            ]
           ],
           "sequentialminus": [
            [
             0,
             "#0d0887"
            ],
            [
             0.1111111111111111,
             "#46039f"
            ],
            [
             0.2222222222222222,
             "#7201a8"
            ],
            [
             0.3333333333333333,
             "#9c179e"
            ],
            [
             0.4444444444444444,
             "#bd3786"
            ],
            [
             0.5555555555555556,
             "#d8576b"
            ],
            [
             0.6666666666666666,
             "#ed7953"
            ],
            [
             0.7777777777777778,
             "#fb9f3a"
            ],
            [
             0.8888888888888888,
             "#fdca26"
            ],
            [
             1,
             "#f0f921"
            ]
           ]
          },
          "colorway": [
           "#636efa",
           "#EF553B",
           "#00cc96",
           "#ab63fa",
           "#FFA15A",
           "#19d3f3",
           "#FF6692",
           "#B6E880",
           "#FF97FF",
           "#FECB52"
          ],
          "font": {
           "color": "#2a3f5f"
          },
          "geo": {
           "bgcolor": "white",
           "lakecolor": "white",
           "landcolor": "#E5ECF6",
           "showlakes": true,
           "showland": true,
           "subunitcolor": "white"
          },
          "hoverlabel": {
           "align": "left"
          },
          "hovermode": "closest",
          "mapbox": {
           "style": "light"
          },
          "paper_bgcolor": "white",
          "plot_bgcolor": "#E5ECF6",
          "polar": {
           "angularaxis": {
            "gridcolor": "white",
            "linecolor": "white",
            "ticks": ""
           },
           "bgcolor": "#E5ECF6",
           "radialaxis": {
            "gridcolor": "white",
            "linecolor": "white",
            "ticks": ""
           }
          },
          "scene": {
           "xaxis": {
            "backgroundcolor": "#E5ECF6",
            "gridcolor": "white",
            "gridwidth": 2,
            "linecolor": "white",
            "showbackground": true,
            "ticks": "",
            "zerolinecolor": "white"
           },
           "yaxis": {
            "backgroundcolor": "#E5ECF6",
            "gridcolor": "white",
            "gridwidth": 2,
            "linecolor": "white",
            "showbackground": true,
            "ticks": "",
            "zerolinecolor": "white"
           },
           "zaxis": {
            "backgroundcolor": "#E5ECF6",
            "gridcolor": "white",
            "gridwidth": 2,
            "linecolor": "white",
            "showbackground": true,
            "ticks": "",
            "zerolinecolor": "white"
           }
          },
          "shapedefaults": {
           "line": {
            "color": "#2a3f5f"
           }
          },
          "ternary": {
           "aaxis": {
            "gridcolor": "white",
            "linecolor": "white",
            "ticks": ""
           },
           "baxis": {
            "gridcolor": "white",
            "linecolor": "white",
            "ticks": ""
           },
           "bgcolor": "#E5ECF6",
           "caxis": {
            "gridcolor": "white",
            "linecolor": "white",
            "ticks": ""
           }
          },
          "title": {
           "x": 0.05
          },
          "xaxis": {
           "automargin": true,
           "gridcolor": "white",
           "linecolor": "white",
           "ticks": "",
           "title": {
            "standoff": 15
           },
           "zerolinecolor": "white",
           "zerolinewidth": 2
          },
          "yaxis": {
           "automargin": true,
           "gridcolor": "white",
           "linecolor": "white",
           "ticks": "",
           "title": {
            "standoff": 15
           },
           "zerolinecolor": "white",
           "zerolinewidth": 2
          }
         }
        },
        "xaxis": {
         "type": "category"
        }
       }
      }
     },
     "metadata": {},
     "output_type": "display_data"
    },
    {
     "data": {
      "application/vnd.plotly.v1+json": {
       "config": {
        "plotlyServerURL": "https://plot.ly"
       },
       "data": [
        {
         "marker": {
          "cmax": 1,
          "cmin": 0,
          "color": [
           0.9393939393939394,
           0.8939393939393939,
           0,
           0,
           0.8636363636363636,
           0.9696969696969697,
           0,
           0,
           0.9545454545454546,
           0.9696969696969697,
           0.8181818181818182,
           0.8333333333333334,
           0,
           0,
           0,
           0.9242424242424242,
           0.8181818181818182,
           0.9848484848484849,
           0.8939393939393939,
           0,
           0,
           0,
           0,
           0,
           0,
           0.8939393939393939,
           0.9696969696969697,
           0.803030303030303,
           0,
           0,
           0.9393939393939394,
           0,
           0,
           0,
           0,
           0.9848484848484849,
           0.9393939393939394,
           0,
           0,
           0,
           0.8181818181818182,
           0.9242424242424242,
           0,
           0,
           0.9090909090909091,
           0,
           0.9696969696969697,
           0,
           0,
           0.8939393939393939,
           0,
           0,
           0,
           0,
           0.9090909090909091,
           0.9242424242424242,
           0.803030303030303,
           0,
           0,
           0.803030303030303,
           0.9545454545454546,
           0,
           0.9242424242424242,
           0,
           0.9545454545454546,
           0.8333333333333334,
           0,
           0,
           0,
           0.9242424242424242,
           0,
           0.9393939393939394,
           0.9090909090909091,
           0,
           0,
           0,
           0.9545454545454546,
           0,
           0.8333333333333334,
           0.7121212121212122,
           0,
           0.9545454545454546,
           0,
           0.9545454545454546,
           0,
           0.7878787878787878,
           0,
           0,
           0.9545454545454546,
           0.7727272727272727,
           0,
           0.9242424242424242,
           0,
           0.9545454545454546,
           0,
           0,
           0,
           0.9696969696969697,
           0,
           0,
           0.7878787878787878,
           0,
           0,
           0,
           0.9545454545454546,
           0.9393939393939394,
           0,
           0,
           0.9545454545454546,
           0.9545454545454546,
           0,
           0.9393939393939394,
           0,
           0,
           0,
           0,
           0.9545454545454546,
           0,
           0.9848484848484849,
           0,
           0,
           0.9848484848484849,
           0,
           0.9848484848484849,
           0,
           0,
           0,
           0,
           0.9393939393939394,
           0.9696969696969697,
           0,
           0,
           0.9848484848484849,
           0,
           0,
           0,
           0,
           0.9848484848484849,
           0.9696969696969697,
           0,
           0,
           0,
           0,
           0,
           0.9696969696969697,
           0.9696969696969697,
           0.9848484848484849,
           0,
           0,
           0,
           0.9696969696969697,
           0,
           0,
           0.9696969696969697,
           0,
           0,
           0,
           0,
           0,
           0,
           0,
           0.9848484848484849,
           0,
           0,
           0,
           0,
           0,
           0,
           0,
           0,
           0.9696969696969697,
           0,
           0,
           0.9545454545454546,
           0,
           0.9848484848484849,
           0,
           0,
           0,
           0.9696969696969697,
           0,
           0.9696969696969697,
           0,
           0,
           0.9848484848484849,
           0,
           0,
           0,
           0,
           0,
           0.9848484848484849,
           0,
           0,
           0,
           0.9848484848484849,
           0,
           0,
           0,
           0,
           0.9696969696969697,
           0,
           0,
           0,
           1,
           0,
           0,
           0,
           1,
           1,
           0,
           0,
           0,
           0,
           0,
           0,
           0
          ],
          "colorbar": {
           "title": {
            "text": "revenue"
           }
          },
          "colorscale": [
           [
            0,
            "#440154"
           ],
           [
            0.1111111111111111,
            "#482878"
           ],
           [
            0.2222222222222222,
            "#3e4989"
           ],
           [
            0.3333333333333333,
            "#31688e"
           ],
           [
            0.4444444444444444,
            "#26828e"
           ],
           [
            0.5555555555555556,
            "#1f9e89"
           ],
           [
            0.6666666666666666,
            "#35b779"
           ],
           [
            0.7777777777777778,
            "#6ece58"
           ],
           [
            0.8888888888888888,
            "#b5de2b"
           ],
           [
            1,
            "#fde725"
           ]
          ]
         },
         "type": "bar",
         "x": [
          "10110000101",
          "00011110001",
          "10101100011",
          "01111000101",
          "10001000001",
          "10110010101",
          "11100111111",
          "01111111110",
          "11000101101",
          "11011100001",
          "01100100000",
          "11100000000",
          "01111101101",
          "01111100101",
          "11111111101",
          "10100000101",
          "11001000000",
          "10100110101",
          "01101000100",
          "01111111000",
          "10111001101",
          "01001110101",
          "11110011001",
          "11111011001",
          "01110111101",
          "10001100001",
          "01100010101",
          "00101001000",
          "01110001101",
          "01100101101",
          "00110011101",
          "10101001011",
          "11111111000",
          "10111011101",
          "10011011110",
          "11100000101",
          "11000100101",
          "10111101101",
          "00100111011",
          "11111010100",
          "11000110000",
          "11000010011",
          "11100011101",
          "11101111000",
          "00011100101",
          "11110111101",
          "01110110001",
          "11001010101",
          "01111101001",
          "01000101011",
          "11001011101",
          "11111111111",
          "01100110011",
          "10001000111",
          "10011100001",
          "01001000101",
          "00001101100",
          "11111011101",
          "11110011101",
          "10000110100",
          "01001111001",
          "11110111100",
          "11001000001",
          "10111111100",
          "10110001101",
          "10000010001",
          "11011000101",
          "11011010101",
          "11001111111",
          "01100100001",
          "11011001101",
          "10110101001",
          "00100010101",
          "00111110101",
          "11110111001",
          "11001110101",
          "11100001001",
          "10100111101",
          "10000100001",
          "00000100010",
          "11111001001",
          "11010010101",
          "11100011011",
          "10101001001",
          "10101011101",
          "10001100000",
          "11001100101",
          "10011110101",
          "11001010001",
          "10000100100",
          "11111111100",
          "10001100011",
          "10110101101",
          "11010111001",
          "11111111110",
          "01101011001",
          "10101010011",
          "11110001001",
          "10110111101",
          "00101110101",
          "00100001100",
          "01101101101",
          "11011100101",
          "11011110101",
          "00111011001",
          "10010111101",
          "11011110110",
          "10100000111",
          "11001100001",
          "01001100101",
          "01001101101",
          "00110101101",
          "11110101001",
          "11001101101",
          "10111010101",
          "10110110101",
          "10001011101",
          "10101001101",
          "10101000101",
          "01101011101",
          "11010011101",
          "11100101001",
          "11110000101",
          "10111100001",
          "10111110101",
          "01111010101",
          "01101000101",
          "11001111101",
          "10101000001",
          "11100010001",
          "01100110101",
          "10111111001",
          "01101010001",
          "11110101101",
          "10101010101",
          "01100011101",
          "11011101001",
          "10101101001",
          "10101100001",
          "00111010101",
          "11011110001",
          "01001011101",
          "01101001101",
          "11101011101",
          "00111110001",
          "10111001001",
          "11100011001",
          "11101001101",
          "10011011101",
          "10111101001",
          "01111000001",
          "11100010101",
          "11100111101",
          "10100011101",
          "11001111001",
          "11101101101",
          "01101110101",
          "11110010101",
          "11110110001",
          "11100101101",
          "11111000001",
          "01101100001",
          "11100001101",
          "01101101001",
          "11111111001",
          "11111101101",
          "10001111101",
          "01101111101",
          "01111100001",
          "11110100101",
          "10110111001",
          "10101101101",
          "11101001001",
          "10100100101",
          "01101100101",
          "11001110001",
          "11100110101",
          "11100111001",
          "10101111101",
          "10101010001",
          "11111000101",
          "10110100101",
          "10111110001",
          "01111110001",
          "11110100001",
          "10101100101",
          "11101111101",
          "11111101001",
          "11111110101",
          "01101111001",
          "11110010001",
          "11101010101",
          "11111100101",
          "10101111001",
          "10111010001",
          "11100100101",
          "11101100101",
          "11110110101",
          "11111010101",
          "11100100001",
          "01101110001",
          "10101110101",
          "11101000101",
          "11101000001",
          "11111100001",
          "11101101001",
          "11111110001",
          "11100110001",
          "10101110001",
          "11111010001",
          "11101110101",
          "11101010001",
          "11101011001",
          "11101100001",
          "11101111001",
          "11101110001"
         ],
         "y": [
          1,
          1,
          1,
          1,
          1,
          1,
          1,
          1,
          1,
          1,
          1,
          1,
          1,
          1,
          1,
          1,
          1,
          1,
          1,
          1,
          1,
          1,
          1,
          1,
          1,
          1,
          1,
          1,
          1,
          1,
          1,
          1,
          1,
          1,
          1,
          1,
          1,
          1,
          1,
          1,
          1,
          1,
          1,
          1,
          1,
          1,
          1,
          1,
          1,
          1,
          1,
          1,
          1,
          1,
          1,
          1,
          1,
          1,
          1,
          1,
          1,
          1,
          1,
          1,
          1,
          1,
          1,
          1,
          1,
          1,
          1,
          1,
          1,
          1,
          1,
          1,
          1,
          1,
          1,
          1,
          1,
          1,
          1,
          1,
          1,
          1,
          1,
          1,
          1,
          1,
          1,
          1,
          1,
          1,
          1,
          1,
          1,
          1,
          1,
          1,
          1,
          1,
          1,
          1,
          1,
          1,
          1,
          1,
          1,
          1,
          1,
          1,
          1,
          1,
          2,
          2,
          2,
          2,
          2,
          2,
          2,
          2,
          2,
          2,
          2,
          2,
          2,
          2,
          2,
          2,
          2,
          2,
          2,
          2,
          2,
          2,
          2,
          2,
          2,
          2,
          2,
          2,
          2,
          2,
          2,
          2,
          2,
          2,
          2,
          2,
          3,
          3,
          3,
          3,
          3,
          3,
          3,
          3,
          3,
          3,
          3,
          3,
          3,
          3,
          3,
          3,
          3,
          3,
          3,
          3,
          3,
          3,
          3,
          3,
          4,
          4,
          4,
          4,
          4,
          4,
          4,
          4,
          4,
          4,
          4,
          4,
          4,
          5,
          5,
          5,
          5,
          5,
          5,
          5,
          6,
          6,
          6,
          6,
          6,
          6,
          6,
          6,
          6,
          6,
          7,
          7,
          7,
          7,
          7,
          7,
          7,
          8,
          8,
          11,
          13,
          18
         ]
        }
       ],
       "layout": {
        "template": {
         "data": {
          "bar": [
           {
            "error_x": {
             "color": "#2a3f5f"
            },
            "error_y": {
             "color": "#2a3f5f"
            },
            "marker": {
             "line": {
              "color": "#E5ECF6",
              "width": 0.5
             },
             "pattern": {
              "fillmode": "overlay",
              "size": 10,
              "solidity": 0.2
             }
            },
            "type": "bar"
           }
          ],
          "barpolar": [
           {
            "marker": {
             "line": {
              "color": "#E5ECF6",
              "width": 0.5
             },
             "pattern": {
              "fillmode": "overlay",
              "size": 10,
              "solidity": 0.2
             }
            },
            "type": "barpolar"
           }
          ],
          "carpet": [
           {
            "aaxis": {
             "endlinecolor": "#2a3f5f",
             "gridcolor": "white",
             "linecolor": "white",
             "minorgridcolor": "white",
             "startlinecolor": "#2a3f5f"
            },
            "baxis": {
             "endlinecolor": "#2a3f5f",
             "gridcolor": "white",
             "linecolor": "white",
             "minorgridcolor": "white",
             "startlinecolor": "#2a3f5f"
            },
            "type": "carpet"
           }
          ],
          "choropleth": [
           {
            "colorbar": {
             "outlinewidth": 0,
             "ticks": ""
            },
            "type": "choropleth"
           }
          ],
          "contour": [
           {
            "colorbar": {
             "outlinewidth": 0,
             "ticks": ""
            },
            "colorscale": [
             [
              0,
              "#0d0887"
             ],
             [
              0.1111111111111111,
              "#46039f"
             ],
             [
              0.2222222222222222,
              "#7201a8"
             ],
             [
              0.3333333333333333,
              "#9c179e"
             ],
             [
              0.4444444444444444,
              "#bd3786"
             ],
             [
              0.5555555555555556,
              "#d8576b"
             ],
             [
              0.6666666666666666,
              "#ed7953"
             ],
             [
              0.7777777777777778,
              "#fb9f3a"
             ],
             [
              0.8888888888888888,
              "#fdca26"
             ],
             [
              1,
              "#f0f921"
             ]
            ],
            "type": "contour"
           }
          ],
          "contourcarpet": [
           {
            "colorbar": {
             "outlinewidth": 0,
             "ticks": ""
            },
            "type": "contourcarpet"
           }
          ],
          "heatmap": [
           {
            "colorbar": {
             "outlinewidth": 0,
             "ticks": ""
            },
            "colorscale": [
             [
              0,
              "#0d0887"
             ],
             [
              0.1111111111111111,
              "#46039f"
             ],
             [
              0.2222222222222222,
              "#7201a8"
             ],
             [
              0.3333333333333333,
              "#9c179e"
             ],
             [
              0.4444444444444444,
              "#bd3786"
             ],
             [
              0.5555555555555556,
              "#d8576b"
             ],
             [
              0.6666666666666666,
              "#ed7953"
             ],
             [
              0.7777777777777778,
              "#fb9f3a"
             ],
             [
              0.8888888888888888,
              "#fdca26"
             ],
             [
              1,
              "#f0f921"
             ]
            ],
            "type": "heatmap"
           }
          ],
          "heatmapgl": [
           {
            "colorbar": {
             "outlinewidth": 0,
             "ticks": ""
            },
            "colorscale": [
             [
              0,
              "#0d0887"
             ],
             [
              0.1111111111111111,
              "#46039f"
             ],
             [
              0.2222222222222222,
              "#7201a8"
             ],
             [
              0.3333333333333333,
              "#9c179e"
             ],
             [
              0.4444444444444444,
              "#bd3786"
             ],
             [
              0.5555555555555556,
              "#d8576b"
             ],
             [
              0.6666666666666666,
              "#ed7953"
             ],
             [
              0.7777777777777778,
              "#fb9f3a"
             ],
             [
              0.8888888888888888,
              "#fdca26"
             ],
             [
              1,
              "#f0f921"
             ]
            ],
            "type": "heatmapgl"
           }
          ],
          "histogram": [
           {
            "marker": {
             "pattern": {
              "fillmode": "overlay",
              "size": 10,
              "solidity": 0.2
             }
            },
            "type": "histogram"
           }
          ],
          "histogram2d": [
           {
            "colorbar": {
             "outlinewidth": 0,
             "ticks": ""
            },
            "colorscale": [
             [
              0,
              "#0d0887"
             ],
             [
              0.1111111111111111,
              "#46039f"
             ],
             [
              0.2222222222222222,
              "#7201a8"
             ],
             [
              0.3333333333333333,
              "#9c179e"
             ],
             [
              0.4444444444444444,
              "#bd3786"
             ],
             [
              0.5555555555555556,
              "#d8576b"
             ],
             [
              0.6666666666666666,
              "#ed7953"
             ],
             [
              0.7777777777777778,
              "#fb9f3a"
             ],
             [
              0.8888888888888888,
              "#fdca26"
             ],
             [
              1,
              "#f0f921"
             ]
            ],
            "type": "histogram2d"
           }
          ],
          "histogram2dcontour": [
           {
            "colorbar": {
             "outlinewidth": 0,
             "ticks": ""
            },
            "colorscale": [
             [
              0,
              "#0d0887"
             ],
             [
              0.1111111111111111,
              "#46039f"
             ],
             [
              0.2222222222222222,
              "#7201a8"
             ],
             [
              0.3333333333333333,
              "#9c179e"
             ],
             [
              0.4444444444444444,
              "#bd3786"
             ],
             [
              0.5555555555555556,
              "#d8576b"
             ],
             [
              0.6666666666666666,
              "#ed7953"
             ],
             [
              0.7777777777777778,
              "#fb9f3a"
             ],
             [
              0.8888888888888888,
              "#fdca26"
             ],
             [
              1,
              "#f0f921"
             ]
            ],
            "type": "histogram2dcontour"
           }
          ],
          "mesh3d": [
           {
            "colorbar": {
             "outlinewidth": 0,
             "ticks": ""
            },
            "type": "mesh3d"
           }
          ],
          "parcoords": [
           {
            "line": {
             "colorbar": {
              "outlinewidth": 0,
              "ticks": ""
             }
            },
            "type": "parcoords"
           }
          ],
          "pie": [
           {
            "automargin": true,
            "type": "pie"
           }
          ],
          "scatter": [
           {
            "marker": {
             "colorbar": {
              "outlinewidth": 0,
              "ticks": ""
             }
            },
            "type": "scatter"
           }
          ],
          "scatter3d": [
           {
            "line": {
             "colorbar": {
              "outlinewidth": 0,
              "ticks": ""
             }
            },
            "marker": {
             "colorbar": {
              "outlinewidth": 0,
              "ticks": ""
             }
            },
            "type": "scatter3d"
           }
          ],
          "scattercarpet": [
           {
            "marker": {
             "colorbar": {
              "outlinewidth": 0,
              "ticks": ""
             }
            },
            "type": "scattercarpet"
           }
          ],
          "scattergeo": [
           {
            "marker": {
             "colorbar": {
              "outlinewidth": 0,
              "ticks": ""
             }
            },
            "type": "scattergeo"
           }
          ],
          "scattergl": [
           {
            "marker": {
             "colorbar": {
              "outlinewidth": 0,
              "ticks": ""
             }
            },
            "type": "scattergl"
           }
          ],
          "scattermapbox": [
           {
            "marker": {
             "colorbar": {
              "outlinewidth": 0,
              "ticks": ""
             }
            },
            "type": "scattermapbox"
           }
          ],
          "scatterpolar": [
           {
            "marker": {
             "colorbar": {
              "outlinewidth": 0,
              "ticks": ""
             }
            },
            "type": "scatterpolar"
           }
          ],
          "scatterpolargl": [
           {
            "marker": {
             "colorbar": {
              "outlinewidth": 0,
              "ticks": ""
             }
            },
            "type": "scatterpolargl"
           }
          ],
          "scatterternary": [
           {
            "marker": {
             "colorbar": {
              "outlinewidth": 0,
              "ticks": ""
             }
            },
            "type": "scatterternary"
           }
          ],
          "surface": [
           {
            "colorbar": {
             "outlinewidth": 0,
             "ticks": ""
            },
            "colorscale": [
             [
              0,
              "#0d0887"
             ],
             [
              0.1111111111111111,
              "#46039f"
             ],
             [
              0.2222222222222222,
              "#7201a8"
             ],
             [
              0.3333333333333333,
              "#9c179e"
             ],
             [
              0.4444444444444444,
              "#bd3786"
             ],
             [
              0.5555555555555556,
              "#d8576b"
             ],
             [
              0.6666666666666666,
              "#ed7953"
             ],
             [
              0.7777777777777778,
              "#fb9f3a"
             ],
             [
              0.8888888888888888,
              "#fdca26"
             ],
             [
              1,
              "#f0f921"
             ]
            ],
            "type": "surface"
           }
          ],
          "table": [
           {
            "cells": {
             "fill": {
              "color": "#EBF0F8"
             },
             "line": {
              "color": "white"
             }
            },
            "header": {
             "fill": {
              "color": "#C8D4E3"
             },
             "line": {
              "color": "white"
             }
            },
            "type": "table"
           }
          ]
         },
         "layout": {
          "annotationdefaults": {
           "arrowcolor": "#2a3f5f",
           "arrowhead": 0,
           "arrowwidth": 1
          },
          "autotypenumbers": "strict",
          "coloraxis": {
           "colorbar": {
            "outlinewidth": 0,
            "ticks": ""
           }
          },
          "colorscale": {
           "diverging": [
            [
             0,
             "#8e0152"
            ],
            [
             0.1,
             "#c51b7d"
            ],
            [
             0.2,
             "#de77ae"
            ],
            [
             0.3,
             "#f1b6da"
            ],
            [
             0.4,
             "#fde0ef"
            ],
            [
             0.5,
             "#f7f7f7"
            ],
            [
             0.6,
             "#e6f5d0"
            ],
            [
             0.7,
             "#b8e186"
            ],
            [
             0.8,
             "#7fbc41"
            ],
            [
             0.9,
             "#4d9221"
            ],
            [
             1,
             "#276419"
            ]
           ],
           "sequential": [
            [
             0,
             "#0d0887"
            ],
            [
             0.1111111111111111,
             "#46039f"
            ],
            [
             0.2222222222222222,
             "#7201a8"
            ],
            [
             0.3333333333333333,
             "#9c179e"
            ],
            [
             0.4444444444444444,
             "#bd3786"
            ],
            [
             0.5555555555555556,
             "#d8576b"
            ],
            [
             0.6666666666666666,
             "#ed7953"
            ],
            [
             0.7777777777777778,
             "#fb9f3a"
            ],
            [
             0.8888888888888888,
             "#fdca26"
            ],
            [
             1,
             "#f0f921"
            ]
           ],
           "sequentialminus": [
            [
             0,
             "#0d0887"
            ],
            [
             0.1111111111111111,
             "#46039f"
            ],
            [
             0.2222222222222222,
             "#7201a8"
            ],
            [
             0.3333333333333333,
             "#9c179e"
            ],
            [
             0.4444444444444444,
             "#bd3786"
            ],
            [
             0.5555555555555556,
             "#d8576b"
            ],
            [
             0.6666666666666666,
             "#ed7953"
            ],
            [
             0.7777777777777778,
             "#fb9f3a"
            ],
            [
             0.8888888888888888,
             "#fdca26"
            ],
            [
             1,
             "#f0f921"
            ]
           ]
          },
          "colorway": [
           "#636efa",
           "#EF553B",
           "#00cc96",
           "#ab63fa",
           "#FFA15A",
           "#19d3f3",
           "#FF6692",
           "#B6E880",
           "#FF97FF",
           "#FECB52"
          ],
          "font": {
           "color": "#2a3f5f"
          },
          "geo": {
           "bgcolor": "white",
           "lakecolor": "white",
           "landcolor": "#E5ECF6",
           "showlakes": true,
           "showland": true,
           "subunitcolor": "white"
          },
          "hoverlabel": {
           "align": "left"
          },
          "hovermode": "closest",
          "mapbox": {
           "style": "light"
          },
          "paper_bgcolor": "white",
          "plot_bgcolor": "#E5ECF6",
          "polar": {
           "angularaxis": {
            "gridcolor": "white",
            "linecolor": "white",
            "ticks": ""
           },
           "bgcolor": "#E5ECF6",
           "radialaxis": {
            "gridcolor": "white",
            "linecolor": "white",
            "ticks": ""
           }
          },
          "scene": {
           "xaxis": {
            "backgroundcolor": "#E5ECF6",
            "gridcolor": "white",
            "gridwidth": 2,
            "linecolor": "white",
            "showbackground": true,
            "ticks": "",
            "zerolinecolor": "white"
           },
           "yaxis": {
            "backgroundcolor": "#E5ECF6",
            "gridcolor": "white",
            "gridwidth": 2,
            "linecolor": "white",
            "showbackground": true,
            "ticks": "",
            "zerolinecolor": "white"
           },
           "zaxis": {
            "backgroundcolor": "#E5ECF6",
            "gridcolor": "white",
            "gridwidth": 2,
            "linecolor": "white",
            "showbackground": true,
            "ticks": "",
            "zerolinecolor": "white"
           }
          },
          "shapedefaults": {
           "line": {
            "color": "#2a3f5f"
           }
          },
          "ternary": {
           "aaxis": {
            "gridcolor": "white",
            "linecolor": "white",
            "ticks": ""
           },
           "baxis": {
            "gridcolor": "white",
            "linecolor": "white",
            "ticks": ""
           },
           "bgcolor": "#E5ECF6",
           "caxis": {
            "gridcolor": "white",
            "linecolor": "white",
            "ticks": ""
           }
          },
          "title": {
           "x": 0.05
          },
          "xaxis": {
           "automargin": true,
           "gridcolor": "white",
           "linecolor": "white",
           "ticks": "",
           "title": {
            "standoff": 15
           },
           "zerolinecolor": "white",
           "zerolinewidth": 2
          },
          "yaxis": {
           "automargin": true,
           "gridcolor": "white",
           "linecolor": "white",
           "ticks": "",
           "title": {
            "standoff": 15
           },
           "zerolinecolor": "white",
           "zerolinewidth": 2
          }
         }
        },
        "xaxis": {
         "type": "category"
        }
       }
      }
     },
     "metadata": {},
     "output_type": "display_data"
    },
    {
     "data": {
      "application/vnd.plotly.v1+json": {
       "config": {
        "plotlyServerURL": "https://plot.ly"
       },
       "data": [
        {
         "marker": {
          "cmax": 1,
          "cmin": 0,
          "color": [
           0,
           0,
           0,
           0.8493150684931506,
           0,
           0.9452054794520548,
           0,
           0.9178082191780822,
           0,
           0,
           0,
           0.9315068493150684,
           0,
           0.958904109589041,
           0.9315068493150684,
           0.9315068493150684,
           0,
           0.958904109589041,
           0,
           0,
           0.958904109589041,
           0,
           0.8904109589041096,
           0.8767123287671232,
           0.9452054794520548,
           0.7808219178082192,
           0,
           0.9178082191780822,
           0,
           0.8493150684931506,
           0.7808219178082192,
           0,
           0,
           0,
           0,
           0,
           0.958904109589041,
           0,
           0,
           0,
           0,
           0,
           0.863013698630137,
           0,
           0.9315068493150684,
           0.8356164383561644,
           0.863013698630137,
           0,
           0.9178082191780822,
           0,
           0.9315068493150684,
           0,
           0.9178082191780822,
           0,
           0,
           0.8767123287671232,
           0,
           0,
           0,
           0,
           0.958904109589041,
           0,
           0,
           0,
           0.9452054794520548,
           0,
           0,
           0,
           0.9452054794520548,
           0,
           0.958904109589041,
           0.958904109589041,
           0,
           0,
           0,
           0,
           0.958904109589041,
           0,
           0,
           0,
           0,
           0,
           0,
           0.9452054794520548,
           0.958904109589041,
           0,
           0,
           0,
           0,
           0.9452054794520548,
           0,
           0.958904109589041,
           0,
           0,
           0,
           0,
           0,
           0,
           0,
           0.9726027397260274,
           0,
           0.9726027397260274,
           0.9726027397260274,
           0.9726027397260274,
           0,
           0,
           0.9726027397260274,
           0,
           0,
           0,
           0,
           0,
           1,
           0,
           0,
           0
          ],
          "colorbar": {
           "title": {
            "text": "revenue"
           }
          },
          "colorscale": [
           [
            0,
            "#440154"
           ],
           [
            0.1111111111111111,
            "#482878"
           ],
           [
            0.2222222222222222,
            "#3e4989"
           ],
           [
            0.3333333333333333,
            "#31688e"
           ],
           [
            0.4444444444444444,
            "#26828e"
           ],
           [
            0.5555555555555556,
            "#1f9e89"
           ],
           [
            0.6666666666666666,
            "#35b779"
           ],
           [
            0.7777777777777778,
            "#6ece58"
           ],
           [
            0.8888888888888888,
            "#b5de2b"
           ],
           [
            1,
            "#fde725"
           ]
          ]
         },
         "type": "bar",
         "x": [
          "11001100100",
          "11011110100",
          "11111010010",
          "10000011100",
          "11001100110",
          "10001100110",
          "11011000010",
          "10001101100",
          "11001111011",
          "11011010110",
          "11011111011",
          "10001010101",
          "10110011110",
          "11100100110",
          "10100110101",
          "11000110011",
          "10101010111",
          "10001011110",
          "00111110010",
          "10001011111",
          "11001000110",
          "11101001100",
          "11100000101",
          "01001100100",
          "11100010101",
          "10100010001",
          "10001010111",
          "10001000111",
          "11110011111",
          "11000100010",
          "10000010010",
          "11011101100",
          "10110110101",
          "11000100111",
          "11110111011",
          "11110010110",
          "10001110100",
          "11100111101",
          "10101110100",
          "11101011111",
          "01000110111",
          "11101101100",
          "10100000111",
          "01100110111",
          "11000100101",
          "00101000111",
          "11000101010",
          "11101100100",
          "11100100100",
          "11000011111",
          "10000111101",
          "10101111100",
          "10101100100",
          "10101110111",
          "10001110101",
          "10100001111",
          "11001110101",
          "11101111111",
          "11100010111",
          "11101111100",
          "10100111110",
          "11001010101",
          "11111111111",
          "10001111100",
          "11000100110",
          "11101111101",
          "10100110111",
          "10001110111",
          "10001010110",
          "11100111100",
          "11000011110",
          "10101010110",
          "11101010111",
          "10101110110",
          "10001111110",
          "11001110010",
          "11000110100",
          "11001110111",
          "11101100110",
          "11000111111",
          "10101011110",
          "11101011110",
          "11101010100",
          "10000111110",
          "11000101110",
          "11101110111",
          "11000110101",
          "11100111111",
          "11001111111",
          "11000010110",
          "11001010111",
          "11100010110",
          "11001011111",
          "11101110100",
          "11001011100",
          "11101111110",
          "11100110111",
          "11001111100",
          "10001110110",
          "11000111100",
          "11101010110",
          "11100011110",
          "11000010111",
          "11100110100",
          "11000110111",
          "11001011110",
          "11001010100",
          "11001111110",
          "11101110110",
          "11100111110",
          "11001010110",
          "11001110100",
          "11000110110",
          "11100110110",
          "11000111110",
          "11001110110"
         ],
         "y": [
          1,
          1,
          1,
          1,
          1,
          1,
          1,
          1,
          1,
          1,
          1,
          1,
          1,
          1,
          1,
          1,
          1,
          1,
          1,
          1,
          1,
          1,
          1,
          1,
          1,
          1,
          1,
          1,
          1,
          1,
          1,
          1,
          1,
          1,
          1,
          1,
          1,
          1,
          1,
          1,
          1,
          1,
          1,
          1,
          1,
          1,
          1,
          1,
          1,
          1,
          1,
          1,
          1,
          1,
          1,
          2,
          2,
          2,
          2,
          2,
          2,
          2,
          2,
          2,
          2,
          2,
          2,
          2,
          2,
          3,
          3,
          3,
          3,
          3,
          3,
          3,
          3,
          3,
          4,
          4,
          4,
          4,
          4,
          4,
          4,
          4,
          4,
          4,
          4,
          5,
          5,
          5,
          5,
          6,
          6,
          6,
          6,
          6,
          7,
          7,
          8,
          9,
          9,
          11,
          12,
          13,
          14,
          16,
          18,
          19,
          23,
          24,
          25,
          26,
          29,
          38
         ]
        }
       ],
       "layout": {
        "template": {
         "data": {
          "bar": [
           {
            "error_x": {
             "color": "#2a3f5f"
            },
            "error_y": {
             "color": "#2a3f5f"
            },
            "marker": {
             "line": {
              "color": "#E5ECF6",
              "width": 0.5
             },
             "pattern": {
              "fillmode": "overlay",
              "size": 10,
              "solidity": 0.2
             }
            },
            "type": "bar"
           }
          ],
          "barpolar": [
           {
            "marker": {
             "line": {
              "color": "#E5ECF6",
              "width": 0.5
             },
             "pattern": {
              "fillmode": "overlay",
              "size": 10,
              "solidity": 0.2
             }
            },
            "type": "barpolar"
           }
          ],
          "carpet": [
           {
            "aaxis": {
             "endlinecolor": "#2a3f5f",
             "gridcolor": "white",
             "linecolor": "white",
             "minorgridcolor": "white",
             "startlinecolor": "#2a3f5f"
            },
            "baxis": {
             "endlinecolor": "#2a3f5f",
             "gridcolor": "white",
             "linecolor": "white",
             "minorgridcolor": "white",
             "startlinecolor": "#2a3f5f"
            },
            "type": "carpet"
           }
          ],
          "choropleth": [
           {
            "colorbar": {
             "outlinewidth": 0,
             "ticks": ""
            },
            "type": "choropleth"
           }
          ],
          "contour": [
           {
            "colorbar": {
             "outlinewidth": 0,
             "ticks": ""
            },
            "colorscale": [
             [
              0,
              "#0d0887"
             ],
             [
              0.1111111111111111,
              "#46039f"
             ],
             [
              0.2222222222222222,
              "#7201a8"
             ],
             [
              0.3333333333333333,
              "#9c179e"
             ],
             [
              0.4444444444444444,
              "#bd3786"
             ],
             [
              0.5555555555555556,
              "#d8576b"
             ],
             [
              0.6666666666666666,
              "#ed7953"
             ],
             [
              0.7777777777777778,
              "#fb9f3a"
             ],
             [
              0.8888888888888888,
              "#fdca26"
             ],
             [
              1,
              "#f0f921"
             ]
            ],
            "type": "contour"
           }
          ],
          "contourcarpet": [
           {
            "colorbar": {
             "outlinewidth": 0,
             "ticks": ""
            },
            "type": "contourcarpet"
           }
          ],
          "heatmap": [
           {
            "colorbar": {
             "outlinewidth": 0,
             "ticks": ""
            },
            "colorscale": [
             [
              0,
              "#0d0887"
             ],
             [
              0.1111111111111111,
              "#46039f"
             ],
             [
              0.2222222222222222,
              "#7201a8"
             ],
             [
              0.3333333333333333,
              "#9c179e"
             ],
             [
              0.4444444444444444,
              "#bd3786"
             ],
             [
              0.5555555555555556,
              "#d8576b"
             ],
             [
              0.6666666666666666,
              "#ed7953"
             ],
             [
              0.7777777777777778,
              "#fb9f3a"
             ],
             [
              0.8888888888888888,
              "#fdca26"
             ],
             [
              1,
              "#f0f921"
             ]
            ],
            "type": "heatmap"
           }
          ],
          "heatmapgl": [
           {
            "colorbar": {
             "outlinewidth": 0,
             "ticks": ""
            },
            "colorscale": [
             [
              0,
              "#0d0887"
             ],
             [
              0.1111111111111111,
              "#46039f"
             ],
             [
              0.2222222222222222,
              "#7201a8"
             ],
             [
              0.3333333333333333,
              "#9c179e"
             ],
             [
              0.4444444444444444,
              "#bd3786"
             ],
             [
              0.5555555555555556,
              "#d8576b"
             ],
             [
              0.6666666666666666,
              "#ed7953"
             ],
             [
              0.7777777777777778,
              "#fb9f3a"
             ],
             [
              0.8888888888888888,
              "#fdca26"
             ],
             [
              1,
              "#f0f921"
             ]
            ],
            "type": "heatmapgl"
           }
          ],
          "histogram": [
           {
            "marker": {
             "pattern": {
              "fillmode": "overlay",
              "size": 10,
              "solidity": 0.2
             }
            },
            "type": "histogram"
           }
          ],
          "histogram2d": [
           {
            "colorbar": {
             "outlinewidth": 0,
             "ticks": ""
            },
            "colorscale": [
             [
              0,
              "#0d0887"
             ],
             [
              0.1111111111111111,
              "#46039f"
             ],
             [
              0.2222222222222222,
              "#7201a8"
             ],
             [
              0.3333333333333333,
              "#9c179e"
             ],
             [
              0.4444444444444444,
              "#bd3786"
             ],
             [
              0.5555555555555556,
              "#d8576b"
             ],
             [
              0.6666666666666666,
              "#ed7953"
             ],
             [
              0.7777777777777778,
              "#fb9f3a"
             ],
             [
              0.8888888888888888,
              "#fdca26"
             ],
             [
              1,
              "#f0f921"
             ]
            ],
            "type": "histogram2d"
           }
          ],
          "histogram2dcontour": [
           {
            "colorbar": {
             "outlinewidth": 0,
             "ticks": ""
            },
            "colorscale": [
             [
              0,
              "#0d0887"
             ],
             [
              0.1111111111111111,
              "#46039f"
             ],
             [
              0.2222222222222222,
              "#7201a8"
             ],
             [
              0.3333333333333333,
              "#9c179e"
             ],
             [
              0.4444444444444444,
              "#bd3786"
             ],
             [
              0.5555555555555556,
              "#d8576b"
             ],
             [
              0.6666666666666666,
              "#ed7953"
             ],
             [
              0.7777777777777778,
              "#fb9f3a"
             ],
             [
              0.8888888888888888,
              "#fdca26"
             ],
             [
              1,
              "#f0f921"
             ]
            ],
            "type": "histogram2dcontour"
           }
          ],
          "mesh3d": [
           {
            "colorbar": {
             "outlinewidth": 0,
             "ticks": ""
            },
            "type": "mesh3d"
           }
          ],
          "parcoords": [
           {
            "line": {
             "colorbar": {
              "outlinewidth": 0,
              "ticks": ""
             }
            },
            "type": "parcoords"
           }
          ],
          "pie": [
           {
            "automargin": true,
            "type": "pie"
           }
          ],
          "scatter": [
           {
            "marker": {
             "colorbar": {
              "outlinewidth": 0,
              "ticks": ""
             }
            },
            "type": "scatter"
           }
          ],
          "scatter3d": [
           {
            "line": {
             "colorbar": {
              "outlinewidth": 0,
              "ticks": ""
             }
            },
            "marker": {
             "colorbar": {
              "outlinewidth": 0,
              "ticks": ""
             }
            },
            "type": "scatter3d"
           }
          ],
          "scattercarpet": [
           {
            "marker": {
             "colorbar": {
              "outlinewidth": 0,
              "ticks": ""
             }
            },
            "type": "scattercarpet"
           }
          ],
          "scattergeo": [
           {
            "marker": {
             "colorbar": {
              "outlinewidth": 0,
              "ticks": ""
             }
            },
            "type": "scattergeo"
           }
          ],
          "scattergl": [
           {
            "marker": {
             "colorbar": {
              "outlinewidth": 0,
              "ticks": ""
             }
            },
            "type": "scattergl"
           }
          ],
          "scattermapbox": [
           {
            "marker": {
             "colorbar": {
              "outlinewidth": 0,
              "ticks": ""
             }
            },
            "type": "scattermapbox"
           }
          ],
          "scatterpolar": [
           {
            "marker": {
             "colorbar": {
              "outlinewidth": 0,
              "ticks": ""
             }
            },
            "type": "scatterpolar"
           }
          ],
          "scatterpolargl": [
           {
            "marker": {
             "colorbar": {
              "outlinewidth": 0,
              "ticks": ""
             }
            },
            "type": "scatterpolargl"
           }
          ],
          "scatterternary": [
           {
            "marker": {
             "colorbar": {
              "outlinewidth": 0,
              "ticks": ""
             }
            },
            "type": "scatterternary"
           }
          ],
          "surface": [
           {
            "colorbar": {
             "outlinewidth": 0,
             "ticks": ""
            },
            "colorscale": [
             [
              0,
              "#0d0887"
             ],
             [
              0.1111111111111111,
              "#46039f"
             ],
             [
              0.2222222222222222,
              "#7201a8"
             ],
             [
              0.3333333333333333,
              "#9c179e"
             ],
             [
              0.4444444444444444,
              "#bd3786"
             ],
             [
              0.5555555555555556,
              "#d8576b"
             ],
             [
              0.6666666666666666,
              "#ed7953"
             ],
             [
              0.7777777777777778,
              "#fb9f3a"
             ],
             [
              0.8888888888888888,
              "#fdca26"
             ],
             [
              1,
              "#f0f921"
             ]
            ],
            "type": "surface"
           }
          ],
          "table": [
           {
            "cells": {
             "fill": {
              "color": "#EBF0F8"
             },
             "line": {
              "color": "white"
             }
            },
            "header": {
             "fill": {
              "color": "#C8D4E3"
             },
             "line": {
              "color": "white"
             }
            },
            "type": "table"
           }
          ]
         },
         "layout": {
          "annotationdefaults": {
           "arrowcolor": "#2a3f5f",
           "arrowhead": 0,
           "arrowwidth": 1
          },
          "autotypenumbers": "strict",
          "coloraxis": {
           "colorbar": {
            "outlinewidth": 0,
            "ticks": ""
           }
          },
          "colorscale": {
           "diverging": [
            [
             0,
             "#8e0152"
            ],
            [
             0.1,
             "#c51b7d"
            ],
            [
             0.2,
             "#de77ae"
            ],
            [
             0.3,
             "#f1b6da"
            ],
            [
             0.4,
             "#fde0ef"
            ],
            [
             0.5,
             "#f7f7f7"
            ],
            [
             0.6,
             "#e6f5d0"
            ],
            [
             0.7,
             "#b8e186"
            ],
            [
             0.8,
             "#7fbc41"
            ],
            [
             0.9,
             "#4d9221"
            ],
            [
             1,
             "#276419"
            ]
           ],
           "sequential": [
            [
             0,
             "#0d0887"
            ],
            [
             0.1111111111111111,
             "#46039f"
            ],
            [
             0.2222222222222222,
             "#7201a8"
            ],
            [
             0.3333333333333333,
             "#9c179e"
            ],
            [
             0.4444444444444444,
             "#bd3786"
            ],
            [
             0.5555555555555556,
             "#d8576b"
            ],
            [
             0.6666666666666666,
             "#ed7953"
            ],
            [
             0.7777777777777778,
             "#fb9f3a"
            ],
            [
             0.8888888888888888,
             "#fdca26"
            ],
            [
             1,
             "#f0f921"
            ]
           ],
           "sequentialminus": [
            [
             0,
             "#0d0887"
            ],
            [
             0.1111111111111111,
             "#46039f"
            ],
            [
             0.2222222222222222,
             "#7201a8"
            ],
            [
             0.3333333333333333,
             "#9c179e"
            ],
            [
             0.4444444444444444,
             "#bd3786"
            ],
            [
             0.5555555555555556,
             "#d8576b"
            ],
            [
             0.6666666666666666,
             "#ed7953"
            ],
            [
             0.7777777777777778,
             "#fb9f3a"
            ],
            [
             0.8888888888888888,
             "#fdca26"
            ],
            [
             1,
             "#f0f921"
            ]
           ]
          },
          "colorway": [
           "#636efa",
           "#EF553B",
           "#00cc96",
           "#ab63fa",
           "#FFA15A",
           "#19d3f3",
           "#FF6692",
           "#B6E880",
           "#FF97FF",
           "#FECB52"
          ],
          "font": {
           "color": "#2a3f5f"
          },
          "geo": {
           "bgcolor": "white",
           "lakecolor": "white",
           "landcolor": "#E5ECF6",
           "showlakes": true,
           "showland": true,
           "subunitcolor": "white"
          },
          "hoverlabel": {
           "align": "left"
          },
          "hovermode": "closest",
          "mapbox": {
           "style": "light"
          },
          "paper_bgcolor": "white",
          "plot_bgcolor": "#E5ECF6",
          "polar": {
           "angularaxis": {
            "gridcolor": "white",
            "linecolor": "white",
            "ticks": ""
           },
           "bgcolor": "#E5ECF6",
           "radialaxis": {
            "gridcolor": "white",
            "linecolor": "white",
            "ticks": ""
           }
          },
          "scene": {
           "xaxis": {
            "backgroundcolor": "#E5ECF6",
            "gridcolor": "white",
            "gridwidth": 2,
            "linecolor": "white",
            "showbackground": true,
            "ticks": "",
            "zerolinecolor": "white"
           },
           "yaxis": {
            "backgroundcolor": "#E5ECF6",
            "gridcolor": "white",
            "gridwidth": 2,
            "linecolor": "white",
            "showbackground": true,
            "ticks": "",
            "zerolinecolor": "white"
           },
           "zaxis": {
            "backgroundcolor": "#E5ECF6",
            "gridcolor": "white",
            "gridwidth": 2,
            "linecolor": "white",
            "showbackground": true,
            "ticks": "",
            "zerolinecolor": "white"
           }
          },
          "shapedefaults": {
           "line": {
            "color": "#2a3f5f"
           }
          },
          "ternary": {
           "aaxis": {
            "gridcolor": "white",
            "linecolor": "white",
            "ticks": ""
           },
           "baxis": {
            "gridcolor": "white",
            "linecolor": "white",
            "ticks": ""
           },
           "bgcolor": "#E5ECF6",
           "caxis": {
            "gridcolor": "white",
            "linecolor": "white",
            "ticks": ""
           }
          },
          "title": {
           "x": 0.05
          },
          "xaxis": {
           "automargin": true,
           "gridcolor": "white",
           "linecolor": "white",
           "ticks": "",
           "title": {
            "standoff": 15
           },
           "zerolinecolor": "white",
           "zerolinewidth": 2
          },
          "yaxis": {
           "automargin": true,
           "gridcolor": "white",
           "linecolor": "white",
           "ticks": "",
           "title": {
            "standoff": 15
           },
           "zerolinecolor": "white",
           "zerolinewidth": 2
          }
         }
        },
        "xaxis": {
         "type": "category"
        }
       }
      }
     },
     "metadata": {},
     "output_type": "display_data"
    },
    {
     "data": {
      "application/vnd.plotly.v1+json": {
       "config": {
        "plotlyServerURL": "https://plot.ly"
       },
       "data": [
        {
         "marker": {
          "cmax": 1,
          "cmin": 0,
          "color": [
           0,
           0,
           0.9078947368421053,
           0.9736842105263158,
           0,
           0,
           0.881578947368421,
           0.8421052631578947,
           0,
           0,
           0.9473684210526315,
           0,
           0,
           0,
           0,
           0.8552631578947368,
           0.9473684210526315,
           0,
           0.6973684210526315,
           0,
           0.9342105263157895,
           0.8421052631578947,
           0.8289473684210527,
           0.6842105263157895,
           0.8421052631578947,
           0,
           0,
           0,
           0.9605263157894737,
           0.9342105263157895,
           0.9078947368421053,
           0,
           0,
           0,
           0,
           0.9473684210526315,
           0,
           0,
           0.9605263157894737,
           0,
           0,
           0,
           0.9473684210526315,
           0,
           0,
           0.8421052631578947,
           0.881578947368421,
           0.868421052631579,
           0,
           0.868421052631579,
           0.868421052631579,
           0.8947368421052632,
           0,
           0,
           0.9605263157894737,
           0,
           0,
           0,
           0.8947368421052632,
           0.9605263157894737,
           0,
           0,
           0,
           0,
           0.9736842105263158,
           0.9736842105263158,
           0.8552631578947368,
           0,
           0,
           0,
           0,
           0,
           0.9736842105263158,
           0,
           0,
           0,
           0,
           0.9736842105263158,
           0,
           0,
           0,
           0.9736842105263158,
           0,
           0.9736842105263158,
           0.9868421052631579,
           0.9868421052631579,
           0,
           0,
           0,
           0,
           0,
           0,
           0,
           1,
           0,
           0,
           0,
           0,
           0,
           0,
           0,
           0,
           0,
           0
          ],
          "colorbar": {
           "title": {
            "text": "revenue"
           }
          },
          "colorscale": [
           [
            0,
            "#440154"
           ],
           [
            0.1111111111111111,
            "#482878"
           ],
           [
            0.2222222222222222,
            "#3e4989"
           ],
           [
            0.3333333333333333,
            "#31688e"
           ],
           [
            0.4444444444444444,
            "#26828e"
           ],
           [
            0.5555555555555556,
            "#1f9e89"
           ],
           [
            0.6666666666666666,
            "#35b779"
           ],
           [
            0.7777777777777778,
            "#6ece58"
           ],
           [
            0.8888888888888888,
            "#b5de2b"
           ],
           [
            1,
            "#fde725"
           ]
          ]
         },
         "type": "bar",
         "x": [
          "10111011101",
          "01111111000",
          "10111000100",
          "11110000110",
          "11110100110",
          "11111010100",
          "01111000100",
          "01110100000",
          "01111011100",
          "11111011000",
          "01111101000",
          "01110101110",
          "11101110100",
          "11011010111",
          "10111011100",
          "01110000010",
          "11110001100",
          "10111010010",
          "01010000000",
          "11111000111",
          "11010101100",
          "00111000100",
          "10011001000",
          "10001000000",
          "00110001100",
          "10110001101",
          "11011011100",
          "11111101111",
          "01111000110",
          "11101000110",
          "11011110000",
          "01011110010",
          "11110010010",
          "01011110101",
          "11111111100",
          "01111100100",
          "11111010010",
          "10110100110",
          "01110001110",
          "11101101110",
          "11111011111",
          "11011001011",
          "11111001000",
          "01110100110",
          "00111001111",
          "00011001010",
          "01111001000",
          "11010001100",
          "10110101100",
          "10110100000",
          "10010001011",
          "11111000000",
          "10110101110",
          "10111100010",
          "01111001010",
          "00110101110",
          "11011111110",
          "11011100110",
          "01111001001",
          "10111001100",
          "11101101100",
          "11110101110",
          "11110100010",
          "00111100110",
          "00111001110",
          "10111100100",
          "10111000000",
          "10011101110",
          "11110101010",
          "11101101010",
          "11011101110",
          "11110101100",
          "10111101000",
          "00111101010",
          "10110001110",
          "00111101110",
          "01111101100",
          "01111100010",
          "01111101010",
          "11011001110",
          "11110001110",
          "11110001010",
          "01111001110",
          "11111000010",
          "10111001010",
          "10111000110",
          "10111100110",
          "10111101100",
          "01111101110",
          "01111100110",
          "10111101010",
          "11111101000",
          "11111101100",
          "11111001100",
          "10111001110",
          "10111101110",
          "11111100100",
          "11111001010",
          "11111100110",
          "11111101010",
          "11111100010",
          "11111000110",
          "11111101110",
          "11111001110"
         ],
         "y": [
          1,
          1,
          1,
          1,
          1,
          1,
          1,
          1,
          1,
          1,
          1,
          1,
          1,
          1,
          1,
          1,
          1,
          1,
          1,
          1,
          1,
          1,
          1,
          1,
          1,
          1,
          1,
          1,
          1,
          1,
          1,
          1,
          1,
          1,
          1,
          1,
          1,
          1,
          1,
          1,
          1,
          1,
          1,
          1,
          1,
          1,
          1,
          1,
          1,
          1,
          1,
          1,
          1,
          2,
          2,
          2,
          2,
          2,
          2,
          2,
          2,
          2,
          2,
          2,
          2,
          2,
          2,
          2,
          2,
          2,
          3,
          3,
          3,
          3,
          3,
          3,
          4,
          4,
          5,
          5,
          5,
          5,
          6,
          6,
          6,
          6,
          6,
          7,
          7,
          8,
          10,
          11,
          12,
          12,
          13,
          15,
          16,
          27,
          27,
          27,
          28,
          33,
          43,
          53
         ]
        }
       ],
       "layout": {
        "template": {
         "data": {
          "bar": [
           {
            "error_x": {
             "color": "#2a3f5f"
            },
            "error_y": {
             "color": "#2a3f5f"
            },
            "marker": {
             "line": {
              "color": "#E5ECF6",
              "width": 0.5
             },
             "pattern": {
              "fillmode": "overlay",
              "size": 10,
              "solidity": 0.2
             }
            },
            "type": "bar"
           }
          ],
          "barpolar": [
           {
            "marker": {
             "line": {
              "color": "#E5ECF6",
              "width": 0.5
             },
             "pattern": {
              "fillmode": "overlay",
              "size": 10,
              "solidity": 0.2
             }
            },
            "type": "barpolar"
           }
          ],
          "carpet": [
           {
            "aaxis": {
             "endlinecolor": "#2a3f5f",
             "gridcolor": "white",
             "linecolor": "white",
             "minorgridcolor": "white",
             "startlinecolor": "#2a3f5f"
            },
            "baxis": {
             "endlinecolor": "#2a3f5f",
             "gridcolor": "white",
             "linecolor": "white",
             "minorgridcolor": "white",
             "startlinecolor": "#2a3f5f"
            },
            "type": "carpet"
           }
          ],
          "choropleth": [
           {
            "colorbar": {
             "outlinewidth": 0,
             "ticks": ""
            },
            "type": "choropleth"
           }
          ],
          "contour": [
           {
            "colorbar": {
             "outlinewidth": 0,
             "ticks": ""
            },
            "colorscale": [
             [
              0,
              "#0d0887"
             ],
             [
              0.1111111111111111,
              "#46039f"
             ],
             [
              0.2222222222222222,
              "#7201a8"
             ],
             [
              0.3333333333333333,
              "#9c179e"
             ],
             [
              0.4444444444444444,
              "#bd3786"
             ],
             [
              0.5555555555555556,
              "#d8576b"
             ],
             [
              0.6666666666666666,
              "#ed7953"
             ],
             [
              0.7777777777777778,
              "#fb9f3a"
             ],
             [
              0.8888888888888888,
              "#fdca26"
             ],
             [
              1,
              "#f0f921"
             ]
            ],
            "type": "contour"
           }
          ],
          "contourcarpet": [
           {
            "colorbar": {
             "outlinewidth": 0,
             "ticks": ""
            },
            "type": "contourcarpet"
           }
          ],
          "heatmap": [
           {
            "colorbar": {
             "outlinewidth": 0,
             "ticks": ""
            },
            "colorscale": [
             [
              0,
              "#0d0887"
             ],
             [
              0.1111111111111111,
              "#46039f"
             ],
             [
              0.2222222222222222,
              "#7201a8"
             ],
             [
              0.3333333333333333,
              "#9c179e"
             ],
             [
              0.4444444444444444,
              "#bd3786"
             ],
             [
              0.5555555555555556,
              "#d8576b"
             ],
             [
              0.6666666666666666,
              "#ed7953"
             ],
             [
              0.7777777777777778,
              "#fb9f3a"
             ],
             [
              0.8888888888888888,
              "#fdca26"
             ],
             [
              1,
              "#f0f921"
             ]
            ],
            "type": "heatmap"
           }
          ],
          "heatmapgl": [
           {
            "colorbar": {
             "outlinewidth": 0,
             "ticks": ""
            },
            "colorscale": [
             [
              0,
              "#0d0887"
             ],
             [
              0.1111111111111111,
              "#46039f"
             ],
             [
              0.2222222222222222,
              "#7201a8"
             ],
             [
              0.3333333333333333,
              "#9c179e"
             ],
             [
              0.4444444444444444,
              "#bd3786"
             ],
             [
              0.5555555555555556,
              "#d8576b"
             ],
             [
              0.6666666666666666,
              "#ed7953"
             ],
             [
              0.7777777777777778,
              "#fb9f3a"
             ],
             [
              0.8888888888888888,
              "#fdca26"
             ],
             [
              1,
              "#f0f921"
             ]
            ],
            "type": "heatmapgl"
           }
          ],
          "histogram": [
           {
            "marker": {
             "pattern": {
              "fillmode": "overlay",
              "size": 10,
              "solidity": 0.2
             }
            },
            "type": "histogram"
           }
          ],
          "histogram2d": [
           {
            "colorbar": {
             "outlinewidth": 0,
             "ticks": ""
            },
            "colorscale": [
             [
              0,
              "#0d0887"
             ],
             [
              0.1111111111111111,
              "#46039f"
             ],
             [
              0.2222222222222222,
              "#7201a8"
             ],
             [
              0.3333333333333333,
              "#9c179e"
             ],
             [
              0.4444444444444444,
              "#bd3786"
             ],
             [
              0.5555555555555556,
              "#d8576b"
             ],
             [
              0.6666666666666666,
              "#ed7953"
             ],
             [
              0.7777777777777778,
              "#fb9f3a"
             ],
             [
              0.8888888888888888,
              "#fdca26"
             ],
             [
              1,
              "#f0f921"
             ]
            ],
            "type": "histogram2d"
           }
          ],
          "histogram2dcontour": [
           {
            "colorbar": {
             "outlinewidth": 0,
             "ticks": ""
            },
            "colorscale": [
             [
              0,
              "#0d0887"
             ],
             [
              0.1111111111111111,
              "#46039f"
             ],
             [
              0.2222222222222222,
              "#7201a8"
             ],
             [
              0.3333333333333333,
              "#9c179e"
             ],
             [
              0.4444444444444444,
              "#bd3786"
             ],
             [
              0.5555555555555556,
              "#d8576b"
             ],
             [
              0.6666666666666666,
              "#ed7953"
             ],
             [
              0.7777777777777778,
              "#fb9f3a"
             ],
             [
              0.8888888888888888,
              "#fdca26"
             ],
             [
              1,
              "#f0f921"
             ]
            ],
            "type": "histogram2dcontour"
           }
          ],
          "mesh3d": [
           {
            "colorbar": {
             "outlinewidth": 0,
             "ticks": ""
            },
            "type": "mesh3d"
           }
          ],
          "parcoords": [
           {
            "line": {
             "colorbar": {
              "outlinewidth": 0,
              "ticks": ""
             }
            },
            "type": "parcoords"
           }
          ],
          "pie": [
           {
            "automargin": true,
            "type": "pie"
           }
          ],
          "scatter": [
           {
            "marker": {
             "colorbar": {
              "outlinewidth": 0,
              "ticks": ""
             }
            },
            "type": "scatter"
           }
          ],
          "scatter3d": [
           {
            "line": {
             "colorbar": {
              "outlinewidth": 0,
              "ticks": ""
             }
            },
            "marker": {
             "colorbar": {
              "outlinewidth": 0,
              "ticks": ""
             }
            },
            "type": "scatter3d"
           }
          ],
          "scattercarpet": [
           {
            "marker": {
             "colorbar": {
              "outlinewidth": 0,
              "ticks": ""
             }
            },
            "type": "scattercarpet"
           }
          ],
          "scattergeo": [
           {
            "marker": {
             "colorbar": {
              "outlinewidth": 0,
              "ticks": ""
             }
            },
            "type": "scattergeo"
           }
          ],
          "scattergl": [
           {
            "marker": {
             "colorbar": {
              "outlinewidth": 0,
              "ticks": ""
             }
            },
            "type": "scattergl"
           }
          ],
          "scattermapbox": [
           {
            "marker": {
             "colorbar": {
              "outlinewidth": 0,
              "ticks": ""
             }
            },
            "type": "scattermapbox"
           }
          ],
          "scatterpolar": [
           {
            "marker": {
             "colorbar": {
              "outlinewidth": 0,
              "ticks": ""
             }
            },
            "type": "scatterpolar"
           }
          ],
          "scatterpolargl": [
           {
            "marker": {
             "colorbar": {
              "outlinewidth": 0,
              "ticks": ""
             }
            },
            "type": "scatterpolargl"
           }
          ],
          "scatterternary": [
           {
            "marker": {
             "colorbar": {
              "outlinewidth": 0,
              "ticks": ""
             }
            },
            "type": "scatterternary"
           }
          ],
          "surface": [
           {
            "colorbar": {
             "outlinewidth": 0,
             "ticks": ""
            },
            "colorscale": [
             [
              0,
              "#0d0887"
             ],
             [
              0.1111111111111111,
              "#46039f"
             ],
             [
              0.2222222222222222,
              "#7201a8"
             ],
             [
              0.3333333333333333,
              "#9c179e"
             ],
             [
              0.4444444444444444,
              "#bd3786"
             ],
             [
              0.5555555555555556,
              "#d8576b"
             ],
             [
              0.6666666666666666,
              "#ed7953"
             ],
             [
              0.7777777777777778,
              "#fb9f3a"
             ],
             [
              0.8888888888888888,
              "#fdca26"
             ],
             [
              1,
              "#f0f921"
             ]
            ],
            "type": "surface"
           }
          ],
          "table": [
           {
            "cells": {
             "fill": {
              "color": "#EBF0F8"
             },
             "line": {
              "color": "white"
             }
            },
            "header": {
             "fill": {
              "color": "#C8D4E3"
             },
             "line": {
              "color": "white"
             }
            },
            "type": "table"
           }
          ]
         },
         "layout": {
          "annotationdefaults": {
           "arrowcolor": "#2a3f5f",
           "arrowhead": 0,
           "arrowwidth": 1
          },
          "autotypenumbers": "strict",
          "coloraxis": {
           "colorbar": {
            "outlinewidth": 0,
            "ticks": ""
           }
          },
          "colorscale": {
           "diverging": [
            [
             0,
             "#8e0152"
            ],
            [
             0.1,
             "#c51b7d"
            ],
            [
             0.2,
             "#de77ae"
            ],
            [
             0.3,
             "#f1b6da"
            ],
            [
             0.4,
             "#fde0ef"
            ],
            [
             0.5,
             "#f7f7f7"
            ],
            [
             0.6,
             "#e6f5d0"
            ],
            [
             0.7,
             "#b8e186"
            ],
            [
             0.8,
             "#7fbc41"
            ],
            [
             0.9,
             "#4d9221"
            ],
            [
             1,
             "#276419"
            ]
           ],
           "sequential": [
            [
             0,
             "#0d0887"
            ],
            [
             0.1111111111111111,
             "#46039f"
            ],
            [
             0.2222222222222222,
             "#7201a8"
            ],
            [
             0.3333333333333333,
             "#9c179e"
            ],
            [
             0.4444444444444444,
             "#bd3786"
            ],
            [
             0.5555555555555556,
             "#d8576b"
            ],
            [
             0.6666666666666666,
             "#ed7953"
            ],
            [
             0.7777777777777778,
             "#fb9f3a"
            ],
            [
             0.8888888888888888,
             "#fdca26"
            ],
            [
             1,
             "#f0f921"
            ]
           ],
           "sequentialminus": [
            [
             0,
             "#0d0887"
            ],
            [
             0.1111111111111111,
             "#46039f"
            ],
            [
             0.2222222222222222,
             "#7201a8"
            ],
            [
             0.3333333333333333,
             "#9c179e"
            ],
            [
             0.4444444444444444,
             "#bd3786"
            ],
            [
             0.5555555555555556,
             "#d8576b"
            ],
            [
             0.6666666666666666,
             "#ed7953"
            ],
            [
             0.7777777777777778,
             "#fb9f3a"
            ],
            [
             0.8888888888888888,
             "#fdca26"
            ],
            [
             1,
             "#f0f921"
            ]
           ]
          },
          "colorway": [
           "#636efa",
           "#EF553B",
           "#00cc96",
           "#ab63fa",
           "#FFA15A",
           "#19d3f3",
           "#FF6692",
           "#B6E880",
           "#FF97FF",
           "#FECB52"
          ],
          "font": {
           "color": "#2a3f5f"
          },
          "geo": {
           "bgcolor": "white",
           "lakecolor": "white",
           "landcolor": "#E5ECF6",
           "showlakes": true,
           "showland": true,
           "subunitcolor": "white"
          },
          "hoverlabel": {
           "align": "left"
          },
          "hovermode": "closest",
          "mapbox": {
           "style": "light"
          },
          "paper_bgcolor": "white",
          "plot_bgcolor": "#E5ECF6",
          "polar": {
           "angularaxis": {
            "gridcolor": "white",
            "linecolor": "white",
            "ticks": ""
           },
           "bgcolor": "#E5ECF6",
           "radialaxis": {
            "gridcolor": "white",
            "linecolor": "white",
            "ticks": ""
           }
          },
          "scene": {
           "xaxis": {
            "backgroundcolor": "#E5ECF6",
            "gridcolor": "white",
            "gridwidth": 2,
            "linecolor": "white",
            "showbackground": true,
            "ticks": "",
            "zerolinecolor": "white"
           },
           "yaxis": {
            "backgroundcolor": "#E5ECF6",
            "gridcolor": "white",
            "gridwidth": 2,
            "linecolor": "white",
            "showbackground": true,
            "ticks": "",
            "zerolinecolor": "white"
           },
           "zaxis": {
            "backgroundcolor": "#E5ECF6",
            "gridcolor": "white",
            "gridwidth": 2,
            "linecolor": "white",
            "showbackground": true,
            "ticks": "",
            "zerolinecolor": "white"
           }
          },
          "shapedefaults": {
           "line": {
            "color": "#2a3f5f"
           }
          },
          "ternary": {
           "aaxis": {
            "gridcolor": "white",
            "linecolor": "white",
            "ticks": ""
           },
           "baxis": {
            "gridcolor": "white",
            "linecolor": "white",
            "ticks": ""
           },
           "bgcolor": "#E5ECF6",
           "caxis": {
            "gridcolor": "white",
            "linecolor": "white",
            "ticks": ""
           }
          },
          "title": {
           "x": 0.05
          },
          "xaxis": {
           "automargin": true,
           "gridcolor": "white",
           "linecolor": "white",
           "ticks": "",
           "title": {
            "standoff": 15
           },
           "zerolinecolor": "white",
           "zerolinewidth": 2
          },
          "yaxis": {
           "automargin": true,
           "gridcolor": "white",
           "linecolor": "white",
           "ticks": "",
           "title": {
            "standoff": 15
           },
           "zerolinecolor": "white",
           "zerolinewidth": 2
          }
         }
        },
        "xaxis": {
         "type": "category"
        }
       }
      }
     },
     "metadata": {},
     "output_type": "display_data"
    },
    {
     "data": {
      "application/vnd.plotly.v1+json": {
       "config": {
        "plotlyServerURL": "https://plot.ly"
       },
       "data": [
        {
         "marker": {
          "cmax": 1,
          "cmin": 0,
          "color": [
           0.8888888888888888,
           0,
           0,
           0,
           0,
           0,
           0,
           0,
           0,
           0.9523809523809523,
           0,
           0.8412698412698413,
           0.8888888888888888,
           0,
           0.9365079365079365,
           0,
           0.7936507936507936,
           0,
           0,
           0,
           0,
           0,
           0.9523809523809523,
           0,
           0.9365079365079365,
           0.9365079365079365,
           0,
           0,
           0,
           0,
           0.9523809523809523,
           0,
           0,
           0.8412698412698413,
           0.9047619047619048,
           0.9365079365079365,
           0,
           0,
           0.9365079365079365,
           0,
           0,
           0.9682539682539683,
           0.9523809523809523,
           0,
           0,
           0,
           0,
           0.9365079365079365,
           0,
           0,
           0.9047619047619048,
           0,
           0,
           0,
           0.9365079365079365,
           0,
           0.9523809523809523,
           0.9365079365079365,
           0,
           0.9682539682539683,
           0,
           0,
           0,
           0,
           0,
           0,
           0,
           0,
           0.9206349206349206,
           0,
           0,
           0,
           0,
           0,
           0,
           0.9841269841269841,
           0.9682539682539683,
           0,
           0,
           0,
           0,
           0,
           0,
           0,
           0.9206349206349206,
           0,
           0.9047619047619048,
           0,
           0,
           0.9047619047619048,
           0.9682539682539683,
           0.9523809523809523,
           0.9365079365079365,
           0,
           0.9047619047619048,
           0.8888888888888888,
           0.9523809523809523,
           0.9365079365079365,
           0.9365079365079365,
           0.9206349206349206,
           0.9682539682539683,
           0,
           0,
           0,
           0.873015873015873,
           0,
           0,
           0,
           0,
           0,
           0,
           0.9682539682539683,
           0,
           0,
           0,
           0.9682539682539683,
           0,
           0,
           0,
           0,
           0,
           0,
           0,
           0,
           0,
           0.9206349206349206,
           0.9365079365079365,
           0.9206349206349206,
           0,
           0.7777777777777778,
           0,
           0,
           0.9365079365079365,
           0,
           0,
           0,
           0.873015873015873,
           0,
           0,
           0,
           0.9365079365079365,
           0.9682539682539683,
           0,
           0.9523809523809523,
           0.9523809523809523,
           0,
           0,
           0,
           0,
           0.9523809523809523,
           0,
           0,
           0,
           0.9206349206349206,
           0,
           0,
           0,
           0,
           0,
           0,
           0,
           0,
           0,
           0.9206349206349206,
           0,
           0.9365079365079365,
           0,
           0.9365079365079365,
           0,
           0,
           0,
           0.9682539682539683,
           0,
           0,
           0,
           0,
           0.9523809523809523,
           0,
           0,
           0,
           0.9523809523809523,
           0,
           0,
           0.9365079365079365,
           0,
           0,
           0,
           0.9365079365079365,
           0.9523809523809523,
           0.9523809523809523,
           0.9365079365079365,
           0,
           0.8095238095238095,
           0,
           0,
           0,
           0.8571428571428571,
           0.9523809523809523,
           0,
           0,
           0.9365079365079365,
           0.9047619047619048,
           0,
           0.9206349206349206,
           0,
           0.9365079365079365,
           0,
           0,
           0,
           0,
           0.8888888888888888,
           0,
           0.9523809523809523,
           0,
           0.9523809523809523,
           0.9206349206349206,
           0,
           0.9523809523809523,
           0,
           0,
           0,
           0,
           0,
           0.9206349206349206,
           0,
           0.9365079365079365,
           0,
           0.9523809523809523,
           0,
           0.9682539682539683,
           0,
           0,
           0,
           0,
           0.9365079365079365,
           0,
           0.9365079365079365,
           0,
           0,
           0.9523809523809523,
           0,
           0,
           0,
           0,
           0,
           0.8253968253968254,
           0,
           0.9523809523809523,
           0,
           0,
           0,
           0.8888888888888888,
           0.9682539682539683,
           0,
           0,
           0,
           0.9682539682539683,
           0,
           0.9523809523809523,
           0.9841269841269841,
           0,
           0.9682539682539683,
           0,
           0,
           0,
           0,
           0,
           0,
           0,
           0.9523809523809523,
           0,
           0.9523809523809523,
           0,
           0,
           0.9206349206349206,
           0,
           0.9682539682539683,
           0,
           0,
           0,
           0,
           0,
           0.9523809523809523,
           0,
           0,
           0,
           0,
           0.9841269841269841,
           0,
           0,
           0.9365079365079365,
           0,
           0.9841269841269841,
           0,
           0,
           0,
           0,
           0,
           0,
           0,
           0,
           0,
           0.9523809523809523,
           0.9365079365079365,
           0,
           0,
           0,
           0.9682539682539683,
           0.9682539682539683,
           0,
           0,
           0.9682539682539683,
           0,
           0,
           0,
           0.9365079365079365,
           0,
           0,
           0,
           0,
           0.9206349206349206,
           0,
           0,
           0.9682539682539683,
           0,
           0,
           0,
           0.9682539682539683,
           0.9841269841269841,
           0,
           0,
           0.9365079365079365,
           0,
           0,
           0,
           0,
           0,
           0.9841269841269841,
           0,
           0,
           0,
           0,
           0,
           1,
           0.9841269841269841
          ],
          "colorbar": {
           "title": {
            "text": "revenue"
           }
          },
          "colorscale": [
           [
            0,
            "#440154"
           ],
           [
            0.1111111111111111,
            "#482878"
           ],
           [
            0.2222222222222222,
            "#3e4989"
           ],
           [
            0.3333333333333333,
            "#31688e"
           ],
           [
            0.4444444444444444,
            "#26828e"
           ],
           [
            0.5555555555555556,
            "#1f9e89"
           ],
           [
            0.6666666666666666,
            "#35b779"
           ],
           [
            0.7777777777777778,
            "#6ece58"
           ],
           [
            0.8888888888888888,
            "#b5de2b"
           ],
           [
            1,
            "#fde725"
           ]
          ]
         },
         "type": "bar",
         "x": [
          "00111000100",
          "11011100001",
          "01100111101",
          "01101100111",
          "11110100101",
          "11010110101",
          "01010101101",
          "00111001101",
          "11010101010",
          "00111001010",
          "01010111001",
          "00001011110",
          "11001010101",
          "10111111000",
          "00111010110",
          "01000101111",
          "00011000000",
          "01110110010",
          "01100001111",
          "01011101111",
          "01111101011",
          "11111000001",
          "01010001001",
          "11011000101",
          "11101011000",
          "01001101110",
          "01010111010",
          "01111100101",
          "11010111101",
          "01010101001",
          "00111001100",
          "01011110101",
          "00011101101",
          "01101010000",
          "10011100100",
          "00011001101",
          "11101101101",
          "11110000001",
          "01010110100",
          "10011110001",
          "11110100001",
          "01010111000",
          "01011110100",
          "01111111101",
          "10100111110",
          "11010111100",
          "11010101011",
          "11100010101",
          "10100101111",
          "11010011101",
          "01100001100",
          "11101001101",
          "00011111011",
          "01100100111",
          "00011101010",
          "11111100000",
          "10111001000",
          "01100111000",
          "10111101100",
          "11010001100",
          "00110111100",
          "00110110110",
          "11011100100",
          "01011110001",
          "00111111010",
          "00111001110",
          "01110011100",
          "10110101011",
          "01010011000",
          "01111010010",
          "01010011011",
          "01111000111",
          "11111000101",
          "11111100111",
          "11111111100",
          "01010001101",
          "01011101000",
          "11111011101",
          "11101111111",
          "01111100011",
          "01110100111",
          "11100101100",
          "01110101110",
          "01110111101",
          "10011001100",
          "01110101011",
          "01110000000",
          "01011101100",
          "10111110000",
          "01000111100",
          "00110001110",
          "01110000001",
          "01101101000",
          "01110001111",
          "00111100000",
          "01100010110",
          "01010011100",
          "00101101110",
          "01001111001",
          "01010100100",
          "01100011101",
          "00110001111",
          "11010001001",
          "11111101111",
          "01001000111",
          "10110101000",
          "00011110011",
          "01100111110",
          "11101111110",
          "11101011001",
          "01111101110",
          "01101101100",
          "11111111101",
          "10110011100",
          "11010100001",
          "00110011001",
          "10011011001",
          "11100011011",
          "00111111001",
          "10101111010",
          "01001110111",
          "10011001101",
          "10010001111",
          "10100101110",
          "00110010111",
          "00011100101",
          "00010111100",
          "01100101000",
          "01011101101",
          "00000001100",
          "00110011110",
          "11111011010",
          "00110110100",
          "00011111110",
          "01111101001",
          "10011100101",
          "11100000100",
          "10010101101",
          "10101011111",
          "11110010101",
          "01100100011",
          "00110100101",
          "11001111010",
          "01100101010",
          "00011101001",
          "10111011001",
          "11001011101",
          "10110001101",
          "00110011011",
          "01111000100",
          "11110110101",
          "10011101110",
          "11110110111",
          "00110100010",
          "01111011100",
          "01101100011",
          "01101111010",
          "01100111010",
          "11011101001",
          "11100101101",
          "00110011101",
          "11110011100",
          "10100011111",
          "11000001101",
          "11110101100",
          "00100101011",
          "01111111110",
          "01100011001",
          "00111101101",
          "01111011101",
          "01110010111",
          "01010100101",
          "10110101001",
          "01110111001",
          "11111011000",
          "01010001111",
          "01010011010",
          "11110100110",
          "10111010101",
          "11110010100",
          "00010111001",
          "11101111011",
          "11101101111",
          "00010101001",
          "11111111111",
          "11111100110",
          "01111010101",
          "00110100001",
          "00110000111",
          "01110010100",
          "11101100100",
          "01010111101",
          "00100010001",
          "11100101111",
          "01110110110",
          "11111000111",
          "01101000010",
          "11101001100",
          "00111101111",
          "01110111010",
          "01011010110",
          "00110110000",
          "01011011111",
          "01001101001",
          "01110100110",
          "00111011000",
          "01110010011",
          "01110111011",
          "10110101110",
          "01010001011",
          "00011110010",
          "11100101110",
          "01011100001",
          "11110000110",
          "01100001011",
          "01001111100",
          "01011001111",
          "01100011110",
          "11100101001",
          "11011110100",
          "01111001110",
          "10110001110",
          "10001111101",
          "01110010000",
          "10110101010",
          "01010100001",
          "10100111011",
          "11010011000",
          "11110100000",
          "01111000001",
          "01010110101",
          "01101110101",
          "01111110010",
          "10010111100",
          "10110010001",
          "10100111101",
          "11110000000",
          "00010111110",
          "00011111101",
          "11110010000",
          "01111000101",
          "01111110101",
          "00110101010",
          "10010010111",
          "11110101101",
          "00011000100",
          "11110100100",
          "01110100000",
          "00110100111",
          "10010111111",
          "00110101110",
          "00100101010",
          "11110000100",
          "11010001110",
          "11000101101",
          "01111010111",
          "00111001001",
          "11011001100",
          "11100011100",
          "01110100100",
          "00001111111",
          "00111101000",
          "00111100111",
          "01110110001",
          "10111001100",
          "00010101111",
          "01110001010",
          "11110001101",
          "11110100111",
          "10110000101",
          "11110001000",
          "01001101101",
          "11010011001",
          "11111001101",
          "00110100100",
          "01010101110",
          "01101001101",
          "11010101000",
          "11100111100",
          "01101011101",
          "01010101011",
          "01110010101",
          "01010101000",
          "11110110100",
          "01111111100",
          "01111100001",
          "01110110100",
          "01010101100",
          "01101111111",
          "11111101001",
          "01010001010",
          "01110001110",
          "00110101100",
          "11110001100",
          "01110011001",
          "01111110000",
          "01010111100",
          "01110011110",
          "11010101100",
          "11011011110",
          "11111001100",
          "00111101011",
          "00111100001",
          "10011011100",
          "11110011000",
          "01110100001",
          "00110101101",
          "10110001100",
          "01110001000",
          "00110101001",
          "01110101001",
          "01010001110",
          "00111101100",
          "10111001101",
          "01010011101",
          "00110001100",
          "01111011001",
          "01111101000",
          "01110001001",
          "01011101001",
          "00110011000",
          "11110101000",
          "01111100100",
          "01010011001",
          "01100101101",
          "01111001001",
          "01110111000",
          "01110110000",
          "00110001101",
          "01110100101",
          "01111110100",
          "01110000010",
          "01110101100",
          "11011101100",
          "01110101101",
          "01111101100",
          "01111011000",
          "01110000101",
          "01110101000",
          "01110011101",
          "01111001100",
          "01111001101",
          "01110001101",
          "01110001100",
          "01110011000"
         ],
         "y": [
          1,
          1,
          1,
          1,
          1,
          1,
          1,
          1,
          1,
          1,
          1,
          1,
          1,
          1,
          1,
          1,
          1,
          1,
          1,
          1,
          1,
          1,
          1,
          1,
          1,
          1,
          1,
          1,
          1,
          1,
          1,
          1,
          1,
          1,
          1,
          1,
          1,
          1,
          1,
          1,
          1,
          1,
          1,
          1,
          1,
          1,
          1,
          1,
          1,
          1,
          1,
          1,
          1,
          1,
          1,
          1,
          1,
          1,
          1,
          1,
          1,
          1,
          1,
          1,
          1,
          1,
          1,
          1,
          1,
          1,
          1,
          1,
          1,
          1,
          1,
          1,
          1,
          1,
          1,
          1,
          1,
          1,
          1,
          1,
          1,
          1,
          1,
          1,
          1,
          1,
          1,
          1,
          1,
          1,
          1,
          1,
          1,
          1,
          1,
          1,
          1,
          1,
          1,
          1,
          1,
          1,
          1,
          1,
          1,
          1,
          1,
          1,
          1,
          1,
          1,
          1,
          1,
          1,
          1,
          1,
          1,
          1,
          1,
          1,
          1,
          1,
          1,
          1,
          1,
          1,
          1,
          1,
          1,
          1,
          1,
          1,
          1,
          1,
          1,
          1,
          1,
          1,
          1,
          1,
          1,
          1,
          1,
          1,
          1,
          1,
          1,
          1,
          1,
          1,
          1,
          1,
          1,
          1,
          1,
          1,
          1,
          1,
          1,
          1,
          1,
          1,
          1,
          1,
          1,
          1,
          1,
          1,
          1,
          1,
          1,
          1,
          1,
          1,
          1,
          1,
          1,
          1,
          1,
          1,
          1,
          1,
          1,
          1,
          1,
          1,
          1,
          1,
          1,
          1,
          1,
          1,
          1,
          1,
          1,
          1,
          1,
          1,
          1,
          1,
          1,
          1,
          1,
          1,
          1,
          1,
          1,
          1,
          1,
          1,
          1,
          1,
          1,
          1,
          1,
          1,
          1,
          1,
          1,
          1,
          1,
          1,
          1,
          1,
          1,
          1,
          1,
          1,
          1,
          1,
          1,
          1,
          1,
          1,
          1,
          1,
          1,
          1,
          1,
          1,
          1,
          1,
          1,
          1,
          1,
          1,
          1,
          1,
          1,
          1,
          1,
          1,
          2,
          2,
          2,
          2,
          2,
          2,
          2,
          2,
          2,
          2,
          2,
          2,
          2,
          2,
          2,
          2,
          2,
          2,
          2,
          2,
          2,
          2,
          2,
          2,
          2,
          2,
          2,
          2,
          2,
          2,
          2,
          2,
          2,
          2,
          2,
          2,
          2,
          2,
          2,
          2,
          2,
          2,
          2,
          2,
          2,
          2,
          2,
          2,
          2,
          2,
          3,
          3,
          3,
          3,
          3,
          3,
          3,
          3,
          3,
          3,
          3,
          3,
          3,
          3,
          3,
          3,
          3,
          3,
          3,
          4,
          4,
          4,
          4,
          4,
          4,
          4,
          4,
          4,
          4,
          4,
          5,
          5,
          5,
          5,
          5,
          6,
          7,
          8,
          9
         ]
        }
       ],
       "layout": {
        "template": {
         "data": {
          "bar": [
           {
            "error_x": {
             "color": "#2a3f5f"
            },
            "error_y": {
             "color": "#2a3f5f"
            },
            "marker": {
             "line": {
              "color": "#E5ECF6",
              "width": 0.5
             },
             "pattern": {
              "fillmode": "overlay",
              "size": 10,
              "solidity": 0.2
             }
            },
            "type": "bar"
           }
          ],
          "barpolar": [
           {
            "marker": {
             "line": {
              "color": "#E5ECF6",
              "width": 0.5
             },
             "pattern": {
              "fillmode": "overlay",
              "size": 10,
              "solidity": 0.2
             }
            },
            "type": "barpolar"
           }
          ],
          "carpet": [
           {
            "aaxis": {
             "endlinecolor": "#2a3f5f",
             "gridcolor": "white",
             "linecolor": "white",
             "minorgridcolor": "white",
             "startlinecolor": "#2a3f5f"
            },
            "baxis": {
             "endlinecolor": "#2a3f5f",
             "gridcolor": "white",
             "linecolor": "white",
             "minorgridcolor": "white",
             "startlinecolor": "#2a3f5f"
            },
            "type": "carpet"
           }
          ],
          "choropleth": [
           {
            "colorbar": {
             "outlinewidth": 0,
             "ticks": ""
            },
            "type": "choropleth"
           }
          ],
          "contour": [
           {
            "colorbar": {
             "outlinewidth": 0,
             "ticks": ""
            },
            "colorscale": [
             [
              0,
              "#0d0887"
             ],
             [
              0.1111111111111111,
              "#46039f"
             ],
             [
              0.2222222222222222,
              "#7201a8"
             ],
             [
              0.3333333333333333,
              "#9c179e"
             ],
             [
              0.4444444444444444,
              "#bd3786"
             ],
             [
              0.5555555555555556,
              "#d8576b"
             ],
             [
              0.6666666666666666,
              "#ed7953"
             ],
             [
              0.7777777777777778,
              "#fb9f3a"
             ],
             [
              0.8888888888888888,
              "#fdca26"
             ],
             [
              1,
              "#f0f921"
             ]
            ],
            "type": "contour"
           }
          ],
          "contourcarpet": [
           {
            "colorbar": {
             "outlinewidth": 0,
             "ticks": ""
            },
            "type": "contourcarpet"
           }
          ],
          "heatmap": [
           {
            "colorbar": {
             "outlinewidth": 0,
             "ticks": ""
            },
            "colorscale": [
             [
              0,
              "#0d0887"
             ],
             [
              0.1111111111111111,
              "#46039f"
             ],
             [
              0.2222222222222222,
              "#7201a8"
             ],
             [
              0.3333333333333333,
              "#9c179e"
             ],
             [
              0.4444444444444444,
              "#bd3786"
             ],
             [
              0.5555555555555556,
              "#d8576b"
             ],
             [
              0.6666666666666666,
              "#ed7953"
             ],
             [
              0.7777777777777778,
              "#fb9f3a"
             ],
             [
              0.8888888888888888,
              "#fdca26"
             ],
             [
              1,
              "#f0f921"
             ]
            ],
            "type": "heatmap"
           }
          ],
          "heatmapgl": [
           {
            "colorbar": {
             "outlinewidth": 0,
             "ticks": ""
            },
            "colorscale": [
             [
              0,
              "#0d0887"
             ],
             [
              0.1111111111111111,
              "#46039f"
             ],
             [
              0.2222222222222222,
              "#7201a8"
             ],
             [
              0.3333333333333333,
              "#9c179e"
             ],
             [
              0.4444444444444444,
              "#bd3786"
             ],
             [
              0.5555555555555556,
              "#d8576b"
             ],
             [
              0.6666666666666666,
              "#ed7953"
             ],
             [
              0.7777777777777778,
              "#fb9f3a"
             ],
             [
              0.8888888888888888,
              "#fdca26"
             ],
             [
              1,
              "#f0f921"
             ]
            ],
            "type": "heatmapgl"
           }
          ],
          "histogram": [
           {
            "marker": {
             "pattern": {
              "fillmode": "overlay",
              "size": 10,
              "solidity": 0.2
             }
            },
            "type": "histogram"
           }
          ],
          "histogram2d": [
           {
            "colorbar": {
             "outlinewidth": 0,
             "ticks": ""
            },
            "colorscale": [
             [
              0,
              "#0d0887"
             ],
             [
              0.1111111111111111,
              "#46039f"
             ],
             [
              0.2222222222222222,
              "#7201a8"
             ],
             [
              0.3333333333333333,
              "#9c179e"
             ],
             [
              0.4444444444444444,
              "#bd3786"
             ],
             [
              0.5555555555555556,
              "#d8576b"
             ],
             [
              0.6666666666666666,
              "#ed7953"
             ],
             [
              0.7777777777777778,
              "#fb9f3a"
             ],
             [
              0.8888888888888888,
              "#fdca26"
             ],
             [
              1,
              "#f0f921"
             ]
            ],
            "type": "histogram2d"
           }
          ],
          "histogram2dcontour": [
           {
            "colorbar": {
             "outlinewidth": 0,
             "ticks": ""
            },
            "colorscale": [
             [
              0,
              "#0d0887"
             ],
             [
              0.1111111111111111,
              "#46039f"
             ],
             [
              0.2222222222222222,
              "#7201a8"
             ],
             [
              0.3333333333333333,
              "#9c179e"
             ],
             [
              0.4444444444444444,
              "#bd3786"
             ],
             [
              0.5555555555555556,
              "#d8576b"
             ],
             [
              0.6666666666666666,
              "#ed7953"
             ],
             [
              0.7777777777777778,
              "#fb9f3a"
             ],
             [
              0.8888888888888888,
              "#fdca26"
             ],
             [
              1,
              "#f0f921"
             ]
            ],
            "type": "histogram2dcontour"
           }
          ],
          "mesh3d": [
           {
            "colorbar": {
             "outlinewidth": 0,
             "ticks": ""
            },
            "type": "mesh3d"
           }
          ],
          "parcoords": [
           {
            "line": {
             "colorbar": {
              "outlinewidth": 0,
              "ticks": ""
             }
            },
            "type": "parcoords"
           }
          ],
          "pie": [
           {
            "automargin": true,
            "type": "pie"
           }
          ],
          "scatter": [
           {
            "marker": {
             "colorbar": {
              "outlinewidth": 0,
              "ticks": ""
             }
            },
            "type": "scatter"
           }
          ],
          "scatter3d": [
           {
            "line": {
             "colorbar": {
              "outlinewidth": 0,
              "ticks": ""
             }
            },
            "marker": {
             "colorbar": {
              "outlinewidth": 0,
              "ticks": ""
             }
            },
            "type": "scatter3d"
           }
          ],
          "scattercarpet": [
           {
            "marker": {
             "colorbar": {
              "outlinewidth": 0,
              "ticks": ""
             }
            },
            "type": "scattercarpet"
           }
          ],
          "scattergeo": [
           {
            "marker": {
             "colorbar": {
              "outlinewidth": 0,
              "ticks": ""
             }
            },
            "type": "scattergeo"
           }
          ],
          "scattergl": [
           {
            "marker": {
             "colorbar": {
              "outlinewidth": 0,
              "ticks": ""
             }
            },
            "type": "scattergl"
           }
          ],
          "scattermapbox": [
           {
            "marker": {
             "colorbar": {
              "outlinewidth": 0,
              "ticks": ""
             }
            },
            "type": "scattermapbox"
           }
          ],
          "scatterpolar": [
           {
            "marker": {
             "colorbar": {
              "outlinewidth": 0,
              "ticks": ""
             }
            },
            "type": "scatterpolar"
           }
          ],
          "scatterpolargl": [
           {
            "marker": {
             "colorbar": {
              "outlinewidth": 0,
              "ticks": ""
             }
            },
            "type": "scatterpolargl"
           }
          ],
          "scatterternary": [
           {
            "marker": {
             "colorbar": {
              "outlinewidth": 0,
              "ticks": ""
             }
            },
            "type": "scatterternary"
           }
          ],
          "surface": [
           {
            "colorbar": {
             "outlinewidth": 0,
             "ticks": ""
            },
            "colorscale": [
             [
              0,
              "#0d0887"
             ],
             [
              0.1111111111111111,
              "#46039f"
             ],
             [
              0.2222222222222222,
              "#7201a8"
             ],
             [
              0.3333333333333333,
              "#9c179e"
             ],
             [
              0.4444444444444444,
              "#bd3786"
             ],
             [
              0.5555555555555556,
              "#d8576b"
             ],
             [
              0.6666666666666666,
              "#ed7953"
             ],
             [
              0.7777777777777778,
              "#fb9f3a"
             ],
             [
              0.8888888888888888,
              "#fdca26"
             ],
             [
              1,
              "#f0f921"
             ]
            ],
            "type": "surface"
           }
          ],
          "table": [
           {
            "cells": {
             "fill": {
              "color": "#EBF0F8"
             },
             "line": {
              "color": "white"
             }
            },
            "header": {
             "fill": {
              "color": "#C8D4E3"
             },
             "line": {
              "color": "white"
             }
            },
            "type": "table"
           }
          ]
         },
         "layout": {
          "annotationdefaults": {
           "arrowcolor": "#2a3f5f",
           "arrowhead": 0,
           "arrowwidth": 1
          },
          "autotypenumbers": "strict",
          "coloraxis": {
           "colorbar": {
            "outlinewidth": 0,
            "ticks": ""
           }
          },
          "colorscale": {
           "diverging": [
            [
             0,
             "#8e0152"
            ],
            [
             0.1,
             "#c51b7d"
            ],
            [
             0.2,
             "#de77ae"
            ],
            [
             0.3,
             "#f1b6da"
            ],
            [
             0.4,
             "#fde0ef"
            ],
            [
             0.5,
             "#f7f7f7"
            ],
            [
             0.6,
             "#e6f5d0"
            ],
            [
             0.7,
             "#b8e186"
            ],
            [
             0.8,
             "#7fbc41"
            ],
            [
             0.9,
             "#4d9221"
            ],
            [
             1,
             "#276419"
            ]
           ],
           "sequential": [
            [
             0,
             "#0d0887"
            ],
            [
             0.1111111111111111,
             "#46039f"
            ],
            [
             0.2222222222222222,
             "#7201a8"
            ],
            [
             0.3333333333333333,
             "#9c179e"
            ],
            [
             0.4444444444444444,
             "#bd3786"
            ],
            [
             0.5555555555555556,
             "#d8576b"
            ],
            [
             0.6666666666666666,
             "#ed7953"
            ],
            [
             0.7777777777777778,
             "#fb9f3a"
            ],
            [
             0.8888888888888888,
             "#fdca26"
            ],
            [
             1,
             "#f0f921"
            ]
           ],
           "sequentialminus": [
            [
             0,
             "#0d0887"
            ],
            [
             0.1111111111111111,
             "#46039f"
            ],
            [
             0.2222222222222222,
             "#7201a8"
            ],
            [
             0.3333333333333333,
             "#9c179e"
            ],
            [
             0.4444444444444444,
             "#bd3786"
            ],
            [
             0.5555555555555556,
             "#d8576b"
            ],
            [
             0.6666666666666666,
             "#ed7953"
            ],
            [
             0.7777777777777778,
             "#fb9f3a"
            ],
            [
             0.8888888888888888,
             "#fdca26"
            ],
            [
             1,
             "#f0f921"
            ]
           ]
          },
          "colorway": [
           "#636efa",
           "#EF553B",
           "#00cc96",
           "#ab63fa",
           "#FFA15A",
           "#19d3f3",
           "#FF6692",
           "#B6E880",
           "#FF97FF",
           "#FECB52"
          ],
          "font": {
           "color": "#2a3f5f"
          },
          "geo": {
           "bgcolor": "white",
           "lakecolor": "white",
           "landcolor": "#E5ECF6",
           "showlakes": true,
           "showland": true,
           "subunitcolor": "white"
          },
          "hoverlabel": {
           "align": "left"
          },
          "hovermode": "closest",
          "mapbox": {
           "style": "light"
          },
          "paper_bgcolor": "white",
          "plot_bgcolor": "#E5ECF6",
          "polar": {
           "angularaxis": {
            "gridcolor": "white",
            "linecolor": "white",
            "ticks": ""
           },
           "bgcolor": "#E5ECF6",
           "radialaxis": {
            "gridcolor": "white",
            "linecolor": "white",
            "ticks": ""
           }
          },
          "scene": {
           "xaxis": {
            "backgroundcolor": "#E5ECF6",
            "gridcolor": "white",
            "gridwidth": 2,
            "linecolor": "white",
            "showbackground": true,
            "ticks": "",
            "zerolinecolor": "white"
           },
           "yaxis": {
            "backgroundcolor": "#E5ECF6",
            "gridcolor": "white",
            "gridwidth": 2,
            "linecolor": "white",
            "showbackground": true,
            "ticks": "",
            "zerolinecolor": "white"
           },
           "zaxis": {
            "backgroundcolor": "#E5ECF6",
            "gridcolor": "white",
            "gridwidth": 2,
            "linecolor": "white",
            "showbackground": true,
            "ticks": "",
            "zerolinecolor": "white"
           }
          },
          "shapedefaults": {
           "line": {
            "color": "#2a3f5f"
           }
          },
          "ternary": {
           "aaxis": {
            "gridcolor": "white",
            "linecolor": "white",
            "ticks": ""
           },
           "baxis": {
            "gridcolor": "white",
            "linecolor": "white",
            "ticks": ""
           },
           "bgcolor": "#E5ECF6",
           "caxis": {
            "gridcolor": "white",
            "linecolor": "white",
            "ticks": ""
           }
          },
          "title": {
           "x": 0.05
          },
          "xaxis": {
           "automargin": true,
           "gridcolor": "white",
           "linecolor": "white",
           "ticks": "",
           "title": {
            "standoff": 15
           },
           "zerolinecolor": "white",
           "zerolinewidth": 2
          },
          "yaxis": {
           "automargin": true,
           "gridcolor": "white",
           "linecolor": "white",
           "ticks": "",
           "title": {
            "standoff": 15
           },
           "zerolinecolor": "white",
           "zerolinewidth": 2
          }
         }
        },
        "xaxis": {
         "type": "category"
        }
       }
      }
     },
     "metadata": {},
     "output_type": "display_data"
    },
    {
     "data": {
      "application/vnd.plotly.v1+json": {
       "config": {
        "plotlyServerURL": "https://plot.ly"
       },
       "data": [
        {
         "marker": {
          "cmax": 1,
          "cmin": 0,
          "color": [
           0,
           0.8450704225352113,
           0,
           0.971830985915493,
           0,
           0.8873239436619719,
           0,
           0.9154929577464789,
           0,
           0,
           0,
           0,
           0,
           0,
           0.9436619718309859,
           0,
           0,
           0.9154929577464789,
           0,
           0,
           0,
           0.9577464788732394,
           0,
           0,
           0.8591549295774648,
           0,
           0,
           0,
           0,
           0,
           0,
           0,
           0,
           0.9436619718309859,
           0.9577464788732394,
           0.971830985915493,
           0.9436619718309859,
           0.8450704225352113,
           0.971830985915493,
           0,
           0,
           0,
           0,
           0,
           0.7183098591549296,
           0,
           0.9295774647887324,
           0,
           0,
           0.8028169014084507,
           0,
           0,
           0.971830985915493,
           0.8873239436619719,
           0,
           0.9014084507042254,
           0.8450704225352113,
           0.9014084507042254,
           0,
           0,
           0,
           0,
           0.9859154929577465,
           0,
           0,
           0,
           0.971830985915493,
           0.9577464788732394,
           0,
           0,
           0,
           0,
           0.9859154929577465,
           0,
           0.9577464788732394,
           0.9859154929577465,
           0,
           0,
           0,
           0,
           0.9859154929577465,
           0,
           0,
           0,
           0.971830985915493,
           0,
           0,
           0,
           1,
           0,
           1,
           0,
           1,
           0,
           0,
           0,
           0,
           0,
           0,
           0,
           0,
           0,
           0
          ],
          "colorbar": {
           "title": {
            "text": "revenue"
           }
          },
          "colorscale": [
           [
            0,
            "#440154"
           ],
           [
            0.1111111111111111,
            "#482878"
           ],
           [
            0.2222222222222222,
            "#3e4989"
           ],
           [
            0.3333333333333333,
            "#31688e"
           ],
           [
            0.4444444444444444,
            "#26828e"
           ],
           [
            0.5555555555555556,
            "#1f9e89"
           ],
           [
            0.6666666666666666,
            "#35b779"
           ],
           [
            0.7777777777777778,
            "#6ece58"
           ],
           [
            0.8888888888888888,
            "#b5de2b"
           ],
           [
            1,
            "#fde725"
           ]
          ]
         },
         "type": "bar",
         "x": [
          "01100001111",
          "01101100000",
          "01000101111",
          "11100001100",
          "11111001101",
          "01100000011",
          "00111110011",
          "01101000011",
          "11101011111",
          "11101111100",
          "11101111011",
          "11101010001",
          "10100011001",
          "11100111111",
          "11101000001",
          "10011111011",
          "11100111101",
          "11000101100",
          "10101001101",
          "01101111111",
          "11110000101",
          "11100100001",
          "01100111001",
          "10101101001",
          "01100011000",
          "11111001001",
          "11110100101",
          "11100101110",
          "11101110101",
          "11110001101",
          "01100111101",
          "01111101101",
          "11111100111",
          "11100100100",
          "10100100101",
          "01001101101",
          "11100000011",
          "00101100100",
          "00100101101",
          "11110110000",
          "01100101011",
          "11110101101",
          "01101001111",
          "01101101011",
          "01000100000",
          "11110111010",
          "01101100001",
          "11101101110",
          "11101101011",
          "01100000010",
          "01101001110",
          "01101110101",
          "01100100101",
          "01100100100",
          "11101100110",
          "00100111100",
          "11001000001",
          "11101100000",
          "11101000111",
          "11101101100",
          "11100110101",
          "11101001100",
          "11101100001",
          "11100011101",
          "01101101110",
          "01110100101",
          "11101100100",
          "01101000101",
          "11111101100",
          "01100100111",
          "01101100111",
          "01101010101",
          "11100001001",
          "11101000101",
          "01101001001",
          "01101101100",
          "11100001111",
          "11100101011",
          "11001101101",
          "01110101101",
          "11100000101",
          "11101001001",
          "11101001111",
          "11101101111",
          "01100101001",
          "11100101100",
          "01100101111",
          "11100101111",
          "01100001101",
          "01101101111",
          "01101100101",
          "11100101001",
          "01101101001",
          "11100001101",
          "11101100101",
          "01101001101",
          "11101101001",
          "11100100101",
          "11101001101",
          "01100101101",
          "01101101101",
          "11100101101",
          "11101101101"
         ],
         "y": [
          1,
          1,
          1,
          1,
          1,
          1,
          1,
          1,
          1,
          1,
          1,
          1,
          1,
          1,
          1,
          1,
          1,
          1,
          1,
          1,
          1,
          1,
          1,
          1,
          1,
          1,
          1,
          1,
          1,
          1,
          1,
          1,
          1,
          1,
          1,
          1,
          1,
          1,
          1,
          1,
          1,
          1,
          1,
          1,
          1,
          1,
          1,
          1,
          1,
          1,
          1,
          1,
          1,
          1,
          1,
          1,
          1,
          1,
          2,
          2,
          2,
          2,
          2,
          2,
          2,
          2,
          2,
          2,
          2,
          2,
          2,
          2,
          3,
          3,
          3,
          3,
          3,
          3,
          3,
          3,
          4,
          4,
          4,
          5,
          5,
          6,
          6,
          7,
          7,
          7,
          8,
          8,
          9,
          10,
          12,
          12,
          13,
          19,
          27,
          40,
          58,
          62,
          69
         ]
        }
       ],
       "layout": {
        "template": {
         "data": {
          "bar": [
           {
            "error_x": {
             "color": "#2a3f5f"
            },
            "error_y": {
             "color": "#2a3f5f"
            },
            "marker": {
             "line": {
              "color": "#E5ECF6",
              "width": 0.5
             },
             "pattern": {
              "fillmode": "overlay",
              "size": 10,
              "solidity": 0.2
             }
            },
            "type": "bar"
           }
          ],
          "barpolar": [
           {
            "marker": {
             "line": {
              "color": "#E5ECF6",
              "width": 0.5
             },
             "pattern": {
              "fillmode": "overlay",
              "size": 10,
              "solidity": 0.2
             }
            },
            "type": "barpolar"
           }
          ],
          "carpet": [
           {
            "aaxis": {
             "endlinecolor": "#2a3f5f",
             "gridcolor": "white",
             "linecolor": "white",
             "minorgridcolor": "white",
             "startlinecolor": "#2a3f5f"
            },
            "baxis": {
             "endlinecolor": "#2a3f5f",
             "gridcolor": "white",
             "linecolor": "white",
             "minorgridcolor": "white",
             "startlinecolor": "#2a3f5f"
            },
            "type": "carpet"
           }
          ],
          "choropleth": [
           {
            "colorbar": {
             "outlinewidth": 0,
             "ticks": ""
            },
            "type": "choropleth"
           }
          ],
          "contour": [
           {
            "colorbar": {
             "outlinewidth": 0,
             "ticks": ""
            },
            "colorscale": [
             [
              0,
              "#0d0887"
             ],
             [
              0.1111111111111111,
              "#46039f"
             ],
             [
              0.2222222222222222,
              "#7201a8"
             ],
             [
              0.3333333333333333,
              "#9c179e"
             ],
             [
              0.4444444444444444,
              "#bd3786"
             ],
             [
              0.5555555555555556,
              "#d8576b"
             ],
             [
              0.6666666666666666,
              "#ed7953"
             ],
             [
              0.7777777777777778,
              "#fb9f3a"
             ],
             [
              0.8888888888888888,
              "#fdca26"
             ],
             [
              1,
              "#f0f921"
             ]
            ],
            "type": "contour"
           }
          ],
          "contourcarpet": [
           {
            "colorbar": {
             "outlinewidth": 0,
             "ticks": ""
            },
            "type": "contourcarpet"
           }
          ],
          "heatmap": [
           {
            "colorbar": {
             "outlinewidth": 0,
             "ticks": ""
            },
            "colorscale": [
             [
              0,
              "#0d0887"
             ],
             [
              0.1111111111111111,
              "#46039f"
             ],
             [
              0.2222222222222222,
              "#7201a8"
             ],
             [
              0.3333333333333333,
              "#9c179e"
             ],
             [
              0.4444444444444444,
              "#bd3786"
             ],
             [
              0.5555555555555556,
              "#d8576b"
             ],
             [
              0.6666666666666666,
              "#ed7953"
             ],
             [
              0.7777777777777778,
              "#fb9f3a"
             ],
             [
              0.8888888888888888,
              "#fdca26"
             ],
             [
              1,
              "#f0f921"
             ]
            ],
            "type": "heatmap"
           }
          ],
          "heatmapgl": [
           {
            "colorbar": {
             "outlinewidth": 0,
             "ticks": ""
            },
            "colorscale": [
             [
              0,
              "#0d0887"
             ],
             [
              0.1111111111111111,
              "#46039f"
             ],
             [
              0.2222222222222222,
              "#7201a8"
             ],
             [
              0.3333333333333333,
              "#9c179e"
             ],
             [
              0.4444444444444444,
              "#bd3786"
             ],
             [
              0.5555555555555556,
              "#d8576b"
             ],
             [
              0.6666666666666666,
              "#ed7953"
             ],
             [
              0.7777777777777778,
              "#fb9f3a"
             ],
             [
              0.8888888888888888,
              "#fdca26"
             ],
             [
              1,
              "#f0f921"
             ]
            ],
            "type": "heatmapgl"
           }
          ],
          "histogram": [
           {
            "marker": {
             "pattern": {
              "fillmode": "overlay",
              "size": 10,
              "solidity": 0.2
             }
            },
            "type": "histogram"
           }
          ],
          "histogram2d": [
           {
            "colorbar": {
             "outlinewidth": 0,
             "ticks": ""
            },
            "colorscale": [
             [
              0,
              "#0d0887"
             ],
             [
              0.1111111111111111,
              "#46039f"
             ],
             [
              0.2222222222222222,
              "#7201a8"
             ],
             [
              0.3333333333333333,
              "#9c179e"
             ],
             [
              0.4444444444444444,
              "#bd3786"
             ],
             [
              0.5555555555555556,
              "#d8576b"
             ],
             [
              0.6666666666666666,
              "#ed7953"
             ],
             [
              0.7777777777777778,
              "#fb9f3a"
             ],
             [
              0.8888888888888888,
              "#fdca26"
             ],
             [
              1,
              "#f0f921"
             ]
            ],
            "type": "histogram2d"
           }
          ],
          "histogram2dcontour": [
           {
            "colorbar": {
             "outlinewidth": 0,
             "ticks": ""
            },
            "colorscale": [
             [
              0,
              "#0d0887"
             ],
             [
              0.1111111111111111,
              "#46039f"
             ],
             [
              0.2222222222222222,
              "#7201a8"
             ],
             [
              0.3333333333333333,
              "#9c179e"
             ],
             [
              0.4444444444444444,
              "#bd3786"
             ],
             [
              0.5555555555555556,
              "#d8576b"
             ],
             [
              0.6666666666666666,
              "#ed7953"
             ],
             [
              0.7777777777777778,
              "#fb9f3a"
             ],
             [
              0.8888888888888888,
              "#fdca26"
             ],
             [
              1,
              "#f0f921"
             ]
            ],
            "type": "histogram2dcontour"
           }
          ],
          "mesh3d": [
           {
            "colorbar": {
             "outlinewidth": 0,
             "ticks": ""
            },
            "type": "mesh3d"
           }
          ],
          "parcoords": [
           {
            "line": {
             "colorbar": {
              "outlinewidth": 0,
              "ticks": ""
             }
            },
            "type": "parcoords"
           }
          ],
          "pie": [
           {
            "automargin": true,
            "type": "pie"
           }
          ],
          "scatter": [
           {
            "marker": {
             "colorbar": {
              "outlinewidth": 0,
              "ticks": ""
             }
            },
            "type": "scatter"
           }
          ],
          "scatter3d": [
           {
            "line": {
             "colorbar": {
              "outlinewidth": 0,
              "ticks": ""
             }
            },
            "marker": {
             "colorbar": {
              "outlinewidth": 0,
              "ticks": ""
             }
            },
            "type": "scatter3d"
           }
          ],
          "scattercarpet": [
           {
            "marker": {
             "colorbar": {
              "outlinewidth": 0,
              "ticks": ""
             }
            },
            "type": "scattercarpet"
           }
          ],
          "scattergeo": [
           {
            "marker": {
             "colorbar": {
              "outlinewidth": 0,
              "ticks": ""
             }
            },
            "type": "scattergeo"
           }
          ],
          "scattergl": [
           {
            "marker": {
             "colorbar": {
              "outlinewidth": 0,
              "ticks": ""
             }
            },
            "type": "scattergl"
           }
          ],
          "scattermapbox": [
           {
            "marker": {
             "colorbar": {
              "outlinewidth": 0,
              "ticks": ""
             }
            },
            "type": "scattermapbox"
           }
          ],
          "scatterpolar": [
           {
            "marker": {
             "colorbar": {
              "outlinewidth": 0,
              "ticks": ""
             }
            },
            "type": "scatterpolar"
           }
          ],
          "scatterpolargl": [
           {
            "marker": {
             "colorbar": {
              "outlinewidth": 0,
              "ticks": ""
             }
            },
            "type": "scatterpolargl"
           }
          ],
          "scatterternary": [
           {
            "marker": {
             "colorbar": {
              "outlinewidth": 0,
              "ticks": ""
             }
            },
            "type": "scatterternary"
           }
          ],
          "surface": [
           {
            "colorbar": {
             "outlinewidth": 0,
             "ticks": ""
            },
            "colorscale": [
             [
              0,
              "#0d0887"
             ],
             [
              0.1111111111111111,
              "#46039f"
             ],
             [
              0.2222222222222222,
              "#7201a8"
             ],
             [
              0.3333333333333333,
              "#9c179e"
             ],
             [
              0.4444444444444444,
              "#bd3786"
             ],
             [
              0.5555555555555556,
              "#d8576b"
             ],
             [
              0.6666666666666666,
              "#ed7953"
             ],
             [
              0.7777777777777778,
              "#fb9f3a"
             ],
             [
              0.8888888888888888,
              "#fdca26"
             ],
             [
              1,
              "#f0f921"
             ]
            ],
            "type": "surface"
           }
          ],
          "table": [
           {
            "cells": {
             "fill": {
              "color": "#EBF0F8"
             },
             "line": {
              "color": "white"
             }
            },
            "header": {
             "fill": {
              "color": "#C8D4E3"
             },
             "line": {
              "color": "white"
             }
            },
            "type": "table"
           }
          ]
         },
         "layout": {
          "annotationdefaults": {
           "arrowcolor": "#2a3f5f",
           "arrowhead": 0,
           "arrowwidth": 1
          },
          "autotypenumbers": "strict",
          "coloraxis": {
           "colorbar": {
            "outlinewidth": 0,
            "ticks": ""
           }
          },
          "colorscale": {
           "diverging": [
            [
             0,
             "#8e0152"
            ],
            [
             0.1,
             "#c51b7d"
            ],
            [
             0.2,
             "#de77ae"
            ],
            [
             0.3,
             "#f1b6da"
            ],
            [
             0.4,
             "#fde0ef"
            ],
            [
             0.5,
             "#f7f7f7"
            ],
            [
             0.6,
             "#e6f5d0"
            ],
            [
             0.7,
             "#b8e186"
            ],
            [
             0.8,
             "#7fbc41"
            ],
            [
             0.9,
             "#4d9221"
            ],
            [
             1,
             "#276419"
            ]
           ],
           "sequential": [
            [
             0,
             "#0d0887"
            ],
            [
             0.1111111111111111,
             "#46039f"
            ],
            [
             0.2222222222222222,
             "#7201a8"
            ],
            [
             0.3333333333333333,
             "#9c179e"
            ],
            [
             0.4444444444444444,
             "#bd3786"
            ],
            [
             0.5555555555555556,
             "#d8576b"
            ],
            [
             0.6666666666666666,
             "#ed7953"
            ],
            [
             0.7777777777777778,
             "#fb9f3a"
            ],
            [
             0.8888888888888888,
             "#fdca26"
            ],
            [
             1,
             "#f0f921"
            ]
           ],
           "sequentialminus": [
            [
             0,
             "#0d0887"
            ],
            [
             0.1111111111111111,
             "#46039f"
            ],
            [
             0.2222222222222222,
             "#7201a8"
            ],
            [
             0.3333333333333333,
             "#9c179e"
            ],
            [
             0.4444444444444444,
             "#bd3786"
            ],
            [
             0.5555555555555556,
             "#d8576b"
            ],
            [
             0.6666666666666666,
             "#ed7953"
            ],
            [
             0.7777777777777778,
             "#fb9f3a"
            ],
            [
             0.8888888888888888,
             "#fdca26"
            ],
            [
             1,
             "#f0f921"
            ]
           ]
          },
          "colorway": [
           "#636efa",
           "#EF553B",
           "#00cc96",
           "#ab63fa",
           "#FFA15A",
           "#19d3f3",
           "#FF6692",
           "#B6E880",
           "#FF97FF",
           "#FECB52"
          ],
          "font": {
           "color": "#2a3f5f"
          },
          "geo": {
           "bgcolor": "white",
           "lakecolor": "white",
           "landcolor": "#E5ECF6",
           "showlakes": true,
           "showland": true,
           "subunitcolor": "white"
          },
          "hoverlabel": {
           "align": "left"
          },
          "hovermode": "closest",
          "mapbox": {
           "style": "light"
          },
          "paper_bgcolor": "white",
          "plot_bgcolor": "#E5ECF6",
          "polar": {
           "angularaxis": {
            "gridcolor": "white",
            "linecolor": "white",
            "ticks": ""
           },
           "bgcolor": "#E5ECF6",
           "radialaxis": {
            "gridcolor": "white",
            "linecolor": "white",
            "ticks": ""
           }
          },
          "scene": {
           "xaxis": {
            "backgroundcolor": "#E5ECF6",
            "gridcolor": "white",
            "gridwidth": 2,
            "linecolor": "white",
            "showbackground": true,
            "ticks": "",
            "zerolinecolor": "white"
           },
           "yaxis": {
            "backgroundcolor": "#E5ECF6",
            "gridcolor": "white",
            "gridwidth": 2,
            "linecolor": "white",
            "showbackground": true,
            "ticks": "",
            "zerolinecolor": "white"
           },
           "zaxis": {
            "backgroundcolor": "#E5ECF6",
            "gridcolor": "white",
            "gridwidth": 2,
            "linecolor": "white",
            "showbackground": true,
            "ticks": "",
            "zerolinecolor": "white"
           }
          },
          "shapedefaults": {
           "line": {
            "color": "#2a3f5f"
           }
          },
          "ternary": {
           "aaxis": {
            "gridcolor": "white",
            "linecolor": "white",
            "ticks": ""
           },
           "baxis": {
            "gridcolor": "white",
            "linecolor": "white",
            "ticks": ""
           },
           "bgcolor": "#E5ECF6",
           "caxis": {
            "gridcolor": "white",
            "linecolor": "white",
            "ticks": ""
           }
          },
          "title": {
           "x": 0.05
          },
          "xaxis": {
           "automargin": true,
           "gridcolor": "white",
           "linecolor": "white",
           "ticks": "",
           "title": {
            "standoff": 15
           },
           "zerolinecolor": "white",
           "zerolinewidth": 2
          },
          "yaxis": {
           "automargin": true,
           "gridcolor": "white",
           "linecolor": "white",
           "ticks": "",
           "title": {
            "standoff": 15
           },
           "zerolinecolor": "white",
           "zerolinewidth": 2
          }
         }
        },
        "xaxis": {
         "type": "category"
        }
       }
      }
     },
     "metadata": {},
     "output_type": "display_data"
    }
   ],
   "source": [
    "for ii in range(24):\n",
    "    #print(ii)\n",
    "    plot_hist(job.result().get_counts(ii),**myps[ii])"
   ]
  },
  {
   "cell_type": "code",
   "execution_count": 26,
   "metadata": {},
   "outputs": [
    {
     "name": "stdout",
     "output_type": "stream",
     "text": [
      "0\n",
      "70064\n",
      "0.952255908331344 1.0\n",
      "1\n",
      "68045\n",
      "0.9395949545203277 1.0\n",
      "2\n",
      "69344\n",
      "0.9513385293120976 1.0\n",
      "3\n",
      "69622\n",
      "0.9287352367847724 1.0\n",
      "4\n",
      "66624\n",
      "0.913510101010101 1.0\n",
      "5\n",
      "69610\n",
      "0.9496211251435132 1.0\n",
      "6\n",
      "70490\n",
      "0.9331694756554307 1.0\n",
      "7\n",
      "67057\n",
      "0.9574762658227848 1.0\n",
      "0.9429811572371354\n",
      "0.9384442419079575\n"
     ]
    }
   ],
   "source": [
    "do_submit = True\n",
    "sim = True\n",
    "dotranspile = False\n",
    "if not sim:\n",
    "    real_res = job.result()\n",
    "\n",
    "precisions = [0] * 8\n",
    "best_percent = [0] * 8\n",
    "for i in range(8):\n",
    "    print(i)\n",
    "    for kk in range(1):\n",
    "        if sim == True:\n",
    "            testqc = solver_function(**instance_examples[i])\n",
    "            print_score(testqc)\n",
    "            testqct = transpile(testqc, backend=simulator)\n",
    "            simjob = simulator.run(testqct, shots=512)\n",
    "            simres = simjob.result().get_counts()\n",
    "        else:\n",
    "            simres = real_res.get_counts(i)\n",
    "        precisions[i], best_percent[i] = test_res(simres, **instance_examples[i])\n",
    "        print(precisions[i],best_percent[i])\n",
    "print(sum(precisions[:4])/4)\n",
    "print(sum(precisions[4:])/4)\n",
    "if sum(precisions[:4]) / 4 < 0.80:\n",
    "    do_submit = False\n"
   ]
  },
  {
   "cell_type": "code",
   "execution_count": 48,
   "metadata": {},
   "outputs": [
    {
     "name": "stdout",
     "output_type": "stream",
     "text": [
      "('11001101011', 36, 23) 36\n",
      "('10101011001', 35, 21) 35\n",
      "('11010110010', 39, 21) 39\n",
      "('10111110000', 37, 21) 37\n",
      "('10001010111', 34, 19) 34\n",
      "('10100100111', 41, 26) 41\n",
      "('10101101100', 40, 25) 40\n",
      "('00111001110', 38, 33) 38\n"
     ]
    }
   ],
   "source": [
    "for instance in instance_examples:\n",
    "    print(perf_ans_calc(**instance),instance['C_max'])"
   ]
  },
  {
   "cell_type": "code",
   "execution_count": 92,
   "metadata": {},
   "outputs": [
    {
     "name": "stdout",
     "output_type": "stream",
     "text": [
      "70490\n"
     ]
    },
    {
     "data": {
      "text/plain": [
       "70490"
      ]
     },
     "execution_count": 92,
     "metadata": {},
     "output_type": "execute_result"
    }
   ],
   "source": [
    "print_score(testqc)\n",
    "# 106375"
   ]
  },
  {
   "cell_type": "code",
   "execution_count": 93,
   "metadata": {},
   "outputs": [
    {
     "name": "stdout",
     "output_type": "stream",
     "text": [
      "True\n",
      "Running \"solver_function\" (1/8)... \n",
      "Running \"solver_function\" (2/8)... \n",
      "Running \"solver_function\" (3/8)... \n",
      "Running \"solver_function\" (4/8)... \n",
      "Running \"solver_function\" (5/8)... \n",
      "Running \"solver_function\" (6/8)... \n",
      "Running \"solver_function\" (7/8)... \n",
      "Running \"solver_function\" (8/8)... \n",
      "Starting experiments. Please wait...\n",
      "You may monitor the job (id: 6185357adafab3a33794299e) status and proceed to grading when it successfully completes.\n"
     ]
    }
   ],
   "source": [
    "# Execute your circuit with following prepare_ex4c() function.\n",
    "# The prepare_ex4c() function works like the execute() function with only QuantumCircuit as an argument.\n",
    "from qc_grader import prepare_ex4c\n",
    "from qc_grader.grade import grade_job\n",
    "\n",
    "print(do_submit)\n",
    "do_submit = True\n",
    "if do_submit:\n",
    "    #instance_examples = []\n",
    "    sim = False\n",
    "    job = prepare_ex4c(solver_function)\n",
    "    \n"
   ]
  },
  {
   "cell_type": "code",
   "execution_count": 94,
   "metadata": {},
   "outputs": [
    {
     "name": "stdout",
     "output_type": "stream",
     "text": [
      "Grading your answer for 4c. Please wait...\n",
      "\n",
      "Congratulations 🎉! Your answer is correct.\n",
      "Your score is 277075.\n"
     ]
    },
    {
     "data": {
      "text/plain": [
       "(True, 277075)"
      ]
     },
     "execution_count": 94,
     "metadata": {},
     "output_type": "execute_result"
    }
   ],
   "source": [
    "from time import sleep\n",
    "sleep(30)\n",
    "grade_job(job, '4c')"
   ]
  },
  {
   "cell_type": "code",
   "execution_count": 43,
   "metadata": {},
   "outputs": [
    {
     "name": "stdout",
     "output_type": "stream",
     "text": [
      "Submitting your answer for 4c. Please wait...\n",
      "Congratulations 🎉! Your answer is correct and has been submitted.\n",
      "Your score is 273998.\n"
     ]
    }
   ],
   "source": [
    "# Check your answer and submit using the following code\n",
    "from qc_grader import grade_ex4c\n",
    "grade_ex4c(job)"
   ]
  },
  {
   "cell_type": "markdown",
   "metadata": {},
   "source": [
    "### References\n",
    "1. Edward Farhi and Jeffrey Goldstone and Sam Gutmann (2014). A Quantum Approximate Optimization Algorithm. (https://arxiv.org/abs/1411.4028)\n",
    "2. Grand'rive, Pierre & Hullo, Jean-Francois (2019). Knapsack Problem variants of QAOA for battery revenue optimisation.  (https://arxiv.org/abs/1908.02210)\n",
    "3. V. Vedral, A. Barenco, A. Ekert (1995). Quantum Networks for Elementary Arithmetic Operations. (https://arxiv.org/abs/quant-ph/9511018)\n",
    "4. Steven A. Cuccaro, Thomas G. Draper, Samuel A. Kutin, David Petrie Moulton (2004). A new quantum ripple-carry addition circuit. (https://arxiv.org/abs/quant-ph/0410184)\n",
    "5. Thomas G. Draper (2000). Addition on a Quantum Computer (https://arxiv.org/abs/quant-ph/0008033)\n",
    "6. Lidia Ruiz-Perez, Juan Carlos Garcia-Escartin (2014). Quantum arithmetic with the Quantum Fourier Transform. (https://arxiv.org/abs/1411.5949)"
   ]
  },
  {
   "cell_type": "markdown",
   "metadata": {},
   "source": [
    "## Additional information\n",
    "\n",
    "**Created by:** Bo Yang, Hyungseok Chang, Sitong Liu, Kifumi Numata\n",
    "\n",
    "**Version:** 1.0.1"
   ]
  }
 ],
 "metadata": {
  "interpreter": {
   "hash": "a9d8f4185ac0df4e8e5cd3c2f2a74dd2b595860633f73bf43918f1c230038f9c"
  },
  "kernelspec": {
   "display_name": "Python 3.9.5 64-bit ('qiskit': conda)",
   "name": "python3"
  },
  "language_info": {
   "codemirror_mode": {
    "name": "ipython",
    "version": 3
   },
   "file_extension": ".py",
   "mimetype": "text/x-python",
   "name": "python",
   "nbconvert_exporter": "python",
   "pygments_lexer": "ipython3",
   "version": "3.9.5"
  }
 },
 "nbformat": 4,
 "nbformat_minor": 5
}
