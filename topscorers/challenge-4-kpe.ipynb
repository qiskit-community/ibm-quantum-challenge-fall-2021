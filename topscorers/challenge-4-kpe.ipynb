{
 "cells": [
  {
   "cell_type": "markdown",
   "metadata": {
    "collapsed": true,
    "pycharm": {
     "name": "#%% md\n"
    }
   },
   "source": [
    "Here I'll shortly describe the final solution, and if there is interest\n",
    "I could go more extensively in details on the different optimization\n",
    "steps I took in the course of the challenge.\n",
    "\n",
    "The main observations however are as follows:\n",
    "1. Solving the smaller equivalent problem with C1=0, i.e. (0, C2-C1, C_max-sum(C1)).\n",
    "2. Using a single QFT/IQFT transform and performing all additions in QFT space.\n",
    "3. Reducing/replacing the initial QFT to/with H.\n",
    "4. Using the most significant `carry` bit in the data register (2**c - C_max -1 + cost) directly as a flag qubit and c=data_bits-1.\n",
    "5. Using approximate QFT with approximation_degree 1 or 2.\n",
    "6. Using transpile(['cx','u3'], optimization_level=3)\n",
    "\n",
    "**N.B.** you can also check the notes and comments in my [submission](challenge_4_kpe.py)."
   ]
  },
  {
   "cell_type": "code",
   "execution_count": 2,
   "metadata": {
    "pycharm": {
     "name": "#%%\n"
    }
   },
   "outputs": [],
   "source": [
    "# lets do the imports\n",
    "\n",
    "from typing import Union\n",
    "import math\n",
    "import numpy as np\n",
    "\n",
    "from qiskit import QuantumCircuit, QuantumRegister, ClassicalRegister\n",
    "from qiskit.circuit import Gate"
   ]
  },
  {
   "cell_type": "markdown",
   "metadata": {
    "pycharm": {
     "name": "#%% md\n"
    }
   },
   "source": [
    "Let's start by describing the general structure of the solution circuit\n",
    "(proposed in [arXiv:1908.02210](https://arxiv.org/abs/1908.02210).\n",
    "\n",
    "We represent the $N$ choices needed to be made with $N$ index qubits (for all\n",
    "the knapsack problem instances in this IQC problem $N=\\text{index_qubits}=11$).\n",
    "\n",
    "We then repetitively apply two operators - $U(\\gamma)$ und $U(\\beta)$,\n",
    " with different values for $\\gamma$ and $\\beta$,\n",
    " in each iteration, such that initially $\\gamma$ is small and $\\beta$ large,\n",
    " and with their relative strength gradually changing towards $\\gamma$ being\n",
    " large and $\\beta$ being small. (intuitively this corresponds to gradually\n",
    " decreasing the system temperature, until the system anneals to its lowest\n",
    " energy state - but I'm not quantum physicist, so this intuition might be\n",
    " incorrect)\n",
    "\n",
    "By all means we only have:\n",
    " * a quantum circuit with\n",
    "   * 11 index qubits\n",
    "   * 5 data qubits  - for calculating the cost of a solution\n",
    " * a for loop to repetitively apply the $U(\\gamma)$ and $U(\\beta)$ operators:\n",
    "   * $U(\\gamma)$ application consist of two parts:\n",
    "     * phase return part\n",
    "     * cost penalty part - for this we need the data qubits\n",
    "       * cost calculation using QRAM to encode the cost of each choice\n",
    "       * constraint testing to flag all infeasible solutions (where the cost constraint is not satisfied)\n",
    "       * penalty dephasing of the infeasible solutions\n",
    "       * reinitialization of the data qubits using the inverse operation, so they can be used in the next iteration\n",
    "   * $U(\\beta)$ application (mixing operator)\n",
    "\n",
    "So the overall structure of the circuit would be like this:"
   ]
  },
  {
   "cell_type": "markdown",
   "metadata": {
    "pycharm": {
     "name": "#%% md\n"
    }
   },
   "source": [
    "```python\n",
    "# problem definition\n",
    "L1, L2 = [],[]         # list of value returns for associated with each choice\n",
    "C1, C2 = [],[]         # list of cost associated with each choice\n",
    "\n",
    "C_max: int             # the maximal cost of a feasible solution\n",
    "\n",
    "# circuit definition\n",
    "index_qubits = len(L1) # number of choices to be made\n",
    "data_qubits:int        # number of data qubits required to calculate a solution cost\n",
    "\n",
    "qr_index = QuantumRegister(index_qubits, \"index\")\n",
    "qr_data  = QuantumRegister(data_qubits, \"data\")\n",
    "cr_index = ClassicalRegister(index_qubits, \"c_index\")\n",
    "qc = QuantumCircuit(qr_index, qr_data, cr_index)\n",
    "\n",
    "qc.h(qr_index)  # put the index/solution qubits in a superposition\n",
    "\n",
    "p, alpha = 5, 1\n",
    "for i in range(p):\n",
    "    beta, gamma = 1 - (i + 1) / p, (i + 1) / p  # calculate beta and gamma\n",
    "\n",
    "    ### return part ###\n",
    "    qc.append(phase_return(index_qubits, gamma, L1, L2), qr_index)\n",
    "\n",
    "    ### penalty part ###\n",
    "\n",
    "    ### step 1: cost calculation ###\n",
    "    qc.append(cost_calculation(index_qubits, data_qubits, C1, C2), qr_index[:] + qr_data[:])\n",
    "\n",
    "    ### step 2: Constraint testing ###\n",
    "    qc.append(constraint_testing(data_qubits, C_max), qr_data[:] + qr_f[:])\n",
    "\n",
    "    ### step 3: penalty dephasing ###\n",
    "    qc.append(penalty_dephasing(data_qubits, alpha, gamma), qr_data[:] + qr_f[:])\n",
    "\n",
    "    ### step 4: reinitialization ###\n",
    "    qc.append(reinitialization(index_qubits, data_qubits, C1, C2, C_max), qr_index[:] + qr_data[:] + qr_f[:])\n",
    "\n",
    "    ### mixing operator ###\n",
    "    qc.append(mixing_operator(index_qubits, beta), qr_index)\n",
    "\n",
    "### measure the index ###\n",
    "qc.measure(qr_index, cr_index[::-1])\n",
    "```"
   ]
  },
  {
   "cell_type": "markdown",
   "metadata": {
    "pycharm": {
     "name": "#%% md\n"
    }
   },
   "source": [
    "The phase return part is quite straightforward:"
   ]
  },
  {
   "cell_type": "code",
   "execution_count": 3,
   "metadata": {
    "pycharm": {
     "name": "#%%\n"
    }
   },
   "outputs": [],
   "source": [
    "### Phase Operator ###\n",
    "# return part\n",
    "def phase_return(index_qubits: int, gamma: float, L1: list, L2: list, to_gate=True) -> Union[Gate, QuantumCircuit]:\n",
    "    qr_index = QuantumRegister(index_qubits, \"index\")\n",
    "    qc = QuantumCircuit(qr_index)\n",
    "\n",
    "    for ndx in range(index_qubits):\n",
    "        qc.p(- gamma * (L2[ndx] - L1[ndx]), qr_index[ndx])\n",
    "\n",
    "    return qc.to_gate(label=\" phase return \") if to_gate else qc"
   ]
  },
  {
   "cell_type": "markdown",
   "metadata": {
    "pycharm": {
     "name": "#%% md\n"
    }
   },
   "source": [
    "Implementing the QFT adder can be done by simply following\n",
    "the illustration figures in [arXiv:quant-ph/0008033](https://arxiv.org/pdf/quant-ph/0008033.pdf).\n",
    "\n",
    "Getting the QFT Adder right is probably the most complex part of\n",
    "the solution - so we better unit test it well. (I can provide my unit tests later).\n",
    "\n",
    "(We could have also used the [Qiskit QFTAdder](https://qiskit.org/documentation/stubs/qiskit.circuit.library.DraperQFTAdder.html)\n",
    "or the [Qiskit QFT](https://qiskit.org/documentation/stubs/qiskit.circuit.library.QFT.html) directly,\n",
    "but as I have found out, it might be somewhat confusing to get the qubit order right, so it was easier\n",
    "for me to just follow the illustrations in\n",
    "[arXiv:quant-ph/0008033](https://qiskit.org/documentation/stubs/qiskit.circuit.library.QFT.html))"
   ]
  },
  {
   "cell_type": "code",
   "execution_count": null,
   "metadata": {
    "pycharm": {
     "name": "#%%\n"
    }
   },
   "outputs": [],
   "source": [
    "QFT_AD = 1   # default approximation degree of the QFT\n",
    "\n",
    "#\n",
    "# QFT implementation (with qiskit bit ordering).\n",
    "#\n",
    "def qft(data_qubits: int, approximation_degree: int = QFT_AD, to_gate=True) -> Union[Gate, QuantumCircuit]:\n",
    "    qr = QuantumRegister(data_qubits)\n",
    "    qc = QuantumCircuit(qr)\n",
    "\n",
    "    for target in reversed(range(data_qubits)):\n",
    "        qc.h(target)\n",
    "        for k, control in enumerate(reversed(range(target)), start=2):\n",
    "            if k > (data_qubits - approximation_degree):\n",
    "                continue\n",
    "            qc.cp(2 * np.pi / (2 ** k), control, target)\n",
    "\n",
    "    return qc.to_gate(label=\" qft \") if to_gate else qc\n",
    "\n",
    "#\n",
    "# Adds a constant to tha data register in QFT space.\n",
    "# Should be used with the above QFT implementation.\n",
    "#\n",
    "def subroutine_add_const(data_qubits: int, const: int, to_gate=True) -> Union[Gate, QuantumCircuit]:\n",
    "    qr_data = QuantumRegister(data_qubits)\n",
    "    qc = QuantumCircuit(qr_data)\n",
    "\n",
    "    # prepares the const bits in a list\n",
    "    cbits = list(map(int, reversed(f\"{np.abs(const):02b}\".zfill(data_qubits))))\n",
    "\n",
    "    for target in reversed(range(data_qubits)):\n",
    "        tsum = 0  # cumulative phase for target\n",
    "        for k, control in enumerate(reversed(range(target + 1)), start=1):\n",
    "            cbit = cbits[control]\n",
    "            if cbit:\n",
    "                tsum += 1 / 2 ** k\n",
    "        if tsum > 0:\n",
    "            qc.p(np.sign(const) * 2 * np.pi * tsum, qr_data[target])\n",
    "\n",
    "    return qc.to_gate(label=\" [+\" + str(const) + \"] \") if to_gate else qc\n",
    "\n",
    "#\n",
    "# the const parameter in the above subroutine_add_const() could be negative,\n",
    "# but I have never really used this, so feel free to remove the np.abs and np.sign above.\n",
    "#"
   ]
  },
  {
   "cell_type": "markdown",
   "metadata": {
    "pycharm": {
     "name": "#%% md\n"
    }
   },
   "source": [
    "Using the `qft()` and `subroutine_add_const()` form above, we could\n",
    "define `const_adder()` and `cost_calculation()` as below, but in our\n",
    "final optimized solution we would notice, that we can do all additions\n",
    "in QFT space, thus having only one QFT transform in each iteration."
   ]
  },
  {
   "cell_type": "code",
   "execution_count": null,
   "metadata": {
    "pycharm": {
     "name": "#%%\n"
    }
   },
   "outputs": [],
   "source": [
    "#\n",
    "# This is how a **single** QFT addition of a const to the\n",
    "# data register would look like, however we'll not use this method,\n",
    "# but instead do a single QFT, do all phase rotations there, before\n",
    "# doing the inverse IQFT transformation.\n",
    "# (This is actually the main idea in optimizing the 4c solution.)\n",
    "#\n",
    "def const_adder(data_qubits: int, const: int, to_gate=True) -> Union[Gate, QuantumCircuit]:\n",
    "    qr_data = QuantumRegister(data_qubits)\n",
    "    qc = QuantumCircuit(qr_data)\n",
    "\n",
    "    qc.append(qft(data_qubits), qr_data[:])\n",
    "    qc.append(subroutine_add_const(data_qubits, const, to_gate=False).to_gate(), qr_data[:])\n",
    "    qc.append(qft(data_qubits).inverse(), qr_data[:])\n",
    "\n",
    "    return qc.to_gate(label=\" [+\" + str(const) + \"] \") if to_gate else qc\n",
    "\n",
    "#\n",
    "# This is how the QRAM cost calculation function would look like, however\n",
    "# we will not use it directly, but do all additions in QFT space, wrapped\n",
    "# in a single QFT.\n",
    "#\n",
    "def cost_calculation(index_qubits: int, data_qubits: int, list1: list, list2: list, to_gate=True) -> Union[Gate, QuantumCircuit]:\n",
    "    qr_index = QuantumRegister(index_qubits, \"index\")\n",
    "    qr_data = QuantumRegister(data_qubits, \"data\")\n",
    "    qc = QuantumCircuit(qr_index, qr_data)\n",
    "\n",
    "    # note the -1 bellow - the cost would fit in (data_qubits-1) bits,\n",
    "    # and we'll use the most significant bit to flag solutions with an infeasible cost.\n",
    "    for i, (val1, val2) in enumerate(zip(list1, list2)):\n",
    "        qc.append(const_adder(data_qubits - 1, val2).control(1), [qr_index[i]] + qr_data[:-1])\n",
    "        qc.x(qr_index[i])\n",
    "        qc.append(const_adder(data_qubits - 1, val1).control(1), [qr_index[i]] + qr_data[:-1])\n",
    "        qc.x(qr_index[i])\n",
    "\n",
    "    return qc.to_gate(label=\" Cost Calculation \") if to_gate else qc\n",
    "\n",
    "#\n",
    "# This is how `constraint_testing` could be implemented, when\n",
    "# using the above `cost_calculation()`.\n",
    "# (We'll be using a single QFT however - see the next `cost_calculation()` implementation below)\n",
    "#\n",
    "def constraint_testing(data_qubits: int, C_max: int, to_gate=True) -> Union[Gate, QuantumCircuit]:\n",
    "    qr_data = QuantumRegister(data_qubits, \"data\")\n",
    "    qr_f = QuantumRegister(1, \"flag\")\n",
    "    qc = QuantumCircuit(qr_data, qr_f)\n",
    "\n",
    "    c = data_qubits - 1\n",
    "    w = 2**c - (C_max+1)\n",
    "    qc.append(const_adder(data_qubits, w), qr_data[:])  # offset by w = 2**c -(C_max+1) to flag infeasible costs in MSB\n",
    "\n",
    "    # set the flag qubit when the MSB is set\n",
    "    # qc.cx(qr_data[-1], qr_f) # we'll be using the MSB directly without the explicit qr_f qubit\n",
    "\n",
    "    return qc.to_gate(label=\" Constraint Testing \") if to_gate else qc"
   ]
  },
  {
   "cell_type": "markdown",
   "metadata": {
    "pycharm": {
     "name": "#%% md\n"
    }
   },
   "source": [
    "And now we present the final optimized version of `cost_calculation()`,\n",
    "where only a single QFT is used, to do all cost additions in QFT space. We'll\n",
    "also perform the additon of the offset factor `w` here, so that we can do all\n",
    "additions with a single QFT.\n",
    "\n",
    "The overall structure of the `cost_calculation()` would be like:\n",
    "```python\n",
    "c = data_qubits - 1\n",
    "w = 2 ** c - (C_max + 1)\n",
    "\n",
    "# QFT\n",
    "qc.append(qft(data_qubits), qr_data[:])  # qft\n",
    "\n",
    "# QRAM\n",
    "for i, (val1, val2) in enumerate(zip(list1, list2)):\n",
    "    assert val1 == 0\n",
    "    qc.append(subroutine_add_const(data_qubits, val2).control(1), [qr_index[i]] + qr_data[:])\n",
    "\n",
    "# offset by w to flag infeasible costs directly with the data_qubits MSB\n",
    "qc.append(subroutine_add_const(data_qubits, w), qr_data[:])\n",
    "\n",
    "# inverse QFT\n",
    "qc.append(qft(data_qubits).inverse(), qr_data[:])\n",
    "\n",
    "```\n",
    "\n",
    "We can now note, that the initial state of all data qubits is `|+> = H|0>`,\n",
    "and by observing the QFT figure in [arXiv:quant-ph/0008033](https://qiskit.org/documentation/stubs/qiskit.circuit.library.QFT.html)\n",
    "we note, that the QFT acts on\n",
    "each data qubits by applying a H-Gate first, followed by conditional rotations.\n",
    " However this second application of\n",
    "the H-Gate sets the data qubit back in the |0> state, so that the following\n",
    "conditional rotations have no effect. Therefore, this initial QFT (acting on data\n",
    "qubits in the `|+>` state) can be replaced by a single H-Gate."
   ]
  },
  {
   "cell_type": "code",
   "execution_count": null,
   "metadata": {
    "pycharm": {
     "name": "#%%\n"
    }
   },
   "outputs": [],
   "source": [
    "#\n",
    "# This is the actual cost_calculation() used in the final solution:\n",
    "#\n",
    "# Here we'll complete the QRAM cost addition to the data register\n",
    "# in QFT space and also add the w = (2^c - (C_max+1)) offset term,\n",
    "# so that the most significant bit of the data register is set to 1 whenever\n",
    "# the cost in the data register exceeds C_max (i.e. cost > C_max).\n",
    "#\n",
    "# N.B. even the paper uses a (cost >= C_max) condition to set a penalty\n",
    "# of alpha*(cost - C_max), the penalty would be zero for cost == C_max,\n",
    "# therefore we use the strict inequality.\n",
    "#\n",
    "def cost_calculation(index_qubits: int, data_qubits: int, list1: list, list2: list, to_gate: bool = True) -> Union[Gate, QuantumCircuit]:\n",
    "    qr_index = QuantumRegister(index_qubits, \"index\")\n",
    "    qr_data = QuantumRegister(data_qubits, \"data\")\n",
    "    qc = QuantumCircuit(qr_index, qr_data)\n",
    "\n",
    "    ## lets mark only cost > C_max\n",
    "\n",
    "    c = data_qubits - 1      # use the MSB in data directly as a flag qubit\n",
    "    w = 2 ** c - (C_max + 1)\n",
    "\n",
    "    ###########\n",
    "    ## QFT start - do all additions in QFT space\n",
    "    # qc.append(qft(data_qubits), qr_data[:])\n",
    "    qc.h(qr_data[:])  # initially all data qubits are |0> so qft is just Hadamard\n",
    "\n",
    "    # QRAM\n",
    "    for i, (val1, val2) in enumerate(zip(list1, list2)):\n",
    "        assert val1 == 0\n",
    "        qc.append(subroutine_add_const(data_qubits, val2).control(1), [qr_index[i]] + qr_data[:])\n",
    "\n",
    "    qc.append(subroutine_add_const(data_qubits, w), qr_data[:])  # offset by w = 2**c -(C_max+1) to flag infeasible costs in MSB\n",
    "\n",
    "    qc.append(qft(data_qubits).inverse(), qr_data[:])\n",
    "    ## QFT end\n",
    "    ####################\n",
    "\n",
    "    return qc.to_gate(label=\" Cost Constraint Testing \") if to_gate else qc\n",
    "\n",
    "#\n",
    "# After returning from QFT space, we can use the MSB of the data register\n",
    "# to set the flag qubit (for infeasible solutions), but instead\n",
    "# we'll be using the MSB directly.\n",
    "#\n",
    "def constraint_testing(data_qubits: int, C_max: int, to_gate=True) -> Union[Gate, QuantumCircuit]:\n",
    "    qr_data = QuantumRegister(data_qubits, \"data\")\n",
    "    qr_f = QuantumRegister(1, \"flag\")\n",
    "    qc = QuantumCircuit(qr_data, qr_f)\n",
    "\n",
    "    # qc.cx(qr_data[-1], qr_f) # we'll be using the MSB directly without the explicit qr_f qubit\n",
    "\n",
    "    return qc.to_gate(label=\" Constraint Testing \") if to_gate else qc"
   ]
  },
  {
   "cell_type": "markdown",
   "metadata": {
    "pycharm": {
     "name": "#%% md\n"
    }
   },
   "source": [
    "The `penalty_dephasing()` is straight forward following Figure 13 in [arXiv:1908.02210](https://arxiv.org/abs/1908.02210)."
   ]
  },
  {
   "cell_type": "code",
   "execution_count": null,
   "metadata": {
    "pycharm": {
     "name": "#%%\n"
    }
   },
   "outputs": [],
   "source": [
    "# penalty part\n",
    "def penalty_dephasing(data_qubits: int, alpha: float, gamma: float, to_gate=True) -> Union[Gate, QuantumCircuit]:\n",
    "    qr_data = QuantumRegister(data_qubits, \"data\")\n",
    "    qr_f = QuantumRegister(1, \"flag\")\n",
    "    qc = QuantumCircuit(qr_data, qr_f)\n",
    "\n",
    "    c = data_qubits - 1\n",
    "\n",
    "    #\n",
    "    # we use the qr_data[-1] as a flag directly\n",
    "    #\n",
    "    qr_f = qr_data[-1]\n",
    "\n",
    "    for k in range(c):\n",
    "        qc.cp(alpha * gamma * (2**k), qr_f, qr_data[k])\n",
    "    qc.p(-alpha * gamma * (2**c), qr_f)\n",
    "\n",
    "    return qc.to_gate(label=\" Penalty Dephasing \") if to_gate else qc"
   ]
  },
  {
   "cell_type": "markdown",
   "metadata": {
    "pycharm": {
     "name": "#%% md\n"
    }
   },
   "source": [
    "We then use `reinitialization()` to inverse the calculation on the\n",
    "data and flag (well we don't use that ove) qubits, by applying the inverse transforms done so far."
   ]
  },
  {
   "cell_type": "code",
   "execution_count": null,
   "metadata": {
    "pycharm": {
     "name": "#%%\n"
    }
   },
   "outputs": [],
   "source": [
    "# penalty part\n",
    "def reinitialization(index_qubits: int, data_qubits: int, C1: list, C2: list, C_max: int, to_gate=True) -> Union[Gate, QuantumCircuit]:\n",
    "    qr_index = QuantumRegister(index_qubits, \"index\")\n",
    "    qr_data = QuantumRegister(data_qubits, \"data\")\n",
    "    qr_f = QuantumRegister(1, \"flag\")\n",
    "    qc = QuantumCircuit(qr_index, qr_data, qr_f)\n",
    "\n",
    "    # constrain_testing is empty see above\n",
    "    qc.append(constraint_testing(data_qubits, C_max).inverse(), qr_data[:] + qr_f[:])\n",
    "    qc.append(cost_calculation(index_qubits, data_qubits, C1, C2, to_gate=True).inverse(), qr_index[:] + qr_data[:])\n",
    "\n",
    "    return qc.to_gate(label=\" Reinitialization \") if to_gate else qc"
   ]
  },
  {
   "cell_type": "markdown",
   "metadata": {
    "pycharm": {
     "name": "#%% md\n"
    }
   },
   "source": [
    "The `mixing_operator()` is also quit straight forward, following the paper:"
   ]
  },
  {
   "cell_type": "code",
   "execution_count": null,
   "metadata": {
    "pycharm": {
     "name": "#%%\n"
    }
   },
   "outputs": [],
   "source": [
    "### Mixing Operator ###\n",
    "def mixing_operator(index_qubits: int, beta: float, to_gate=True) -> Union[Gate, QuantumCircuit]:\n",
    "    qr_index = QuantumRegister(index_qubits, \"index\")\n",
    "    qc = QuantumCircuit(qr_index)\n",
    "\n",
    "    for ndx in range(index_qubits):\n",
    "        qc.rx(2 * beta, ndx)\n",
    "\n",
    "    return qc.to_gate(label=\" Mixing Operator \") if to_gate else qc"
   ]
  },
  {
   "cell_type": "markdown",
   "metadata": {
    "pycharm": {
     "name": "#%% md\n"
    }
   },
   "source": [
    "Now before combining all we have so far, lets prepare a python decorator, we'll be\n",
    "using to decorate our `solver_function()` so it gets optimized by Qiskit:"
   ]
  },
  {
   "cell_type": "code",
   "execution_count": null,
   "metadata": {
    "pycharm": {
     "name": "#%%\n"
    }
   },
   "outputs": [],
   "source": [
    "OPT_LEVEL = 3\n",
    "\n",
    "def transpile(qc: QuantumCircuit) -> QuantumCircuit:\n",
    "    # this was added, but can be disabled with setting OPT_LEVEL to -1 above.\n",
    "    if OPT_LEVEL != -1:\n",
    "        qc = qiskit.transpile(qc, basis_gates=['cx', 'u3'], seed_transpiler=42, optimization_level=OPT_LEVEL)\n",
    "    return qc\n",
    "\n",
    "\n",
    "def transpile_optimize(fn):\n",
    "    def wrapper(*args, **kwargs):\n",
    "        return transpile(fn(*args, **kwargs))\n",
    "    return wrapper"
   ]
  },
  {
   "cell_type": "markdown",
   "metadata": {
    "pycharm": {
     "name": "#%% md\n"
    }
   },
   "source": [
    "This way we end up with the following `solver_function()` function, also used for the final submission:"
   ]
  },
  {
   "cell_type": "code",
   "execution_count": null,
   "metadata": {
    "pycharm": {
     "name": "#%%\n"
    }
   },
   "outputs": [],
   "source": [
    "from typing import Union\n",
    "import math\n",
    "\n",
    "import numpy as np\n",
    "\n",
    "import qiskit\n",
    "from qiskit import QuantumCircuit, QuantumRegister, ClassicalRegister\n",
    "from qiskit.circuit import Gate\n",
    "\n",
    "# True for using the explicit flag qubit, False for using the MSB in data register\n",
    "# when USE_FLAG_QUBIT==True - we need only (data_qubits-1) qubits\n",
    "USE_SCORING    = \"new\"  # new, old\n",
    "\n",
    "USE_5_QUBITS   = True   # True to use 1 qubit less than the template suggestion\n",
    "QFT_AD         = 1      # QFT approximation degree (number of terms to omit)\n",
    "OPT_LEVEL      = 3      # transpiler optimization level (0-3) or -1 to disable\n",
    "\n",
    "if USE_SCORING == 'new':\n",
    "    QFT_AD       = 2\n",
    "    USE_5_QUBITS = True\n",
    "elif USE_SCORING == 'old':\n",
    "    QFT_AD       = 1\n",
    "    USE_5_QUBITS = False\n",
    "else:\n",
    "    raise \"Unexpected value for USE_SCORING (expecting one of {new, old})\"\n",
    "\n",
    "\n",
    "\n",
    "\n",
    "def transpile(qc: QuantumCircuit) -> QuantumCircuit:\n",
    "    # this was added, but can be disabled with setting OPT_LEVEL to -1 above.\n",
    "    if OPT_LEVEL != -1:\n",
    "        qc = qiskit.transpile(qc, basis_gates=['cx', 'u3'], seed_transpiler=42, optimization_level=OPT_LEVEL)\n",
    "    return qc\n",
    "\n",
    "\n",
    "def transpile_optimize(fn):\n",
    "    def wrapper(*args, **kwargs):\n",
    "        return transpile(fn(*args, **kwargs))\n",
    "    return wrapper\n",
    "\n",
    "\n",
    "@transpile_optimize\n",
    "def solver_function(L1: list, L2: list, C1: list, C2: list, C_max: int) -> QuantumCircuit:\n",
    "    \"\"\"\n",
    "    Solves the 4c knapsack problem (assuming C1<C2, and L1<L2).\n",
    "    \"\"\"\n",
    "\n",
    "    # print name and score\n",
    "    author = 'Kamen Petroff (kpe)'\n",
    "    score = 'old:260_084 new:3_482_625'\n",
    "    print(f'{author}: {score}')\n",
    "\n",
    "    # first let's convert it to the equivalent problem with cost (0, C2-C1)\n",
    "    C1, C2 = np.array(C1), np.array(C2)\n",
    "    C1, C2, C_max = C1 - C1, C2 - C1, C_max - C1.sum()\n",
    "\n",
    "    # the number of qubits representing answers\n",
    "    index_qubits = len(L1)\n",
    "\n",
    "    # the maximum possible total cost\n",
    "    max_c = sum([max(l0, l1) for l0, l1 in zip(C1, C2)])\n",
    "\n",
    "    # the number of qubits representing data values can be defined using the maximum possible total cost as follows:\n",
    "    data_qubits = math.ceil(math.log(max_c, 2)) + 1 if not max_c & (max_c - 1) == 0 else math.ceil(math.log(max_c, 2)) + 2\n",
    "\n",
    "    if USE_5_QUBITS:\n",
    "        data_qubits -= 1\n",
    "\n",
    "    ### Phase Operator ###\n",
    "    # return part\n",
    "    def phase_return(index_qubits: int, gamma: float, L1: list, L2: list, to_gate=True) -> Union[Gate, QuantumCircuit]:\n",
    "        qr_index = QuantumRegister(index_qubits, \"index\")\n",
    "        qc = QuantumCircuit(qr_index)\n",
    "\n",
    "        for ndx in range(index_qubits):\n",
    "            qc.p(- gamma * (L2[ndx] - L1[ndx]), qr_index[ndx])\n",
    "\n",
    "        return qc.to_gate(label=\" phase return \") if to_gate else qc\n",
    "\n",
    "    #\n",
    "    # QFT implementation (with qiskit bit ordering).\n",
    "    #\n",
    "    def qft(data_qubits: int, approximation_degree: int = QFT_AD, to_gate=True) -> Union[Gate, QuantumCircuit]:\n",
    "        qr = QuantumRegister(data_qubits)\n",
    "        qc = QuantumCircuit(qr)\n",
    "\n",
    "        for target in reversed(range(data_qubits)):\n",
    "            qc.h(target)\n",
    "            for k, control in enumerate(reversed(range(target)), start=2):\n",
    "                if k > (data_qubits - approximation_degree):\n",
    "                    continue\n",
    "                qc.cp(2 * np.pi / (2 ** k), control, target)\n",
    "\n",
    "        return qc.to_gate(label=\" qft \") if to_gate else qc\n",
    "\n",
    "    #\n",
    "    # Adds a constant to tha data register in QFT space.\n",
    "    # Should be used with the above QFT implementation.\n",
    "    #\n",
    "    def subroutine_add_const(data_qubits: int, const: int, to_gate=True) -> Union[Gate, QuantumCircuit]:\n",
    "        qr_data = QuantumRegister(data_qubits)\n",
    "        qc = QuantumCircuit(qr_data)\n",
    "\n",
    "        # prepares the const bits in a list\n",
    "        cbits = list(map(int, reversed(f\"{np.abs(const):02b}\".zfill(data_qubits))))\n",
    "\n",
    "        for target in reversed(range(data_qubits)):\n",
    "            tsum = 0  # cumulative phase for target\n",
    "            for k, control in enumerate(reversed(range(target + 1)), start=1):\n",
    "                cbit = cbits[control]\n",
    "                if cbit:\n",
    "                    tsum += 1 / 2 ** k\n",
    "            if tsum > 0:\n",
    "                qc.p(np.sign(const) * 2 * np.pi * tsum, qr_data[target])\n",
    "\n",
    "        return qc.to_gate(label=\" [+\" + str(const) + \"] \") if to_gate else qc\n",
    "\n",
    "    #\n",
    "    # This is how a **single** QFT addition of a const to the\n",
    "    # data register would look like, however we'll not use this method,\n",
    "    # but instead do a single QFT, do all phase rotations there, before\n",
    "    # doing the inverse IQFT transformation.\n",
    "    # (This is actually the main idea in optimizing the 4c solution.)\n",
    "    #\n",
    "    def const_adder(data_qubits: int, const: int, to_gate=True) -> Union[Gate, QuantumCircuit]:\n",
    "        qr_data = QuantumRegister(data_qubits)\n",
    "        qc = QuantumCircuit(qr_data)\n",
    "\n",
    "        qc.append(qft(data_qubits), qr_data[:])\n",
    "        qc.append(subroutine_add_const(data_qubits, const, to_gate=False).to_gate(), qr_data[:])\n",
    "        qc.append(qft(data_qubits).inverse(), qr_data[:])\n",
    "\n",
    "        return qc.to_gate(label=\" [+\" + str(const) + \"] \") if to_gate else qc\n",
    "\n",
    "    #\n",
    "    # This is how the QRAM cost calculation function would look like, however\n",
    "    # we will not use it directly, but do all additions in QFT space, wrapped\n",
    "    # in a single QFT.\n",
    "    #\n",
    "    def _cost_calculation(index_qubits: int, data_qubits: int, list1: list, list2: list, to_gate=True) -> Union[Gate, QuantumCircuit]:\n",
    "        qr_index = QuantumRegister(index_qubits, \"index\")\n",
    "        qr_data = QuantumRegister(data_qubits, \"data\")\n",
    "        qc = QuantumCircuit(qr_index, qr_data)\n",
    "\n",
    "        # note the -1 bellow - the cost would fit in (data_qubits-1) bits,\n",
    "        # and we'll use the most significant bit to flag solutions with an infeasible cost.\n",
    "        for i, (val1, val2) in enumerate(zip(list1, list2)):\n",
    "            qc.append(const_adder(data_qubits - 1, val2).control(1), [qr_index[i]] + qr_data[:-1])\n",
    "            qc.x(qr_index[i])\n",
    "            qc.append(const_adder(data_qubits - 1, val1).control(1), [qr_index[i]] + qr_data[:-1])\n",
    "            qc.x(qr_index[i])\n",
    "\n",
    "        return qc.to_gate(label=\" Cost Calculation \") if to_gate else qc\n",
    "\n",
    "    #\n",
    "    # This is the actual cost_calculation() used:\n",
    "    #\n",
    "    # Here we'll complete the QRAM cost addition to the data register\n",
    "    # in QFT space and also add a (2^c - (C_max+1)) term, so that the\n",
    "    # most significant bit of the data register is set to 1 whenever\n",
    "    # the cost in the data register exceeds C_max (i.e. cost > C_max).\n",
    "    #\n",
    "    # N.B. even the paper uses a (cost >= C_max) condition to set a penalty\n",
    "    # of alpha*(cost - C_max), the penalty would be zero for cost == C_max,\n",
    "    # therefore we use a strict inequality.\n",
    "    #\n",
    "    def cost_calculation(index_qubits: int, data_qubits: int, list1: list, list2: list, to_gate: bool = True) -> Union[Gate, QuantumCircuit]:\n",
    "        qr_index = QuantumRegister(index_qubits, \"index\")\n",
    "        qr_data = QuantumRegister(data_qubits, \"data\")\n",
    "        qc = QuantumCircuit(qr_index, qr_data)\n",
    "\n",
    "        ## lets mark only cost > C_max\n",
    "\n",
    "        c = data_qubits - 1      # use the MSB in data directly as a flag qubit\n",
    "        w = 2 ** c - (C_max + 1)\n",
    "\n",
    "        ###########\n",
    "        ## QFT start - do all additions in QFT space\n",
    "        # qc.append(qft(data_qubits), qr_data[:])\n",
    "        qc.h(qr_data[:])  # initially all data qubits are |0> so qft is just Hadamard\n",
    "\n",
    "        # QRAM\n",
    "        for i, (val1, val2) in enumerate(zip(list1, list2)):\n",
    "            assert val1 == 0\n",
    "            qc.append(subroutine_add_const(data_qubits, val2).control(1), [qr_index[i]] + qr_data[:])\n",
    "\n",
    "    \tqc.append(subroutine_add_const(data_qubits, w), qr_data[:])  # offset by w = 2**c -(C_max+1) to flag infeasible costs in MSB\n",
    "\n",
    "        qc.append(qft(data_qubits).inverse(), qr_data[:])\n",
    "        ## QFT end\n",
    "        ####################\n",
    "\n",
    "        return qc.to_gate(label=\" Cost Constraint Testing \") if to_gate else qc\n",
    "\n",
    "    #\n",
    "    # After returning from QFT space, we can use the MSB of the data register\n",
    "    # to set the flag qubit (for infeasible solutions).\n",
    "    #\n",
    "    def constraint_testing(data_qubits: int, C_max: int, to_gate=True) -> Union[Gate, QuantumCircuit]:\n",
    "        qr_data = QuantumRegister(data_qubits, \"data\")\n",
    "        qr_f = QuantumRegister(1, \"flag\")\n",
    "        qc = QuantumCircuit(qr_data, qr_f)\n",
    "\n",
    "\n",
    "        # qc.cx(qr_data[-1], qr_f) # we'll be using the MSB directly without the explicit qr_f qubit\n",
    "\n",
    "        return qc.to_gate(label=\" Constraint Testing \") if to_gate else qc\n",
    "\n",
    "    # penalty part\n",
    "    def penalty_dephasing(data_qubits: int, alpha: float, gamma: float, to_gate=True) -> Union[Gate, QuantumCircuit]:\n",
    "        qr_data = QuantumRegister(data_qubits, \"data\")\n",
    "        qr_f = QuantumRegister(1, \"flag\")\n",
    "        qc = QuantumCircuit(qr_data, qr_f)\n",
    "\n",
    "        c = data_qubits - 1\n",
    "\n",
    "        #\n",
    "        # we use the qr_data[-1] as a flag directly\n",
    "        #\n",
    "        qr_f = qr_data[-1]\n",
    "\n",
    "        for k in range(c):\n",
    "            qc.cp(alpha * gamma * (2**k), qr_f, qr_data[k])\n",
    "        qc.p(-alpha * gamma * (2**c), qr_f)\n",
    "\n",
    "        return qc.to_gate(label=\" Penalty Dephasing \") if to_gate else qc\n",
    "\n",
    "    # penalty part\n",
    "    def reinitialization(index_qubits: int, data_qubits: int, C1: list, C2: list, C_max: int, to_gate=True) -> Union[Gate, QuantumCircuit]:\n",
    "        qr_index = QuantumRegister(index_qubits, \"index\")\n",
    "        qr_data = QuantumRegister(data_qubits, \"data\")\n",
    "        qr_f = QuantumRegister(1, \"flag\")\n",
    "        qc = QuantumCircuit(qr_index, qr_data, qr_f)\n",
    "\n",
    "        # constrain_testing is empty see above\n",
    "        qc.append(constraint_testing(data_qubits, C_max).inverse(), qr_data[:] + qr_f[:])\n",
    "        qc.append(cost_calculation(index_qubits, data_qubits, C1, C2, to_gate=True).inverse(), qr_index[:] + qr_data[:])\n",
    "\n",
    "        return qc.to_gate(label=\" Reinitialization \") if to_gate else qc\n",
    "\n",
    "    ### Mixing Operator ###\n",
    "    def mixing_operator(index_qubits: int, beta: float, to_gate=True) -> Union[Gate, QuantumCircuit]:\n",
    "        qr_index = QuantumRegister(index_qubits, \"index\")\n",
    "        qc = QuantumCircuit(qr_index)\n",
    "\n",
    "        for ndx in range(index_qubits):\n",
    "            qc.rx(2 * beta, ndx)\n",
    "\n",
    "        return qc.to_gate(label=\" Mixing Operator \") if to_gate else qc\n",
    "\n",
    "    #\n",
    "    # everything bellow this line was not touched, with exception\n",
    "    # of the transpiling/optimization in the last line which can be\n",
    "    # controlled using the OPT_LEVEL=-1 define above.\n",
    "    #\n",
    "    ##############################\n",
    "\n",
    "    qr_index = QuantumRegister(index_qubits, \"index\")  # index register\n",
    "    qr_data = QuantumRegister(data_qubits, \"data\")  # data register\n",
    "    qr_f = QuantumRegister(1, \"flag\")  # flag register\n",
    "    cr_index = ClassicalRegister(index_qubits, \"c_index\")  # classical register storing the measurement result of index register\n",
    "    qc = QuantumCircuit(qr_index, qr_data, qr_f, cr_index)\n",
    "\n",
    "    ### initialize the index register with uniform superposition state ###\n",
    "    qc.h(qr_index)\n",
    "\n",
    "    ### DO NOT CHANGE THE CODE BELOW\n",
    "    p = 5\n",
    "    alpha = 1\n",
    "    for i in range(p):\n",
    "        ### set fixed parameters for each round ###\n",
    "        beta = 1 - (i + 1) / p\n",
    "        gamma = (i + 1) / p\n",
    "\n",
    "        ### return part ###\n",
    "        qc.append(phase_return(index_qubits, gamma, L1, L2), qr_index)\n",
    "\n",
    "        ### step 1: cost calculation ###\n",
    "        qc.append(cost_calculation(index_qubits, data_qubits, C1, C2), qr_index[:] + qr_data[:])\n",
    "\n",
    "        ### step 2: Constraint testing ###\n",
    "        qc.append(constraint_testing(data_qubits, C_max), qr_data[:] + qr_f[:])\n",
    "\n",
    "        ### step 3: penalty dephasing ###\n",
    "        qc.append(penalty_dephasing(data_qubits, alpha, gamma), qr_data[:] + qr_f[:])\n",
    "\n",
    "        ### step 4: reinitialization ###\n",
    "        qc.append(reinitialization(index_qubits, data_qubits, C1, C2, C_max), qr_index[:] + qr_data[:] + qr_f[:])\n",
    "\n",
    "        ### mixing operator ###\n",
    "        qc.append(mixing_operator(index_qubits, beta), qr_index)\n",
    "\n",
    "    ### measure the index ###\n",
    "    ### since the default measurement outcome is shown in big endian, it is necessary to reverse the classical bits in order to unify the endian ###\n",
    "    qc.measure(qr_index, cr_index[::-1])\n",
    "\n",
    "    return qc"
   ]
  },
  {
   "cell_type": "code",
   "execution_count": null,
   "metadata": {
    "pycharm": {
     "name": "#%%\n"
    }
   },
   "outputs": [],
   "source": []
  }
 ],
 "metadata": {
  "kernelspec": {
   "display_name": "Python 3 (ipykernel)",
   "language": "python",
   "name": "python3"
  },
  "language_info": {
   "codemirror_mode": {
    "name": "ipython",
    "version": 3
   },
   "file_extension": ".py",
   "mimetype": "text/x-python",
   "name": "python",
   "nbconvert_exporter": "python",
   "pygments_lexer": "ipython3",
   "version": "3.9.7"
  }
 },
 "nbformat": 4,
 "nbformat_minor": 1
}